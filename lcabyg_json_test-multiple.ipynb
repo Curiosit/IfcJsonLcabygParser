{
 "cells": [
  {
   "cell_type": "code",
   "execution_count": 3,
   "id": "f0a9eeb9",
   "metadata": {},
   "outputs": [],
   "source": [
    "import json\n",
    "import itertools\n",
    "import numpy as np"
   ]
  },
  {
   "cell_type": "code",
   "execution_count": 4,
   "id": "d05a323b",
   "metadata": {},
   "outputs": [],
   "source": [
    "## SOURCES:\n",
    "#\n",
    "# https://www.geeksforgeeks.org/read-json-file-using-python/\n",
    "#"
   ]
  },
  {
   "cell_type": "code",
   "execution_count": 5,
   "id": "1325f5f4",
   "metadata": {},
   "outputs": [],
   "source": [
    "import uuid #library for creating necessary unique object ids"
   ]
  },
  {
   "cell_type": "code",
   "execution_count": 6,
   "id": "3230b852",
   "metadata": {},
   "outputs": [],
   "source": [
    "with open('lcabyg_example/building.json', 'r') as f:\n",
    "  building_json = json.load(f)"
   ]
  },
  {
   "cell_type": "code",
   "execution_count": null,
   "id": "a3c4fc62",
   "metadata": {},
   "outputs": [],
   "source": []
  },
  {
   "cell_type": "code",
   "execution_count": 7,
   "id": "e9c92d4a",
   "metadata": {},
   "outputs": [],
   "source": [
    "with open('lcabyg_example/constructions.json', 'r') as f:\n",
    "  constructions_json = json.load(f)"
   ]
  },
  {
   "cell_type": "markdown",
   "id": "34d218fa",
   "metadata": {},
   "source": [
    "##### Elements.json"
   ]
  },
  {
   "cell_type": "code",
   "execution_count": null,
   "id": "c55cbe11",
   "metadata": {},
   "outputs": [],
   "source": []
  },
  {
   "cell_type": "code",
   "execution_count": 8,
   "id": "671a6860",
   "metadata": {},
   "outputs": [],
   "source": [
    "with open('lcabyg_example/elements.json', 'r') as f:\n",
    "  elements_json = json.load(f)"
   ]
  },
  {
   "cell_type": "code",
   "execution_count": 9,
   "id": "29e1f580",
   "metadata": {},
   "outputs": [],
   "source": [
    "def add_things_json_list(json_list, json_element):\n",
    "    for i in json_element:\n",
    "        json_list.append(i)\n",
    "    return json_list"
   ]
  },
  {
   "cell_type": "code",
   "execution_count": 10,
   "id": "1f702c18",
   "metadata": {},
   "outputs": [],
   "source": [
    "def create_lcabyg_element(construction_amount, element_name = 'Test_element', product_amount = 1, lifespan = 50, product_id = '51bcec85-9105-4946-8a8a-51219bf9adfa'):\n",
    "    \n",
    "    ################ SET PROPERTIES AND IDs\n",
    "    \n",
    "    element_id = str(uuid.uuid4())\n",
    "    #construction_id = str(uuid.uuid4())\n",
    "    element_category_id = str(uuid.uuid4())\n",
    "    \n",
    "    construction_edge_id = str(uuid.uuid4())\n",
    "    \n",
    "    element_category_edge_id = str(uuid.uuid4())\n",
    "    constructions_category_id = str(uuid.uuid4())\n",
    "    \n",
    "    ################ DEFAULT IDs (this ones are not needed to change)\n",
    "    \n",
    "   \n",
    "    \n",
    "    ################ DEFAULT IDs from example\n",
    "    element_id = '02c3e303-a443-4f02-9927-e43519227ade'\n",
    "    #construction_id = 'c6f24e0f-020a-4f0f-93c6-65beb50bd798'\n",
    "    element_category_id = '069983d0-d08b-405b-b816-d28ca9648956'\n",
    "    product_id = '51bcec85-9105-4946-8a8a-51219bf9adfa'\n",
    "    \n",
    "    #construction_edge_id = '65cc0492-7864-4598-9254-5f929379bae6'\n",
    "    #element_edge_id = 'e66c3d76-eae6-4c6b-86f7-e9178bc8f804'\n",
    "    #element_category_edge_id = '479c5e5a-b173-4c07-bfbd-0cedff55888b'\n",
    "    constructions_category_id = '8cef6e2a-ad53-4450-9c6f-7a24eb9fcf16'\n",
    "    \n",
    "    \n",
    "    ################\n",
    "    \n",
    "    json_array_elements = []\n",
    "    json_array_constructions = []\n",
    "    json_array_element_category = []\n",
    "    json_array_constructions_extra = []\n",
    "    \n",
    "    ################ ELEMENTS.JSON\n",
    "    element_properties = {'id': element_id,  \"name\": { \"Danish\": \"Test bygningsdel\",\"English\": \"\",\"German\": \"\" }, \"source\": \"User\", \"comment\": \"Created by IFC-LCABYG-Importer\", \"enabled\": True, \"active\": True}\n",
    "    element_set = {'Element': element_properties}\n",
    "    element_node = {'Node': element_set}\n",
    "    \n",
    "    \n",
    "    element_edge_id = []\n",
    "    construction_id = []\n",
    "    construction_edge_id = []\n",
    "    element_edges = []\n",
    "    i = 0\n",
    "    \n",
    "    ####\n",
    "    json_array_elements.append(element_node) #0 elements.json\n",
    "    ####\n",
    "    \n",
    "    for n in construction_amount:\n",
    "        print (i)\n",
    "        element_edge_id.append(str(uuid.uuid4()))\n",
    "        construction_id.append(str(uuid.uuid4()))\n",
    "        construction_edge_id.append(str(uuid.uuid4()))\n",
    "        element_edge_details = {'id': element_edge_id[i],'amount': n, 'enabled': True}\n",
    "        element_edge_data = [{'ElementToConstruction': element_edge_details}, element_id, construction_id[i]]\n",
    "        element_edge = {'Edge': element_edge_data}\n",
    "                 \n",
    "        json_array_elements.append(element_edge) \n",
    "        \n",
    "        \n",
    "        ################ CONSTRUCTIONS.JSON\n",
    "        construction_properties = {'id': construction_id[i],  'name': {'Danish': element_name[i], 'English': 'Test construction'},'unit': 'M2', 'source': 'User','comment': 'Testing','layer': 1,'locked': True}\n",
    "        construction_set = {'Construction': construction_properties}\n",
    "        construction_node = {'Node': construction_set}\n",
    "        \n",
    "        json_array_constructions.append(construction_node) #1 constructions.json\n",
    "        \n",
    "        construction_edge_details = {'id': construction_edge_id[i],'amount': product_amount, 'unit': 'M2', 'lifespan': lifespan,     'demolition': False,     'enabled': True,     'delayed_start': 0}\n",
    "        construction_edge_data = [{'ConstructionToProduct': construction_edge_details}, construction_id[i], product_id]\n",
    "        construction_edge = {'Edge': construction_edge_data}\n",
    "        \n",
    "        json_array_constructions.append(construction_edge)    \n",
    "        \n",
    "        \n",
    "        \n",
    "        ################ constructions_extra.json\n",
    "\n",
    "        constructions_category_edge_details = {'id': str(uuid.uuid4()),'layers': [1]}\n",
    "        constructions_category_edge_data = [{'CategoryToConstruction':constructions_category_edge_details}, element_category_id, construction_id[i]]\n",
    "        constructions_category_edge = {'Edge': constructions_category_edge_data}\n",
    "\n",
    "        ################ SAVE TO ARRAY\n",
    "\n",
    "        \n",
    "        json_array_constructions_extra.append(constructions_category_edge) #3 constructions_extra.json\n",
    "        \n",
    "        \n",
    "        \n",
    "        ########\n",
    "        i += 1\n",
    "    ############\n",
    "    \n",
    "    \n",
    "    ################ element_category_edges.json\n",
    "        \n",
    "    element_category_edge_details = {'id': str(uuid.uuid4()), 'enabled': True}\n",
    "    element_category_edge_data = [{'CategoryToElement':element_category_edge_details}, element_category_id, element_id]\n",
    "    element_category_edge = {'Edge': element_category_edge_data}\n",
    "    json_array_element_category.append(element_category_edge) #2 construction_category_edges.json\n",
    "    \n",
    "    \n",
    "    \n",
    "\n",
    "                            \n",
    "    return  json_array_elements, json_array_constructions,json_array_element_category, json_array_constructions_extra"
   ]
  },
  {
   "cell_type": "code",
   "execution_count": 11,
   "id": "02702044",
   "metadata": {},
   "outputs": [
    {
     "name": "stdout",
     "output_type": "stream",
     "text": [
      "0\n",
      "1\n"
     ]
    }
   ],
   "source": [
    "amount_list = [123,234]\n",
    "name_list = ['test_1', 'test_2']\n",
    "json_result = create_lcabyg_element(amount_list, name_list)"
   ]
  },
  {
   "cell_type": "code",
   "execution_count": 12,
   "id": "e2ae0378",
   "metadata": {},
   "outputs": [
    {
     "data": {
      "text/plain": [
       "[{'Node': {'Element': {'id': '02c3e303-a443-4f02-9927-e43519227ade',\n",
       "    'name': {'Danish': 'Test bygningsdel', 'English': '', 'German': ''},\n",
       "    'source': 'User',\n",
       "    'comment': 'Created by IFC-LCABYG-Importer',\n",
       "    'enabled': True,\n",
       "    'active': True}}},\n",
       " {'Edge': [{'ElementToConstruction': {'id': 'f0a7d29b-1ee5-4df8-8562-76c45102c498',\n",
       "     'amount': 123,\n",
       "     'enabled': True}},\n",
       "   '02c3e303-a443-4f02-9927-e43519227ade',\n",
       "   '783e6124-d836-46fd-9d07-39dd1cb63972']},\n",
       " {'Edge': [{'ElementToConstruction': {'id': '5088f975-172f-4ecc-ae5d-9379c5ece120',\n",
       "     'amount': 234,\n",
       "     'enabled': True}},\n",
       "   '02c3e303-a443-4f02-9927-e43519227ade',\n",
       "   '4524de5b-58e0-4e1e-8ca9-f65675ffcf19']}]"
      ]
     },
     "execution_count": 12,
     "metadata": {},
     "output_type": "execute_result"
    }
   ],
   "source": [
    "json_result[0]"
   ]
  },
  {
   "cell_type": "code",
   "execution_count": 13,
   "id": "ac8c7fc8",
   "metadata": {},
   "outputs": [
    {
     "data": {
      "text/plain": [
       "[{'Node': {'Construction': {'id': '783e6124-d836-46fd-9d07-39dd1cb63972',\n",
       "    'name': {'Danish': 'test_1', 'English': 'Test construction'},\n",
       "    'unit': 'M2',\n",
       "    'source': 'User',\n",
       "    'comment': 'Testing',\n",
       "    'layer': 1,\n",
       "    'locked': True}}},\n",
       " {'Edge': [{'ConstructionToProduct': {'id': '6e4886d3-8be7-4e35-9c4a-12628a864710',\n",
       "     'amount': 1,\n",
       "     'unit': 'M2',\n",
       "     'lifespan': 50,\n",
       "     'demolition': False,\n",
       "     'enabled': True,\n",
       "     'delayed_start': 0}},\n",
       "   '783e6124-d836-46fd-9d07-39dd1cb63972',\n",
       "   '51bcec85-9105-4946-8a8a-51219bf9adfa']},\n",
       " {'Node': {'Construction': {'id': '4524de5b-58e0-4e1e-8ca9-f65675ffcf19',\n",
       "    'name': {'Danish': 'test_2', 'English': 'Test construction'},\n",
       "    'unit': 'M2',\n",
       "    'source': 'User',\n",
       "    'comment': 'Testing',\n",
       "    'layer': 1,\n",
       "    'locked': True}}},\n",
       " {'Edge': [{'ConstructionToProduct': {'id': '9d49b673-7639-459f-8ec4-e1d5e58361c6',\n",
       "     'amount': 1,\n",
       "     'unit': 'M2',\n",
       "     'lifespan': 50,\n",
       "     'demolition': False,\n",
       "     'enabled': True,\n",
       "     'delayed_start': 0}},\n",
       "   '4524de5b-58e0-4e1e-8ca9-f65675ffcf19',\n",
       "   '51bcec85-9105-4946-8a8a-51219bf9adfa']}]"
      ]
     },
     "execution_count": 13,
     "metadata": {},
     "output_type": "execute_result"
    }
   ],
   "source": [
    "json_result[1]"
   ]
  },
  {
   "cell_type": "code",
   "execution_count": 14,
   "id": "9e40c0e3",
   "metadata": {},
   "outputs": [
    {
     "data": {
      "text/plain": [
       "[{'Edge': [{'CategoryToElement': {'id': '84384980-56c3-4c4e-bbfc-0e4c6b1b8593',\n",
       "     'enabled': True}},\n",
       "   '069983d0-d08b-405b-b816-d28ca9648956',\n",
       "   '02c3e303-a443-4f02-9927-e43519227ade']}]"
      ]
     },
     "execution_count": 14,
     "metadata": {},
     "output_type": "execute_result"
    }
   ],
   "source": [
    "json_result[2]"
   ]
  },
  {
   "cell_type": "code",
   "execution_count": 15,
   "id": "7a26a469",
   "metadata": {},
   "outputs": [
    {
     "data": {
      "text/plain": [
       "[{'Edge': [{'CategoryToConstruction': {'id': 'dc49ff9a-c51c-4081-b766-c8d472e2ad9e',\n",
       "     'layers': [1]}},\n",
       "   '069983d0-d08b-405b-b816-d28ca9648956',\n",
       "   '783e6124-d836-46fd-9d07-39dd1cb63972']},\n",
       " {'Edge': [{'CategoryToConstruction': {'id': 'b347ad39-c927-490e-b4d0-7c8842369335',\n",
       "     'layers': [1]}},\n",
       "   '069983d0-d08b-405b-b816-d28ca9648956',\n",
       "   '4524de5b-58e0-4e1e-8ca9-f65675ffcf19']}]"
      ]
     },
     "execution_count": 15,
     "metadata": {},
     "output_type": "execute_result"
    }
   ],
   "source": [
    "json_result[3]"
   ]
  },
  {
   "cell_type": "code",
   "execution_count": 16,
   "id": "296826c2",
   "metadata": {},
   "outputs": [],
   "source": [
    "json_array_elements = []\n",
    "json_array_constructions = []\n",
    "json_array_element_category_edges = []\n",
    "json_array_constructions_extra = []"
   ]
  },
  {
   "cell_type": "code",
   "execution_count": 17,
   "id": "ecd248f1",
   "metadata": {},
   "outputs": [
    {
     "name": "stdout",
     "output_type": "stream",
     "text": [
      "0\n",
      "1\n"
     ]
    }
   ],
   "source": [
    "json_result = create_lcabyg_element(amount_list, name_list)\n",
    "json_array_elements = add_things_json_list(json_array_elements, json_result[0])\n",
    "json_array_constructions = add_things_json_list(json_array_constructions, json_result[1])\n",
    "json_array_element_category_edges = add_things_json_list(json_array_element_category_edges, json_result[2])\n",
    "json_array_constructions_extra = add_things_json_list(json_array_constructions_extra, json_result[3])"
   ]
  },
  {
   "cell_type": "code",
   "execution_count": null,
   "id": "38ce50e3",
   "metadata": {},
   "outputs": [],
   "source": []
  },
  {
   "cell_type": "code",
   "execution_count": null,
   "id": "03b33ebb",
   "metadata": {},
   "outputs": [],
   "source": []
  },
  {
   "cell_type": "code",
   "execution_count": 18,
   "id": "f9b1b8f8",
   "metadata": {},
   "outputs": [
    {
     "data": {
      "text/plain": [
       "[{'Node': {'Element': {'id': '02c3e303-a443-4f02-9927-e43519227ade',\n",
       "    'name': {'Danish': 'Test bygningsdel', 'English': '', 'German': ''},\n",
       "    'source': 'User',\n",
       "    'comment': 'Created by IFC-LCABYG-Importer',\n",
       "    'enabled': True,\n",
       "    'active': True}}},\n",
       " {'Edge': [{'ElementToConstruction': {'id': 'da3b84cb-70ce-4df9-ac96-0ec5aa3236d5',\n",
       "     'amount': 123,\n",
       "     'enabled': True}},\n",
       "   '02c3e303-a443-4f02-9927-e43519227ade',\n",
       "   '4235df9c-e1df-4fba-8e85-ea77c9e19f90']},\n",
       " {'Edge': [{'ElementToConstruction': {'id': '981eeea2-1ed3-4e8a-b59d-374c50fbd39f',\n",
       "     'amount': 234,\n",
       "     'enabled': True}},\n",
       "   '02c3e303-a443-4f02-9927-e43519227ade',\n",
       "   '9b7d9510-ce1c-48ff-8fd6-91bf684ee69b']}]"
      ]
     },
     "execution_count": 18,
     "metadata": {},
     "output_type": "execute_result"
    }
   ],
   "source": [
    "json_array_elements"
   ]
  },
  {
   "cell_type": "code",
   "execution_count": 19,
   "id": "d8f2f32a",
   "metadata": {},
   "outputs": [
    {
     "data": {
      "text/plain": [
       "[{'Node': {'Construction': {'id': '4235df9c-e1df-4fba-8e85-ea77c9e19f90',\n",
       "    'name': {'Danish': 'test_1', 'English': 'Test construction'},\n",
       "    'unit': 'M2',\n",
       "    'source': 'User',\n",
       "    'comment': 'Testing',\n",
       "    'layer': 1,\n",
       "    'locked': True}}},\n",
       " {'Edge': [{'ConstructionToProduct': {'id': 'd4843a04-abac-49c3-9b84-e8ce31192862',\n",
       "     'amount': 1,\n",
       "     'unit': 'M2',\n",
       "     'lifespan': 50,\n",
       "     'demolition': False,\n",
       "     'enabled': True,\n",
       "     'delayed_start': 0}},\n",
       "   '4235df9c-e1df-4fba-8e85-ea77c9e19f90',\n",
       "   '51bcec85-9105-4946-8a8a-51219bf9adfa']},\n",
       " {'Node': {'Construction': {'id': '9b7d9510-ce1c-48ff-8fd6-91bf684ee69b',\n",
       "    'name': {'Danish': 'test_2', 'English': 'Test construction'},\n",
       "    'unit': 'M2',\n",
       "    'source': 'User',\n",
       "    'comment': 'Testing',\n",
       "    'layer': 1,\n",
       "    'locked': True}}},\n",
       " {'Edge': [{'ConstructionToProduct': {'id': 'a41b0a44-8a04-4d0e-af4f-ddc35a11e960',\n",
       "     'amount': 1,\n",
       "     'unit': 'M2',\n",
       "     'lifespan': 50,\n",
       "     'demolition': False,\n",
       "     'enabled': True,\n",
       "     'delayed_start': 0}},\n",
       "   '9b7d9510-ce1c-48ff-8fd6-91bf684ee69b',\n",
       "   '51bcec85-9105-4946-8a8a-51219bf9adfa']}]"
      ]
     },
     "execution_count": 19,
     "metadata": {},
     "output_type": "execute_result"
    }
   ],
   "source": [
    "json_array_constructions"
   ]
  },
  {
   "cell_type": "code",
   "execution_count": 20,
   "id": "80a91e20",
   "metadata": {},
   "outputs": [],
   "source": [
    "## YOU SHOULD ONLY CREATE ANOTHER NODE IF ITS DIFFERENT!!!\n",
    "## IF ONE ELEMENT NODE LEADS TO TWO COSNTRUCTIONS then 2 EDGES!!!!"
   ]
  },
  {
   "cell_type": "code",
   "execution_count": 21,
   "id": "9ac6720f",
   "metadata": {},
   "outputs": [],
   "source": [
    "with open('lcabyg_example/elements.json', 'w') as outfile:\n",
    "    json.dump(json_array_elements, outfile,indent=4)\n",
    "with open('lcabyg_example/constructions.json', 'w') as outfile:\n",
    "    json.dump(json_array_constructions, outfile,indent=4)\n",
    "with open('lcabyg_example/construction_category_edges.json', 'w') as outfile:\n",
    "    json.dump(json_array_element_category_edges, outfile,indent=4)\n",
    "with open('lcabyg_example/constructions_extra.json', 'w') as outfile:\n",
    "    json.dump(json_array_constructions_extra, outfile,indent=4)"
   ]
  },
  {
   "cell_type": "code",
   "execution_count": null,
   "id": "15c3738f",
   "metadata": {},
   "outputs": [],
   "source": []
  },
  {
   "cell_type": "code",
   "execution_count": null,
   "id": "761389e9",
   "metadata": {},
   "outputs": [],
   "source": []
  },
  {
   "cell_type": "code",
   "execution_count": null,
   "id": "7e8127e9",
   "metadata": {},
   "outputs": [],
   "source": []
  },
  {
   "cell_type": "code",
   "execution_count": null,
   "id": "af1bde10",
   "metadata": {},
   "outputs": [],
   "source": []
  },
  {
   "cell_type": "code",
   "execution_count": 22,
   "id": "280eb972",
   "metadata": {},
   "outputs": [],
   "source": [
    "with open('lcabyg_example/elements.json', 'w') as outfile:\n",
    "    json.dump(json_result[0], outfile,indent=4)"
   ]
  },
  {
   "cell_type": "code",
   "execution_count": 23,
   "id": "f04feec6",
   "metadata": {},
   "outputs": [],
   "source": [
    "with open('lcabyg_example/constructions.json', 'w') as outfile:\n",
    "    json.dump(json_result[1], outfile,indent=4)"
   ]
  },
  {
   "cell_type": "code",
   "execution_count": 24,
   "id": "81ee60b4",
   "metadata": {},
   "outputs": [],
   "source": [
    "with open('lcabyg_example/construction_category_edges.json', 'w') as outfile:\n",
    "    json.dump(json_result[2], outfile,indent=4)"
   ]
  },
  {
   "cell_type": "code",
   "execution_count": 25,
   "id": "4553b8c3",
   "metadata": {},
   "outputs": [],
   "source": [
    "with open('lcabyg_example/constructions_extra.json', 'w') as outfile:\n",
    "    json.dump(json_result[3], outfile,indent=4)"
   ]
  },
  {
   "cell_type": "code",
   "execution_count": null,
   "id": "40dcff57",
   "metadata": {},
   "outputs": [],
   "source": []
  },
  {
   "cell_type": "code",
   "execution_count": 26,
   "id": "214ffdf4",
   "metadata": {},
   "outputs": [],
   "source": [
    "with open('lcabyg_example/elements.json', 'w') as outfile:\n",
    "    json.dump(json_result[0], outfile,indent=4)"
   ]
  },
  {
   "cell_type": "code",
   "execution_count": null,
   "id": "0e0c9d3a",
   "metadata": {},
   "outputs": [],
   "source": []
  },
  {
   "cell_type": "code",
   "execution_count": 27,
   "id": "6ed51048",
   "metadata": {},
   "outputs": [],
   "source": [
    "#create 3 walls"
   ]
  },
  {
   "cell_type": "code",
   "execution_count": null,
   "id": "ee77114c",
   "metadata": {},
   "outputs": [],
   "source": []
  },
  {
   "cell_type": "code",
   "execution_count": null,
   "id": "ef79c7b2",
   "metadata": {},
   "outputs": [],
   "source": []
  },
  {
   "cell_type": "code",
   "execution_count": null,
   "id": "9a74138b",
   "metadata": {},
   "outputs": [],
   "source": []
  },
  {
   "cell_type": "code",
   "execution_count": 28,
   "id": "7573c994",
   "metadata": {},
   "outputs": [],
   "source": [
    "# IFC Parser\n",
    "# Based on:\n",
    "# https://thinkmoult.com/using-ifcopenshell-parse-ifc-files-python.html\n",
    "# https://github.com/johannesmichael/ifc-python/blob/master/modules/ifc_pset_utils.py\n",
    "# https://www.kaggle.com/code/ponybiam/introduction-to-ifcopenshell-functions/notebook\n",
    "# https://blenderbim.org/docs-python/ifcopenshell-python/hello_world.html\n",
    "\n",
    "import ifcopenshell\n",
    "import ifcHelper \n",
    "import pandas as pd\n",
    "import numpy as np"
   ]
  },
  {
   "cell_type": "code",
   "execution_count": 29,
   "id": "1549ea63",
   "metadata": {},
   "outputs": [
    {
     "name": "stdout",
     "output_type": "stream",
     "text": [
      "File loaded successfully\n"
     ]
    }
   ],
   "source": [
    "try:\n",
    "  ifc_file = ifcopenshell.open('ifc_test_file.ifc')\n",
    "  print(\"File loaded successfully\")\n",
    "except:\n",
    "  print(\"An exception occurred\")\n",
    "\n"
   ]
  },
  {
   "cell_type": "code",
   "execution_count": 30,
   "id": "60ab6301",
   "metadata": {},
   "outputs": [],
   "source": [
    "## Get all walls by_type: IfcWall\n",
    "##\n",
    "walls = ifc_file.by_type('IfcWall')"
   ]
  },
  {
   "cell_type": "code",
   "execution_count": 31,
   "id": "999d85dc",
   "metadata": {},
   "outputs": [],
   "source": [
    "walls_volumes = list()\n",
    "walls_thickness = list()\n",
    "walls_areas = list()\n",
    "walls_types = list()\n",
    "for i in range(len(walls)):\n",
    "    quantities = ifcHelper.get_quantity_single_value(ifcHelper.get_related_quantities(walls[i])[0])\n",
    "    walls_volumes.append(quantities['NetVolume'])\n",
    "    walls_thickness.append(quantities['Width']/1000)\n",
    "    walls_areas.append(walls_volumes[i]/walls_thickness[i])\n",
    "    walls_types.append(walls[i].ObjectType)\n",
    "    \n",
    "## Get volumes, thickness and calculate areas\n",
    "## Get wall types"
   ]
  },
  {
   "cell_type": "code",
   "execution_count": 32,
   "id": "28cdcbcb",
   "metadata": {},
   "outputs": [],
   "source": [
    "d = {'Type':walls_types,'Area':walls_areas}\n",
    "wall_df = pd.DataFrame(d)\n",
    "wall_types_sum = wall_df.groupby('Type')['Area'].sum().reset_index()"
   ]
  },
  {
   "cell_type": "code",
   "execution_count": 33,
   "id": "6025f943",
   "metadata": {},
   "outputs": [],
   "source": [
    "wall_types_sum_df = pd.DataFrame(wall_types_sum)"
   ]
  },
  {
   "cell_type": "code",
   "execution_count": 34,
   "id": "de0ae873",
   "metadata": {},
   "outputs": [
    {
     "data": {
      "text/html": [
       "<div>\n",
       "<style scoped>\n",
       "    .dataframe tbody tr th:only-of-type {\n",
       "        vertical-align: middle;\n",
       "    }\n",
       "\n",
       "    .dataframe tbody tr th {\n",
       "        vertical-align: top;\n",
       "    }\n",
       "\n",
       "    .dataframe thead th {\n",
       "        text-align: right;\n",
       "    }\n",
       "</style>\n",
       "<table border=\"1\" class=\"dataframe\">\n",
       "  <thead>\n",
       "    <tr style=\"text-align: right;\">\n",
       "      <th></th>\n",
       "      <th>Type</th>\n",
       "      <th>Area</th>\n",
       "    </tr>\n",
       "  </thead>\n",
       "  <tbody>\n",
       "    <tr>\n",
       "      <th>0</th>\n",
       "      <td>Basic Wall:Z01</td>\n",
       "      <td>323.497947</td>\n",
       "    </tr>\n",
       "    <tr>\n",
       "      <th>1</th>\n",
       "      <td>Basic Wall:Z02</td>\n",
       "      <td>229.437074</td>\n",
       "    </tr>\n",
       "  </tbody>\n",
       "</table>\n",
       "</div>"
      ],
      "text/plain": [
       "             Type        Area\n",
       "0  Basic Wall:Z01  323.497947\n",
       "1  Basic Wall:Z02  229.437074"
      ]
     },
     "execution_count": 34,
     "metadata": {},
     "output_type": "execute_result"
    }
   ],
   "source": [
    "wall_types_sum_df"
   ]
  },
  {
   "cell_type": "code",
   "execution_count": 35,
   "id": "87792799",
   "metadata": {},
   "outputs": [],
   "source": [
    "def get_wall_dataframe(walls):\n",
    "    walls_volumes = list()\n",
    "    walls_thickness = list()\n",
    "    walls_areas = list()\n",
    "    walls_types = list()\n",
    "    for i in range(len(walls)):\n",
    "        quantities = ifcHelper.get_quantity_single_value(ifcHelper.get_related_quantities(walls[i])[0])\n",
    "        walls_volumes.append(quantities['NetVolume'])\n",
    "        walls_thickness.append(quantities['Width']/1000)\n",
    "        walls_areas.append(walls_volumes[i]/walls_thickness[i])\n",
    "        walls_types.append(walls[i].ObjectType)\n",
    "        \n",
    "    d = {'Type':walls_types,'Area':walls_areas}\n",
    "    wall_df = pd.DataFrame(d)\n",
    "    wall_types_sum = wall_df.groupby('Type')['Area'].sum().reset_index()\n",
    "    wall_types_sum_df = pd.DataFrame(wall_types_sum)\n",
    "    return wall_types_sum_df"
   ]
  },
  {
   "cell_type": "code",
   "execution_count": 36,
   "id": "c1762feb",
   "metadata": {},
   "outputs": [],
   "source": [
    "w = get_wall_dataframe(walls)"
   ]
  },
  {
   "cell_type": "code",
   "execution_count": 46,
   "id": "aa060f58",
   "metadata": {},
   "outputs": [
    {
     "data": {
      "text/html": [
       "<div>\n",
       "<style scoped>\n",
       "    .dataframe tbody tr th:only-of-type {\n",
       "        vertical-align: middle;\n",
       "    }\n",
       "\n",
       "    .dataframe tbody tr th {\n",
       "        vertical-align: top;\n",
       "    }\n",
       "\n",
       "    .dataframe thead th {\n",
       "        text-align: right;\n",
       "    }\n",
       "</style>\n",
       "<table border=\"1\" class=\"dataframe\">\n",
       "  <thead>\n",
       "    <tr style=\"text-align: right;\">\n",
       "      <th></th>\n",
       "      <th>Type</th>\n",
       "      <th>Area</th>\n",
       "    </tr>\n",
       "  </thead>\n",
       "  <tbody>\n",
       "    <tr>\n",
       "      <th>0</th>\n",
       "      <td>Basic Wall:Z01</td>\n",
       "      <td>323.497947</td>\n",
       "    </tr>\n",
       "    <tr>\n",
       "      <th>1</th>\n",
       "      <td>Basic Wall:Z02</td>\n",
       "      <td>229.437074</td>\n",
       "    </tr>\n",
       "  </tbody>\n",
       "</table>\n",
       "</div>"
      ],
      "text/plain": [
       "             Type        Area\n",
       "0  Basic Wall:Z01  323.497947\n",
       "1  Basic Wall:Z02  229.437074"
      ]
     },
     "execution_count": 46,
     "metadata": {},
     "output_type": "execute_result"
    }
   ],
   "source": [
    "w"
   ]
  },
  {
   "cell_type": "code",
   "execution_count": 37,
   "id": "e3b82788",
   "metadata": {},
   "outputs": [
    {
     "data": {
      "text/plain": [
       "0    Basic Wall:Z01\n",
       "1    Basic Wall:Z02\n",
       "Name: Type, dtype: object"
      ]
     },
     "execution_count": 37,
     "metadata": {},
     "output_type": "execute_result"
    }
   ],
   "source": [
    "wall_types_sum_df['Type']"
   ]
  },
  {
   "cell_type": "code",
   "execution_count": 38,
   "id": "fae4d03a",
   "metadata": {},
   "outputs": [
    {
     "data": {
      "text/plain": [
       "0    323.497947\n",
       "1    229.437074\n",
       "Name: Area, dtype: float64"
      ]
     },
     "execution_count": 38,
     "metadata": {},
     "output_type": "execute_result"
    }
   ],
   "source": [
    "wall_types_sum_df['Area']"
   ]
  },
  {
   "cell_type": "code",
   "execution_count": 39,
   "id": "ddb6e386",
   "metadata": {},
   "outputs": [
    {
     "data": {
      "text/plain": [
       "0    323.497947\n",
       "1    229.437074\n",
       "Name: Area, dtype: float64"
      ]
     },
     "execution_count": 39,
     "metadata": {},
     "output_type": "execute_result"
    }
   ],
   "source": [
    "wall_types_sum_df['Area']\n"
   ]
  },
  {
   "cell_type": "code",
   "execution_count": 40,
   "id": "1f50c065",
   "metadata": {},
   "outputs": [
    {
     "name": "stdout",
     "output_type": "stream",
     "text": [
      "323.4979465328056\n",
      "229.43707388177322\n"
     ]
    }
   ],
   "source": [
    "for n in wall_types_sum_df['Area']:\n",
    "        print (n)"
   ]
  },
  {
   "cell_type": "code",
   "execution_count": 41,
   "id": "97d9adde",
   "metadata": {},
   "outputs": [],
   "source": [
    "json_array_elements = []\n",
    "json_array_constructions = []\n",
    "json_array_element_category_edges = []\n",
    "json_array_constructions_extra = []"
   ]
  },
  {
   "cell_type": "code",
   "execution_count": 42,
   "id": "a89e8328",
   "metadata": {},
   "outputs": [
    {
     "name": "stdout",
     "output_type": "stream",
     "text": [
      "0\n",
      "1\n"
     ]
    }
   ],
   "source": [
    "json_result = create_lcabyg_element(wall_types_sum_df['Area'], wall_types_sum_df['Type'])\n",
    "json_array_elements = add_things_json_list(json_array_elements, json_result[0])\n",
    "json_array_constructions = add_things_json_list(json_array_constructions, json_result[1])\n",
    "json_array_element_category_edges = add_things_json_list(json_array_element_category_edges, json_result[2])\n",
    "json_array_constructions_extra = add_things_json_list(json_array_constructions_extra, json_result[3])"
   ]
  },
  {
   "cell_type": "code",
   "execution_count": 43,
   "id": "b3e5e014",
   "metadata": {},
   "outputs": [],
   "source": [
    "with open('lcabyg_example/elements.json', 'w') as outfile:\n",
    "    json.dump(json_array_elements, outfile,indent=4)\n",
    "with open('lcabyg_example/constructions.json', 'w') as outfile:\n",
    "    json.dump(json_array_constructions, outfile,indent=4)\n",
    "with open('lcabyg_example/construction_category_edges.json', 'w') as outfile:\n",
    "    json.dump(json_array_element_category_edges, outfile,indent=4)\n",
    "with open('lcabyg_example/constructions_extra.json', 'w') as outfile:\n",
    "    json.dump(json_array_constructions_extra, outfile,indent=4)"
   ]
  },
  {
   "cell_type": "code",
   "execution_count": 44,
   "id": "65ff6a2c",
   "metadata": {},
   "outputs": [
    {
     "data": {
      "text/plain": [
       "[{'Node': {'Element': {'id': '02c3e303-a443-4f02-9927-e43519227ade',\n",
       "    'name': {'Danish': 'Test bygningsdel', 'English': '', 'German': ''},\n",
       "    'source': 'User',\n",
       "    'comment': 'Created by IFC-LCABYG-Importer',\n",
       "    'enabled': True,\n",
       "    'active': True}}},\n",
       " {'Edge': [{'ElementToConstruction': {'id': '21784ee8-82ee-486c-9009-7b423a59686c',\n",
       "     'amount': 323.4979465328056,\n",
       "     'enabled': True}},\n",
       "   '02c3e303-a443-4f02-9927-e43519227ade',\n",
       "   '57f50629-c2ef-4ed4-a2fa-0980ac7a557e']},\n",
       " {'Edge': [{'ElementToConstruction': {'id': '95c8c72b-f97b-4300-b51a-3e91859844d2',\n",
       "     'amount': 229.43707388177322,\n",
       "     'enabled': True}},\n",
       "   '02c3e303-a443-4f02-9927-e43519227ade',\n",
       "   'f9f53ea6-f342-4bdf-a37e-d658f9bb39a4']}]"
      ]
     },
     "execution_count": 44,
     "metadata": {},
     "output_type": "execute_result"
    }
   ],
   "source": [
    "json_array_elements"
   ]
  },
  {
   "cell_type": "code",
   "execution_count": 45,
   "id": "8a25fc5e",
   "metadata": {},
   "outputs": [
    {
     "data": {
      "text/plain": [
       "([{'Node': {'Element': {'id': '02c3e303-a443-4f02-9927-e43519227ade',\n",
       "     'name': {'Danish': 'Test bygningsdel', 'English': '', 'German': ''},\n",
       "     'source': 'User',\n",
       "     'comment': 'Created by IFC-LCABYG-Importer',\n",
       "     'enabled': True,\n",
       "     'active': True}}},\n",
       "  {'Edge': [{'ElementToConstruction': {'id': '21784ee8-82ee-486c-9009-7b423a59686c',\n",
       "      'amount': 323.4979465328056,\n",
       "      'enabled': True}},\n",
       "    '02c3e303-a443-4f02-9927-e43519227ade',\n",
       "    '57f50629-c2ef-4ed4-a2fa-0980ac7a557e']},\n",
       "  {'Edge': [{'ElementToConstruction': {'id': '95c8c72b-f97b-4300-b51a-3e91859844d2',\n",
       "      'amount': 229.43707388177322,\n",
       "      'enabled': True}},\n",
       "    '02c3e303-a443-4f02-9927-e43519227ade',\n",
       "    'f9f53ea6-f342-4bdf-a37e-d658f9bb39a4']}],\n",
       " [{'Node': {'Construction': {'id': '57f50629-c2ef-4ed4-a2fa-0980ac7a557e',\n",
       "     'name': {'Danish': 'Basic Wall:Z01', 'English': 'Test construction'},\n",
       "     'unit': 'M2',\n",
       "     'source': 'User',\n",
       "     'comment': 'Testing',\n",
       "     'layer': 1,\n",
       "     'locked': True}}},\n",
       "  {'Edge': [{'ConstructionToProduct': {'id': '8fd3e96d-39de-43a2-b9e4-841d5bacc5f7',\n",
       "      'amount': 1,\n",
       "      'unit': 'M2',\n",
       "      'lifespan': 50,\n",
       "      'demolition': False,\n",
       "      'enabled': True,\n",
       "      'delayed_start': 0}},\n",
       "    '57f50629-c2ef-4ed4-a2fa-0980ac7a557e',\n",
       "    '51bcec85-9105-4946-8a8a-51219bf9adfa']},\n",
       "  {'Node': {'Construction': {'id': 'f9f53ea6-f342-4bdf-a37e-d658f9bb39a4',\n",
       "     'name': {'Danish': 'Basic Wall:Z02', 'English': 'Test construction'},\n",
       "     'unit': 'M2',\n",
       "     'source': 'User',\n",
       "     'comment': 'Testing',\n",
       "     'layer': 1,\n",
       "     'locked': True}}},\n",
       "  {'Edge': [{'ConstructionToProduct': {'id': '1d57a15e-5ca5-4d1f-9b5d-a3dce74fce85',\n",
       "      'amount': 1,\n",
       "      'unit': 'M2',\n",
       "      'lifespan': 50,\n",
       "      'demolition': False,\n",
       "      'enabled': True,\n",
       "      'delayed_start': 0}},\n",
       "    'f9f53ea6-f342-4bdf-a37e-d658f9bb39a4',\n",
       "    '51bcec85-9105-4946-8a8a-51219bf9adfa']}],\n",
       " [{'Edge': [{'CategoryToElement': {'id': '90b229e0-9eed-45c8-a5d8-9f8fb6c83e7b',\n",
       "      'enabled': True}},\n",
       "    '069983d0-d08b-405b-b816-d28ca9648956',\n",
       "    '02c3e303-a443-4f02-9927-e43519227ade']}],\n",
       " [{'Edge': [{'CategoryToConstruction': {'id': '1ed91166-0bdb-4790-81b6-69a68c2e89f2',\n",
       "      'layers': [1]}},\n",
       "    '069983d0-d08b-405b-b816-d28ca9648956',\n",
       "    '57f50629-c2ef-4ed4-a2fa-0980ac7a557e']},\n",
       "  {'Edge': [{'CategoryToConstruction': {'id': 'c77b586c-6f12-44c4-a63c-b00ffe93e6ae',\n",
       "      'layers': [1]}},\n",
       "    '069983d0-d08b-405b-b816-d28ca9648956',\n",
       "    'f9f53ea6-f342-4bdf-a37e-d658f9bb39a4']}])"
      ]
     },
     "execution_count": 45,
     "metadata": {},
     "output_type": "execute_result"
    }
   ],
   "source": [
    "json_result"
   ]
  },
  {
   "cell_type": "code",
   "execution_count": null,
   "id": "721616b2",
   "metadata": {},
   "outputs": [],
   "source": []
  }
 ],
 "metadata": {
  "kernelspec": {
   "display_name": "Python 3",
   "language": "python",
   "name": "python3"
  },
  "language_info": {
   "codemirror_mode": {
    "name": "ipython",
    "version": 3
   },
   "file_extension": ".py",
   "mimetype": "text/x-python",
   "name": "python",
   "nbconvert_exporter": "python",
   "pygments_lexer": "ipython3",
   "version": "3.7.6"
  }
 },
 "nbformat": 4,
 "nbformat_minor": 5
}
