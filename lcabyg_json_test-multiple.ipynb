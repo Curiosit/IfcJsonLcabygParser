{
 "cells": [
  {
   "cell_type": "code",
   "execution_count": 73,
   "id": "f0a9eeb9",
   "metadata": {},
   "outputs": [],
   "source": [
    "import json\n",
    "import itertools\n",
    "import numpy as np"
   ]
  },
  {
   "cell_type": "code",
   "execution_count": 74,
   "id": "d05a323b",
   "metadata": {},
   "outputs": [],
   "source": [
    "## SOURCES:\n",
    "#\n",
    "# https://www.geeksforgeeks.org/read-json-file-using-python/\n",
    "#"
   ]
  },
  {
   "cell_type": "code",
   "execution_count": 75,
   "id": "1325f5f4",
   "metadata": {},
   "outputs": [],
   "source": [
    "import uuid #library for creating necessary unique object ids"
   ]
  },
  {
   "cell_type": "code",
   "execution_count": 76,
   "id": "3230b852",
   "metadata": {},
   "outputs": [],
   "source": [
    "with open('lcabyg_example/building.json', 'r') as f:\n",
    "  building_json = json.load(f)"
   ]
  },
  {
   "cell_type": "code",
   "execution_count": null,
   "id": "a3c4fc62",
   "metadata": {},
   "outputs": [],
   "source": []
  },
  {
   "cell_type": "code",
   "execution_count": 77,
   "id": "e9c92d4a",
   "metadata": {},
   "outputs": [],
   "source": [
    "with open('lcabyg_example/constructions.json', 'r') as f:\n",
    "  constructions_json = json.load(f)"
   ]
  },
  {
   "cell_type": "markdown",
   "id": "34d218fa",
   "metadata": {},
   "source": [
    "##### Elements.json"
   ]
  },
  {
   "cell_type": "code",
   "execution_count": null,
   "id": "c55cbe11",
   "metadata": {},
   "outputs": [],
   "source": []
  },
  {
   "cell_type": "code",
   "execution_count": 78,
   "id": "671a6860",
   "metadata": {},
   "outputs": [],
   "source": [
    "with open('lcabyg_example/elements.json', 'r') as f:\n",
    "  elements_json = json.load(f)"
   ]
  },
  {
   "cell_type": "code",
   "execution_count": 79,
   "id": "29e1f580",
   "metadata": {},
   "outputs": [],
   "source": [
    "def add_things_json_list(json_list, json_element):\n",
    "    for i in json_element:\n",
    "        json_list.append(i)\n",
    "    return json_list"
   ]
  },
  {
   "cell_type": "code",
   "execution_count": 141,
   "id": "1f702c18",
   "metadata": {},
   "outputs": [],
   "source": [
    "def create_lcabyg_element(construction_amount, element_name = 'Test_element', product_amount = 1, lifespan = 50, product_id = '51bcec85-9105-4946-8a8a-51219bf9adfa'):\n",
    "    \n",
    "    ################ SET PROPERTIES AND IDs\n",
    "    \n",
    "    element_id = str(uuid.uuid4())\n",
    "    #construction_id = str(uuid.uuid4())\n",
    "    element_category_id = str(uuid.uuid4())\n",
    "    \n",
    "    construction_edge_id = str(uuid.uuid4())\n",
    "    \n",
    "    element_category_edge_id = str(uuid.uuid4())\n",
    "    constructions_category_id = str(uuid.uuid4())\n",
    "    \n",
    "    ################ DEFAULT IDs (this ones are not needed to change)\n",
    "    \n",
    "   \n",
    "    \n",
    "    ################ DEFAULT IDs from example\n",
    "    element_id = '02c3e303-a443-4f02-9927-e43519227ade'\n",
    "    #construction_id = 'c6f24e0f-020a-4f0f-93c6-65beb50bd798'\n",
    "    element_category_id = '069983d0-d08b-405b-b816-d28ca9648956'\n",
    "    product_id = '51bcec85-9105-4946-8a8a-51219bf9adfa'\n",
    "    \n",
    "    #construction_edge_id = '65cc0492-7864-4598-9254-5f929379bae6'\n",
    "    #element_edge_id = 'e66c3d76-eae6-4c6b-86f7-e9178bc8f804'\n",
    "    #element_category_edge_id = '479c5e5a-b173-4c07-bfbd-0cedff55888b'\n",
    "    constructions_category_id = '8cef6e2a-ad53-4450-9c6f-7a24eb9fcf16'\n",
    "    \n",
    "    \n",
    "    ################\n",
    "    \n",
    "    json_array_elements = []\n",
    "    json_array_constructions = []\n",
    "    json_array_element_category = []\n",
    "    json_array_constructions_extra = []\n",
    "    \n",
    "    ################ ELEMENTS.JSON\n",
    "    element_properties = {'id': element_id,  \"name\": { \"Danish\": \"Test bygningsdel\",\"English\": \"\",\"German\": \"\" }, \"source\": \"User\", \"comment\": \"Created by IFC-LCABYG-Importer\", \"enabled\": True, \"active\": True}\n",
    "    element_set = {'Element': element_properties}\n",
    "    element_node = {'Node': element_set}\n",
    "    \n",
    "    \n",
    "    element_edge_id = []\n",
    "    construction_id = []\n",
    "    construction_edge_id = []\n",
    "    element_edges = []\n",
    "    i = 0\n",
    "    \n",
    "    ####\n",
    "    json_array_elements.append(element_node) #0 elements.json\n",
    "    ####\n",
    "    \n",
    "    for n in construction_amount:\n",
    "        print (i)\n",
    "        element_edge_id.append(str(uuid.uuid4()))\n",
    "        construction_id.append(str(uuid.uuid4()))\n",
    "        construction_edge_id.append(str(uuid.uuid4()))\n",
    "        element_edge_details = {'id': element_edge_id[i],'amount': n, 'enabled': True}\n",
    "        element_edge_data = [{'ElementToConstruction': element_edge_details}, element_id, construction_id[i]]\n",
    "        element_edge = {'Edge': element_edge_data}\n",
    "                 \n",
    "        json_array_elements.append(element_edge) \n",
    "        \n",
    "        \n",
    "        ################ CONSTRUCTIONS.JSON\n",
    "        construction_properties = {'id': construction_id[i],  'name': {'Danish': element_name[i], 'English': 'Test construction'},'unit': 'M2', 'source': 'User','comment': 'Testing','layer': 1,'locked': True}\n",
    "        construction_set = {'Construction': construction_properties}\n",
    "        construction_node = {'Node': construction_set}\n",
    "        \n",
    "        json_array_constructions.append(construction_node) #1 constructions.json\n",
    "        \n",
    "        construction_edge_details = {'id': construction_edge_id[i],'amount': product_amount, 'unit': 'M2', 'lifespan': lifespan,     'demolition': False,     'enabled': True,     'delayed_start': 0}\n",
    "        construction_edge_data = [{'ConstructionToProduct': construction_edge_details}, construction_id[i], product_id]\n",
    "        construction_edge = {'Edge': construction_edge_data}\n",
    "        \n",
    "        json_array_constructions.append(construction_edge)    \n",
    "        \n",
    "        \n",
    "        \n",
    "        ################ constructions_extra.json\n",
    "\n",
    "        constructions_category_edge_details = {'id': str(uuid.uuid4()),'layers': [1]}\n",
    "        constructions_category_edge_data = [{'CategoryToConstruction':constructions_category_edge_details}, element_category_id, construction_id[i]]\n",
    "        constructions_category_edge = {'Edge': constructions_category_edge_data}\n",
    "\n",
    "        ################ SAVE TO ARRAY\n",
    "\n",
    "        \n",
    "        json_array_constructions_extra.append(constructions_category_edge) #3 constructions_extra.json\n",
    "        \n",
    "        \n",
    "        \n",
    "        ########\n",
    "        i += 1\n",
    "    ############\n",
    "    \n",
    "    \n",
    "    ################ element_category_edges.json\n",
    "        \n",
    "    element_category_edge_details = {'id': str(uuid.uuid4()), 'enabled': True}\n",
    "    element_category_edge_data = [{'CategoryToElement':element_category_edge_details}, element_category_id, element_id]\n",
    "    element_category_edge = {'Edge': element_category_edge_data}\n",
    "    json_array_element_category.append(element_category_edge) #2 construction_category_edges.json\n",
    "    \n",
    "    \n",
    "    \n",
    "\n",
    "                            \n",
    "    return  json_array_elements, json_array_constructions,json_array_element_category, json_array_constructions_extra"
   ]
  },
  {
   "cell_type": "code",
   "execution_count": 142,
   "id": "02702044",
   "metadata": {},
   "outputs": [
    {
     "name": "stdout",
     "output_type": "stream",
     "text": [
      "0\n",
      "1\n"
     ]
    }
   ],
   "source": [
    "amount_list = [123,234]\n",
    "name_list = ['test_1', 'test_2']\n",
    "json_result = create_lcabyg_element(amount_list, name_list)"
   ]
  },
  {
   "cell_type": "code",
   "execution_count": 143,
   "id": "e2ae0378",
   "metadata": {},
   "outputs": [
    {
     "data": {
      "text/plain": [
       "[{'Node': {'Element': {'id': '02c3e303-a443-4f02-9927-e43519227ade',\n",
       "    'name': {'Danish': 'Test bygningsdel', 'English': '', 'German': ''},\n",
       "    'source': 'User',\n",
       "    'comment': 'Created by IFC-LCABYG-Importer',\n",
       "    'enabled': True,\n",
       "    'active': True}}},\n",
       " {'Edge': [{'ElementToConstruction': {'id': '5ab7848b-558a-4379-87fa-42e5e6f5f90a',\n",
       "     'amount': 123,\n",
       "     'enabled': True}},\n",
       "   '02c3e303-a443-4f02-9927-e43519227ade',\n",
       "   'd8510d65-e0ea-4a47-a983-4132d03e99b4']},\n",
       " {'Edge': [{'ElementToConstruction': {'id': 'aba3bdb5-b671-4b54-b7d0-0efda851bfa0',\n",
       "     'amount': 234,\n",
       "     'enabled': True}},\n",
       "   '02c3e303-a443-4f02-9927-e43519227ade',\n",
       "   '28e953cb-2ea4-437c-8d68-d74d97098c6a']}]"
      ]
     },
     "execution_count": 143,
     "metadata": {},
     "output_type": "execute_result"
    }
   ],
   "source": [
    "json_result[0]"
   ]
  },
  {
   "cell_type": "code",
   "execution_count": 144,
   "id": "ac8c7fc8",
   "metadata": {},
   "outputs": [
    {
     "data": {
      "text/plain": [
       "[{'Node': {'Construction': {'id': 'd8510d65-e0ea-4a47-a983-4132d03e99b4',\n",
       "    'name': {'Danish': 'test_1', 'English': 'Test construction'},\n",
       "    'unit': 'M2',\n",
       "    'source': 'User',\n",
       "    'comment': 'Testing',\n",
       "    'layer': 1,\n",
       "    'locked': True}}},\n",
       " {'Edge': [{'ConstructionToProduct': {'id': '57fbfdaf-6ee2-4931-a472-e47dafb493a6',\n",
       "     'amount': 1,\n",
       "     'unit': 'M2',\n",
       "     'lifespan': 50,\n",
       "     'demolition': False,\n",
       "     'enabled': True,\n",
       "     'delayed_start': 0}},\n",
       "   'd8510d65-e0ea-4a47-a983-4132d03e99b4',\n",
       "   '51bcec85-9105-4946-8a8a-51219bf9adfa']},\n",
       " {'Node': {'Construction': {'id': '28e953cb-2ea4-437c-8d68-d74d97098c6a',\n",
       "    'name': {'Danish': 'test_2', 'English': 'Test construction'},\n",
       "    'unit': 'M2',\n",
       "    'source': 'User',\n",
       "    'comment': 'Testing',\n",
       "    'layer': 1,\n",
       "    'locked': True}}},\n",
       " {'Edge': [{'ConstructionToProduct': {'id': 'f609c9d4-f4c2-407b-a66e-2ff7971baf14',\n",
       "     'amount': 1,\n",
       "     'unit': 'M2',\n",
       "     'lifespan': 50,\n",
       "     'demolition': False,\n",
       "     'enabled': True,\n",
       "     'delayed_start': 0}},\n",
       "   '28e953cb-2ea4-437c-8d68-d74d97098c6a',\n",
       "   '51bcec85-9105-4946-8a8a-51219bf9adfa']}]"
      ]
     },
     "execution_count": 144,
     "metadata": {},
     "output_type": "execute_result"
    }
   ],
   "source": [
    "json_result[1]"
   ]
  },
  {
   "cell_type": "code",
   "execution_count": 145,
   "id": "9e40c0e3",
   "metadata": {},
   "outputs": [
    {
     "data": {
      "text/plain": [
       "[{'Edge': [{'CategoryToElement': {'id': '553306b3-1a62-4c1d-94df-082f1a100e42',\n",
       "     'enabled': True}},\n",
       "   '069983d0-d08b-405b-b816-d28ca9648956',\n",
       "   '02c3e303-a443-4f02-9927-e43519227ade']}]"
      ]
     },
     "execution_count": 145,
     "metadata": {},
     "output_type": "execute_result"
    }
   ],
   "source": [
    "json_result[2]"
   ]
  },
  {
   "cell_type": "code",
   "execution_count": 146,
   "id": "7a26a469",
   "metadata": {},
   "outputs": [
    {
     "data": {
      "text/plain": [
       "[{'Edge': [{'CategoryToConstruction': {'id': 'aac0eb1d-e0b7-4858-bc82-09e8122a4d02',\n",
       "     'layers': [1]}},\n",
       "   '069983d0-d08b-405b-b816-d28ca9648956',\n",
       "   'd8510d65-e0ea-4a47-a983-4132d03e99b4']},\n",
       " {'Edge': [{'CategoryToConstruction': {'id': 'f924215a-521e-4685-bce1-a0dfe3a99105',\n",
       "     'layers': [1]}},\n",
       "   '069983d0-d08b-405b-b816-d28ca9648956',\n",
       "   '28e953cb-2ea4-437c-8d68-d74d97098c6a']}]"
      ]
     },
     "execution_count": 146,
     "metadata": {},
     "output_type": "execute_result"
    }
   ],
   "source": [
    "json_result[3]"
   ]
  },
  {
   "cell_type": "code",
   "execution_count": 147,
   "id": "296826c2",
   "metadata": {},
   "outputs": [],
   "source": [
    "json_array_elements = []\n",
    "json_array_constructions = []\n",
    "json_array_element_category_edges = []\n",
    "json_array_constructions_extra = []"
   ]
  },
  {
   "cell_type": "code",
   "execution_count": 148,
   "id": "ecd248f1",
   "metadata": {},
   "outputs": [
    {
     "name": "stdout",
     "output_type": "stream",
     "text": [
      "0\n",
      "1\n"
     ]
    }
   ],
   "source": [
    "json_result = create_lcabyg_element(amount_list, name_list)\n",
    "json_array_elements = add_things_json_list(json_array_elements, json_result[0])\n",
    "json_array_constructions = add_things_json_list(json_array_constructions, json_result[1])\n",
    "json_array_element_category_edges = add_things_json_list(json_array_element_category_edges, json_result[2])\n",
    "json_array_constructions_extra = add_things_json_list(json_array_constructions_extra, json_result[3])"
   ]
  },
  {
   "cell_type": "code",
   "execution_count": null,
   "id": "38ce50e3",
   "metadata": {},
   "outputs": [],
   "source": []
  },
  {
   "cell_type": "code",
   "execution_count": null,
   "id": "03b33ebb",
   "metadata": {},
   "outputs": [],
   "source": []
  },
  {
   "cell_type": "code",
   "execution_count": 149,
   "id": "f9b1b8f8",
   "metadata": {},
   "outputs": [
    {
     "data": {
      "text/plain": [
       "[{'Node': {'Element': {'id': '02c3e303-a443-4f02-9927-e43519227ade',\n",
       "    'name': {'Danish': 'Test bygningsdel', 'English': '', 'German': ''},\n",
       "    'source': 'User',\n",
       "    'comment': 'Created by IFC-LCABYG-Importer',\n",
       "    'enabled': True,\n",
       "    'active': True}}},\n",
       " {'Edge': [{'ElementToConstruction': {'id': 'f89cae48-6c47-4106-ba5f-ed130bbf9f42',\n",
       "     'amount': 123,\n",
       "     'enabled': True}},\n",
       "   '02c3e303-a443-4f02-9927-e43519227ade',\n",
       "   'ad51ce8e-2896-431d-a31e-95f8f14a9d01']},\n",
       " {'Edge': [{'ElementToConstruction': {'id': '0e8d5fa2-b653-49ab-b05f-27848a2ea4c1',\n",
       "     'amount': 234,\n",
       "     'enabled': True}},\n",
       "   '02c3e303-a443-4f02-9927-e43519227ade',\n",
       "   'e79c4c04-8d6a-49c3-8714-b68d3277fd3f']}]"
      ]
     },
     "execution_count": 149,
     "metadata": {},
     "output_type": "execute_result"
    }
   ],
   "source": [
    "json_array_elements"
   ]
  },
  {
   "cell_type": "code",
   "execution_count": 150,
   "id": "d8f2f32a",
   "metadata": {},
   "outputs": [
    {
     "data": {
      "text/plain": [
       "[{'Node': {'Construction': {'id': 'ad51ce8e-2896-431d-a31e-95f8f14a9d01',\n",
       "    'name': {'Danish': 'test_1', 'English': 'Test construction'},\n",
       "    'unit': 'M2',\n",
       "    'source': 'User',\n",
       "    'comment': 'Testing',\n",
       "    'layer': 1,\n",
       "    'locked': True}}},\n",
       " {'Edge': [{'ConstructionToProduct': {'id': 'e5b76a57-d513-44f7-9320-297efc0ec6cc',\n",
       "     'amount': 1,\n",
       "     'unit': 'M2',\n",
       "     'lifespan': 50,\n",
       "     'demolition': False,\n",
       "     'enabled': True,\n",
       "     'delayed_start': 0}},\n",
       "   'ad51ce8e-2896-431d-a31e-95f8f14a9d01',\n",
       "   '51bcec85-9105-4946-8a8a-51219bf9adfa']},\n",
       " {'Node': {'Construction': {'id': 'e79c4c04-8d6a-49c3-8714-b68d3277fd3f',\n",
       "    'name': {'Danish': 'test_2', 'English': 'Test construction'},\n",
       "    'unit': 'M2',\n",
       "    'source': 'User',\n",
       "    'comment': 'Testing',\n",
       "    'layer': 1,\n",
       "    'locked': True}}},\n",
       " {'Edge': [{'ConstructionToProduct': {'id': 'd5da0b3d-1815-4c20-9fc8-2414e1b2bfe5',\n",
       "     'amount': 1,\n",
       "     'unit': 'M2',\n",
       "     'lifespan': 50,\n",
       "     'demolition': False,\n",
       "     'enabled': True,\n",
       "     'delayed_start': 0}},\n",
       "   'e79c4c04-8d6a-49c3-8714-b68d3277fd3f',\n",
       "   '51bcec85-9105-4946-8a8a-51219bf9adfa']}]"
      ]
     },
     "execution_count": 150,
     "metadata": {},
     "output_type": "execute_result"
    }
   ],
   "source": [
    "json_array_constructions"
   ]
  },
  {
   "cell_type": "code",
   "execution_count": 151,
   "id": "80a91e20",
   "metadata": {},
   "outputs": [],
   "source": [
    "## YOU SHOULD ONLY CREATE ANOTHER NODE IF ITS DIFFERENT!!!\n",
    "## IF ONE ELEMENT NODE LEADS TO TWO COSNTRUCTIONS then 2 EDGES!!!!"
   ]
  },
  {
   "cell_type": "code",
   "execution_count": 221,
   "id": "9ac6720f",
   "metadata": {},
   "outputs": [],
   "source": [
    "with open('lcabyg_example/elements.json', 'w') as outfile:\n",
    "    json.dump(json_array_elements, outfile,indent=4)\n",
    "with open('lcabyg_example/constructions.json', 'w') as outfile:\n",
    "    json.dump(json_array_constructions, outfile,indent=4)\n",
    "with open('lcabyg_example/construction_category_edges.json', 'w') as outfile:\n",
    "    json.dump(json_array_element_category_edges, outfile,indent=4)\n",
    "with open('lcabyg_example/constructions_extra.json', 'w') as outfile:\n",
    "    json.dump(json_array_constructions_extra, outfile,indent=4)"
   ]
  },
  {
   "cell_type": "code",
   "execution_count": 222,
   "id": "15c3738f",
   "metadata": {},
   "outputs": [],
   "source": []
  },
  {
   "cell_type": "code",
   "execution_count": 223,
   "id": "761389e9",
   "metadata": {},
   "outputs": [],
   "source": []
  },
  {
   "cell_type": "code",
   "execution_count": 224,
   "id": "7e8127e9",
   "metadata": {},
   "outputs": [],
   "source": []
  },
  {
   "cell_type": "code",
   "execution_count": null,
   "id": "af1bde10",
   "metadata": {},
   "outputs": [],
   "source": []
  },
  {
   "cell_type": "code",
   "execution_count": null,
   "id": "280eb972",
   "metadata": {},
   "outputs": [],
   "source": [
    "with open('lcabyg_example/elements.json', 'w') as outfile:\n",
    "    json.dump(json_result[0], outfile,indent=4)"
   ]
  },
  {
   "cell_type": "code",
   "execution_count": null,
   "id": "f04feec6",
   "metadata": {},
   "outputs": [],
   "source": [
    "with open('lcabyg_example/constructions.json', 'w') as outfile:\n",
    "    json.dump(json_result[1], outfile,indent=4)"
   ]
  },
  {
   "cell_type": "code",
   "execution_count": null,
   "id": "81ee60b4",
   "metadata": {},
   "outputs": [],
   "source": [
    "with open('lcabyg_example/construction_category_edges.json', 'w') as outfile:\n",
    "    json.dump(json_result[2], outfile,indent=4)"
   ]
  },
  {
   "cell_type": "code",
   "execution_count": null,
   "id": "4553b8c3",
   "metadata": {},
   "outputs": [],
   "source": [
    "with open('lcabyg_example/constructions_extra.json', 'w') as outfile:\n",
    "    json.dump(json_result[3], outfile,indent=4)"
   ]
  },
  {
   "cell_type": "code",
   "execution_count": null,
   "id": "40dcff57",
   "metadata": {},
   "outputs": [],
   "source": []
  },
  {
   "cell_type": "code",
   "execution_count": null,
   "id": "214ffdf4",
   "metadata": {},
   "outputs": [],
   "source": [
    "with open('lcabyg_example/elements.json', 'w') as outfile:\n",
    "    json.dump(json_result[0], outfile,indent=4)"
   ]
  },
  {
   "cell_type": "code",
   "execution_count": null,
   "id": "0e0c9d3a",
   "metadata": {},
   "outputs": [],
   "source": []
  },
  {
   "cell_type": "code",
   "execution_count": null,
   "id": "6ed51048",
   "metadata": {},
   "outputs": [],
   "source": [
    "#create 3 walls"
   ]
  },
  {
   "cell_type": "code",
   "execution_count": null,
   "id": "ee77114c",
   "metadata": {},
   "outputs": [],
   "source": []
  },
  {
   "cell_type": "code",
   "execution_count": null,
   "id": "ef79c7b2",
   "metadata": {},
   "outputs": [],
   "source": []
  },
  {
   "cell_type": "code",
   "execution_count": null,
   "id": "9a74138b",
   "metadata": {},
   "outputs": [],
   "source": []
  },
  {
   "cell_type": "code",
   "execution_count": 156,
   "id": "7573c994",
   "metadata": {},
   "outputs": [],
   "source": [
    "# IFC Parser\n",
    "# Based on:\n",
    "# https://thinkmoult.com/using-ifcopenshell-parse-ifc-files-python.html\n",
    "# https://github.com/johannesmichael/ifc-python/blob/master/modules/ifc_pset_utils.py\n",
    "# https://www.kaggle.com/code/ponybiam/introduction-to-ifcopenshell-functions/notebook\n",
    "# https://blenderbim.org/docs-python/ifcopenshell-python/hello_world.html\n",
    "\n",
    "import ifcopenshell\n",
    "import ifcHelper \n",
    "import pandas as pd\n",
    "import numpy as np"
   ]
  },
  {
   "cell_type": "code",
   "execution_count": 157,
   "id": "1549ea63",
   "metadata": {},
   "outputs": [
    {
     "name": "stdout",
     "output_type": "stream",
     "text": [
      "File loaded successfully\n"
     ]
    }
   ],
   "source": [
    "try:\n",
    "  ifc_file = ifcopenshell.open('ifc_test_file.ifc')\n",
    "  print(\"File loaded successfully\")\n",
    "except:\n",
    "  print(\"An exception occurred\")\n",
    "\n"
   ]
  },
  {
   "cell_type": "code",
   "execution_count": 158,
   "id": "60ab6301",
   "metadata": {},
   "outputs": [],
   "source": [
    "## Get all walls by_type: IfcWall\n",
    "##\n",
    "walls = ifc_file.by_type('IfcWall')"
   ]
  },
  {
   "cell_type": "code",
   "execution_count": 159,
   "id": "999d85dc",
   "metadata": {},
   "outputs": [],
   "source": [
    "walls_volumes = list()\n",
    "walls_thickness = list()\n",
    "walls_areas = list()\n",
    "walls_types = list()\n",
    "for i in range(len(walls)):\n",
    "    quantities = ifcHelper.get_quantity_single_value(ifcHelper.get_related_quantities(walls[i])[0])\n",
    "    walls_volumes.append(quantities['NetVolume'])\n",
    "    walls_thickness.append(quantities['Width']/1000)\n",
    "    walls_areas.append(walls_volumes[i]/walls_thickness[i])\n",
    "    walls_types.append(walls[i].ObjectType)\n",
    "    \n",
    "## Get volumes, thickness and calculate areas\n",
    "## Get wall types"
   ]
  },
  {
   "cell_type": "code",
   "execution_count": 209,
   "id": "28cdcbcb",
   "metadata": {},
   "outputs": [],
   "source": [
    "d = {'Type':walls_types,'Area':walls_areas}\n",
    "wall_df = pd.DataFrame(d)\n",
    "wall_types_sum = wall_df.groupby('Type')['Area'].sum().reset_index()"
   ]
  },
  {
   "cell_type": "code",
   "execution_count": 210,
   "id": "6025f943",
   "metadata": {},
   "outputs": [],
   "source": [
    "wall_types_sum_df = pd.DataFrame(wall_types_sum)"
   ]
  },
  {
   "cell_type": "code",
   "execution_count": 211,
   "id": "de0ae873",
   "metadata": {},
   "outputs": [
    {
     "data": {
      "text/html": [
       "<div>\n",
       "<style scoped>\n",
       "    .dataframe tbody tr th:only-of-type {\n",
       "        vertical-align: middle;\n",
       "    }\n",
       "\n",
       "    .dataframe tbody tr th {\n",
       "        vertical-align: top;\n",
       "    }\n",
       "\n",
       "    .dataframe thead th {\n",
       "        text-align: right;\n",
       "    }\n",
       "</style>\n",
       "<table border=\"1\" class=\"dataframe\">\n",
       "  <thead>\n",
       "    <tr style=\"text-align: right;\">\n",
       "      <th></th>\n",
       "      <th>Type</th>\n",
       "      <th>Area</th>\n",
       "    </tr>\n",
       "  </thead>\n",
       "  <tbody>\n",
       "    <tr>\n",
       "      <th>0</th>\n",
       "      <td>Basic Wall:Z01</td>\n",
       "      <td>323.497947</td>\n",
       "    </tr>\n",
       "    <tr>\n",
       "      <th>1</th>\n",
       "      <td>Basic Wall:Z02</td>\n",
       "      <td>229.437074</td>\n",
       "    </tr>\n",
       "  </tbody>\n",
       "</table>\n",
       "</div>"
      ],
      "text/plain": [
       "             Type        Area\n",
       "0  Basic Wall:Z01  323.497947\n",
       "1  Basic Wall:Z02  229.437074"
      ]
     },
     "execution_count": 211,
     "metadata": {},
     "output_type": "execute_result"
    }
   ],
   "source": [
    "wall_types_sum_df"
   ]
  },
  {
   "cell_type": "code",
   "execution_count": 216,
   "id": "e3b82788",
   "metadata": {},
   "outputs": [
    {
     "data": {
      "text/plain": [
       "0    Basic Wall:Z01\n",
       "1    Basic Wall:Z02\n",
       "Name: Type, dtype: object"
      ]
     },
     "execution_count": 216,
     "metadata": {},
     "output_type": "execute_result"
    }
   ],
   "source": [
    "wall_types_sum_df['Type']"
   ]
  },
  {
   "cell_type": "code",
   "execution_count": 217,
   "id": "fae4d03a",
   "metadata": {},
   "outputs": [
    {
     "data": {
      "text/plain": [
       "0    323.497947\n",
       "1    229.437074\n",
       "Name: Area, dtype: float64"
      ]
     },
     "execution_count": 217,
     "metadata": {},
     "output_type": "execute_result"
    }
   ],
   "source": [
    "wall_types_sum_df['Area']"
   ]
  },
  {
   "cell_type": "code",
   "execution_count": 218,
   "id": "ddb6e386",
   "metadata": {},
   "outputs": [
    {
     "data": {
      "text/plain": [
       "323.4979465328056"
      ]
     },
     "execution_count": 218,
     "metadata": {},
     "output_type": "execute_result"
    }
   ],
   "source": [
    "wall_types_sum_df['Area']\n"
   ]
  },
  {
   "cell_type": "code",
   "execution_count": 226,
   "id": "1f50c065",
   "metadata": {},
   "outputs": [
    {
     "name": "stdout",
     "output_type": "stream",
     "text": [
      "323.4979465328056\n",
      "229.43707388177322\n"
     ]
    }
   ],
   "source": [
    "for n in wall_types_sum_df['Area']:\n",
    "        print (n)"
   ]
  },
  {
   "cell_type": "code",
   "execution_count": 237,
   "id": "97d9adde",
   "metadata": {},
   "outputs": [],
   "source": [
    "json_array_elements = []\n",
    "json_array_constructions = []\n",
    "json_array_element_category_edges = []\n",
    "json_array_constructions_extra = []"
   ]
  },
  {
   "cell_type": "code",
   "execution_count": 238,
   "id": "a89e8328",
   "metadata": {},
   "outputs": [
    {
     "name": "stdout",
     "output_type": "stream",
     "text": [
      "0\n",
      "1\n"
     ]
    }
   ],
   "source": [
    "json_result = create_lcabyg_element(wall_types_sum_df['Area'], wall_types_sum_df['Type'])\n",
    "json_array_elements = add_things_json_list(json_array_elements, json_result[0])\n",
    "json_array_constructions = add_things_json_list(json_array_constructions, json_result[1])\n",
    "json_array_element_category_edges = add_things_json_list(json_array_element_category_edges, json_result[2])\n",
    "json_array_constructions_extra = add_things_json_list(json_array_constructions_extra, json_result[3])"
   ]
  },
  {
   "cell_type": "code",
   "execution_count": 240,
   "id": "b3e5e014",
   "metadata": {},
   "outputs": [],
   "source": [
    "with open('lcabyg_example/elements.json', 'w') as outfile:\n",
    "    json.dump(json_array_elements, outfile,indent=4)\n",
    "with open('lcabyg_example/constructions.json', 'w') as outfile:\n",
    "    json.dump(json_array_constructions, outfile,indent=4)\n",
    "with open('lcabyg_example/construction_category_edges.json', 'w') as outfile:\n",
    "    json.dump(json_array_element_category_edges, outfile,indent=4)\n",
    "with open('lcabyg_example/constructions_extra.json', 'w') as outfile:\n",
    "    json.dump(json_array_constructions_extra, outfile,indent=4)"
   ]
  },
  {
   "cell_type": "code",
   "execution_count": 239,
   "id": "65ff6a2c",
   "metadata": {},
   "outputs": [
    {
     "data": {
      "text/plain": [
       "[{'Node': {'Element': {'id': '02c3e303-a443-4f02-9927-e43519227ade',\n",
       "    'name': {'Danish': 'Test bygningsdel', 'English': '', 'German': ''},\n",
       "    'source': 'User',\n",
       "    'comment': 'Created by IFC-LCABYG-Importer',\n",
       "    'enabled': True,\n",
       "    'active': True}}},\n",
       " {'Edge': [{'ElementToConstruction': {'id': '31f8922c-b20d-4123-99bd-de2059dac1ae',\n",
       "     'amount': 323.4979465328056,\n",
       "     'enabled': True}},\n",
       "   '02c3e303-a443-4f02-9927-e43519227ade',\n",
       "   'b0048c4f-22aa-4160-ba50-8116bd16e3de']},\n",
       " {'Edge': [{'ElementToConstruction': {'id': '0c4f4768-f99f-456b-9bb7-8ae0c08f5f5e',\n",
       "     'amount': 229.43707388177322,\n",
       "     'enabled': True}},\n",
       "   '02c3e303-a443-4f02-9927-e43519227ade',\n",
       "   'af8c91d5-2940-44ab-ba86-4cac683cb1ef']}]"
      ]
     },
     "execution_count": 239,
     "metadata": {},
     "output_type": "execute_result"
    }
   ],
   "source": [
    "json_array_elements"
   ]
  },
  {
   "cell_type": "code",
   "execution_count": 220,
   "id": "8a25fc5e",
   "metadata": {},
   "outputs": [
    {
     "data": {
      "text/plain": [
       "([{'Node': {'Element': {'id': '02c3e303-a443-4f02-9927-e43519227ade',\n",
       "     'name': {'Danish': 'Test bygningsdel', 'English': '', 'German': ''},\n",
       "     'source': 'User',\n",
       "     'comment': 'Created by IFC-LCABYG-Importer',\n",
       "     'enabled': True,\n",
       "     'active': True}}},\n",
       "  {'Edge': [{'ElementToConstruction': {'id': '4a5eb4f1-f06d-4b09-81cf-b27790b60561',\n",
       "      'amount': 323.4979465328056,\n",
       "      'enabled': True}},\n",
       "    '02c3e303-a443-4f02-9927-e43519227ade',\n",
       "    'f7b86e72-ce60-4e76-be45-172c18e81b59']},\n",
       "  {'Edge': [{'ElementToConstruction': {'id': '5cbeddb3-9172-4f0f-86c5-b555813d87b7',\n",
       "      'amount': 229.43707388177322,\n",
       "      'enabled': True}},\n",
       "    '02c3e303-a443-4f02-9927-e43519227ade',\n",
       "    '66a19ea6-f1c8-465f-8dd9-d947a8af8850']}],\n",
       " [{'Node': {'Construction': {'id': 'f7b86e72-ce60-4e76-be45-172c18e81b59',\n",
       "     'name': {'Danish': 'Basic Wall:Z01', 'English': 'Test construction'},\n",
       "     'unit': 'M2',\n",
       "     'source': 'User',\n",
       "     'comment': 'Testing',\n",
       "     'layer': 1,\n",
       "     'locked': True}}},\n",
       "  {'Edge': [{'ConstructionToProduct': {'id': '59daaef3-77d6-4c1b-a91c-004df360f5ea',\n",
       "      'amount': 1,\n",
       "      'unit': 'M2',\n",
       "      'lifespan': 50,\n",
       "      'demolition': False,\n",
       "      'enabled': True,\n",
       "      'delayed_start': 0}},\n",
       "    'f7b86e72-ce60-4e76-be45-172c18e81b59',\n",
       "    '51bcec85-9105-4946-8a8a-51219bf9adfa']},\n",
       "  {'Node': {'Construction': {'id': '66a19ea6-f1c8-465f-8dd9-d947a8af8850',\n",
       "     'name': {'Danish': 'Basic Wall:Z02', 'English': 'Test construction'},\n",
       "     'unit': 'M2',\n",
       "     'source': 'User',\n",
       "     'comment': 'Testing',\n",
       "     'layer': 1,\n",
       "     'locked': True}}},\n",
       "  {'Edge': [{'ConstructionToProduct': {'id': 'b7dcbd91-a417-482d-8303-350e3e24472a',\n",
       "      'amount': 1,\n",
       "      'unit': 'M2',\n",
       "      'lifespan': 50,\n",
       "      'demolition': False,\n",
       "      'enabled': True,\n",
       "      'delayed_start': 0}},\n",
       "    '66a19ea6-f1c8-465f-8dd9-d947a8af8850',\n",
       "    '51bcec85-9105-4946-8a8a-51219bf9adfa']}],\n",
       " [{'Edge': [{'CategoryToElement': {'id': '6b2b8fba-3914-46b3-8e97-6c6a150b2e2d',\n",
       "      'enabled': True}},\n",
       "    '069983d0-d08b-405b-b816-d28ca9648956',\n",
       "    '02c3e303-a443-4f02-9927-e43519227ade']}],\n",
       " [{'Edge': [{'CategoryToConstruction': {'id': '42b8a9e6-8187-422c-a3e8-1937832a000e',\n",
       "      'layers': [1]}},\n",
       "    '069983d0-d08b-405b-b816-d28ca9648956',\n",
       "    'f7b86e72-ce60-4e76-be45-172c18e81b59']},\n",
       "  {'Edge': [{'CategoryToConstruction': {'id': 'e1fb762e-ec00-442b-9713-1cbcaf49af3a',\n",
       "      'layers': [1]}},\n",
       "    '069983d0-d08b-405b-b816-d28ca9648956',\n",
       "    '66a19ea6-f1c8-465f-8dd9-d947a8af8850']}])"
      ]
     },
     "execution_count": 220,
     "metadata": {},
     "output_type": "execute_result"
    }
   ],
   "source": [
    "json_result"
   ]
  },
  {
   "cell_type": "code",
   "execution_count": null,
   "id": "721616b2",
   "metadata": {},
   "outputs": [],
   "source": []
  }
 ],
 "metadata": {
  "kernelspec": {
   "display_name": "Python 3",
   "language": "python",
   "name": "python3"
  },
  "language_info": {
   "codemirror_mode": {
    "name": "ipython",
    "version": 3
   },
   "file_extension": ".py",
   "mimetype": "text/x-python",
   "name": "python",
   "nbconvert_exporter": "python",
   "pygments_lexer": "ipython3",
   "version": "3.7.6"
  }
 },
 "nbformat": 4,
 "nbformat_minor": 5
}
