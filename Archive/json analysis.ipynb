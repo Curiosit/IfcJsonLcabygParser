{
 "cells": [
  {
   "cell_type": "code",
   "execution_count": 1,
   "id": "3a167188",
   "metadata": {},
   "outputs": [],
   "source": [
    "# Json Scheme"
   ]
  },
  {
   "cell_type": "code",
   "execution_count": 9,
   "id": "605710c9",
   "metadata": {},
   "outputs": [],
   "source": [
    "# General look of EDGES"
   ]
  },
  {
   "cell_type": "code",
   "execution_count": null,
   "id": "5a95d9fd",
   "metadata": {},
   "outputs": [],
   "source": [
    "# Building.json\n",
    "# id: 6d766aa5-50aa-4005-ab35-29f2fb82ddad"
   ]
  },
  {
   "cell_type": "code",
   "execution_count": 10,
   "id": "1c5d38ef",
   "metadata": {},
   "outputs": [
    {
     "ename": "SyntaxError",
     "evalue": "illegal target for annotation (<ipython-input-10-c01a7ff21903>, line 1)",
     "output_type": "error",
     "traceback": [
      "\u001b[1;36m  File \u001b[1;32m\"<ipython-input-10-c01a7ff21903>\"\u001b[1;36m, line \u001b[1;32m1\u001b[0m\n\u001b[1;33m    \"Edge\": [\u001b[0m\n\u001b[1;37m             ^\u001b[0m\n\u001b[1;31mSyntaxError\u001b[0m\u001b[1;31m:\u001b[0m illegal target for annotation\n"
     ]
    }
   ],
   "source": [
    "    {\n",
    "        \"Edge\": [\n",
    "            {\n",
    "                \"MainBuilding\": \"15867192-86b7-40a8-9936-83d9e998516d\"\n",
    "            },\n",
    "            \"e9e6e798-390e-4419-a1fa-3b46a8ba5b8d\",\n",
    "            \"6d766aa5-50aa-4005-ab35-29f2fb82ddad\"\n",
    "        ]\n",
    "    },\n",
    "    {\n",
    "        \"Edge\": [\n",
    "            {\n",
    "                \"BuildingToRoot\": \"bc35b94d-b8c0-4b8c-9bf3-3f63acc94063\"\n",
    "            },\n",
    "            \"6d766aa5-50aa-4005-ab35-29f2fb82ddad\",\n",
    "            \"216cf5d6-3e9d-43ec-b0d8-5aee02240c28\"\n",
    "        ]\n",
    "    },\n",
    "    \n",
    "    \n",
    "    \"Edge\": [\n",
    "            {\n",
    "                \"MainBuilding\": \"15867192-86b7-40a8-9936-83d9e998516d\" #ONLY USAGE OF THIS ID\n",
    "            },\n",
    "            \"e9e6e798-390e-4419-a1fa-3b46a8ba5b8d\", # TO (PROJECT.JSON)\n",
    "            \"6d766aa5-50aa-4005-ab35-29f2fb82ddad\" # FROM (BUILDING.JSON)\n",
    "        ]"
   ]
  },
  {
   "cell_type": "code",
   "execution_count": null,
   "id": "b043ad80",
   "metadata": {},
   "outputs": [],
   "source": [
    "\n",
    "# \n",
    "# ----\n",
    "# edge from category (element_category_edges)\n",
    "# to element\n",
    "# ----\n",
    "#\n",
    "# elements\n",
    "# ----\n",
    "# edge from this\n",
    "# to construction\n",
    "# ----\n",
    "#\n",
    "# construction\n",
    "# ----\n",
    "# edge from this\n",
    "# to product\n",
    "# ----\n",
    "#\n",
    "#product\n",
    "# ----\n",
    "# edge from this\n",
    "# to product\n",
    "# ----\n",
    "#\n",
    "# PRODUCT CAN BE A DEFAULT\n"
   ]
  },
  {
   "cell_type": "code",
   "execution_count": null,
   "id": "6af9eeab",
   "metadata": {},
   "outputs": [],
   "source": [
    "element_category_edges.json"
   ]
  },
  {
   "cell_type": "code",
   "execution_count": null,
   "id": "5e857f1e",
   "metadata": {},
   "outputs": [],
   "source": [
    "[\n",
    "\t{\n",
    "        \"Edge\": [\n",
    "            {\n",
    "                \"CategoryToElement\": {\n",
    "                    \"id\": \"479c5e5a-b173-4c07-bfbd-0cedff55888b\",\n",
    "                    \"enabled\": true\n",
    "                }\n",
    "            },\n",
    "            \"069983d0-d08b-405b-b816-d28ca9648956\", ## FROM THIS & FROM constructions_extra\n",
    "            \"02c3e303-a443-4f02-9927-e43519227ade\" ## TO ELEMENT ID\n",
    "        ]\n",
    "    }\n",
    "]"
   ]
  },
  {
   "cell_type": "code",
   "execution_count": null,
   "id": "6000b4a9",
   "metadata": {},
   "outputs": [],
   "source": [
    "cosntructions_extra.json"
   ]
  },
  {
   "cell_type": "code",
   "execution_count": null,
   "id": "9d0871b3",
   "metadata": {},
   "outputs": [],
   "source": [
    "[\n",
    "    {\n",
    "        \"Edge\": [\n",
    "            {\n",
    "                \"CategoryToConstruction\": {\n",
    "                    \"id\": \"8cef6e2a-ad53-4450-9c6f-7a24eb9fcf16\",\n",
    "                    \"layers\": [\n",
    "                        1\n",
    "                    ]\n",
    "                }\n",
    "            },\n",
    "            \"069983d0-d08b-405b-b816-d28ca9648956\", ## FROM THIS & FROM constructions_extra\n",
    "            \"c6f24e0f-020a-4f0f-93c6-65beb50bd798\"  ## TO COSNTRUCTION ID\n",
    "        ]\n",
    "    }\n",
    "]"
   ]
  },
  {
   "cell_type": "code",
   "execution_count": null,
   "id": "30fb652e",
   "metadata": {},
   "outputs": [],
   "source": [
    "# elements.json\n"
   ]
  },
  {
   "cell_type": "code",
   "execution_count": null,
   "id": "d1484864",
   "metadata": {},
   "outputs": [],
   "source": [
    "[\n",
    "    {\n",
    "        \"Node\": {\n",
    "            \"Element\": {\n",
    "                \"id\": \"02c3e303-a443-4f02-9927-e43519227ade\",\n",
    "                \"name\": {\n",
    "                    \"Danish\": \"Test bygningsdel\",\n",
    "                    \"English\": \"\",\n",
    "                    \"German\": \"\"\n",
    "                },\n",
    "                \"source\": \"User\",\n",
    "                \"comment\": \"\",\n",
    "                \"enabled\": true,\n",
    "                \"active\": true\n",
    "            }\n",
    "        }\n",
    "    },\n",
    "    {\n",
    "        \"Edge\": [\n",
    "            {\n",
    "                \"ElementToConstruction\": {\n",
    "                    \"id\": \"e66c3d76-eae6-4c6b-86f7-e9178bc8f804\", # UNIQUE ID\n",
    "                    \"amount\": 100,\n",
    "                    \"enabled\": true\n",
    "                }\n",
    "            },\n",
    "            \"02c3e303-a443-4f02-9927-e43519227ade\", # FROM THIS (ELEMENT)\n",
    "            \"c6f24e0f-020a-4f0f-93c6-65beb50bd798\" # TO CONSTRUCTION\n",
    "        ]\n",
    "    }\n",
    "]"
   ]
  },
  {
   "cell_type": "code",
   "execution_count": null,
   "id": "fd76a6cc",
   "metadata": {},
   "outputs": [],
   "source": [
    "# constructions.json # KONSTRUKTIONER"
   ]
  },
  {
   "cell_type": "code",
   "execution_count": null,
   "id": "8bb7290a",
   "metadata": {},
   "outputs": [],
   "source": [
    "[\n",
    "    {\n",
    "        \"Node\": {\n",
    "            \"Construction\": {\n",
    "                \"id\": \"c6f24e0f-020a-4f0f-93c6-65beb50bd798\", # ID OF THIS CONSTRUCTION\n",
    "                \"name\": {\n",
    "                    \"Danish\": \"Test konstruktion\"\n",
    "                },\n",
    "                \"unit\": \"M2\",\n",
    "                \"source\": \"User\",\n",
    "                \"comment\": \"Testen består af en test\",\n",
    "                \"layer\": 1,\n",
    "                \"locked\": true\n",
    "            }\n",
    "        }\n",
    "    },\n",
    "\t{\n",
    "        \"Edge\": [\n",
    "            {\n",
    "                \"ConstructionToProduct\": {\n",
    "                    \"id\": \"65cc0492-7864-4598-9254-5f929379bae6\", # UNIQUE ID\n",
    "                    \"amount\": 1,\n",
    "                    \"unit\": \"M2\",\n",
    "                    \"lifespan\": 100,\n",
    "                    \"demolition\": false,\n",
    "                    \"enabled\": true,\n",
    "                    \"delayed_start\": 0\n",
    "                }\n",
    "            },\n",
    "            \"c6f24e0f-020a-4f0f-93c6-65beb50bd798\", # THIS (CONSTRUCTION)\n",
    "            \"51bcec85-9105-4946-8a8a-51219bf9adfa\" # TO PRODUCT\n",
    "        ]\n",
    "    }\n",
    "]"
   ]
  },
  {
   "cell_type": "code",
   "execution_count": null,
   "id": "1c977b4c",
   "metadata": {},
   "outputs": [],
   "source": [
    "# products.json # BYGGEVARE"
   ]
  },
  {
   "cell_type": "code",
   "execution_count": null,
   "id": "033b2484",
   "metadata": {},
   "outputs": [],
   "source": [
    "[\n",
    "    {\n",
    "        \"Node\": {\n",
    "            \"Product\": {\n",
    "                \"id\": \"51bcec85-9105-4946-8a8a-51219bf9adfa\", # ID OF THIS PRODUCT\n",
    "                \"name\": {\n",
    "                    \"Danish\": \"Test byggevare\",\n",
    "                    \"English\": \"Test product\",\n",
    "                    \"German\": \"\"\n",
    "                },\n",
    "                \"source\": \"User\",\n",
    "                \"comment\": \"\",\n",
    "                \"locked\": true\n",
    "            }\n",
    "        }\n",
    "    },\n",
    "\t{\n",
    "        \"Edge\": [\n",
    "            {\n",
    "                \"ProductToStage\": {\n",
    "                    \"id\": \"b5fa60ba-c513-48a0-83e7-42258b2f8e5e\", # UNIQUE ID\n",
    "                    \"enabled\": true\n",
    "                }\n",
    "            },\n",
    "            \"51bcec85-9105-4946-8a8a-51219bf9adfa\", # FROM THIS\n",
    "            \"61a77bc8-bddb-4521-9862-e613e26a5661\" # TO STAGE, TO STAGES-CATEGORIES\n",
    "        ]\n",
    "    }\n",
    "]"
   ]
  },
  {
   "cell_type": "code",
   "execution_count": null,
   "id": "43a382dd",
   "metadata": {},
   "outputs": [],
   "source": []
  },
  {
   "cell_type": "code",
   "execution_count": 3,
   "id": "42c0fc8e",
   "metadata": {},
   "outputs": [],
   "source": []
  },
  {
   "cell_type": "code",
   "execution_count": 4,
   "id": "9dbbc3cd",
   "metadata": {},
   "outputs": [],
   "source": [
    "#"
   ]
  },
  {
   "cell_type": "code",
   "execution_count": 5,
   "id": "1aee5880",
   "metadata": {},
   "outputs": [],
   "source": [
    "#"
   ]
  },
  {
   "cell_type": "code",
   "execution_count": 6,
   "id": "af721f57",
   "metadata": {},
   "outputs": [],
   "source": [
    "#"
   ]
  },
  {
   "cell_type": "code",
   "execution_count": 7,
   "id": "3b026456",
   "metadata": {},
   "outputs": [],
   "source": [
    "#"
   ]
  },
  {
   "cell_type": "code",
   "execution_count": 8,
   "id": "a9294e58",
   "metadata": {},
   "outputs": [],
   "source": [
    "#"
   ]
  },
  {
   "cell_type": "code",
   "execution_count": null,
   "id": "5f163335",
   "metadata": {},
   "outputs": [],
   "source": []
  }
 ],
 "metadata": {
  "kernelspec": {
   "display_name": "Python 3",
   "language": "python",
   "name": "python3"
  },
  "language_info": {
   "codemirror_mode": {
    "name": "ipython",
    "version": 3
   },
   "file_extension": ".py",
   "mimetype": "text/x-python",
   "name": "python",
   "nbconvert_exporter": "python",
   "pygments_lexer": "ipython3",
   "version": "3.7.6"
  }
 },
 "nbformat": 4,
 "nbformat_minor": 5
}
