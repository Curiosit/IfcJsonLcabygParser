{
 "cells": [
  {
   "cell_type": "code",
   "execution_count": 279,
   "id": "f0a9eeb9",
   "metadata": {},
   "outputs": [],
   "source": [
    "import json\n",
    "import itertools\n",
    "import numpy as np"
   ]
  },
  {
   "cell_type": "code",
   "execution_count": 2,
   "id": "d05a323b",
   "metadata": {},
   "outputs": [],
   "source": [
    "## SOURCES:\n",
    "#\n",
    "# https://www.geeksforgeeks.org/read-json-file-using-python/\n",
    "#"
   ]
  },
  {
   "cell_type": "code",
   "execution_count": 3,
   "id": "1325f5f4",
   "metadata": {},
   "outputs": [],
   "source": [
    "import uuid #library for creating necessary unique object ids"
   ]
  },
  {
   "cell_type": "code",
   "execution_count": 4,
   "id": "3230b852",
   "metadata": {},
   "outputs": [],
   "source": [
    "with open('lcabyg_example/building.json', 'r') as f:\n",
    "  building_json = json.load(f)"
   ]
  },
  {
   "cell_type": "code",
   "execution_count": null,
   "id": "a3c4fc62",
   "metadata": {},
   "outputs": [],
   "source": []
  },
  {
   "cell_type": "code",
   "execution_count": 5,
   "id": "e9c92d4a",
   "metadata": {},
   "outputs": [],
   "source": [
    "with open('lcabyg_example/constructions.json', 'r') as f:\n",
    "  constructions_json = json.load(f)"
   ]
  },
  {
   "cell_type": "code",
   "execution_count": 6,
   "id": "158ed3dc",
   "metadata": {},
   "outputs": [
    {
     "data": {
      "text/plain": [
       "[{'Node': {'Building': {'id': '6d766aa5-50aa-4005-ab35-29f2fb82ddad',\n",
       "    'name': {'Danish': 'Test eksempel'},\n",
       "    'address': 'Testvej 1, 1111 Testby',\n",
       "    'owner': 'Test',\n",
       "    'description': '',\n",
       "    'building_type': 'Other',\n",
       "    'heated_floor_area': 0,\n",
       "    'gross_area': 0,\n",
       "    'gross_area_above_ground': 0,\n",
       "    'storeys_above_ground': 0,\n",
       "    'storeys_below_ground': 0,\n",
       "    'storey_height': 0,\n",
       "    'initial_year': 2015,\n",
       "    'calculation_timespan': 50,\n",
       "    'calculation_mode': 'SC',\n",
       "    'lca_advisor': 'Test',\n",
       "    'building_regulation_version': 'BR2018',\n",
       "    'plot_area': 0,\n",
       "    'outside_area': 0,\n",
       "    'energy_class': 'LowEnergy'}}},\n",
       " {'Edge': [{'MainBuilding': '15867192-86b7-40a8-9936-83d9e998516d'},\n",
       "   'e9e6e798-390e-4419-a1fa-3b46a8ba5b8d',\n",
       "   '6d766aa5-50aa-4005-ab35-29f2fb82ddad']},\n",
       " {'Edge': [{'BuildingToRoot': 'bc35b94d-b8c0-4b8c-9bf3-3f63acc94063'},\n",
       "   '6d766aa5-50aa-4005-ab35-29f2fb82ddad',\n",
       "   '216cf5d6-3e9d-43ec-b0d8-5aee02240c28']},\n",
       " {'Edge': [{'BuildingToOperation': '0c35b94d-b8a0-4bec-92f3-3463acc94064'},\n",
       "   '6d766aa5-50aa-4005-ab35-29f2fb82ddad',\n",
       "   '0338d31e-3876-440d-a88c-2daa2dd81942']}]"
      ]
     },
     "execution_count": 6,
     "metadata": {},
     "output_type": "execute_result"
    }
   ],
   "source": [
    "building_json"
   ]
  },
  {
   "cell_type": "markdown",
   "id": "394f17cf",
   "metadata": {},
   "source": [
    "## CREATE CONSTRUCTIONS JSON"
   ]
  },
  {
   "cell_type": "code",
   "execution_count": 7,
   "id": "496c8b88",
   "metadata": {
    "scrolled": true
   },
   "outputs": [
    {
     "data": {
      "text/plain": [
       "[{'Node': {'Construction': {'id': 'c6f24e0f-020a-4f0f-93c6-65beb50bd798',\n",
       "    'name': {'Danish': 'Test konstruktion'},\n",
       "    'unit': 'M2',\n",
       "    'source': 'User',\n",
       "    'comment': 'Testen bestĂĄr af en test',\n",
       "    'layer': 1,\n",
       "    'locked': True}}},\n",
       " {'Edge': [{'ConstructionToProduct': {'id': '65cc0492-7864-4598-9254-5f929379bae6',\n",
       "     'amount': 1,\n",
       "     'unit': 'M2',\n",
       "     'lifespan': 100,\n",
       "     'demolition': False,\n",
       "     'enabled': True,\n",
       "     'delayed_start': 0}},\n",
       "   'c6f24e0f-020a-4f0f-93c6-65beb50bd798',\n",
       "   '51bcec85-9105-4946-8a8a-51219bf9adfa']}]"
      ]
     },
     "execution_count": 7,
     "metadata": {},
     "output_type": "execute_result"
    }
   ],
   "source": [
    "constructions_json"
   ]
  },
  {
   "cell_type": "code",
   "execution_count": null,
   "id": "c1d1e33f",
   "metadata": {},
   "outputs": [],
   "source": []
  },
  {
   "cell_type": "code",
   "execution_count": 8,
   "id": "87e0be33",
   "metadata": {},
   "outputs": [],
   "source": [
    "c_id =  str(uuid.uuid4())"
   ]
  },
  {
   "cell_type": "code",
   "execution_count": 9,
   "id": "487aa58b",
   "metadata": {},
   "outputs": [
    {
     "data": {
      "text/plain": [
       "{'Node': {'Construction': {'id': 'c6f24e0f-020a-4f0f-93c6-65beb50bd798',\n",
       "   'name': {'Danish': 'Test konstruktion'},\n",
       "   'unit': 'M2',\n",
       "   'source': 'User',\n",
       "   'comment': 'Testen bestĂĄr af en test',\n",
       "   'layer': 1,\n",
       "   'locked': True}}}"
      ]
     },
     "execution_count": 9,
     "metadata": {},
     "output_type": "execute_result"
    }
   ],
   "source": [
    "constructions_json[0]"
   ]
  },
  {
   "cell_type": "code",
   "execution_count": 10,
   "id": "359f11e8",
   "metadata": {},
   "outputs": [],
   "source": [
    "json_array = []\n",
    "json_data = {}"
   ]
  },
  {
   "cell_type": "code",
   "execution_count": null,
   "id": "55548b03",
   "metadata": {},
   "outputs": [],
   "source": []
  },
  {
   "cell_type": "code",
   "execution_count": 11,
   "id": "d0c3d579",
   "metadata": {},
   "outputs": [],
   "source": [
    "def create_construction_node(construction):\n",
    "    node = {'Node': construction}\n",
    "    return node\n",
    "\n",
    "def create_construction(construction_set):\n",
    "    construction = {'Construction':construction_set}\n",
    "    return construction\n",
    "\n",
    "def create_construction_set(c_id):\n",
    "    \n",
    "    construction_set = {'id': c_id,  'name': {'Danish': 'Test konstruktion', 'English': 'Test construction'},'unit': 'M2', 'source': 'User','comment': 'Testing','layer': 1,'locked': True}\n",
    "    return construction_set\n"
   ]
  },
  {
   "cell_type": "code",
   "execution_count": 12,
   "id": "dcfb9c69",
   "metadata": {},
   "outputs": [],
   "source": [
    "construction_uuid = str(uuid.uuid4())\n",
    "construction = create_construction(create_construction_set(c_id))\n",
    "node = create_construction_node(construction)"
   ]
  },
  {
   "cell_type": "code",
   "execution_count": 13,
   "id": "a3677c9a",
   "metadata": {},
   "outputs": [
    {
     "data": {
      "text/plain": [
       "{'Node': {'Construction': {'id': '8d678130-3b00-45c9-9652-dea69105e2b5',\n",
       "   'name': {'Danish': 'Test konstruktion', 'English': 'Test construction'},\n",
       "   'unit': 'M2',\n",
       "   'source': 'User',\n",
       "   'comment': 'Testing',\n",
       "   'layer': 1,\n",
       "   'locked': True}}}"
      ]
     },
     "execution_count": 13,
     "metadata": {},
     "output_type": "execute_result"
    }
   ],
   "source": [
    "node"
   ]
  },
  {
   "cell_type": "code",
   "execution_count": 14,
   "id": "5155f9e3",
   "metadata": {},
   "outputs": [],
   "source": [
    "def create_edge(edge_data):\n",
    "    edge = {'Edge': edge_data}\n",
    "    return edge\n",
    "\n",
    "def create_edge_data(edge_details, construction_uuid, product_edge_uuid):\n",
    "    \n",
    "    edge_data = [{'ConstructionToProduct': edge_details}, construction_uuid, product_edge_uuid]\n",
    "    return edge_data\n",
    "\n",
    "def create_edge_details(amount):\n",
    "    e_id = str(uuid.uuid4())\n",
    "    edge_details = {'id': e_id,'amount': amount, 'unit': 'M2',     'lifespan': 50,     'demolition': False,     'enabled': True,     'delayed_start': 0}\n",
    "    return edge_details\n",
    "    "
   ]
  },
  {
   "cell_type": "code",
   "execution_count": 16,
   "id": "ae53820d",
   "metadata": {},
   "outputs": [],
   "source": [
    "\n",
    "#product_edge_uuid = str(uuid.uuid4())\n",
    "#edge = create_edge(create_edge_data(create_edge_details(1500), construction_uuid, e_id2))"
   ]
  },
  {
   "cell_type": "code",
   "execution_count": 17,
   "id": "05613578",
   "metadata": {},
   "outputs": [
    {
     "ename": "NameError",
     "evalue": "name 'edge' is not defined",
     "output_type": "error",
     "traceback": [
      "\u001b[1;31m---------------------------------------------------------------------------\u001b[0m",
      "\u001b[1;31mNameError\u001b[0m                                 Traceback (most recent call last)",
      "\u001b[1;32m<ipython-input-17-d6b42671abb4>\u001b[0m in \u001b[0;36m<module>\u001b[1;34m\u001b[0m\n\u001b[1;32m----> 1\u001b[1;33m \u001b[0medge\u001b[0m\u001b[1;33m\u001b[0m\u001b[1;33m\u001b[0m\u001b[0m\n\u001b[0m",
      "\u001b[1;31mNameError\u001b[0m: name 'edge' is not defined"
     ]
    }
   ],
   "source": [
    "edge"
   ]
  },
  {
   "cell_type": "code",
   "execution_count": 18,
   "id": "29519378",
   "metadata": {},
   "outputs": [
    {
     "data": {
      "text/plain": [
       "{'Node': {'Construction': {'id': '8d678130-3b00-45c9-9652-dea69105e2b5',\n",
       "   'name': {'Danish': 'Test konstruktion', 'English': 'Test construction'},\n",
       "   'unit': 'M2',\n",
       "   'source': 'User',\n",
       "   'comment': 'Testing',\n",
       "   'layer': 1,\n",
       "   'locked': True}}}"
      ]
     },
     "execution_count": 18,
     "metadata": {},
     "output_type": "execute_result"
    }
   ],
   "source": [
    "node"
   ]
  },
  {
   "cell_type": "code",
   "execution_count": 19,
   "id": "abe31b21",
   "metadata": {},
   "outputs": [],
   "source": [
    "json_data.update(node)"
   ]
  },
  {
   "cell_type": "code",
   "execution_count": 20,
   "id": "238d6996",
   "metadata": {},
   "outputs": [
    {
     "data": {
      "text/plain": [
       "{'Node': {'Construction': {'id': '8d678130-3b00-45c9-9652-dea69105e2b5',\n",
       "   'name': {'Danish': 'Test konstruktion', 'English': 'Test construction'},\n",
       "   'unit': 'M2',\n",
       "   'source': 'User',\n",
       "   'comment': 'Testing',\n",
       "   'layer': 1,\n",
       "   'locked': True}}}"
      ]
     },
     "execution_count": 20,
     "metadata": {},
     "output_type": "execute_result"
    }
   ],
   "source": [
    "json_data"
   ]
  },
  {
   "cell_type": "code",
   "execution_count": 21,
   "id": "8cf27f99",
   "metadata": {},
   "outputs": [
    {
     "ename": "NameError",
     "evalue": "name 'edge' is not defined",
     "output_type": "error",
     "traceback": [
      "\u001b[1;31m---------------------------------------------------------------------------\u001b[0m",
      "\u001b[1;31mNameError\u001b[0m                                 Traceback (most recent call last)",
      "\u001b[1;32m<ipython-input-21-4437fba0b54b>\u001b[0m in \u001b[0;36m<module>\u001b[1;34m\u001b[0m\n\u001b[1;32m----> 1\u001b[1;33m \u001b[0mjson_data\u001b[0m\u001b[1;33m.\u001b[0m\u001b[0mupdate\u001b[0m\u001b[1;33m(\u001b[0m\u001b[0medge\u001b[0m\u001b[1;33m)\u001b[0m\u001b[1;33m\u001b[0m\u001b[1;33m\u001b[0m\u001b[0m\n\u001b[0m",
      "\u001b[1;31mNameError\u001b[0m: name 'edge' is not defined"
     ]
    }
   ],
   "source": [
    "json_data.update(edge)"
   ]
  },
  {
   "cell_type": "code",
   "execution_count": 22,
   "id": "a33589ff",
   "metadata": {},
   "outputs": [
    {
     "data": {
      "text/plain": [
       "{'Node': {'Construction': {'id': '8d678130-3b00-45c9-9652-dea69105e2b5',\n",
       "   'name': {'Danish': 'Test konstruktion', 'English': 'Test construction'},\n",
       "   'unit': 'M2',\n",
       "   'source': 'User',\n",
       "   'comment': 'Testing',\n",
       "   'layer': 1,\n",
       "   'locked': True}}}"
      ]
     },
     "execution_count": 22,
     "metadata": {},
     "output_type": "execute_result"
    }
   ],
   "source": [
    "json_data"
   ]
  },
  {
   "cell_type": "code",
   "execution_count": 23,
   "id": "7a2f869d",
   "metadata": {},
   "outputs": [],
   "source": [
    "json_array = []"
   ]
  },
  {
   "cell_type": "code",
   "execution_count": 24,
   "id": "ba89b1c8",
   "metadata": {},
   "outputs": [],
   "source": [
    "json_array.append(node)"
   ]
  },
  {
   "cell_type": "code",
   "execution_count": 25,
   "id": "afe1aa4d",
   "metadata": {},
   "outputs": [
    {
     "ename": "NameError",
     "evalue": "name 'edge' is not defined",
     "output_type": "error",
     "traceback": [
      "\u001b[1;31m---------------------------------------------------------------------------\u001b[0m",
      "\u001b[1;31mNameError\u001b[0m                                 Traceback (most recent call last)",
      "\u001b[1;32m<ipython-input-25-8af8785c5f99>\u001b[0m in \u001b[0;36m<module>\u001b[1;34m\u001b[0m\n\u001b[1;32m----> 1\u001b[1;33m \u001b[0mjson_array\u001b[0m\u001b[1;33m.\u001b[0m\u001b[0mappend\u001b[0m\u001b[1;33m(\u001b[0m\u001b[0medge\u001b[0m\u001b[1;33m)\u001b[0m\u001b[1;33m\u001b[0m\u001b[1;33m\u001b[0m\u001b[0m\n\u001b[0m",
      "\u001b[1;31mNameError\u001b[0m: name 'edge' is not defined"
     ]
    }
   ],
   "source": [
    "json_array.append(edge)"
   ]
  },
  {
   "cell_type": "markdown",
   "id": "cdf70724",
   "metadata": {},
   "source": [
    "##### Write Json Array to file - constructions"
   ]
  },
  {
   "cell_type": "code",
   "execution_count": 26,
   "id": "9d2e4d71",
   "metadata": {},
   "outputs": [],
   "source": []
  },
  {
   "cell_type": "code",
   "execution_count": null,
   "id": "7d82eaa8",
   "metadata": {},
   "outputs": [],
   "source": []
  },
  {
   "cell_type": "code",
   "execution_count": null,
   "id": "c2814a12",
   "metadata": {},
   "outputs": [],
   "source": []
  },
  {
   "cell_type": "markdown",
   "id": "34d218fa",
   "metadata": {},
   "source": [
    "##### Elements.json"
   ]
  },
  {
   "cell_type": "code",
   "execution_count": null,
   "id": "c55cbe11",
   "metadata": {},
   "outputs": [],
   "source": []
  },
  {
   "cell_type": "code",
   "execution_count": 27,
   "id": "671a6860",
   "metadata": {},
   "outputs": [],
   "source": [
    "with open('lcabyg_example/elements.json', 'r') as f:\n",
    "  elements_json = json.load(f)"
   ]
  },
  {
   "cell_type": "code",
   "execution_count": 28,
   "id": "29e1f580",
   "metadata": {},
   "outputs": [
    {
     "data": {
      "text/plain": [
       "[{'Node': {'Element': {'id': '02c3e303-a443-4f02-9927-e43519227ade',\n",
       "    'name': {'Danish': 'Test bygningsdel', 'English': '', 'German': ''},\n",
       "    'source': 'User',\n",
       "    'comment': '',\n",
       "    'enabled': True,\n",
       "    'active': True}}},\n",
       " {'Edge': [{'ElementToConstruction': {'id': 'e66c3d76-eae6-4c6b-86f7-e9178bc8f804',\n",
       "     'amount': 100,\n",
       "     'enabled': True}},\n",
       "   '02c3e303-a443-4f02-9927-e43519227ade',\n",
       "   'c6f24e0f-020a-4f0f-93c6-65beb50bd798']}]"
      ]
     },
     "execution_count": 28,
     "metadata": {},
     "output_type": "execute_result"
    }
   ],
   "source": [
    "elements_json"
   ]
  },
  {
   "cell_type": "code",
   "execution_count": 29,
   "id": "875ce47d",
   "metadata": {},
   "outputs": [],
   "source": [
    "def create_edge_elements(edge_data):\n",
    "    edge = {'Edge': edge_data}\n",
    "    return edge\n",
    "\n",
    "def create_edge_data(edge_details, construction_uuid, product_edge_uuid):\n",
    "    \n",
    "    edge_data = [{'ConstructionToProduct': edge_details}, construction_uuid, product_edge_uuid]\n",
    "    return edge_data\n",
    "\n",
    "def create_edge_details(amount):\n",
    "    e_id = str(uuid.uuid4())\n",
    "    edge_details = {'id': e_id,'amount': amount, 'unit': 'M2',     'lifespan': 50,     'demolition': False,     'enabled': True,     'delayed_start': 0}\n",
    "    return edge_details\n",
    "    "
   ]
  },
  {
   "cell_type": "code",
   "execution_count": 46,
   "id": "217fdec8",
   "metadata": {},
   "outputs": [],
   "source": [
    "e_id = str(uuid.uuid4())\n",
    "c_id = str(uuid.uuid4())\n",
    "p_id = '51bcec85-9105-4946-8a8a-51219bf9adfa'"
   ]
  },
  {
   "cell_type": "code",
   "execution_count": 49,
   "id": "88a7e7ba",
   "metadata": {},
   "outputs": [],
   "source": [
    "def create_edge(edge_data):\n",
    "    edge = {'Edge': edge_data}\n",
    "    return edge\n",
    "\n",
    "def create_edge_data(edge_details, construction_uuid, product_edge_uuid):\n",
    "    \n",
    "    edge_data = [{'ConstructionToProduct': edge_details}, construction_uuid, product_edge_uuid]\n",
    "    return edge_data\n",
    "\n",
    "def create_edge_details(amount):\n",
    "    e_id = str(uuid.uuid4())\n",
    "    edge_details = {'id': e_id,'amount': amount, 'unit': 'M2',     'lifespan': 50,     'demolition': False,     'enabled': True,     'delayed_start': 0}\n",
    "    return edge_details\n",
    "\n",
    "product_edge_uuid = str(uuid.uuid4())\n",
    "edge = create_edge(create_edge_data(create_edge_details(1500), construction_uuid, p_id))"
   ]
  },
  {
   "cell_type": "code",
   "execution_count": 50,
   "id": "c8953acb",
   "metadata": {},
   "outputs": [
    {
     "data": {
      "text/plain": [
       "{'Edge': [{'ConstructionToProduct': {'id': 'b09c199f-65cd-4824-88f0-277c8f28d309',\n",
       "    'amount': 1500,\n",
       "    'unit': 'M2',\n",
       "    'lifespan': 50,\n",
       "    'demolition': False,\n",
       "    'enabled': True,\n",
       "    'delayed_start': 0}},\n",
       "  'e885607e-f29c-493b-8377-947cbed5aa85',\n",
       "  '51bcec85-9105-4946-8a8a-51219bf9adfa']}"
      ]
     },
     "execution_count": 50,
     "metadata": {},
     "output_type": "execute_result"
    }
   ],
   "source": [
    "edge"
   ]
  },
  {
   "cell_type": "code",
   "execution_count": 363,
   "id": "a7d6ab16",
   "metadata": {},
   "outputs": [],
   "source": [
    "def create_lcabyg_element(construction_amount, element_name = 'Test_element', product_amount = 1, lifespan = 50, product_id = '51bcec85-9105-4946-8a8a-51219bf9adfa'):\n",
    "    \n",
    "    ################ SET PROPERTIES AND IDs\n",
    "    \n",
    "    element_id = str(uuid.uuid4())\n",
    "    construction_id = str(uuid.uuid4())\n",
    "    element_category_id = str(uuid.uuid4())\n",
    "    \n",
    "    construction_edge_id = str(uuid.uuid4())\n",
    "    element_edge_id =  str(uuid.uuid4())\n",
    "    element_category_edge_id = str(uuid.uuid4())\n",
    "    constructions_category_id = str(uuid.uuid4())\n",
    "    \n",
    "    ################ DEFAULT IDs (this ones are not needed to change)\n",
    "    \n",
    "   \n",
    "    \n",
    "    ################ DEFAULT IDs from example\n",
    "    #element_id = '02c3e303-a443-4f02-9927-e43519227ade'\n",
    "    #construction_id = 'c6f24e0f-020a-4f0f-93c6-65beb50bd798'\n",
    "    element_category_id = '069983d0-d08b-405b-b816-d28ca9648956'\n",
    "    product_id = '51bcec85-9105-4946-8a8a-51219bf9adfa'\n",
    "    \n",
    "    #construction_edge_id = '65cc0492-7864-4598-9254-5f929379bae6'\n",
    "    #element_edge_id = 'e66c3d76-eae6-4c6b-86f7-e9178bc8f804'\n",
    "    #element_category_edge_id = '479c5e5a-b173-4c07-bfbd-0cedff55888b'\n",
    "    constructions_category_id = '8cef6e2a-ad53-4450-9c6f-7a24eb9fcf16'\n",
    "    \n",
    "    \n",
    "    ################\n",
    "    \n",
    "    json_array_elements = []\n",
    "    json_array_constructions = []\n",
    "    json_array_element_category = []\n",
    "    json_array_constructions_extra = []\n",
    "    \n",
    "    ################ ELEMENTS.JSON\n",
    "    element_properties = {'id': element_id,  \"name\": { \"Danish\": \"Test bygningsdel\",\"English\": \"\",\"German\": \"\" }, \"source\": \"User\", \"comment\": \"Created by IFC-LCABYG-Importer\", \"enabled\": True, \"active\": True}\n",
    "    element_set = {'Element': element_properties}\n",
    "    element_node = {'Node': element_set}\n",
    "    \n",
    "  \n",
    "    element_edge_details = {'id': element_edge_id,'amount': construction_amount, 'enabled': True}\n",
    "    element_edge_data = [{'ElementToConstruction': element_edge_details}, element_id, construction_id]\n",
    "    element_edge = {'Edge': element_edge_data}\n",
    "    \n",
    "    ################ CONSTRUCTIONS.JSON\n",
    "    construction_properties = {'id': construction_id,  'name': {'Danish': element_name, 'English': 'Test construction'},'unit': 'M2', 'source': 'User','comment': 'Testing','layer': 1,'locked': True}\n",
    "    construction_set = {'Construction': construction_properties}\n",
    "    construction_node = {'Node': construction_set}\n",
    "    \n",
    "    construction_edge_details = {'id': construction_edge_id,'amount': product_amount, 'unit': 'M2', 'lifespan': lifespan,     'demolition': False,     'enabled': True,     'delayed_start': 0}\n",
    "    construction_edge_data = [{'ConstructionToProduct': construction_edge_details}, construction_id, product_id]\n",
    "    construction_edge = {'Edge': construction_edge_data}\n",
    "    \n",
    "    \n",
    "    ################ element_category_edges.json\n",
    "    \n",
    "    \n",
    "    element_category_edge_details = {'id': str(uuid.uuid4()), 'enabled': True}\n",
    "    element_category_edge_data = [{'CategoryToElement':element_category_edge_details}, element_category_id, element_id]\n",
    "    element_category_edge = {'Edge': element_category_edge_data}\n",
    "    \n",
    "    \n",
    "    \n",
    "    \n",
    "    ################ cosntructions_extra.json\n",
    "    \n",
    "    constructions_category_edge_details = {'id': str(uuid.uuid4()),'layers': [1]}\n",
    "    constructions_category_edge_data = [{'CategoryToConstruction':constructions_category_edge_details}, element_category_id, construction_id]\n",
    "    constructions_category_edge = {'Edge': constructions_category_edge_data}\n",
    "    \n",
    "    \n",
    "    ################ SAVE TO ARRAY\n",
    "    \n",
    "    json_array_elements.append(element_node) #0 elements.json\n",
    "    json_array_elements.append(element_edge) \n",
    "\n",
    "    \n",
    "    json_array_constructions.append(construction_node) #1 cosntructions.json\n",
    "    json_array_constructions.append(construction_edge)    \n",
    "    \n",
    "    json_array_element_category.append(element_category_edge) #2 construction_category_edges.json\n",
    "    json_array_constructions_extra.append(constructions_category_edge) #3 constructions_extra.json\n",
    "                            \n",
    "    return  json_array_elements, json_array_constructions,json_array_element_category, json_array_constructions_extra"
   ]
  },
  {
   "cell_type": "code",
   "execution_count": 364,
   "id": "bba4160c",
   "metadata": {},
   "outputs": [],
   "source": [
    "json_result = create_lcabyg_element(126, 'Test_element_1')\n"
   ]
  },
  {
   "cell_type": "code",
   "execution_count": 365,
   "id": "57fc1227",
   "metadata": {},
   "outputs": [],
   "source": [
    "with open('lcabyg_example/elements.json', 'w') as outfile:\n",
    "    json.dump(json_result[0], outfile,indent=4)"
   ]
  },
  {
   "cell_type": "code",
   "execution_count": 366,
   "id": "4a8fa203",
   "metadata": {},
   "outputs": [],
   "source": [
    "with open('lcabyg_example/constructions.json', 'w') as outfile:\n",
    "    json.dump(json_result[1], outfile,indent=4)"
   ]
  },
  {
   "cell_type": "code",
   "execution_count": 367,
   "id": "b27ad1f8",
   "metadata": {},
   "outputs": [],
   "source": [
    "with open('lcabyg_example/construction_category_edges.json', 'w') as outfile:\n",
    "    json.dump(json_result[2], outfile,indent=4)"
   ]
  },
  {
   "cell_type": "code",
   "execution_count": 368,
   "id": "cca4653a",
   "metadata": {},
   "outputs": [],
   "source": [
    "with open('lcabyg_example/constructions_extra.json', 'w') as outfile:\n",
    "    json.dump(json_result[3], outfile,indent=4)"
   ]
  },
  {
   "cell_type": "code",
   "execution_count": null,
   "id": "912dcf10",
   "metadata": {},
   "outputs": [],
   "source": []
  },
  {
   "cell_type": "code",
   "execution_count": null,
   "id": "7ba5037b",
   "metadata": {},
   "outputs": [],
   "source": []
  },
  {
   "cell_type": "code",
   "execution_count": null,
   "id": "6fcfb44c",
   "metadata": {},
   "outputs": [],
   "source": []
  },
  {
   "cell_type": "code",
   "execution_count": null,
   "id": "e3dbe765",
   "metadata": {},
   "outputs": [],
   "source": []
  }
 ],
 "metadata": {
  "kernelspec": {
   "display_name": "Python 3",
   "language": "python",
   "name": "python3"
  },
  "language_info": {
   "codemirror_mode": {
    "name": "ipython",
    "version": 3
   },
   "file_extension": ".py",
   "mimetype": "text/x-python",
   "name": "python",
   "nbconvert_exporter": "python",
   "pygments_lexer": "ipython3",
   "version": "3.7.6"
  }
 },
 "nbformat": 4,
 "nbformat_minor": 5
}
