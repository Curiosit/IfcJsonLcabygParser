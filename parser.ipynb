{
 "cells": [
  {
   "cell_type": "code",
   "execution_count": 31,
   "id": "c01d3fbb",
   "metadata": {},
   "outputs": [],
   "source": [
    "# IFC Parser\n",
    "# Based on:\n",
    "# https://thinkmoult.com/using-ifcopenshell-parse-ifc-files-python.html\n",
    "# https://github.com/johannesmichael/ifc-python/blob/master/modules/ifc_pset_utils.py\n",
    "# https://www.kaggle.com/code/ponybiam/introduction-to-ifcopenshell-functions/notebook\n",
    "\n",
    "import ifcopenshell\n",
    "import ifcHelper \n",
    "import pandas as pd\n",
    "import numpy as np"
   ]
  },
  {
   "cell_type": "code",
   "execution_count": 2,
   "id": "92d8a0e3",
   "metadata": {},
   "outputs": [
    {
     "name": "stdout",
     "output_type": "stream",
     "text": [
      "File loaded successfully\n"
     ]
    }
   ],
   "source": [
    "try:\n",
    "  ifc_file = ifcopenshell.open('ifc_test_file.ifc')\n",
    "  print(\"File loaded successfully\")\n",
    "except:\n",
    "  print(\"An exception occurred\")\n",
    "\n"
   ]
  },
  {
   "cell_type": "code",
   "execution_count": 3,
   "id": "3f6b98a8",
   "metadata": {},
   "outputs": [
    {
     "name": "stdout",
     "output_type": "stream",
     "text": [
      "File version:\n",
      "IFC2X3\n"
     ]
    }
   ],
   "source": [
    "print (\"File version:\")\n",
    "print (ifc_file.schema)\n",
    "## Script is written for IFC2X3"
   ]
  },
  {
   "cell_type": "code",
   "execution_count": 17,
   "id": "f139caf6",
   "metadata": {},
   "outputs": [
    {
     "name": "stdout",
     "output_type": "stream",
     "text": [
      "There are 10 walls, 2 windows, 1 doors and 0 flow segments in the file\n"
     ]
    }
   ],
   "source": [
    "no_walls = len(ifc_file.by_type(\"IfcWall\"))\n",
    "no_windows = len(ifc_file.by_type(\"IfcWindow\"))\n",
    "no_doors = len(ifc_file.by_type(\"IfcDoor\"))\n",
    "no_flo_segments = len(ifc_file.by_type(\"IfcFlowSegment\"))\n",
    "\n",
    "print(\"There are {} walls, {} windows, {} doors and {} flow segments in the file\".format(no_walls,no_windows,no_doors,no_flo_segments))"
   ]
  },
  {
   "cell_type": "code",
   "execution_count": 4,
   "id": "e97f822a",
   "metadata": {},
   "outputs": [],
   "source": [
    "## Get all walls by_type: IfcWall\n",
    "##\n",
    "walls = ifc_file.by_type('IfcWall')"
   ]
  },
  {
   "cell_type": "code",
   "execution_count": 22,
   "id": "7ad92dbe",
   "metadata": {},
   "outputs": [
    {
     "data": {
      "text/plain": [
       "#199=IfcWallStandardCase('0XKS9_JrzCLBvqx8CYyH2y',#41,'Basic Wall:Z01:331325',$,'Basic Wall:Z01',#153,#195,'331325')"
      ]
     },
     "execution_count": 22,
     "metadata": {},
     "output_type": "execute_result"
    }
   ],
   "source": [
    "walls[0]"
   ]
  },
  {
   "cell_type": "code",
   "execution_count": 24,
   "id": "7f5a4e7f",
   "metadata": {},
   "outputs": [
    {
     "name": "stdout",
     "output_type": "stream",
     "text": [
      "The Name of walls[0] is Basic Wall:Z01\n",
      "The Description of walls[0] is None\n"
     ]
    }
   ],
   "source": [
    "# print \"a_wall\"s Name attribute\n",
    "print(\"The Name of walls[0] is %s\"%(walls[0].ObjectType))\n",
    "# print \"a_wall\"s Description attribute\n",
    "print(\"The Description of walls[0] is %s\"%(walls[0].Description))"
   ]
  },
  {
   "cell_type": "code",
   "execution_count": 6,
   "id": "434e5b1e",
   "metadata": {},
   "outputs": [],
   "source": [
    "## Wall elevation area can be calculated using the volume/thickness"
   ]
  },
  {
   "cell_type": "code",
   "execution_count": 29,
   "id": "297299d4",
   "metadata": {},
   "outputs": [],
   "source": [
    "walls_types = list()\n",
    "for i in range(len(walls)):\n",
    "    \n",
    "    walls_types.append(walls[i].ObjectType)\n",
    "    \n",
    "## Get wall types"
   ]
  },
  {
   "cell_type": "code",
   "execution_count": null,
   "id": "a2638fc6",
   "metadata": {},
   "outputs": [],
   "source": []
  },
  {
   "cell_type": "code",
   "execution_count": 7,
   "id": "5b505145",
   "metadata": {},
   "outputs": [],
   "source": [
    "walls_volumes = list()\n",
    "for i in range(len(walls)):\n",
    "    quantities = ifcHelper.get_quantity_single_value(ifcHelper.get_related_quantities(walls[i])[0])\n",
    "    walls_volumes.append(quantities['NetVolume'])\n",
    "    \n",
    "## Get wall volumes"
   ]
  },
  {
   "cell_type": "code",
   "execution_count": 8,
   "id": "e146e556",
   "metadata": {},
   "outputs": [],
   "source": [
    "walls_thickness = list()\n",
    "for i in range(len(walls)):\n",
    "    quantities = ifcHelper.get_quantity_single_value(ifcHelper.get_related_quantities(walls[i])[0])\n",
    "    walls_thickness.append(quantities['Width']/1000)\n",
    "    \n",
    "## Get wall thicknesses"
   ]
  },
  {
   "cell_type": "code",
   "execution_count": 9,
   "id": "b89e0de4",
   "metadata": {},
   "outputs": [],
   "source": [
    "walls_areas = list()\n",
    "for i in range(len(walls)):\n",
    "    walls_areas.append(walls_volumes[i]/walls_thickness[i])\n",
    "    \n",
    "## Get calculated areas"
   ]
  },
  {
   "cell_type": "code",
   "execution_count": null,
   "id": "ed131e47",
   "metadata": {},
   "outputs": [],
   "source": []
  },
  {
   "cell_type": "code",
   "execution_count": 10,
   "id": "9ee2a0ca",
   "metadata": {},
   "outputs": [
    {
     "data": {
      "text/plain": [
       "552.9350204145787"
      ]
     },
     "execution_count": 10,
     "metadata": {},
     "output_type": "execute_result"
    }
   ],
   "source": [
    "sum(walls_areas)"
   ]
  },
  {
   "cell_type": "code",
   "execution_count": 34,
   "id": "174d55df",
   "metadata": {},
   "outputs": [
    {
     "data": {
      "text/plain": [
       "{'Type': ['Basic Wall:Z01',\n",
       "  'Basic Wall:Z01',\n",
       "  'Basic Wall:Z02',\n",
       "  'Basic Wall:Z02',\n",
       "  'Basic Wall:Z01',\n",
       "  'Basic Wall:Z01',\n",
       "  'Basic Wall:Z01',\n",
       "  'Basic Wall:Z01',\n",
       "  'Basic Wall:Z02',\n",
       "  'Basic Wall:Z02'],\n",
       " 'Area': [60.1732341748615,\n",
       "  71.127796309956,\n",
       "  48.1087212769524,\n",
       "  50.0613312769524,\n",
       "  39.290340237810796,\n",
       "  39.290340237810796,\n",
       "  55.847062786182995,\n",
       "  57.769172786183496,\n",
       "  65.6335106639342,\n",
       "  65.6335106639342]}"
      ]
     },
     "execution_count": 34,
     "metadata": {},
     "output_type": "execute_result"
    }
   ],
   "source": [
    "d = {'Type':walls_types,'Area':walls_areas}\n",
    "d"
   ]
  },
  {
   "cell_type": "code",
   "execution_count": 38,
   "id": "15d6c707",
   "metadata": {},
   "outputs": [],
   "source": [
    "wall_df = pd.DataFrame(d)"
   ]
  },
  {
   "cell_type": "code",
   "execution_count": 39,
   "id": "064f461e",
   "metadata": {},
   "outputs": [
    {
     "data": {
      "text/html": [
       "<div>\n",
       "<style scoped>\n",
       "    .dataframe tbody tr th:only-of-type {\n",
       "        vertical-align: middle;\n",
       "    }\n",
       "\n",
       "    .dataframe tbody tr th {\n",
       "        vertical-align: top;\n",
       "    }\n",
       "\n",
       "    .dataframe thead th {\n",
       "        text-align: right;\n",
       "    }\n",
       "</style>\n",
       "<table border=\"1\" class=\"dataframe\">\n",
       "  <thead>\n",
       "    <tr style=\"text-align: right;\">\n",
       "      <th></th>\n",
       "      <th>Type</th>\n",
       "      <th>Area</th>\n",
       "    </tr>\n",
       "  </thead>\n",
       "  <tbody>\n",
       "    <tr>\n",
       "      <th>0</th>\n",
       "      <td>Basic Wall:Z01</td>\n",
       "      <td>60.173234</td>\n",
       "    </tr>\n",
       "    <tr>\n",
       "      <th>1</th>\n",
       "      <td>Basic Wall:Z01</td>\n",
       "      <td>71.127796</td>\n",
       "    </tr>\n",
       "    <tr>\n",
       "      <th>2</th>\n",
       "      <td>Basic Wall:Z02</td>\n",
       "      <td>48.108721</td>\n",
       "    </tr>\n",
       "    <tr>\n",
       "      <th>3</th>\n",
       "      <td>Basic Wall:Z02</td>\n",
       "      <td>50.061331</td>\n",
       "    </tr>\n",
       "    <tr>\n",
       "      <th>4</th>\n",
       "      <td>Basic Wall:Z01</td>\n",
       "      <td>39.290340</td>\n",
       "    </tr>\n",
       "    <tr>\n",
       "      <th>5</th>\n",
       "      <td>Basic Wall:Z01</td>\n",
       "      <td>39.290340</td>\n",
       "    </tr>\n",
       "    <tr>\n",
       "      <th>6</th>\n",
       "      <td>Basic Wall:Z01</td>\n",
       "      <td>55.847063</td>\n",
       "    </tr>\n",
       "    <tr>\n",
       "      <th>7</th>\n",
       "      <td>Basic Wall:Z01</td>\n",
       "      <td>57.769173</td>\n",
       "    </tr>\n",
       "    <tr>\n",
       "      <th>8</th>\n",
       "      <td>Basic Wall:Z02</td>\n",
       "      <td>65.633511</td>\n",
       "    </tr>\n",
       "    <tr>\n",
       "      <th>9</th>\n",
       "      <td>Basic Wall:Z02</td>\n",
       "      <td>65.633511</td>\n",
       "    </tr>\n",
       "  </tbody>\n",
       "</table>\n",
       "</div>"
      ],
      "text/plain": [
       "             Type       Area\n",
       "0  Basic Wall:Z01  60.173234\n",
       "1  Basic Wall:Z01  71.127796\n",
       "2  Basic Wall:Z02  48.108721\n",
       "3  Basic Wall:Z02  50.061331\n",
       "4  Basic Wall:Z01  39.290340\n",
       "5  Basic Wall:Z01  39.290340\n",
       "6  Basic Wall:Z01  55.847063\n",
       "7  Basic Wall:Z01  57.769173\n",
       "8  Basic Wall:Z02  65.633511\n",
       "9  Basic Wall:Z02  65.633511"
      ]
     },
     "execution_count": 39,
     "metadata": {},
     "output_type": "execute_result"
    }
   ],
   "source": [
    "wall_df"
   ]
  },
  {
   "cell_type": "code",
   "execution_count": 42,
   "id": "0faa99c7",
   "metadata": {},
   "outputs": [],
   "source": [
    "df_new = wall_df.groupby('Type')['Area'].sum()"
   ]
  },
  {
   "cell_type": "code",
   "execution_count": 43,
   "id": "892cf7bf",
   "metadata": {},
   "outputs": [
    {
     "data": {
      "text/plain": [
       "Type\n",
       "Basic Wall:Z01    323.497947\n",
       "Basic Wall:Z02    229.437074\n",
       "Name: Area, dtype: float64"
      ]
     },
     "execution_count": 43,
     "metadata": {},
     "output_type": "execute_result"
    }
   ],
   "source": [
    "df_new"
   ]
  },
  {
   "cell_type": "code",
   "execution_count": null,
   "id": "b1ac52be",
   "metadata": {},
   "outputs": [],
   "source": []
  },
  {
   "cell_type": "code",
   "execution_count": 13,
   "id": "855708de",
   "metadata": {},
   "outputs": [],
   "source": [
    "status = ifcHelper.get_pset_single_value_by_args(walls[0], 'Pset_WallCommon', 'Status')"
   ]
  },
  {
   "cell_type": "code",
   "execution_count": 15,
   "id": "d5d0e4af",
   "metadata": {},
   "outputs": [
    {
     "name": "stdout",
     "output_type": "stream",
     "text": [
      "None\n"
     ]
    }
   ],
   "source": [
    "print (status)"
   ]
  },
  {
   "cell_type": "code",
   "execution_count": 12,
   "id": "637bc7ae",
   "metadata": {},
   "outputs": [
    {
     "ename": "AttributeError",
     "evalue": "'list' object has no attribute 'HasProperties'",
     "output_type": "error",
     "traceback": [
      "\u001b[1;31m---------------------------------------------------------------------------\u001b[0m",
      "\u001b[1;31mAttributeError\u001b[0m                            Traceback (most recent call last)",
      "\u001b[1;32m<ipython-input-12-7d575b5c4614>\u001b[0m in \u001b[0;36m<module>\u001b[1;34m\u001b[0m\n\u001b[1;32m----> 1\u001b[1;33m \u001b[0mifcHelper\u001b[0m\u001b[1;33m.\u001b[0m\u001b[0mget_property_single_value\u001b[0m\u001b[1;33m(\u001b[0m\u001b[0mifcHelper\u001b[0m\u001b[1;33m.\u001b[0m\u001b[0mget_related_property_sets\u001b[0m\u001b[1;33m(\u001b[0m\u001b[0mwalls\u001b[0m\u001b[1;33m[\u001b[0m\u001b[1;36m0\u001b[0m\u001b[1;33m]\u001b[0m\u001b[1;33m)\u001b[0m\u001b[1;33m)\u001b[0m\u001b[1;33m\u001b[0m\u001b[1;33m\u001b[0m\u001b[0m\n\u001b[0m",
      "\u001b[1;32m~\\Documents\\GitHub\\Ifcparser\\ifcHelper.py\u001b[0m in \u001b[0;36mget_property_single_value\u001b[1;34m(x)\u001b[0m\n\u001b[0;32m     69\u001b[0m     \u001b[0mattributes_dicts\u001b[0m\u001b[1;33m=\u001b[0m\u001b[1;33m{\u001b[0m\u001b[1;33m}\u001b[0m\u001b[1;33m\u001b[0m\u001b[1;33m\u001b[0m\u001b[0m\n\u001b[0;32m     70\u001b[0m \u001b[1;33m\u001b[0m\u001b[0m\n\u001b[1;32m---> 71\u001b[1;33m     \u001b[1;32mfor\u001b[0m \u001b[0my\u001b[0m \u001b[1;32min\u001b[0m \u001b[0mx\u001b[0m\u001b[1;33m.\u001b[0m\u001b[0mHasProperties\u001b[0m\u001b[1;33m:\u001b[0m\u001b[1;33m\u001b[0m\u001b[1;33m\u001b[0m\u001b[0m\n\u001b[0m\u001b[0;32m     72\u001b[0m         \u001b[1;32mif\u001b[0m \u001b[0my\u001b[0m\u001b[1;33m.\u001b[0m\u001b[0mis_a\u001b[0m\u001b[1;33m(\u001b[0m\u001b[1;34m\"IfcPropertySingleValue\"\u001b[0m\u001b[1;33m)\u001b[0m \u001b[1;32mand\u001b[0m \u001b[0my\u001b[0m\u001b[1;33m.\u001b[0m\u001b[0mNominalValue\u001b[0m \u001b[1;32mis\u001b[0m \u001b[1;32mnot\u001b[0m \u001b[1;32mNone\u001b[0m\u001b[1;33m:\u001b[0m\u001b[1;33m\u001b[0m\u001b[1;33m\u001b[0m\u001b[0m\n\u001b[0;32m     73\u001b[0m             \u001b[0mattributes_dicts\u001b[0m\u001b[1;33m.\u001b[0m\u001b[0mupdate\u001b[0m\u001b[1;33m(\u001b[0m\u001b[1;33m{\u001b[0m\u001b[0my\u001b[0m\u001b[1;33m.\u001b[0m\u001b[0mName\u001b[0m\u001b[1;33m:\u001b[0m\u001b[0my\u001b[0m\u001b[1;33m.\u001b[0m\u001b[0mNominalValue\u001b[0m\u001b[1;33m.\u001b[0m\u001b[0mwrappedValue\u001b[0m\u001b[1;33m}\u001b[0m\u001b[1;33m)\u001b[0m\u001b[1;33m\u001b[0m\u001b[1;33m\u001b[0m\u001b[0m\n",
      "\u001b[1;31mAttributeError\u001b[0m: 'list' object has no attribute 'HasProperties'"
     ]
    }
   ],
   "source": [
    "ifcHelper.get_property_single_value(ifcHelper.get_related_property_sets(walls[0]))"
   ]
  },
  {
   "cell_type": "code",
   "execution_count": 50,
   "id": "df43b1f0",
   "metadata": {},
   "outputs": [
    {
     "data": {
      "text/plain": [
       "[#334=IfcPropertySet('0XKS9_JrzCLBvqufOYyH2y',#41,'Constraints',$,(#299,#300,#301,#302,#303,#304,#305,#306,#307,#308,#309)),\n",
       " #339=IfcPropertySet('0XKS9_JrzCLBvque0YyH2y',#41,'Dimensions',$,(#314,#315,#316)),\n",
       " #344=IfcPropertySet('1H02vUCyz6o9nbkhCg_L0Y',#41,'Other',$,(#317,#318,#319,#320,#321)),\n",
       " #349=IfcPropertySet('0XKS9_JrzCLBvqueqYyH2y',#41,'Phasing',$,(#310)),\n",
       " #354=IfcPropertySet('0XKS9_JrzCLBvqueyYyH2y',#41,'Structural',$,(#311,#312,#313)),\n",
       " #509=IfcPropertySet('1zwVZg6$1EsQDQg_kpdpbs',#41,'Pset_ElementShading',$,(#508)),\n",
       " #512=IfcPropertySet('34D5K2kEP7cvuyjb34Ync0',#41,'Pset_ProductRequirements',$,(#511)),\n",
       " #514=IfcPropertySet('0wABov6VnEzOE$Egx$i0yM',#41,'Pset_QuantityTakeOff',$,(#397)),\n",
       " #517=IfcPropertySet('2A3kqFv615GhOd4kwwOrz6',#41,'Pset_ReinforcementBarPitchOfWall',$,(#516)),\n",
       " #522=IfcPropertySet('0XKS9_JrzCLBvqxtyYyH2y',#41,'Pset_WallCommon',$,(#397,#519,#520,#521))]"
      ]
     },
     "execution_count": 50,
     "metadata": {},
     "output_type": "execute_result"
    }
   ],
   "source": [
    "ifcHelper.get_related_property_sets(walls[0])"
   ]
  },
  {
   "cell_type": "code",
   "execution_count": null,
   "id": "f4c3e4cc",
   "metadata": {},
   "outputs": [],
   "source": []
  },
  {
   "cell_type": "code",
   "execution_count": null,
   "id": "515fe4fb",
   "metadata": {},
   "outputs": [],
   "source": []
  },
  {
   "cell_type": "code",
   "execution_count": 47,
   "id": "2477b792",
   "metadata": {},
   "outputs": [],
   "source": [
    "windows = ifc_file.by_type('IfcWindow')"
   ]
  },
  {
   "cell_type": "code",
   "execution_count": 48,
   "id": "a5771077",
   "metadata": {},
   "outputs": [
    {
     "data": {
      "text/plain": [
       "[#1622=IfcWindow('0XKS9_JrzCLBvqv88YyH1n',#41,'M_Stałe:O02:331504',$,'M_Stałe:O02',#3262,#1614,'331504',1830.,915.),\n",
       " #1844=IfcWindow('0XKS9_JrzCLBvqv88YyH1s',#41,'M_Stałe:O01:331511',$,'M_Stałe:O01',#3297,#1836,'331511',609.999999999999,406.)]"
      ]
     },
     "execution_count": 48,
     "metadata": {},
     "output_type": "execute_result"
    }
   ],
   "source": [
    "windows"
   ]
  },
  {
   "cell_type": "code",
   "execution_count": null,
   "id": "dac8ff65",
   "metadata": {},
   "outputs": [],
   "source": []
  }
 ],
 "metadata": {
  "kernelspec": {
   "display_name": "Python 3",
   "language": "python",
   "name": "python3"
  },
  "language_info": {
   "codemirror_mode": {
    "name": "ipython",
    "version": 3
   },
   "file_extension": ".py",
   "mimetype": "text/x-python",
   "name": "python",
   "nbconvert_exporter": "python",
   "pygments_lexer": "ipython3",
   "version": "3.7.6"
  }
 },
 "nbformat": 4,
 "nbformat_minor": 5
}
