{
 "cells": [
  {
   "cell_type": "code",
   "execution_count": 1,
   "id": "b961e448",
   "metadata": {},
   "outputs": [],
   "source": [
    "# IFC Parser\n",
    "# Based on:\n",
    "# https://thinkmoult.com/using-ifcopenshell-parse-ifc-files-python.html\n",
    "# https://github.com/johannesmichael/ifc-python/blob/master/modules/ifc_pset_utils.py\n",
    "\n",
    "import ifcopenshell\n",
    "   "
   ]
  },
  {
   "cell_type": "code",
   "execution_count": 2,
   "id": "e9bf2165",
   "metadata": {},
   "outputs": [],
   "source": [
    "ifc_file = ifcopenshell.open('test.ifc')"
   ]
  },
  {
   "cell_type": "code",
   "execution_count": 8,
   "id": "692a4d5c",
   "metadata": {},
   "outputs": [],
   "source": [
    "#Attributes without Pset-Name, like {\"Lenght\":2.03}\n",
    "\n",
    "\"\"\"\n",
    "Module with function to retrieve pset information of an IFC file with\n",
    "the IfcOpenshell Package\n",
    "https://github.com/IfcOpenShell/IfcOpenShell/tree/master/src/ifcopenshell-python/ifcopenshell\n",
    "Covers:\n",
    "instance Information\n",
    "Standard and userdefined psets\n",
    "BaseQuantitites\n",
    "IfcSingleValues\n",
    "Type Information not wroking well yet\n",
    "More information on\n",
    "http://www.buildingsmart-tech.org/ifc/IFC2x3/TC1/html/index.htm\n",
    "\"\"\"\n",
    "\n",
    "\n",
    "#TODO: IfcPropertyEnumeratedValue, IfcPropertyBoundedValue, IfcPropertyTableValue, IfcPropertyReferenceValue, IfcPropertyListValue\n",
    "\n",
    "def get_related_properties(ifc_instance):\n",
    "    defined_by_properties_list=[x.RelatingPropertyDefinition \\\n",
    "                                for x in ifc_instance.IsDefinedBy \\\n",
    "                                if x.is_a(\"IfcRelDefinesByProperties\")]\n",
    "    return defined_by_properties_list\n",
    "\n",
    "def get_related_type_definition(ifc_instance):\n",
    "    \"\"\"\n",
    "    Returns the related type definitions for a given ifc_instance\n",
    "    argument: ifc_instance\n",
    "    return: list of IfcElementType\n",
    "    \"\"\"\n",
    "    defined_by_type_list=[x.RelatingType for x in ifc_instance.IsDefinedBy \\\n",
    "                          if x.is_a(\"IfcRelDefinesByType\")]\n",
    "    return defined_by_type_list\n",
    "\n",
    "def get_related_property_sets(ifc_instance):\n",
    "    \"\"\"\n",
    "    Returns a list of IfcPropertySets for given ifc_instance\n",
    "    argument: ifc_instance\n",
    "    return: list of property sets\n",
    "    \"\"\"\n",
    "    properties_list = []\n",
    "    for x in ifc_instance.IsDefinedBy:\n",
    "        if x.is_a(\"IfcRelDefinesByProperties\"):\n",
    "            if x.RelatingPropertyDefinition.is_a(\"IfcPropertySet\"):\n",
    "                properties_list.append(x.RelatingPropertyDefinition)\n",
    "    return properties_list                \n",
    "\n",
    "def get_related_quantities(ifc_instance):\n",
    "    \"\"\"\n",
    "    Returns a list of IfcElementQuantity for given IFC ID\n",
    "    argument: ifc_instance\n",
    "    return: list of property sets\n",
    "    \"\"\"\n",
    "    quantities_list =[]\n",
    "    for x in ifc_instance.IsDefinedBy:\n",
    "        if x.is_a(\"IfcRelDefinesByProperties\"):\n",
    "            if x.RelatingPropertyDefinition.is_a(\"IfcElementQuantity\"):\n",
    "                quantities_list.append(x.RelatingPropertyDefinition)\n",
    "    return quantities_list     \n",
    "\n",
    "def get_property_single_value(x):\n",
    "    \"\"\"\n",
    "    Returns a dict of dicts of IfcSingleValues, even from IfcComplexProperties. Returning a dictionary of dictionaries\n",
    "    is used, because it is easy to transform to pandas.DataFrame \n",
    "    argument: IFC Element as contained in list from get_related_property_sets()\n",
    "    return: dict of property single values like {\"IfcName\":\"xx\", \"IfcGlobalId\": \"klkhlkh\", ......}\n",
    "    \"\"\"\n",
    "    attributes_dicts={}\n",
    "   \n",
    "    for y in x.HasProperties:\n",
    "        if y.is_a(\"IfcPropertySingleValue\") and y.NominalValue is not None:\n",
    "            attributes_dicts.update({y.Name:y.NominalValue.wrappedValue})\n",
    "        if y.is_a(\"IfcComplexProperty\"):\n",
    "            for z in y.HasProperties:\n",
    "                if z.NominalValue is not None:\n",
    "                    attributes_dicts.update({z.Name: z.NominalValue.wrappedValue})\n",
    "\n",
    "    return attributes_dicts     \n",
    "        \n",
    "\n",
    "def get_type_single_value(x):\n",
    "    \"\"\"\n",
    "    Returns a dict of dicts of IfcXXTYpe single values (like \"IfcWallType\"). Returning a dictionary of dictionaries\n",
    "    is used, because it is easy to transform to pandas.DataFrame \n",
    "    argument: IFC Element as contained in list from get_related_property_sets()\n",
    "    return: dict of property single values like {\"IfcName\":\"xx\", \"IfcGlobalId\": \"klkhlkh\", ......}\n",
    "    \"\"\"\n",
    "    type_attr_dicts={}\n",
    "    if x.HasPropertySets:\n",
    "        try:\n",
    "            {type_attr_dicts.update({\"TypeDefinition_\" + x.Name:y.Name}) for y in x.HasPropertySets if y.Name is not None}\n",
    "            #for y in x.HasPropertySets:\n",
    "            #    if y.Name is not None:\n",
    "            #        type_attr_dicts.update({\"TypeDefinition_\" + x.Name:y.Name})\n",
    "        except:\n",
    "            print(\"Type Value Exception for IfcGlobalID \"+ x.GlobalId)\n",
    "\n",
    "    return type_attr_dicts\n",
    "\n",
    "\n",
    "\n",
    "def get_all_instance_data(ifc_instance):\n",
    "    \"\"\"\n",
    "    Get all (non-geometrical) data of an instance\n",
    "    from Pset (default and user-defined), BaseQuantities and Type\n",
    "    argument: instance from ifc file\n",
    "    return: dict of dictionaries (attribute_name:attribute_value)\n",
    "    \"\"\"\n",
    "    pset_dict= {}\n",
    "    \n",
    "    #getting pset single values\n",
    "    {pset_dict.update(get_property_single_value(x))\\\n",
    "     for x in get_related_property_sets(ifc_instance)}\n",
    "\n",
    "    #getting basequantities single values\n",
    "    {pset_dict.update(get_quantity_single_value(x)) \\\n",
    "     for x in get_related_quantities(ifc_instance)}\n",
    "\n",
    "    #getting type\n",
    "    {pset_dict.update(get_type_single_value(x)) \\\n",
    "     for x in get_related_type_definition(ifc_instance)}\n",
    "\n",
    "    return pset_dict\n",
    "\n",
    "def get_all_quantity_data(ifc_instance):\n",
    "    \"\"\"\n",
    "    Get all (non-geometrical) data of an instance\n",
    "    from BaseQuantities \n",
    "    argument: instance from ifc file\n",
    "    return: dict of dictionaries (attribute_name:attribute_value)\n",
    "    \"\"\"\n",
    "    pset_dict= {}\n",
    "    #getting basequantities single values\n",
    "    {pset_dict.update(get_quantity_single_value(x)) \\\n",
    "        for x in get_related_quantities(ifc_instance)}\n",
    "    return pset_dict\n",
    "\n",
    "\n",
    "def get_all_type_data(ifc_instance):\n",
    "    \"\"\"\n",
    "    Get all (non-geometrical) data of an instance\n",
    "    from Type\n",
    "    argument: instance from ifc file\n",
    "    return: dict of dictionaries (attribute_name:attribute_value)\n",
    "    \"\"\"\n",
    "    pset_dict= {}\n",
    "    #getting type\n",
    "    {pset_dict.update(get_type_single_value(x)) \\\n",
    "        for x in get_related_type_definition(ifc_instance)}\n",
    "    return pset_dict\n",
    "\n",
    "def get_all_pset_data(ifc_instance):\n",
    "    \"\"\"\n",
    "    Get all (non-geometrical) data of an instance\n",
    "    from Pset (default and user-defined)\n",
    "    argument: instance from ifc file\n",
    "    return: dict of dictionaries (attribute_name:attribute_value)\n",
    "    \"\"\"\n",
    "    pset_dict= {}\n",
    "    #getting type\n",
    "    #getting pset single values\n",
    "    {pset_dict.update(get_property_single_value(x))\\\n",
    "         for x in get_related_property_sets(ifc_instance)}\n",
    "    return pset_dict\n",
    "\n",
    "def get_space_boundaries(ifc_instance):\n",
    "\t\"\"\" Get all SpaceBoundaries of an IFC  instance \n",
    "\t\tparam _id: Ifc Instance\n",
    "\t\treturn: dict of attributes\n",
    "\t\"\"\"\n",
    "\tdict_space_relations = {}\n",
    "\tlist_spaces = []\n",
    "\ttry:\n",
    "\t\trelating_spaces=[x.RelatingSpace for x in ifc_instance.ProvidesBoundaries]\n",
    "\t\t\n",
    "\texcept:\n",
    "\t\tdict_space_relations.update({ifc_instance.GlobalId: \"No Spaces found\"})\n",
    "\telse:\n",
    "\t\tfor rel in relating_spaces:\n",
    "\t\t\tlist_spaces.append(rel.id())\n",
    "\t\t\t\n",
    "\tfinally:\n",
    "\t\t#dict_space_relations[ifc_file[_id].GlobalId]= list_spaces\n",
    "\t\treturn list_spaces\n",
    "\n",
    "def get_pset_single_value_by_args(ifc_instance, pset_name, pset_attribute):\n",
    "\t\"\"\" Return a specific single value from a space pset\n",
    "\t\tparam _id: ifc instance\n",
    "\t\tparam pset_name: Name of Pset\n",
    "\t\tparam pset_attribute: Name of Pset attribute\n",
    "\t\treturn: Nominal value \n",
    "\t\"\"\"\n",
    "\ttry:\n",
    "\t\tdefined_by= ifc_instance.IsDefinedBy\n",
    "\t\t\n",
    "\texcept:\n",
    "\t\tprint(\"Type Value Exception for IfcGlobalID \"+ ifc_instance.GlobalId)\n",
    "\telse:\n",
    "\t\tfor defin in defined_by:\n",
    "\t\t\tif defin.is_a(\"IfcRelDefinesByProperties\"):\n",
    "\t\t\t\tpsets = defin.RelatingPropertyDefinition\n",
    "\t\t\t\tif psets.Name == _pset_name:\n",
    "\t\t\t\t\tsingle_values = psets.HasProperties\n",
    "\t\t\t\t\tfor value in single_values:\n",
    "\t\t\t\t\t\tif value.Name == _pset_attribute:\n",
    "\t\t\t\t\t\t\t_nominal_value = value.NominalValue.wrappedValue\n",
    "\t\t\t\t\t\t\treturn _nominal_value\n",
    "\n",
    "\n",
    "\n",
    "def get_space_relation(ifc_instance):\n",
    "\t\"\"\" Get all SpaceBoundaries of an ifc instance by given Ifc-instance\n",
    "\t\targs:\n",
    "        ifc_instance: id of instance\n",
    "\t    returns:\n",
    "        list of related spaces as ifc-instance\n",
    "\t\"\"\"\n",
    "\tspaces_list = []\n",
    "\ttry:\n",
    "\t\trelating_spaces=[x.RelatingSpace for x in ifc_instance.ProvidesBoundaries]\n",
    "\t\t\n",
    "\texcept:\n",
    "\t\tprint(ifc_instance.GlobalId + \": No Spaces found\")\n",
    "\telse:\n",
    "\t\tfor rel in relating_spaces:\n",
    "\t\t\tspaces_list.append(rel)\n",
    "\t\t\t\n",
    "\tfinally:\n",
    "\t\treturn spaces_list\n",
    "    \n",
    "def get_quantity_single_value(x):\n",
    "    \"\"\"\n",
    "    Returns a dict of dicts of IfcElementQuantity single values.\n",
    "    Returning a dictionary of dictionaries\n",
    "    is used, because it is easy to transform to pandas.DataFrame \n",
    "    argument: IFC Element as contained in list from get_related_property_sets()\n",
    "    return: dict of property single values like {\"IfcName\":\"xx\", \"IfcGlobalId\": \"klkhlkh\", ......}\n",
    "    \"\"\"\n",
    "    quantities_dicts = {}\n",
    "    for y in x.Quantities:\n",
    "        if y.is_a('IfcQuantityArea'):\n",
    "            quantities_dicts.update({y.Name:y.AreaValue})\n",
    "        if y.is_a('IfcQuantityLength'):\n",
    "            quantities_dicts.update({y.Name:y.LengthValue})\n",
    "        if y.is_a('IfcQuantityVolume'):\n",
    "            quantities_dicts.update({y.Name:y.VolumeValue})\n",
    "        if y.is_a('IfcQuantityCount'):\n",
    "            quantities_dicts.update({y.Name:y.CountValue})\n",
    "        if y.is_a('IfcQuantityWeight'):\n",
    "            quantities_dicts.update({y.Name:y.WeightValue})\n",
    "        \n",
    "    return quantities_dicts \n",
    "\n",
    "def get_related_quantities(ifc_instance):\n",
    "    \"\"\"\n",
    "    Returns a list of IfcElementQuantity for given IFC ID\n",
    "    argument: ifc_instance\n",
    "    return: list of property sets\n",
    "    \"\"\"\n",
    "    quantities_list =[]\n",
    "    for x in ifc_instance.IsDefinedBy:\n",
    "        if x.is_a(\"IfcRelDefinesByProperties\"):\n",
    "            if x.RelatingPropertyDefinition.is_a(\"IfcElementQuantity\"):\n",
    "                quantities_list.append(x.RelatingPropertyDefinition)\n",
    "    return quantities_list   "
   ]
  },
  {
   "cell_type": "code",
   "execution_count": null,
   "id": "ff11642e",
   "metadata": {},
   "outputs": [],
   "source": []
  },
  {
   "cell_type": "code",
   "execution_count": 57,
   "id": "749330cf",
   "metadata": {},
   "outputs": [],
   "source": [
    "walls = ifc_file.by_type('IfcWall')\n",
    "wall_qnty = get_quantity_single_value(get_related_quantities(walls[0])[0])"
   ]
  },
  {
   "cell_type": "code",
   "execution_count": 58,
   "id": "6a48ad3d",
   "metadata": {},
   "outputs": [],
   "source": [
    "wall_qnty\n",
    "wall_qnty['NetSideArea']\n",
    "wall_area = (0.99 * walls_qnty['NetSideArea']) /2"
   ]
  },
  {
   "cell_type": "code",
   "execution_count": null,
   "id": "5e6544a5",
   "metadata": {},
   "outputs": [],
   "source": [
    "walls_qnty"
   ]
  },
  {
   "cell_type": "code",
   "execution_count": 62,
   "id": "9b45c94c",
   "metadata": {},
   "outputs": [
    {
     "data": {
      "text/plain": [
       "[#208=IfcWallStandardCase('0XKS9_JrzCLBvqx8CYyH2y',#41,'Ściana podstawowa:Ogólne - 200 mm:331325',$,'Ściana podstawowa:Ogólne - 200 mm',#156,#204,'331325'),\n",
       " #390=IfcWallStandardCase('0XKS9_JrzCLBvqx80YyH2y',#41,'Ściana podstawowa:Ogólne - 200 mm:331325',$,'Ściana podstawowa:Ogólne - 200 mm',#347,#388,'331325'),\n",
       " #501=IfcWallStandardCase('0XKS9_JrzCLBvqx8CYyH3O',#41,'Ściana podstawowa:Ogólne - 200 mm:331353',$,'Ściana podstawowa:Ogólne - 200 mm',#463,#499,'331353'),\n",
       " #593=IfcWallStandardCase('0XKS9_JrzCLBvqx80YyH3O',#41,'Ściana podstawowa:Ogólne - 200 mm:331353',$,'Ściana podstawowa:Ogólne - 200 mm',#553,#591,'331353'),\n",
       " #699=IfcWallStandardCase('0XKS9_JrzCLBvqx8CYyH07',#41,'Ściana podstawowa:Ogólne - 200 mm:331398',$,'Ściana podstawowa:Ogólne - 200 mm',#661,#697,'331398'),\n",
       " #791=IfcWallStandardCase('0XKS9_JrzCLBvqx80YyH07',#41,'Ściana podstawowa:Ogólne - 200 mm:331398',$,'Ściana podstawowa:Ogólne - 200 mm',#751,#789,'331398'),\n",
       " #897=IfcWallStandardCase('0XKS9_JrzCLBvqx8CYyH0u',#41,'Ściana podstawowa:Ogólne - 200 mm:331449',$,'Ściana podstawowa:Ogólne - 200 mm',#859,#895,'331449'),\n",
       " #989=IfcWallStandardCase('0XKS9_JrzCLBvqx80YyH0u',#41,'Ściana podstawowa:Ogólne - 200 mm:331449',$,'Ściana podstawowa:Ogólne - 200 mm',#949,#987,'331449'),\n",
       " #1091=IfcWallStandardCase('0XKS9_JrzCLBvqx8CYyH1e',#41,'Ściana podstawowa:Ogólne - 200 mm:331497',$,'Ściana podstawowa:Ogólne - 200 mm',#1055,#1089,'331497'),\n",
       " #1179=IfcWallStandardCase('0XKS9_JrzCLBvqx80YyH1e',#41,'Ściana podstawowa:Ogólne - 200 mm:331497',$,'Ściana podstawowa:Ogólne - 200 mm',#1141,#1177,'331497')]"
      ]
     },
     "execution_count": 62,
     "metadata": {},
     "output_type": "execute_result"
    }
   ],
   "source": [
    "walls"
   ]
  },
  {
   "cell_type": "code",
   "execution_count": 67,
   "id": "8158cbd7",
   "metadata": {},
   "outputs": [
    {
     "data": {
      "text/plain": [
       "[#225=IfcElementQuantity('0qf6TDzLHCLvfv2SH50zjO',#41,'BaseQuantities',$,$,(#217,#218,#219,#220,#221,#222,#223,#224))]"
      ]
     },
     "execution_count": 67,
     "metadata": {},
     "output_type": "execute_result"
    }
   ],
   "source": [
    "get_related_quantities(walls[0])"
   ]
  },
  {
   "cell_type": "code",
   "execution_count": 72,
   "id": "9a22c588",
   "metadata": {},
   "outputs": [
    {
     "data": {
      "text/plain": [
       "range(0, 10)"
      ]
     },
     "execution_count": 72,
     "metadata": {},
     "output_type": "execute_result"
    }
   ],
   "source": [
    "range(len(walls))"
   ]
  },
  {
   "cell_type": "code",
   "execution_count": 74,
   "id": "413e1058",
   "metadata": {},
   "outputs": [
    {
     "name": "stdout",
     "output_type": "stream",
     "text": [
      "0\n",
      "1\n",
      "2\n",
      "3\n",
      "4\n",
      "5\n",
      "6\n",
      "7\n",
      "8\n",
      "9\n"
     ]
    }
   ],
   "source": [
    "for i in range(0, 10):\n",
    "    print(i)"
   ]
  },
  {
   "cell_type": "code",
   "execution_count": 76,
   "id": "1db72cab",
   "metadata": {},
   "outputs": [
    {
     "name": "stdout",
     "output_type": "stream",
     "text": [
      "0\n"
     ]
    },
    {
     "ename": "IndexError",
     "evalue": "list index out of range",
     "output_type": "error",
     "traceback": [
      "\u001b[1;31m---------------------------------------------------------------------------\u001b[0m",
      "\u001b[1;31mIndexError\u001b[0m                                Traceback (most recent call last)",
      "\u001b[1;32m<ipython-input-76-797bc027c0cc>\u001b[0m in \u001b[0;36m<module>\u001b[1;34m\u001b[0m\n\u001b[0;32m      2\u001b[0m \u001b[1;32mfor\u001b[0m \u001b[0mi\u001b[0m \u001b[1;32min\u001b[0m \u001b[0mrange\u001b[0m\u001b[1;33m(\u001b[0m\u001b[0mlen\u001b[0m\u001b[1;33m(\u001b[0m\u001b[0mwalls\u001b[0m\u001b[1;33m)\u001b[0m\u001b[1;33m)\u001b[0m\u001b[1;33m:\u001b[0m\u001b[1;33m\u001b[0m\u001b[1;33m\u001b[0m\u001b[0m\n\u001b[0;32m      3\u001b[0m     \u001b[0mprint\u001b[0m\u001b[1;33m(\u001b[0m\u001b[0mi\u001b[0m\u001b[1;33m)\u001b[0m\u001b[1;33m\u001b[0m\u001b[1;33m\u001b[0m\u001b[0m\n\u001b[1;32m----> 4\u001b[1;33m     \u001b[0mwall\u001b[0m\u001b[1;33m[\u001b[0m\u001b[0mi\u001b[0m\u001b[1;33m]\u001b[0m\u001b[1;33m\u001b[0m\u001b[1;33m\u001b[0m\u001b[0m\n\u001b[0m",
      "\u001b[1;31mIndexError\u001b[0m: list index out of range"
     ]
    }
   ],
   "source": [
    "wall = list()\n",
    "for i in range(len(walls)):\n",
    "    print(i)\n",
    "    wall[i] "
   ]
  },
  {
   "cell_type": "code",
   "execution_count": 78,
   "id": "889dec2b",
   "metadata": {},
   "outputs": [],
   "source": [
    "wall = list()\n",
    "for i in range(len(walls)):\n",
    "    wall.append(get_related_quantities(walls[i]))"
   ]
  },
  {
   "cell_type": "code",
   "execution_count": 83,
   "id": "74bcd9cb",
   "metadata": {},
   "outputs": [],
   "source": [
    "wall_qnty = list()\n",
    "for i in range(len(walls)):\n",
    "    quantities = get_quantity_single_value(get_related_quantities(walls[i])[0])\n",
    "    wall_qnty.append(quantities['NetSideArea'])"
   ]
  },
  {
   "cell_type": "code",
   "execution_count": 84,
   "id": "7589304f",
   "metadata": {},
   "outputs": [
    {
     "data": {
      "text/plain": [
       "[148.44322028839,\n",
       " 148.44322028839,\n",
       " 103.802033989102,\n",
       " 106.853653989102,\n",
       " 85.7784791608442,\n",
       " 85.7784791608442,\n",
       " 121.376966164673,\n",
       " 121.554806164673,\n",
       " 139.769605302175,\n",
       " 139.769605302175]"
      ]
     },
     "execution_count": 84,
     "metadata": {},
     "output_type": "execute_result"
    }
   ],
   "source": [
    "wall_qnty #"
   ]
  },
  {
   "cell_type": "code",
   "execution_count": 87,
   "id": "88d8f436",
   "metadata": {},
   "outputs": [
    {
     "data": {
      "text/plain": [
       "594.7771845561323"
      ]
     },
     "execution_count": 87,
     "metadata": {},
     "output_type": "execute_result"
    }
   ],
   "source": []
  },
  {
   "cell_type": "code",
   "execution_count": null,
   "id": "e45af3ce",
   "metadata": {},
   "outputs": [],
   "source": []
  },
  {
   "cell_type": "code",
   "execution_count": null,
   "id": "6c13ed01",
   "metadata": {},
   "outputs": [],
   "source": []
  },
  {
   "cell_type": "code",
   "execution_count": null,
   "id": "b1344bb3",
   "metadata": {},
   "outputs": [],
   "source": []
  }
 ],
 "metadata": {
  "kernelspec": {
   "display_name": "Python 3",
   "language": "python",
   "name": "python3"
  },
  "language_info": {
   "codemirror_mode": {
    "name": "ipython",
    "version": 3
   },
   "file_extension": ".py",
   "mimetype": "text/x-python",
   "name": "python",
   "nbconvert_exporter": "python",
   "pygments_lexer": "ipython3",
   "version": "3.7.6"
  }
 },
 "nbformat": 4,
 "nbformat_minor": 5
}
