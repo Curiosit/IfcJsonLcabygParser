{
 "cells": [
  {
   "cell_type": "code",
   "execution_count": 1,
   "id": "c01d3fbb",
   "metadata": {},
   "outputs": [],
   "source": [
    "# IFC Parser\n",
    "# Based on:\n",
    "# https://thinkmoult.com/using-ifcopenshell-parse-ifc-files-python.html\n",
    "# https://github.com/johannesmichael/ifc-python/blob/master/modules/ifc_pset_utils.py\n",
    "# https://www.kaggle.com/code/ponybiam/introduction-to-ifcopenshell-functions/notebook\n",
    "# https://blenderbim.org/docs-python/ifcopenshell-python/hello_world.html\n",
    "\n",
    "import ifcopenshell\n",
    "import ifcHelper \n",
    "import pandas as pd\n",
    "import numpy as np"
   ]
  },
  {
   "cell_type": "markdown",
   "id": "67829ddc",
   "metadata": {},
   "source": [
    "## Import the file"
   ]
  },
  {
   "cell_type": "code",
   "execution_count": 2,
   "id": "92d8a0e3",
   "metadata": {},
   "outputs": [
    {
     "name": "stdout",
     "output_type": "stream",
     "text": [
      "File loaded successfully\n"
     ]
    }
   ],
   "source": [
    "try:\n",
    "  ifc_file = ifcopenshell.open('ifc_test_file.ifc')\n",
    "  print(\"File loaded successfully\")\n",
    "except:\n",
    "  print(\"An exception occurred\")\n",
    "\n"
   ]
  },
  {
   "cell_type": "markdown",
   "id": "6aaf1b26",
   "metadata": {},
   "source": [
    "\n"
   ]
  },
  {
   "cell_type": "code",
   "execution_count": null,
   "id": "4324a373",
   "metadata": {},
   "outputs": [],
   "source": []
  },
  {
   "cell_type": "code",
   "execution_count": 4,
   "id": "11b88355",
   "metadata": {},
   "outputs": [
    {
     "name": "stdout",
     "output_type": "stream",
     "text": [
      "File version:\n",
      "IFC2X3\n"
     ]
    }
   ],
   "source": [
    "print (\"File version:\")\n",
    "print (ifc_file.schema)\n",
    "## Script is written for IFC2X3"
   ]
  },
  {
   "cell_type": "code",
   "execution_count": 5,
   "id": "88cc60c3",
   "metadata": {},
   "outputs": [
    {
     "name": "stdout",
     "output_type": "stream",
     "text": [
      "There are 10 walls, 2 windows, 1 doors , 5 slabs and 0 flow segments in the file\n"
     ]
    }
   ],
   "source": [
    "no_walls = len(ifc_file.by_type(\"IfcWall\"))\n",
    "no_windows = len(ifc_file.by_type(\"IfcWindow\"))\n",
    "no_doors = len(ifc_file.by_type(\"IfcDoor\"))\n",
    "no_slabs = len(ifc_file.by_type(\"IfcSlab\"))\n",
    "no_flo_segments = len(ifc_file.by_type(\"IfcFlowSegment\"))\n",
    "\n",
    "print(\"There are {} walls, {} windows, {} doors , {} slabs and {} flow segments in the file\".format(no_walls,no_windows,no_doors, no_slabs, no_flo_segments))"
   ]
  },
  {
   "cell_type": "markdown",
   "id": "a7ad0a19",
   "metadata": {},
   "source": [
    "## Get the info about Walls"
   ]
  },
  {
   "cell_type": "code",
   "execution_count": 6,
   "id": "e97f822a",
   "metadata": {},
   "outputs": [],
   "source": [
    "## Get all walls by_type: IfcWall\n",
    "##\n",
    "walls = ifc_file.by_type('IfcWall')"
   ]
  },
  {
   "cell_type": "code",
   "execution_count": 7,
   "id": "c78b5a89",
   "metadata": {},
   "outputs": [
    {
     "data": {
      "text/plain": [
       "#183=IfcWallStandardCase('0XKS9_JrzCLBvqx8CYyH2y',#41,'Basic Wall:Z01:331325',$,'Basic Wall:Z01',#137,#179,'331325')"
      ]
     },
     "execution_count": 7,
     "metadata": {},
     "output_type": "execute_result"
    }
   ],
   "source": [
    "walls[0]"
   ]
  },
  {
   "cell_type": "code",
   "execution_count": 8,
   "id": "70f43325",
   "metadata": {},
   "outputs": [
    {
     "name": "stdout",
     "output_type": "stream",
     "text": [
      "The Name of walls[0] is Basic Wall:Z01\n",
      "The Description of walls[0] is None\n"
     ]
    }
   ],
   "source": [
    "# print \"a_wall\"s Name attribute\n",
    "print(\"The Name of walls[0] is %s\"%(walls[0].ObjectType))\n",
    "# print \"a_wall\"s Description attribute\n",
    "print(\"The Description of walls[0] is %s\"%(walls[0].Description))"
   ]
  },
  {
   "cell_type": "code",
   "execution_count": 9,
   "id": "434e5b1e",
   "metadata": {},
   "outputs": [],
   "source": [
    "## Wall elevation area can be calculated using the volume/thickness"
   ]
  },
  {
   "cell_type": "code",
   "execution_count": 10,
   "id": "ed131e47",
   "metadata": {},
   "outputs": [],
   "source": [
    "walls_volumes = list()\n",
    "walls_thickness = list()\n",
    "walls_areas = list()\n",
    "walls_types = list()\n",
    "for i in range(len(walls)):\n",
    "    quantities = ifcHelper.get_quantity_single_value(ifcHelper.get_related_quantities(walls[i])[0])\n",
    "    walls_volumes.append(quantities['NetVolume'])\n",
    "    walls_thickness.append(quantities['Width']/1000)\n",
    "    walls_areas.append(walls_volumes[i]/walls_thickness[i])\n",
    "    walls_types.append(walls[i].ObjectType)\n",
    "    \n",
    "## Get volumes, thickness and calculate areas\n",
    "## Get wall types"
   ]
  },
  {
   "cell_type": "code",
   "execution_count": 11,
   "id": "9ee2a0ca",
   "metadata": {},
   "outputs": [
    {
     "name": "stdout",
     "output_type": "stream",
     "text": [
      "Total wall area in the IFC file:\n",
      "552.9350204145787\n"
     ]
    }
   ],
   "source": [
    "print ('Total wall area in the IFC file:')\n",
    "print (sum(walls_areas))"
   ]
  },
  {
   "cell_type": "code",
   "execution_count": 12,
   "id": "be0f0e30",
   "metadata": {},
   "outputs": [],
   "source": [
    "d = {'Type':walls_types,'Area':walls_areas}\n",
    "wall_df = pd.DataFrame(d)\n",
    "wall_types_sum = wall_df.groupby('Type')['Area'].sum()"
   ]
  },
  {
   "cell_type": "code",
   "execution_count": 13,
   "id": "3e672379",
   "metadata": {},
   "outputs": [],
   "source": [
    " wall_types_sum_df = pd.DataFrame(wall_types_sum)"
   ]
  },
  {
   "cell_type": "code",
   "execution_count": 14,
   "id": "b03e0e06",
   "metadata": {},
   "outputs": [
    {
     "data": {
      "text/html": [
       "<div>\n",
       "<style scoped>\n",
       "    .dataframe tbody tr th:only-of-type {\n",
       "        vertical-align: middle;\n",
       "    }\n",
       "\n",
       "    .dataframe tbody tr th {\n",
       "        vertical-align: top;\n",
       "    }\n",
       "\n",
       "    .dataframe thead th {\n",
       "        text-align: right;\n",
       "    }\n",
       "</style>\n",
       "<table border=\"1\" class=\"dataframe\">\n",
       "  <thead>\n",
       "    <tr style=\"text-align: right;\">\n",
       "      <th></th>\n",
       "      <th>Area</th>\n",
       "    </tr>\n",
       "    <tr>\n",
       "      <th>Type</th>\n",
       "      <th></th>\n",
       "    </tr>\n",
       "  </thead>\n",
       "  <tbody>\n",
       "    <tr>\n",
       "      <th>Basic Wall:Z01</th>\n",
       "      <td>323.497947</td>\n",
       "    </tr>\n",
       "    <tr>\n",
       "      <th>Basic Wall:Z02</th>\n",
       "      <td>229.437074</td>\n",
       "    </tr>\n",
       "  </tbody>\n",
       "</table>\n",
       "</div>"
      ],
      "text/plain": [
       "                      Area\n",
       "Type                      \n",
       "Basic Wall:Z01  323.497947\n",
       "Basic Wall:Z02  229.437074"
      ]
     },
     "execution_count": 14,
     "metadata": {},
     "output_type": "execute_result"
    }
   ],
   "source": [
    " wall_types_sum_df "
   ]
  },
  {
   "cell_type": "markdown",
   "id": "827419bf",
   "metadata": {},
   "source": [
    "## Get the info about Slabs\n"
   ]
  },
  {
   "cell_type": "code",
   "execution_count": 15,
   "id": "6ffb43cf",
   "metadata": {},
   "outputs": [],
   "source": [
    "slabs = ifc_file.by_type('IfcSlab')"
   ]
  },
  {
   "cell_type": "code",
   "execution_count": 16,
   "id": "43e1e928",
   "metadata": {},
   "outputs": [],
   "source": [
    "\n",
    "slabs_areas = list()\n",
    "slabs_types = list()\n",
    "for i in range(len(slabs)):\n",
    "    quantities_slabs = ifcHelper.get_quantity_single_value(ifcHelper.get_related_quantities(slabs[i])[0])\n",
    "    slabs_areas.append(quantities_slabs['NetArea'])\n",
    "   \n",
    "\n",
    "    slabs_types.append(slabs[i].ObjectType)\n",
    "    \n",
    "## Get volumes, thickness and calculate areas\n",
    "## Get wall types"
   ]
  },
  {
   "cell_type": "code",
   "execution_count": 17,
   "id": "0032dc35",
   "metadata": {},
   "outputs": [],
   "source": [
    "d_s = {'Type':slabs_types,'Area':slabs_areas}\n",
    "slabs_df = pd.DataFrame(d_s)\n",
    "slabs_types_sum = slabs_df.groupby('Type')['Area'].sum()"
   ]
  },
  {
   "cell_type": "code",
   "execution_count": 18,
   "id": "61f9a0c4",
   "metadata": {},
   "outputs": [],
   "source": [
    " slabs_types_sum_df = pd.DataFrame(slabs_types_sum)"
   ]
  },
  {
   "cell_type": "code",
   "execution_count": 19,
   "id": "cfdec83f",
   "metadata": {},
   "outputs": [
    {
     "data": {
      "text/html": [
       "<div>\n",
       "<style scoped>\n",
       "    .dataframe tbody tr th:only-of-type {\n",
       "        vertical-align: middle;\n",
       "    }\n",
       "\n",
       "    .dataframe tbody tr th {\n",
       "        vertical-align: top;\n",
       "    }\n",
       "\n",
       "    .dataframe thead th {\n",
       "        text-align: right;\n",
       "    }\n",
       "</style>\n",
       "<table border=\"1\" class=\"dataframe\">\n",
       "  <thead>\n",
       "    <tr style=\"text-align: right;\">\n",
       "      <th></th>\n",
       "      <th>Area</th>\n",
       "    </tr>\n",
       "    <tr>\n",
       "      <th>Type</th>\n",
       "      <th></th>\n",
       "    </tr>\n",
       "  </thead>\n",
       "  <tbody>\n",
       "    <tr>\n",
       "      <th>Basic Roof:Ogólne - 400 mm</th>\n",
       "      <td>1992.181745</td>\n",
       "    </tr>\n",
       "    <tr>\n",
       "      <th>Floor:Ogólne 150 mm</th>\n",
       "      <td>377.670000</td>\n",
       "    </tr>\n",
       "  </tbody>\n",
       "</table>\n",
       "</div>"
      ],
      "text/plain": [
       "                                   Area\n",
       "Type                                   \n",
       "Basic Roof:Ogólne - 400 mm  1992.181745\n",
       "Floor:Ogólne 150 mm          377.670000"
      ]
     },
     "execution_count": 19,
     "metadata": {},
     "output_type": "execute_result"
    }
   ],
   "source": [
    " slabs_types_sum_df"
   ]
  },
  {
   "cell_type": "markdown",
   "id": "dbbecff0",
   "metadata": {},
   "source": [
    "## Get the info about Windows\n"
   ]
  },
  {
   "cell_type": "code",
   "execution_count": 20,
   "id": "56f3bdab",
   "metadata": {},
   "outputs": [],
   "source": [
    "windows = ifc_file.by_type('IfcWindow')"
   ]
  },
  {
   "cell_type": "code",
   "execution_count": 21,
   "id": "c012f669",
   "metadata": {},
   "outputs": [
    {
     "data": {
      "text/plain": [
       "[#1557=IfcWindow('0XKS9_JrzCLBvqv88YyH1n',#41,'M_Stałe:O02:331504',$,'M_Stałe:O02',#15459,#1549,'331504',1830.,915.),\n",
       " #1787=IfcWindow('0XKS9_JrzCLBvqv88YyH1s',#41,'M_Stałe:O01:331511',$,'M_Stałe:O01',#15494,#1779,'331511',609.999999999999,406.)]"
      ]
     },
     "execution_count": 21,
     "metadata": {},
     "output_type": "execute_result"
    }
   ],
   "source": [
    "windows"
   ]
  },
  {
   "cell_type": "code",
   "execution_count": 22,
   "id": "d7e96fe5",
   "metadata": {},
   "outputs": [
    {
     "name": "stdout",
     "output_type": "stream",
     "text": [
      "The Name of windows[0] is M_Stałe:O02\n",
      "The Description of windows[0] is None\n"
     ]
    }
   ],
   "source": [
    "\n",
    "print(\"The Name of windows[0] is %s\"%(windows[0].ObjectType))\n",
    "\n",
    "print(\"The Description of windows[0] is %s\"%(windows[0].Description))"
   ]
  },
  {
   "cell_type": "code",
   "execution_count": 23,
   "id": "223fdf1f",
   "metadata": {},
   "outputs": [],
   "source": [
    "quantities = ifcHelper.get_quantity_single_value(ifcHelper.get_related_quantities(windows[0])[0])"
   ]
  },
  {
   "cell_type": "code",
   "execution_count": 24,
   "id": "62189d30",
   "metadata": {},
   "outputs": [
    {
     "data": {
      "text/plain": [
       "{'Height': 1830.0, 'Width': 915.0, 'Area': 3.17875400000013}"
      ]
     },
     "execution_count": 24,
     "metadata": {},
     "output_type": "execute_result"
    }
   ],
   "source": [
    "quantities"
   ]
  },
  {
   "cell_type": "code",
   "execution_count": 25,
   "id": "6a217052",
   "metadata": {},
   "outputs": [],
   "source": [
    "windows_types = list()\n",
    "windows_areas = list()\n",
    "for i in range(len(windows)):\n",
    "    quantities_windows = ifcHelper.get_quantity_single_value(ifcHelper.get_related_quantities(windows[i])[0])\n",
    "    windows_areas.append(quantities_windows['Area'])\n",
    "    windows_types.append(windows[i].ObjectType)"
   ]
  },
  {
   "cell_type": "code",
   "execution_count": 26,
   "id": "5bfebb77",
   "metadata": {},
   "outputs": [],
   "source": [
    "w_s = {'Type':windows_types,'Area':windows_areas}\n",
    "windows_df = pd.DataFrame(w_s)\n",
    "windows_types_sum = windows_df.groupby('Type')['Area'].sum()"
   ]
  },
  {
   "cell_type": "code",
   "execution_count": 27,
   "id": "e6cd2673",
   "metadata": {},
   "outputs": [],
   "source": [
    "windows_types_sum_df =  pd.DataFrame(windows_types_sum)"
   ]
  },
  {
   "cell_type": "code",
   "execution_count": 28,
   "id": "2e349b9f",
   "metadata": {},
   "outputs": [
    {
     "data": {
      "text/html": [
       "<div>\n",
       "<style scoped>\n",
       "    .dataframe tbody tr th:only-of-type {\n",
       "        vertical-align: middle;\n",
       "    }\n",
       "\n",
       "    .dataframe tbody tr th {\n",
       "        vertical-align: top;\n",
       "    }\n",
       "\n",
       "    .dataframe thead th {\n",
       "        text-align: right;\n",
       "    }\n",
       "</style>\n",
       "<table border=\"1\" class=\"dataframe\">\n",
       "  <thead>\n",
       "    <tr style=\"text-align: right;\">\n",
       "      <th></th>\n",
       "      <th>Area</th>\n",
       "    </tr>\n",
       "    <tr>\n",
       "      <th>Type</th>\n",
       "      <th></th>\n",
       "    </tr>\n",
       "  </thead>\n",
       "  <tbody>\n",
       "    <tr>\n",
       "      <th>M_Stałe:O01</th>\n",
       "      <td>0.776808</td>\n",
       "    </tr>\n",
       "    <tr>\n",
       "      <th>M_Stałe:O02</th>\n",
       "      <td>3.178754</td>\n",
       "    </tr>\n",
       "  </tbody>\n",
       "</table>\n",
       "</div>"
      ],
      "text/plain": [
       "                 Area\n",
       "Type                 \n",
       "M_Stałe:O01  0.776808\n",
       "M_Stałe:O02  3.178754"
      ]
     },
     "execution_count": 28,
     "metadata": {},
     "output_type": "execute_result"
    }
   ],
   "source": [
    "windows_types_sum_df"
   ]
  },
  {
   "cell_type": "markdown",
   "id": "ee02f28b",
   "metadata": {},
   "source": [
    "## Get the info about Doors\n"
   ]
  },
  {
   "cell_type": "code",
   "execution_count": 29,
   "id": "abc0fb86",
   "metadata": {},
   "outputs": [],
   "source": [
    "doors = ifc_file.by_type('IfcDoor')"
   ]
  },
  {
   "cell_type": "code",
   "execution_count": 30,
   "id": "16ba3c42",
   "metadata": {},
   "outputs": [],
   "source": [
    "quantities = ifcHelper.get_quantity_single_value(ifcHelper.get_related_quantities(doors[0])[0])"
   ]
  },
  {
   "cell_type": "code",
   "execution_count": 31,
   "id": "1794e5b5",
   "metadata": {},
   "outputs": [
    {
     "data": {
      "text/plain": [
       "{'Height': 2134.0, 'Width': 915.0, 'Area': 3.18957899999998}"
      ]
     },
     "execution_count": 31,
     "metadata": {},
     "output_type": "execute_result"
    }
   ],
   "source": [
    "quantities"
   ]
  },
  {
   "cell_type": "code",
   "execution_count": 32,
   "id": "a6c1274a",
   "metadata": {},
   "outputs": [],
   "source": [
    "doors_types = list()\n",
    "doors_areas = list()\n",
    "for i in range(len(doors)):\n",
    "    quantities_doors = ifcHelper.get_quantity_single_value(ifcHelper.get_related_quantities(doors[i])[0])\n",
    "    doors_areas.append(quantities_doors['Area'])\n",
    "    doors_types.append(doors[i].ObjectType)"
   ]
  },
  {
   "cell_type": "code",
   "execution_count": 33,
   "id": "e0de4eb5",
   "metadata": {},
   "outputs": [],
   "source": [
    "dr_s = {'Type':doors_types,'Area':doors_areas}\n",
    "doors_df = pd.DataFrame(dr_s)\n",
    "doors_types_sum = doors_df.groupby('Type')['Area'].sum()"
   ]
  },
  {
   "cell_type": "code",
   "execution_count": 34,
   "id": "316fdf94",
   "metadata": {},
   "outputs": [],
   "source": [
    "doors_types_sum_df =  pd.DataFrame(doors_types_sum)"
   ]
  },
  {
   "cell_type": "code",
   "execution_count": 35,
   "id": "eea8f3f2",
   "metadata": {},
   "outputs": [
    {
     "data": {
      "text/html": [
       "<div>\n",
       "<style scoped>\n",
       "    .dataframe tbody tr th:only-of-type {\n",
       "        vertical-align: middle;\n",
       "    }\n",
       "\n",
       "    .dataframe tbody tr th {\n",
       "        vertical-align: top;\n",
       "    }\n",
       "\n",
       "    .dataframe thead th {\n",
       "        text-align: right;\n",
       "    }\n",
       "</style>\n",
       "<table border=\"1\" class=\"dataframe\">\n",
       "  <thead>\n",
       "    <tr style=\"text-align: right;\">\n",
       "      <th></th>\n",
       "      <th>Area</th>\n",
       "    </tr>\n",
       "    <tr>\n",
       "      <th>Type</th>\n",
       "      <th></th>\n",
       "    </tr>\n",
       "  </thead>\n",
       "  <tbody>\n",
       "    <tr>\n",
       "      <th>M_Jednoskrzydłowe płytowe:0915 x 2134mm</th>\n",
       "      <td>3.189579</td>\n",
       "    </tr>\n",
       "  </tbody>\n",
       "</table>\n",
       "</div>"
      ],
      "text/plain": [
       "                                             Area\n",
       "Type                                             \n",
       "M_Jednoskrzydłowe płytowe:0915 x 2134mm  3.189579"
      ]
     },
     "execution_count": 35,
     "metadata": {},
     "output_type": "execute_result"
    }
   ],
   "source": [
    "doors_types_sum_df"
   ]
  },
  {
   "cell_type": "code",
   "execution_count": null,
   "id": "550c764f",
   "metadata": {},
   "outputs": [],
   "source": []
  },
  {
   "cell_type": "markdown",
   "id": "34593f95",
   "metadata": {},
   "source": [
    "## Get the info about CW Mullions\n",
    "\n",
    "\n"
   ]
  },
  {
   "cell_type": "code",
   "execution_count": 36,
   "id": "29f9e73b",
   "metadata": {},
   "outputs": [],
   "source": [
    "cw_mullions = ifc_file.by_type('IfcMember')"
   ]
  },
  {
   "cell_type": "code",
   "execution_count": 37,
   "id": "1f4730fd",
   "metadata": {},
   "outputs": [],
   "source": [
    "quantities = ifcHelper.get_quantity_single_value(ifcHelper.get_related_quantities(cw_mullions[0])[0])"
   ]
  },
  {
   "cell_type": "code",
   "execution_count": 38,
   "id": "2d9cec73",
   "metadata": {},
   "outputs": [
    {
     "data": {
      "text/plain": [
       "[#9941=IfcElementQuantity('1TUusPmpLFzPBFUW$d6FcZ',#41,'BaseQuantities','',$,(#9939,#9940))]"
      ]
     },
     "execution_count": 38,
     "metadata": {},
     "output_type": "execute_result"
    }
   ],
   "source": [
    "ifcHelper.get_related_quantities(cw_mullions[0])"
   ]
  },
  {
   "cell_type": "code",
   "execution_count": 39,
   "id": "30a6b2ad",
   "metadata": {},
   "outputs": [
    {
     "data": {
      "text/plain": [
       "{'Length': 21009.8295796457, 'CrossSectionArea': 168.078636637166}"
      ]
     },
     "execution_count": 39,
     "metadata": {},
     "output_type": "execute_result"
    }
   ],
   "source": [
    "quantities"
   ]
  },
  {
   "cell_type": "code",
   "execution_count": 40,
   "id": "3d97a447",
   "metadata": {},
   "outputs": [],
   "source": [
    "cw_mullions_types = list()\n",
    "cw_mullions_lengths = list()\n",
    "for i in range(len(cw_mullions)):\n",
    "    quantities_cw_mullions = ifcHelper.get_quantity_single_value(ifcHelper.get_related_quantities(cw_mullions[i])[0])\n",
    "    cw_mullions_lengths.append(quantities_cw_mullions['Length']/1000)\n",
    "    cw_mullions_types.append(cw_mullions[i].ObjectType)"
   ]
  },
  {
   "cell_type": "code",
   "execution_count": 41,
   "id": "6841ea70",
   "metadata": {},
   "outputs": [],
   "source": [
    "cw_m_s = {'Type':cw_mullions_types,'Length':cw_mullions_lengths}\n",
    "cw_mullions_df = pd.DataFrame(cw_m_s)\n",
    "cw_mullions_types_sum = cw_mullions_df.groupby('Type')['Length'].sum()"
   ]
  },
  {
   "cell_type": "code",
   "execution_count": 42,
   "id": "b6dd5a61",
   "metadata": {},
   "outputs": [],
   "source": [
    "cw_mullions_types_sum_df =  pd.DataFrame(cw_mullions_types_sum)"
   ]
  },
  {
   "cell_type": "code",
   "execution_count": 43,
   "id": "b599c264",
   "metadata": {},
   "outputs": [
    {
     "data": {
      "text/html": [
       "<div>\n",
       "<style scoped>\n",
       "    .dataframe tbody tr th:only-of-type {\n",
       "        vertical-align: middle;\n",
       "    }\n",
       "\n",
       "    .dataframe tbody tr th {\n",
       "        vertical-align: top;\n",
       "    }\n",
       "\n",
       "    .dataframe thead th {\n",
       "        text-align: right;\n",
       "    }\n",
       "</style>\n",
       "<table border=\"1\" class=\"dataframe\">\n",
       "  <thead>\n",
       "    <tr style=\"text-align: right;\">\n",
       "      <th></th>\n",
       "      <th>Length</th>\n",
       "    </tr>\n",
       "    <tr>\n",
       "      <th>Type</th>\n",
       "      <th></th>\n",
       "    </tr>\n",
       "  </thead>\n",
       "  <tbody>\n",
       "    <tr>\n",
       "      <th>Prostokątny szpros:50 x 150mm</th>\n",
       "      <td>1302.609434</td>\n",
       "    </tr>\n",
       "  </tbody>\n",
       "</table>\n",
       "</div>"
      ],
      "text/plain": [
       "                                    Length\n",
       "Type                                      \n",
       "Prostokątny szpros:50 x 150mm  1302.609434"
      ]
     },
     "execution_count": 43,
     "metadata": {},
     "output_type": "execute_result"
    }
   ],
   "source": [
    "cw_mullions_types_sum_df"
   ]
  },
  {
   "cell_type": "code",
   "execution_count": null,
   "id": "ffa8184e",
   "metadata": {},
   "outputs": [],
   "source": []
  },
  {
   "cell_type": "markdown",
   "id": "c1431b72",
   "metadata": {},
   "source": [
    "## Get the info about CW Panels\n",
    "\n"
   ]
  },
  {
   "cell_type": "code",
   "execution_count": 44,
   "id": "da548406",
   "metadata": {},
   "outputs": [],
   "source": [
    "cw_panels = ifc_file.by_type('IfcPlate')"
   ]
  },
  {
   "cell_type": "code",
   "execution_count": 45,
   "id": "2be4bb9e",
   "metadata": {},
   "outputs": [
    {
     "data": {
      "text/plain": [
       "#2898=IfcPlate('38uZGFQD9EDA60Kb6EDOKS',#41,'Panel systemowy:Bryła:332052',$,'Panel systemowy:Bryła',#2896,#2883,'332052')"
      ]
     },
     "execution_count": 45,
     "metadata": {},
     "output_type": "execute_result"
    }
   ],
   "source": [
    "cw_panels[0]"
   ]
  },
  {
   "cell_type": "code",
   "execution_count": 46,
   "id": "ef20eb65",
   "metadata": {},
   "outputs": [],
   "source": [
    "cw_panels_types = list()\n",
    "cw_panels_areas = list()\n",
    "for i in range(len(cw_panels)):\n",
    "    cw_panels_areas.append(ifcHelper.get_property_single_value(ifcHelper.get_related_property_sets(cw_panels[i])[1])['Area'])\n",
    "    cw_panels_types.append(cw_panels[i].ObjectType)"
   ]
  },
  {
   "cell_type": "code",
   "execution_count": 47,
   "id": "acc9c033",
   "metadata": {},
   "outputs": [],
   "source": [
    "cw_p_s = {'Type':cw_panels_types,'Area':cw_panels_areas}\n",
    "cw_panels_df = pd.DataFrame(cw_p_s)\n",
    "cw_panels_types_sum = cw_panels_df.groupby('Type')['Area'].sum()"
   ]
  },
  {
   "cell_type": "code",
   "execution_count": 48,
   "id": "55b2b75b",
   "metadata": {},
   "outputs": [
    {
     "data": {
      "text/plain": [
       "Type\n",
       "Panel systemowy:Bryła           39.472594\n",
       "Panel systemowy:Przeszklony    121.450327\n",
       "Name: Area, dtype: float64"
      ]
     },
     "execution_count": 48,
     "metadata": {},
     "output_type": "execute_result"
    }
   ],
   "source": [
    "cw_panels_types_sum"
   ]
  },
  {
   "cell_type": "code",
   "execution_count": null,
   "id": "2f14ca05",
   "metadata": {},
   "outputs": [],
   "source": []
  },
  {
   "cell_type": "markdown",
   "id": "322655df",
   "metadata": {},
   "source": [
    "## Get the info about Railings\n",
    "\n",
    "\n"
   ]
  },
  {
   "cell_type": "code",
   "execution_count": 49,
   "id": "0425871c",
   "metadata": {},
   "outputs": [],
   "source": [
    "railings = ifc_file.by_type('IfcRailing')"
   ]
  },
  {
   "cell_type": "code",
   "execution_count": 59,
   "id": "da61b7f3",
   "metadata": {},
   "outputs": [],
   "source": [
    "railings_types = list()\n",
    "railings_lengths = list()\n",
    "for i in range(len(railings)):\n",
    "    quantities_railings = ifcHelper.get_quantity_single_value(ifcHelper.get_related_quantities(railings[i])[0])\n",
    "    railings_lengths.append(quantities_railings['Length'])\n",
    "    railings_types.append(railings[i].ObjectType)"
   ]
  },
  {
   "cell_type": "code",
   "execution_count": 60,
   "id": "05978263",
   "metadata": {},
   "outputs": [],
   "source": [
    "rl_s = {'Type':railings_types,'Length':railings_lengths}\n",
    "railings_df = pd.DataFrame(rl_s)\n",
    "railings_types_sum = railings_df.groupby('Type')['Length'].sum()"
   ]
  },
  {
   "cell_type": "code",
   "execution_count": 61,
   "id": "09f3c412",
   "metadata": {},
   "outputs": [
    {
     "data": {
      "text/plain": [
       "Type\n",
       "Railing:1100mm                               19352.321841\n",
       "Railing:Panel szklany - dolne wypełnienie     8296.436118\n",
       "Name: Length, dtype: float64"
      ]
     },
     "execution_count": 61,
     "metadata": {},
     "output_type": "execute_result"
    }
   ],
   "source": [
    "railings_types_sum"
   ]
  },
  {
   "cell_type": "markdown",
   "id": "dd88b360",
   "metadata": {},
   "source": [
    "## Summary\n"
   ]
  },
  {
   "cell_type": "code",
   "execution_count": 50,
   "id": "d8582a45",
   "metadata": {},
   "outputs": [
    {
     "data": {
      "text/html": [
       "<div>\n",
       "<style scoped>\n",
       "    .dataframe tbody tr th:only-of-type {\n",
       "        vertical-align: middle;\n",
       "    }\n",
       "\n",
       "    .dataframe tbody tr th {\n",
       "        vertical-align: top;\n",
       "    }\n",
       "\n",
       "    .dataframe thead th {\n",
       "        text-align: right;\n",
       "    }\n",
       "</style>\n",
       "<table border=\"1\" class=\"dataframe\">\n",
       "  <thead>\n",
       "    <tr style=\"text-align: right;\">\n",
       "      <th></th>\n",
       "      <th>Area</th>\n",
       "    </tr>\n",
       "    <tr>\n",
       "      <th>Type</th>\n",
       "      <th></th>\n",
       "    </tr>\n",
       "  </thead>\n",
       "  <tbody>\n",
       "    <tr>\n",
       "      <th>M_Jednoskrzydłowe płytowe:0915 x 2134mm</th>\n",
       "      <td>3.189579</td>\n",
       "    </tr>\n",
       "  </tbody>\n",
       "</table>\n",
       "</div>"
      ],
      "text/plain": [
       "                                             Area\n",
       "Type                                             \n",
       "M_Jednoskrzydłowe płytowe:0915 x 2134mm  3.189579"
      ]
     },
     "execution_count": 50,
     "metadata": {},
     "output_type": "execute_result"
    }
   ],
   "source": [
    "## DOORS\n",
    "doors_types_sum_df"
   ]
  },
  {
   "cell_type": "code",
   "execution_count": 51,
   "id": "fb61f0fe",
   "metadata": {},
   "outputs": [
    {
     "data": {
      "text/html": [
       "<div>\n",
       "<style scoped>\n",
       "    .dataframe tbody tr th:only-of-type {\n",
       "        vertical-align: middle;\n",
       "    }\n",
       "\n",
       "    .dataframe tbody tr th {\n",
       "        vertical-align: top;\n",
       "    }\n",
       "\n",
       "    .dataframe thead th {\n",
       "        text-align: right;\n",
       "    }\n",
       "</style>\n",
       "<table border=\"1\" class=\"dataframe\">\n",
       "  <thead>\n",
       "    <tr style=\"text-align: right;\">\n",
       "      <th></th>\n",
       "      <th>Area</th>\n",
       "    </tr>\n",
       "    <tr>\n",
       "      <th>Type</th>\n",
       "      <th></th>\n",
       "    </tr>\n",
       "  </thead>\n",
       "  <tbody>\n",
       "    <tr>\n",
       "      <th>M_Stałe:O01</th>\n",
       "      <td>0.776808</td>\n",
       "    </tr>\n",
       "    <tr>\n",
       "      <th>M_Stałe:O02</th>\n",
       "      <td>3.178754</td>\n",
       "    </tr>\n",
       "  </tbody>\n",
       "</table>\n",
       "</div>"
      ],
      "text/plain": [
       "                 Area\n",
       "Type                 \n",
       "M_Stałe:O01  0.776808\n",
       "M_Stałe:O02  3.178754"
      ]
     },
     "execution_count": 51,
     "metadata": {},
     "output_type": "execute_result"
    }
   ],
   "source": [
    "## WINDOWS\n",
    "windows_types_sum_df"
   ]
  },
  {
   "cell_type": "code",
   "execution_count": 52,
   "id": "a12c1dc0",
   "metadata": {},
   "outputs": [
    {
     "data": {
      "text/html": [
       "<div>\n",
       "<style scoped>\n",
       "    .dataframe tbody tr th:only-of-type {\n",
       "        vertical-align: middle;\n",
       "    }\n",
       "\n",
       "    .dataframe tbody tr th {\n",
       "        vertical-align: top;\n",
       "    }\n",
       "\n",
       "    .dataframe thead th {\n",
       "        text-align: right;\n",
       "    }\n",
       "</style>\n",
       "<table border=\"1\" class=\"dataframe\">\n",
       "  <thead>\n",
       "    <tr style=\"text-align: right;\">\n",
       "      <th></th>\n",
       "      <th>Area</th>\n",
       "    </tr>\n",
       "    <tr>\n",
       "      <th>Type</th>\n",
       "      <th></th>\n",
       "    </tr>\n",
       "  </thead>\n",
       "  <tbody>\n",
       "    <tr>\n",
       "      <th>Basic Roof:Ogólne - 400 mm</th>\n",
       "      <td>1992.181745</td>\n",
       "    </tr>\n",
       "    <tr>\n",
       "      <th>Floor:Ogólne 150 mm</th>\n",
       "      <td>377.670000</td>\n",
       "    </tr>\n",
       "  </tbody>\n",
       "</table>\n",
       "</div>"
      ],
      "text/plain": [
       "                                   Area\n",
       "Type                                   \n",
       "Basic Roof:Ogólne - 400 mm  1992.181745\n",
       "Floor:Ogólne 150 mm          377.670000"
      ]
     },
     "execution_count": 52,
     "metadata": {},
     "output_type": "execute_result"
    }
   ],
   "source": [
    "## SLABS\n",
    "slabs_types_sum_df"
   ]
  },
  {
   "cell_type": "code",
   "execution_count": 53,
   "id": "b6302c9d",
   "metadata": {},
   "outputs": [
    {
     "data": {
      "text/html": [
       "<div>\n",
       "<style scoped>\n",
       "    .dataframe tbody tr th:only-of-type {\n",
       "        vertical-align: middle;\n",
       "    }\n",
       "\n",
       "    .dataframe tbody tr th {\n",
       "        vertical-align: top;\n",
       "    }\n",
       "\n",
       "    .dataframe thead th {\n",
       "        text-align: right;\n",
       "    }\n",
       "</style>\n",
       "<table border=\"1\" class=\"dataframe\">\n",
       "  <thead>\n",
       "    <tr style=\"text-align: right;\">\n",
       "      <th></th>\n",
       "      <th>Area</th>\n",
       "    </tr>\n",
       "    <tr>\n",
       "      <th>Type</th>\n",
       "      <th></th>\n",
       "    </tr>\n",
       "  </thead>\n",
       "  <tbody>\n",
       "    <tr>\n",
       "      <th>Basic Wall:Z01</th>\n",
       "      <td>323.497947</td>\n",
       "    </tr>\n",
       "    <tr>\n",
       "      <th>Basic Wall:Z02</th>\n",
       "      <td>229.437074</td>\n",
       "    </tr>\n",
       "  </tbody>\n",
       "</table>\n",
       "</div>"
      ],
      "text/plain": [
       "                      Area\n",
       "Type                      \n",
       "Basic Wall:Z01  323.497947\n",
       "Basic Wall:Z02  229.437074"
      ]
     },
     "execution_count": 53,
     "metadata": {},
     "output_type": "execute_result"
    }
   ],
   "source": [
    "## WALLS\n",
    "wall_types_sum_df "
   ]
  },
  {
   "cell_type": "code",
   "execution_count": 54,
   "id": "8c3f6c91",
   "metadata": {},
   "outputs": [
    {
     "data": {
      "text/plain": [
       "Type\n",
       "Panel systemowy:Bryła           39.472594\n",
       "Panel systemowy:Przeszklony    121.450327\n",
       "Name: Area, dtype: float64"
      ]
     },
     "execution_count": 54,
     "metadata": {},
     "output_type": "execute_result"
    }
   ],
   "source": [
    "## CURTAIN WALL\n",
    "cw_panels_types_sum"
   ]
  },
  {
   "cell_type": "code",
   "execution_count": 55,
   "id": "aa182e2f",
   "metadata": {},
   "outputs": [
    {
     "data": {
      "text/html": [
       "<div>\n",
       "<style scoped>\n",
       "    .dataframe tbody tr th:only-of-type {\n",
       "        vertical-align: middle;\n",
       "    }\n",
       "\n",
       "    .dataframe tbody tr th {\n",
       "        vertical-align: top;\n",
       "    }\n",
       "\n",
       "    .dataframe thead th {\n",
       "        text-align: right;\n",
       "    }\n",
       "</style>\n",
       "<table border=\"1\" class=\"dataframe\">\n",
       "  <thead>\n",
       "    <tr style=\"text-align: right;\">\n",
       "      <th></th>\n",
       "      <th>Length</th>\n",
       "    </tr>\n",
       "    <tr>\n",
       "      <th>Type</th>\n",
       "      <th></th>\n",
       "    </tr>\n",
       "  </thead>\n",
       "  <tbody>\n",
       "    <tr>\n",
       "      <th>Prostokątny szpros:50 x 150mm</th>\n",
       "      <td>1302.609434</td>\n",
       "    </tr>\n",
       "  </tbody>\n",
       "</table>\n",
       "</div>"
      ],
      "text/plain": [
       "                                    Length\n",
       "Type                                      \n",
       "Prostokątny szpros:50 x 150mm  1302.609434"
      ]
     },
     "execution_count": 55,
     "metadata": {},
     "output_type": "execute_result"
    }
   ],
   "source": [
    "cw_mullions_types_sum_df"
   ]
  },
  {
   "cell_type": "code",
   "execution_count": null,
   "id": "328dcb91",
   "metadata": {},
   "outputs": [],
   "source": []
  }
 ],
 "metadata": {
  "kernelspec": {
   "display_name": "Python 3",
   "language": "python",
   "name": "python3"
  },
  "language_info": {
   "codemirror_mode": {
    "name": "ipython",
    "version": 3
   },
   "file_extension": ".py",
   "mimetype": "text/x-python",
   "name": "python",
   "nbconvert_exporter": "python",
   "pygments_lexer": "ipython3",
   "version": "3.7.6"
  }
 },
 "nbformat": 4,
 "nbformat_minor": 5
}
