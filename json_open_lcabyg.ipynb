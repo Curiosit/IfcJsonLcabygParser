{
 "cells": [
  {
   "cell_type": "code",
   "execution_count": 3,
   "id": "f0a9eeb9",
   "metadata": {},
   "outputs": [],
   "source": [
    "import json\n"
   ]
  },
  {
   "cell_type": "code",
   "execution_count": 10,
   "id": "410a0157",
   "metadata": {},
   "outputs": [],
   "source": [
    "## SOURCES:\n",
    "#\n",
    "# https://www.geeksforgeeks.org/read-json-file-using-python/\n",
    "#"
   ]
  },
  {
   "cell_type": "code",
   "execution_count": 4,
   "id": "35d58ba9",
   "metadata": {},
   "outputs": [],
   "source": [
    "import uuid #library for creating necessary unique object ids"
   ]
  },
  {
   "cell_type": "code",
   "execution_count": 5,
   "id": "3230b852",
   "metadata": {},
   "outputs": [],
   "source": [
    "with open('lcabyg_example/building.json', 'r') as f:\n",
    "  building_json = json.load(f)"
   ]
  },
  {
   "cell_type": "code",
   "execution_count": 6,
   "id": "e9c92d4a",
   "metadata": {},
   "outputs": [],
   "source": [
    "with open('lcabyg_example/constructions.json', 'r') as f:\n",
    "  constructions_json = json.load(f)"
   ]
  },
  {
   "cell_type": "code",
   "execution_count": 7,
   "id": "158ed3dc",
   "metadata": {},
   "outputs": [
    {
     "data": {
      "text/plain": [
       "[{'Node': {'Building': {'id': '6d766aa5-50aa-4005-ab35-29f2fb82ddad',\n",
       "    'name': {'Danish': 'Test eksempel', 'English': 'Example project'},\n",
       "    'address': 'Test',\n",
       "    'owner': 'Test',\n",
       "    'description': '',\n",
       "    'building_type': 'Other',\n",
       "    'heated_floor_area': 0,\n",
       "    'gross_area': 0,\n",
       "    'gross_area_above_ground': 0,\n",
       "    'storeys_above_ground': 0,\n",
       "    'storeys_below_ground': 0,\n",
       "    'storey_height': 0,\n",
       "    'initial_year': 2022,\n",
       "    'calculation_timespan': 50,\n",
       "    'calculation_mode': 'SC',\n",
       "    'lca_advisor': 'Test',\n",
       "    'building_regulation_version': 'BR2018',\n",
       "    'plot_area': 0,\n",
       "    'outside_area': 0,\n",
       "    'energy_class': 'LowEnergy'}}},\n",
       " {'Edge': [{'MainBuilding': '15867192-86b7-40a8-9936-83d9e998516d'},\n",
       "   'e9e6e798-390e-4419-a1fa-3b46a8ba5b8d',\n",
       "   '6d766aa5-50aa-4005-ab35-29f2fb82ddad']},\n",
       " {'Edge': [{'BuildingToRoot': 'bc35b94d-b8c0-4b8c-9bf3-3f63acc94063'},\n",
       "   '6d766aa5-50aa-4005-ab35-29f2fb82ddad',\n",
       "   '216cf5d6-3e9d-43ec-b0d8-5aee02240c28']},\n",
       " {'Edge': [{'BuildingToOperation': '0c35b94d-b8a0-4bec-92f3-3463acc94064'},\n",
       "   '6d766aa5-50aa-4005-ab35-29f2fb82ddad',\n",
       "   '0338d31e-3876-440d-a88c-2daa2dd81942']}]"
      ]
     },
     "execution_count": 7,
     "metadata": {},
     "output_type": "execute_result"
    }
   ],
   "source": [
    "building_json"
   ]
  },
  {
   "cell_type": "code",
   "execution_count": 8,
   "id": "496c8b88",
   "metadata": {
    "scrolled": true
   },
   "outputs": [
    {
     "data": {
      "text/plain": [
       "[{'Node': {'Construction': {'id': 'c6f24e0f-020a-4f0f-93c6-65beb50bd798',\n",
       "    'name': {'Danish': 'Test konstruktion', 'English': 'Test construction'},\n",
       "    'unit': 'M2',\n",
       "    'source': 'User',\n",
       "    'comment': 'Testing',\n",
       "    'layer': 1,\n",
       "    'locked': True}}},\n",
       " {'Edge': [{'ConstructionToProduct': {'id': '65cc0492-7864-4598-9254-5f929379bae6',\n",
       "     'amount': 1,\n",
       "     'unit': 'M2',\n",
       "     'lifespan': 100,\n",
       "     'demolition': False,\n",
       "     'enabled': True,\n",
       "     'delayed_start': 0}},\n",
       "   'c6f24e0f-020a-4f0f-93c6-65beb50bd798',\n",
       "   '51bcec85-9105-4946-8a8a-51219bf9adfa']}]"
      ]
     },
     "execution_count": 8,
     "metadata": {},
     "output_type": "execute_result"
    }
   ],
   "source": [
    "constructions_json"
   ]
  },
  {
   "cell_type": "code",
   "execution_count": 17,
   "id": "487aa58b",
   "metadata": {},
   "outputs": [
    {
     "data": {
      "text/plain": [
       "{'Node': {'Construction': {'id': 'c6f24e0f-020a-4f0f-93c6-65beb50bd798',\n",
       "   'name': {'Danish': 'Test konstruktion', 'English': 'Test construction'},\n",
       "   'unit': 'M2',\n",
       "   'source': 'User',\n",
       "   'comment': 'Testing',\n",
       "   'layer': 1,\n",
       "   'locked': True}}}"
      ]
     },
     "execution_count": 17,
     "metadata": {},
     "output_type": "execute_result"
    }
   ],
   "source": [
    "constructions_json[0]"
   ]
  },
  {
   "cell_type": "code",
   "execution_count": null,
   "id": "d98ec549",
   "metadata": {},
   "outputs": [],
   "source": []
  },
  {
   "cell_type": "code",
   "execution_count": 22,
   "id": "59cad212",
   "metadata": {},
   "outputs": [],
   "source": [
    "def create_node(construction):\n",
    "    node = {'Node': construction}\n",
    "    return node\n",
    "\n",
    "def create_construction(construction_set):\n",
    "    construction = {'Construction':construction_set}\n",
    "    return construction"
   ]
  },
  {
   "cell_type": "code",
   "execution_count": 42,
   "id": "86bc667b",
   "metadata": {},
   "outputs": [],
   "source": [
    "def create_construction_set():\n",
    "    c_id = str(uuid.uuid4())\n",
    "    construction_set = {'id': c_id,  'name': {'Danish': 'Test konstruktion', 'English': 'Test construction'},'unit': 'M2', 'source': 'User','comment': 'Testing','layer': 1,'locked': True}\n",
    "    return construction_set\n"
   ]
  },
  {
   "cell_type": "code",
   "execution_count": 55,
   "id": "17a730b4",
   "metadata": {},
   "outputs": [],
   "source": [
    "construction = create_construction(create_construction_set())\n",
    "node = create_node(construction)"
   ]
  },
  {
   "cell_type": "code",
   "execution_count": 56,
   "id": "264d5799",
   "metadata": {},
   "outputs": [
    {
     "data": {
      "text/plain": [
       "{'Node': {'Construction': {'id': '1293f85a-18b3-4b7b-b8d6-79c37719daa2',\n",
       "   'name': {'Danish': 'Test konstruktion', 'English': 'Test construction'},\n",
       "   'unit': 'M2',\n",
       "   'source': 'User',\n",
       "   'comment': 'Testing',\n",
       "   'layer': 1,\n",
       "   'locked': True}}}"
      ]
     },
     "execution_count": 56,
     "metadata": {},
     "output_type": "execute_result"
    }
   ],
   "source": [
    "node"
   ]
  },
  {
   "cell_type": "code",
   "execution_count": 60,
   "id": "43d2417a",
   "metadata": {},
   "outputs": [],
   "source": [
    "def create_edge(edge_data):\n",
    "    edge = {'Edge': edge_data}\n",
    "    return edge\n",
    "\n",
    "def create_edge_data(edge_details, product_id):\n",
    "    \n",
    "    edge_data = [{'ConstructionToProduct': edge_details}]\n",
    "    return edge_data\n",
    "\n",
    "def create_edge_details(amount):\n",
    "    e_id = str(uuid.uuid4())\n",
    "    edge_details = {'id': e_id,'amount': amount, 'unit': 'M2',     'lifespan': 50,     'demolition': False,     'enabled': True,     'delayed_start': 0}\n",
    "    return edge_details\n",
    "    "
   ]
  },
  {
   "cell_type": "code",
   "execution_count": 65,
   "id": "ceb12c62",
   "metadata": {},
   "outputs": [],
   "source": [
    "edge = create_edge(create_edge_data(create_edge_details(1), 1))"
   ]
  },
  {
   "cell_type": "code",
   "execution_count": 66,
   "id": "e39b73a9",
   "metadata": {},
   "outputs": [
    {
     "data": {
      "text/plain": [
       "{'Edge': [{'ConstructionToProduct': {'id': 'e67759cb-008e-4324-9f56-137b634bd73b',\n",
       "    'amount': 1,\n",
       "    'unit': 'M2',\n",
       "    'lifespan': 50,\n",
       "    'demolition': False,\n",
       "    'enabled': True,\n",
       "    'delayed_start': 0}}]}"
      ]
     },
     "execution_count": 66,
     "metadata": {},
     "output_type": "execute_result"
    }
   ],
   "source": [
    "edge"
   ]
  },
  {
   "cell_type": "code",
   "execution_count": 59,
   "id": "82c651c7",
   "metadata": {},
   "outputs": [
    {
     "data": {
      "text/plain": [
       "{'Edge': [{'ConstructionToProduct': {'id': '65cc0492-7864-4598-9254-5f929379bae6',\n",
       "    'amount': 1,\n",
       "    'unit': 'M2',\n",
       "    'lifespan': 100,\n",
       "    'demolition': False,\n",
       "    'enabled': True,\n",
       "    'delayed_start': 0}},\n",
       "  'c6f24e0f-020a-4f0f-93c6-65beb50bd798',\n",
       "  '51bcec85-9105-4946-8a8a-51219bf9adfa']}"
      ]
     },
     "execution_count": 59,
     "metadata": {},
     "output_type": "execute_result"
    }
   ],
   "source": [
    "constructions_json[1]"
   ]
  },
  {
   "cell_type": "code",
   "execution_count": null,
   "id": "535e5e56",
   "metadata": {},
   "outputs": [],
   "source": []
  }
 ],
 "metadata": {
  "kernelspec": {
   "display_name": "Python 3",
   "language": "python",
   "name": "python3"
  },
  "language_info": {
   "codemirror_mode": {
    "name": "ipython",
    "version": 3
   },
   "file_extension": ".py",
   "mimetype": "text/x-python",
   "name": "python",
   "nbconvert_exporter": "python",
   "pygments_lexer": "ipython3",
   "version": "3.7.6"
  }
 },
 "nbformat": 4,
 "nbformat_minor": 5
}
