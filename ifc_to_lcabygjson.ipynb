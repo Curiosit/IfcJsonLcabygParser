{
 "cells": [
  {
   "cell_type": "code",
   "execution_count": 1,
   "id": "e051a471",
   "metadata": {},
   "outputs": [],
   "source": [
    "import json\n",
    "import ifcopenshell\n",
    "import ifcHelper \n",
    "import pandas as pd\n",
    "import numpy as np\n",
    "import lcabygjson\n",
    "import uuid"
   ]
  },
  {
   "cell_type": "code",
   "execution_count": null,
   "id": "8673e7b9",
   "metadata": {},
   "outputs": [],
   "source": []
  },
  {
   "cell_type": "code",
   "execution_count": 2,
   "id": "b8c3c3ea",
   "metadata": {},
   "outputs": [],
   "source": [
    "json_array_elements = []\n",
    "json_array_constructions = []\n",
    "json_array_element_category_edges = []\n",
    "json_array_constructions_extra = []"
   ]
  },
  {
   "cell_type": "code",
   "execution_count": 3,
   "id": "ef96b290",
   "metadata": {},
   "outputs": [
    {
     "name": "stdout",
     "output_type": "stream",
     "text": [
      "File loaded successfully\n"
     ]
    }
   ],
   "source": [
    "try:\n",
    "  ifc_file = ifcopenshell.open('ifc_test_file.ifc')\n",
    "  print(\"File loaded successfully\")\n",
    "except:\n",
    "  print(\"An exception occurred\")"
   ]
  },
  {
   "cell_type": "code",
   "execution_count": 4,
   "id": "4923bbf0",
   "metadata": {},
   "outputs": [
    {
     "name": "stdout",
     "output_type": "stream",
     "text": [
      "Walls loaded successfully\n",
      "Slabs loaded successfully\n",
      "Windows loaded successfully\n",
      "Doors loaded successfully\n",
      "Railings loaded successfully\n"
     ]
    }
   ],
   "source": [
    "walls_df = lcabygjson.get_wall_dataframe(ifc_file)\n",
    "slabs_df = lcabygjson.get_slabs_dataframe(ifc_file)\n",
    "windows_df = lcabygjson.get_windows_dataframe(ifc_file)\n",
    "doors_df = lcabygjson.get_doors_dataframe(ifc_file)\n",
    "railings_df = lcabygjson.get_railings_dataframe(ifc_file)\n",
    "\n"
   ]
  },
  {
   "cell_type": "code",
   "execution_count": 5,
   "id": "99a12c13",
   "metadata": {},
   "outputs": [],
   "source": [
    "\n",
    "\n",
    "lcabyg_elements = lcabygjson.create_lcabyg_elements()"
   ]
  },
  {
   "cell_type": "code",
   "execution_count": 6,
   "id": "db261196",
   "metadata": {},
   "outputs": [
    {
     "data": {
      "text/plain": [
       "([], [], [], [])"
      ]
     },
     "execution_count": 6,
     "metadata": {},
     "output_type": "execute_result"
    }
   ],
   "source": [
    "lcabyg_elements"
   ]
  },
  {
   "cell_type": "code",
   "execution_count": 7,
   "id": "1d72345c",
   "metadata": {},
   "outputs": [
    {
     "name": "stdout",
     "output_type": "stream",
     "text": [
      "Added construction:\n",
      "Basic Wall:W01\n",
      "Added construction:\n",
      "Basic Wall:Z01\n",
      "Added construction:\n",
      "Basic Wall:Z02\n"
     ]
    }
   ],
   "source": [
    "lcabyg_elements = lcabygjson.append_lcabyg_element(lcabyg_elements, walls_df['Area'], walls_df['Type'], 'Walls', 'M2', '02c3e303-a443-4f02-9927-e43519227ade')"
   ]
  },
  {
   "cell_type": "code",
   "execution_count": 8,
   "id": "acb5b233",
   "metadata": {},
   "outputs": [
    {
     "name": "stdout",
     "output_type": "stream",
     "text": [
      "Added construction:\n",
      "Basic Roof:R400\n",
      "Added construction:\n",
      "Floor:S250\n",
      "Added construction:\n",
      "Floor:eS100\n"
     ]
    }
   ],
   "source": [
    "lcabyg_elements = lcabygjson.append_lcabyg_element(lcabyg_elements, slabs_df['Area'], slabs_df['Type'], 'Slabs', 'M2', str(uuid.uuid4()))"
   ]
  },
  {
   "cell_type": "code",
   "execution_count": 9,
   "id": "06bfef16",
   "metadata": {},
   "outputs": [
    {
     "name": "stdout",
     "output_type": "stream",
     "text": [
      "Added construction:\n",
      "Window-T1:O01\n",
      "Added construction:\n",
      "Window-T1:O02\n",
      "Added construction:\n",
      "Window-T1:O03\n"
     ]
    }
   ],
   "source": [
    "lcabyg_elements = lcabygjson.append_lcabyg_element(lcabyg_elements, windows_df['Area'], windows_df['Type'], 'Windows', 'M2', str(uuid.uuid4()))"
   ]
  },
  {
   "cell_type": "code",
   "execution_count": 10,
   "id": "1e8bb637",
   "metadata": {},
   "outputs": [
    {
     "name": "stdout",
     "output_type": "stream",
     "text": [
      "Added construction:\n",
      "Railing:1100mm\n",
      "Added construction:\n",
      "Railing:Glass_panel\n"
     ]
    }
   ],
   "source": [
    "lcabyg_elements = lcabygjson.append_lcabyg_element(lcabyg_elements, railings_df['Length'], railings_df['Type'], 'Railings', 'M', str(uuid.uuid4()))"
   ]
  },
  {
   "cell_type": "code",
   "execution_count": 11,
   "id": "0cadb883",
   "metadata": {},
   "outputs": [
    {
     "data": {
      "text/plain": [
       "([{'Node': {'Element': {'id': '02c3e303-a443-4f02-9927-e43519227ade',\n",
       "     'name': {'Danish': 'Walls', 'English': '', 'German': ''},\n",
       "     'source': 'User',\n",
       "     'comment': 'Created by IfcJsonLcabygParser. https://github.com/Curiosit/IfcJsonLcabygParser',\n",
       "     'enabled': True,\n",
       "     'active': True}}},\n",
       "  {'Edge': [{'ElementToConstruction': {'id': '6cfbb499-792f-40c3-b054-f7f07912a875',\n",
       "      'amount': 131.843051958342,\n",
       "      'enabled': True}},\n",
       "    '02c3e303-a443-4f02-9927-e43519227ade',\n",
       "    '3f7492ef-cced-40e8-9679-d9d2426198d0']},\n",
       "  {'Edge': [{'ElementToConstruction': {'id': '1b9fa46a-1dec-40d2-bc3a-e380ff57e8c4',\n",
       "      'amount': 141.76027261991248,\n",
       "      'enabled': True}},\n",
       "    '02c3e303-a443-4f02-9927-e43519227ade',\n",
       "    'cf0d4700-4717-4216-90cb-a209969d4e37']},\n",
       "  {'Edge': [{'ElementToConstruction': {'id': 'a128e716-9efd-4531-8a71-e011357dfe6f',\n",
       "      'amount': 207.8446145163202,\n",
       "      'enabled': True}},\n",
       "    '02c3e303-a443-4f02-9927-e43519227ade',\n",
       "    'dec8607f-d0d8-4733-bf7b-58456cf87f40']},\n",
       "  {'Node': {'Element': {'id': '475b39d5-29a4-4192-8269-715cd804da00',\n",
       "     'name': {'Danish': 'Slabs', 'English': '', 'German': ''},\n",
       "     'source': 'User',\n",
       "     'comment': 'Created by IfcJsonLcabygParser. https://github.com/Curiosit/IfcJsonLcabygParser',\n",
       "     'enabled': True,\n",
       "     'active': True}}},\n",
       "  {'Edge': [{'ElementToConstruction': {'id': '20d3c29c-feab-40e3-88cf-5346e3e6c795',\n",
       "      'amount': 3613.543399325796,\n",
       "      'enabled': True}},\n",
       "    '475b39d5-29a4-4192-8269-715cd804da00',\n",
       "    '23390a21-21d9-427c-b9ce-4e5b891504b4']},\n",
       "  {'Edge': [{'ElementToConstruction': {'id': 'f850b23a-e8c1-4ec3-84b4-5dde135e967b',\n",
       "      'amount': 541.587880260348,\n",
       "      'enabled': True}},\n",
       "    '475b39d5-29a4-4192-8269-715cd804da00',\n",
       "    'cf2ee230-c614-4eb5-991d-958cd72434bb']},\n",
       "  {'Edge': [{'ElementToConstruction': {'id': 'f05992a1-8eb0-4aa7-9144-5742f75a3193',\n",
       "      'amount': 113.584765395699,\n",
       "      'enabled': True}},\n",
       "    '475b39d5-29a4-4192-8269-715cd804da00',\n",
       "    '84d2f56d-ec30-409a-a528-74ba8612c5ce']},\n",
       "  {'Node': {'Element': {'id': '5e0cb49a-bf1d-4b94-9d87-62af0c4c3a9c',\n",
       "     'name': {'Danish': 'Windows', 'English': '', 'German': ''},\n",
       "     'source': 'User',\n",
       "     'comment': 'Created by IfcJsonLcabygParser. https://github.com/Curiosit/IfcJsonLcabygParser',\n",
       "     'enabled': True,\n",
       "     'active': True}}},\n",
       "  {'Edge': [{'ElementToConstruction': {'id': 'be88d408-e7c1-4ff0-87fd-3f3c8dfdafb5',\n",
       "      'amount': 1.553616000000086,\n",
       "      'enabled': True}},\n",
       "    '5e0cb49a-bf1d-4b94-9d87-62af0c4c3a9c',\n",
       "    '8dbfbba0-20c9-4acc-b421-19e19e7b7dc5']},\n",
       "  {'Edge': [{'ElementToConstruction': {'id': 'af798613-2f6d-4514-b4a0-9aa4708325d1',\n",
       "      'amount': 4.78735400000013,\n",
       "      'enabled': True}},\n",
       "    '5e0cb49a-bf1d-4b94-9d87-62af0c4c3a9c',\n",
       "    '2aaa5ed9-62cd-48fa-bab9-a895aaf2fb1a']},\n",
       "  {'Edge': [{'ElementToConstruction': {'id': '31755c2d-7756-4687-9ab8-0992351d0776',\n",
       "      'amount': 55.62255600000144,\n",
       "      'enabled': True}},\n",
       "    '5e0cb49a-bf1d-4b94-9d87-62af0c4c3a9c',\n",
       "    'ac803cf6-9d11-4938-a505-05470f0353ec']},\n",
       "  {'Node': {'Element': {'id': 'a6ba6ff9-b582-48ed-bc26-33223536b57a',\n",
       "     'name': {'Danish': 'Railings', 'English': '', 'German': ''},\n",
       "     'source': 'User',\n",
       "     'comment': 'Created by IfcJsonLcabygParser. https://github.com/Curiosit/IfcJsonLcabygParser',\n",
       "     'enabled': True,\n",
       "     'active': True}}},\n",
       "  {'Edge': [{'ElementToConstruction': {'id': 'fc3c3cfa-ae8b-4a33-999f-c1a2f5744dee',\n",
       "      'amount': 11200.0,\n",
       "      'enabled': True}},\n",
       "    'a6ba6ff9-b582-48ed-bc26-33223536b57a',\n",
       "    '599f1cc1-68f4-43ad-ad69-b53da5c697c8']},\n",
       "  {'Edge': [{'ElementToConstruction': {'id': '1d5f93a1-6dbb-4bf3-be9d-66bead71e162',\n",
       "      'amount': 8296.43611834863,\n",
       "      'enabled': True}},\n",
       "    'a6ba6ff9-b582-48ed-bc26-33223536b57a',\n",
       "    '76da931c-f8fa-43df-810a-dfe17aef9674']}],\n",
       " [{'Node': {'Construction': {'id': '3f7492ef-cced-40e8-9679-d9d2426198d0',\n",
       "     'name': {'Danish': 'Basic Wall:W01', 'English': 'Test construction'},\n",
       "     'unit': 'M2',\n",
       "     'source': 'User',\n",
       "     'comment': 'Created by IfcJsonLcabygParser. https://github.com/Curiosit/IfcJsonLcabygParser',\n",
       "     'layer': 1,\n",
       "     'locked': True}}},\n",
       "  {'Edge': [{'ConstructionToProduct': {'id': '09fe60ce-ebe8-49b1-a672-8fbe45dbd1ae',\n",
       "      'amount': 1,\n",
       "      'unit': 'M2',\n",
       "      'lifespan': 50,\n",
       "      'demolition': False,\n",
       "      'enabled': True,\n",
       "      'delayed_start': 0}},\n",
       "    '3f7492ef-cced-40e8-9679-d9d2426198d0',\n",
       "    '51bcec85-9105-4946-8a8a-51219bf9adfa']},\n",
       "  {'Node': {'Construction': {'id': 'cf0d4700-4717-4216-90cb-a209969d4e37',\n",
       "     'name': {'Danish': 'Basic Wall:Z01', 'English': 'Test construction'},\n",
       "     'unit': 'M2',\n",
       "     'source': 'User',\n",
       "     'comment': 'Created by IfcJsonLcabygParser. https://github.com/Curiosit/IfcJsonLcabygParser',\n",
       "     'layer': 1,\n",
       "     'locked': True}}},\n",
       "  {'Edge': [{'ConstructionToProduct': {'id': '0716c261-657a-4181-8964-14f96216c55c',\n",
       "      'amount': 1,\n",
       "      'unit': 'M2',\n",
       "      'lifespan': 50,\n",
       "      'demolition': False,\n",
       "      'enabled': True,\n",
       "      'delayed_start': 0}},\n",
       "    'cf0d4700-4717-4216-90cb-a209969d4e37',\n",
       "    '51bcec85-9105-4946-8a8a-51219bf9adfa']},\n",
       "  {'Node': {'Construction': {'id': 'dec8607f-d0d8-4733-bf7b-58456cf87f40',\n",
       "     'name': {'Danish': 'Basic Wall:Z02', 'English': 'Test construction'},\n",
       "     'unit': 'M2',\n",
       "     'source': 'User',\n",
       "     'comment': 'Created by IfcJsonLcabygParser. https://github.com/Curiosit/IfcJsonLcabygParser',\n",
       "     'layer': 1,\n",
       "     'locked': True}}},\n",
       "  {'Edge': [{'ConstructionToProduct': {'id': '2fc57ccc-e8ea-49cb-8a97-53d62c054043',\n",
       "      'amount': 1,\n",
       "      'unit': 'M2',\n",
       "      'lifespan': 50,\n",
       "      'demolition': False,\n",
       "      'enabled': True,\n",
       "      'delayed_start': 0}},\n",
       "    'dec8607f-d0d8-4733-bf7b-58456cf87f40',\n",
       "    '51bcec85-9105-4946-8a8a-51219bf9adfa']},\n",
       "  {'Node': {'Construction': {'id': '23390a21-21d9-427c-b9ce-4e5b891504b4',\n",
       "     'name': {'Danish': 'Basic Roof:R400', 'English': 'Test construction'},\n",
       "     'unit': 'M2',\n",
       "     'source': 'User',\n",
       "     'comment': 'Created by IfcJsonLcabygParser. https://github.com/Curiosit/IfcJsonLcabygParser',\n",
       "     'layer': 1,\n",
       "     'locked': True}}},\n",
       "  {'Edge': [{'ConstructionToProduct': {'id': 'a82d5ea6-e324-4a89-8f68-9416339d0d20',\n",
       "      'amount': 1,\n",
       "      'unit': 'M2',\n",
       "      'lifespan': 50,\n",
       "      'demolition': False,\n",
       "      'enabled': True,\n",
       "      'delayed_start': 0}},\n",
       "    '23390a21-21d9-427c-b9ce-4e5b891504b4',\n",
       "    '51bcec85-9105-4946-8a8a-51219bf9adfa']},\n",
       "  {'Node': {'Construction': {'id': 'cf2ee230-c614-4eb5-991d-958cd72434bb',\n",
       "     'name': {'Danish': 'Floor:S250', 'English': 'Test construction'},\n",
       "     'unit': 'M2',\n",
       "     'source': 'User',\n",
       "     'comment': 'Created by IfcJsonLcabygParser. https://github.com/Curiosit/IfcJsonLcabygParser',\n",
       "     'layer': 1,\n",
       "     'locked': True}}},\n",
       "  {'Edge': [{'ConstructionToProduct': {'id': '2c876e55-abef-4606-853a-04a7c6446465',\n",
       "      'amount': 1,\n",
       "      'unit': 'M2',\n",
       "      'lifespan': 50,\n",
       "      'demolition': False,\n",
       "      'enabled': True,\n",
       "      'delayed_start': 0}},\n",
       "    'cf2ee230-c614-4eb5-991d-958cd72434bb',\n",
       "    '51bcec85-9105-4946-8a8a-51219bf9adfa']},\n",
       "  {'Node': {'Construction': {'id': '84d2f56d-ec30-409a-a528-74ba8612c5ce',\n",
       "     'name': {'Danish': 'Floor:eS100', 'English': 'Test construction'},\n",
       "     'unit': 'M2',\n",
       "     'source': 'User',\n",
       "     'comment': 'Created by IfcJsonLcabygParser. https://github.com/Curiosit/IfcJsonLcabygParser',\n",
       "     'layer': 1,\n",
       "     'locked': True}}},\n",
       "  {'Edge': [{'ConstructionToProduct': {'id': '49626fab-b3c6-4565-a42e-de2104042160',\n",
       "      'amount': 1,\n",
       "      'unit': 'M2',\n",
       "      'lifespan': 50,\n",
       "      'demolition': False,\n",
       "      'enabled': True,\n",
       "      'delayed_start': 0}},\n",
       "    '84d2f56d-ec30-409a-a528-74ba8612c5ce',\n",
       "    '51bcec85-9105-4946-8a8a-51219bf9adfa']},\n",
       "  {'Node': {'Construction': {'id': '8dbfbba0-20c9-4acc-b421-19e19e7b7dc5',\n",
       "     'name': {'Danish': 'Window-T1:O01', 'English': 'Test construction'},\n",
       "     'unit': 'M2',\n",
       "     'source': 'User',\n",
       "     'comment': 'Created by IfcJsonLcabygParser. https://github.com/Curiosit/IfcJsonLcabygParser',\n",
       "     'layer': 1,\n",
       "     'locked': True}}},\n",
       "  {'Edge': [{'ConstructionToProduct': {'id': 'f2d02910-a0da-4204-8e58-c96d584c10ce',\n",
       "      'amount': 1,\n",
       "      'unit': 'M2',\n",
       "      'lifespan': 50,\n",
       "      'demolition': False,\n",
       "      'enabled': True,\n",
       "      'delayed_start': 0}},\n",
       "    '8dbfbba0-20c9-4acc-b421-19e19e7b7dc5',\n",
       "    '51bcec85-9105-4946-8a8a-51219bf9adfa']},\n",
       "  {'Node': {'Construction': {'id': '2aaa5ed9-62cd-48fa-bab9-a895aaf2fb1a',\n",
       "     'name': {'Danish': 'Window-T1:O02', 'English': 'Test construction'},\n",
       "     'unit': 'M2',\n",
       "     'source': 'User',\n",
       "     'comment': 'Created by IfcJsonLcabygParser. https://github.com/Curiosit/IfcJsonLcabygParser',\n",
       "     'layer': 1,\n",
       "     'locked': True}}},\n",
       "  {'Edge': [{'ConstructionToProduct': {'id': '97e4b082-d767-477b-8c4b-b84eab9e3124',\n",
       "      'amount': 1,\n",
       "      'unit': 'M2',\n",
       "      'lifespan': 50,\n",
       "      'demolition': False,\n",
       "      'enabled': True,\n",
       "      'delayed_start': 0}},\n",
       "    '2aaa5ed9-62cd-48fa-bab9-a895aaf2fb1a',\n",
       "    '51bcec85-9105-4946-8a8a-51219bf9adfa']},\n",
       "  {'Node': {'Construction': {'id': 'ac803cf6-9d11-4938-a505-05470f0353ec',\n",
       "     'name': {'Danish': 'Window-T1:O03', 'English': 'Test construction'},\n",
       "     'unit': 'M2',\n",
       "     'source': 'User',\n",
       "     'comment': 'Created by IfcJsonLcabygParser. https://github.com/Curiosit/IfcJsonLcabygParser',\n",
       "     'layer': 1,\n",
       "     'locked': True}}},\n",
       "  {'Edge': [{'ConstructionToProduct': {'id': '50717b11-2034-42f7-8555-7f70d70c718b',\n",
       "      'amount': 1,\n",
       "      'unit': 'M2',\n",
       "      'lifespan': 50,\n",
       "      'demolition': False,\n",
       "      'enabled': True,\n",
       "      'delayed_start': 0}},\n",
       "    'ac803cf6-9d11-4938-a505-05470f0353ec',\n",
       "    '51bcec85-9105-4946-8a8a-51219bf9adfa']},\n",
       "  {'Node': {'Construction': {'id': '599f1cc1-68f4-43ad-ad69-b53da5c697c8',\n",
       "     'name': {'Danish': 'Railing:1100mm', 'English': 'Test construction'},\n",
       "     'unit': 'M',\n",
       "     'source': 'User',\n",
       "     'comment': 'Created by IfcJsonLcabygParser. https://github.com/Curiosit/IfcJsonLcabygParser',\n",
       "     'layer': 1,\n",
       "     'locked': True}}},\n",
       "  {'Edge': [{'ConstructionToProduct': {'id': '161eccc7-01ef-4bbb-a3da-919bd92b70de',\n",
       "      'amount': 1,\n",
       "      'unit': 'M',\n",
       "      'lifespan': 50,\n",
       "      'demolition': False,\n",
       "      'enabled': True,\n",
       "      'delayed_start': 0}},\n",
       "    '599f1cc1-68f4-43ad-ad69-b53da5c697c8',\n",
       "    '51bcec85-9105-4946-8a8a-51219bf9adfa']},\n",
       "  {'Node': {'Construction': {'id': '76da931c-f8fa-43df-810a-dfe17aef9674',\n",
       "     'name': {'Danish': 'Railing:Glass_panel', 'English': 'Test construction'},\n",
       "     'unit': 'M',\n",
       "     'source': 'User',\n",
       "     'comment': 'Created by IfcJsonLcabygParser. https://github.com/Curiosit/IfcJsonLcabygParser',\n",
       "     'layer': 1,\n",
       "     'locked': True}}},\n",
       "  {'Edge': [{'ConstructionToProduct': {'id': '46892a17-8b63-46d4-8590-6a8868e19b0f',\n",
       "      'amount': 1,\n",
       "      'unit': 'M',\n",
       "      'lifespan': 50,\n",
       "      'demolition': False,\n",
       "      'enabled': True,\n",
       "      'delayed_start': 0}},\n",
       "    '76da931c-f8fa-43df-810a-dfe17aef9674',\n",
       "    '51bcec85-9105-4946-8a8a-51219bf9adfa']}],\n",
       " [{'Edge': [{'CategoryToElement': {'id': '7506914e-88f9-443b-b742-335c60b39f24',\n",
       "      'enabled': True}},\n",
       "    '069983d0-d08b-405b-b816-d28ca9648956',\n",
       "    '02c3e303-a443-4f02-9927-e43519227ade']},\n",
       "  {'Edge': [{'CategoryToElement': {'id': '7c83461f-5732-48ee-942e-69211f32ab3d',\n",
       "      'enabled': True}},\n",
       "    '069983d0-d08b-405b-b816-d28ca9648956',\n",
       "    '475b39d5-29a4-4192-8269-715cd804da00']},\n",
       "  {'Edge': [{'CategoryToElement': {'id': '6f84a2f5-7546-4eb1-8938-902c9d8c4257',\n",
       "      'enabled': True}},\n",
       "    '069983d0-d08b-405b-b816-d28ca9648956',\n",
       "    '5e0cb49a-bf1d-4b94-9d87-62af0c4c3a9c']},\n",
       "  {'Edge': [{'CategoryToElement': {'id': '347c8c7c-d786-4c2d-8aff-b1a3466fd4ad',\n",
       "      'enabled': True}},\n",
       "    '069983d0-d08b-405b-b816-d28ca9648956',\n",
       "    'a6ba6ff9-b582-48ed-bc26-33223536b57a']}],\n",
       " [{'Edge': [{'CategoryToConstruction': {'id': '8216b613-e6ec-43d7-8e1a-e9958ea95c59',\n",
       "      'layers': [1]}},\n",
       "    '069983d0-d08b-405b-b816-d28ca9648956',\n",
       "    '3f7492ef-cced-40e8-9679-d9d2426198d0']},\n",
       "  {'Edge': [{'CategoryToConstruction': {'id': 'bca81a87-34c0-41f6-a0fe-776d3c3933ed',\n",
       "      'layers': [1]}},\n",
       "    '069983d0-d08b-405b-b816-d28ca9648956',\n",
       "    'cf0d4700-4717-4216-90cb-a209969d4e37']},\n",
       "  {'Edge': [{'CategoryToConstruction': {'id': '9813d779-8bc9-473f-bfd0-cc8a3aa8e1cb',\n",
       "      'layers': [1]}},\n",
       "    '069983d0-d08b-405b-b816-d28ca9648956',\n",
       "    'dec8607f-d0d8-4733-bf7b-58456cf87f40']},\n",
       "  {'Edge': [{'CategoryToConstruction': {'id': '965024f1-da20-44b1-8bcd-d12149d5b4ef',\n",
       "      'layers': [1]}},\n",
       "    '069983d0-d08b-405b-b816-d28ca9648956',\n",
       "    '23390a21-21d9-427c-b9ce-4e5b891504b4']},\n",
       "  {'Edge': [{'CategoryToConstruction': {'id': '21738fe0-d701-4cc9-b18d-7b25c71b1465',\n",
       "      'layers': [1]}},\n",
       "    '069983d0-d08b-405b-b816-d28ca9648956',\n",
       "    'cf2ee230-c614-4eb5-991d-958cd72434bb']},\n",
       "  {'Edge': [{'CategoryToConstruction': {'id': '17547137-71a3-4617-97e5-b074018a1132',\n",
       "      'layers': [1]}},\n",
       "    '069983d0-d08b-405b-b816-d28ca9648956',\n",
       "    '84d2f56d-ec30-409a-a528-74ba8612c5ce']},\n",
       "  {'Edge': [{'CategoryToConstruction': {'id': '83fe2785-2215-40be-9b33-21bc6cf9d7cd',\n",
       "      'layers': [1]}},\n",
       "    '069983d0-d08b-405b-b816-d28ca9648956',\n",
       "    '8dbfbba0-20c9-4acc-b421-19e19e7b7dc5']},\n",
       "  {'Edge': [{'CategoryToConstruction': {'id': '3edcb584-e16f-40f4-ba3e-23f14771b7c5',\n",
       "      'layers': [1]}},\n",
       "    '069983d0-d08b-405b-b816-d28ca9648956',\n",
       "    '2aaa5ed9-62cd-48fa-bab9-a895aaf2fb1a']},\n",
       "  {'Edge': [{'CategoryToConstruction': {'id': 'd07b1adf-2ec9-4d51-af20-63b14be4be5b',\n",
       "      'layers': [1]}},\n",
       "    '069983d0-d08b-405b-b816-d28ca9648956',\n",
       "    'ac803cf6-9d11-4938-a505-05470f0353ec']},\n",
       "  {'Edge': [{'CategoryToConstruction': {'id': 'f9a37444-d811-41e8-8441-037d782b6299',\n",
       "      'layers': [1]}},\n",
       "    '069983d0-d08b-405b-b816-d28ca9648956',\n",
       "    '599f1cc1-68f4-43ad-ad69-b53da5c697c8']},\n",
       "  {'Edge': [{'CategoryToConstruction': {'id': '24da4583-f6ab-419a-b022-b4a625460450',\n",
       "      'layers': [1]}},\n",
       "    '069983d0-d08b-405b-b816-d28ca9648956',\n",
       "    '76da931c-f8fa-43df-810a-dfe17aef9674']}])"
      ]
     },
     "execution_count": 11,
     "metadata": {},
     "output_type": "execute_result"
    }
   ],
   "source": [
    "lcabyg_elements"
   ]
  },
  {
   "cell_type": "code",
   "execution_count": 12,
   "id": "be70a414",
   "metadata": {},
   "outputs": [],
   "source": [
    "json_array_elements = lcabygjson.add_things_json_list(json_array_elements, lcabyg_elements[0])\n",
    "json_array_constructions = lcabygjson.add_things_json_list(json_array_constructions, lcabyg_elements[1])\n",
    "json_array_element_category_edges = lcabygjson.add_things_json_list(json_array_element_category_edges, lcabyg_elements[2])\n",
    "json_array_constructions_extra = lcabygjson.add_things_json_list(json_array_constructions_extra, lcabyg_elements[3])"
   ]
  },
  {
   "cell_type": "code",
   "execution_count": 13,
   "id": "6516d3ec",
   "metadata": {},
   "outputs": [],
   "source": [
    "with open('lcabyg_example/elements.json', 'w') as outfile:\n",
    "    json.dump(json_array_elements, outfile,indent=4)\n",
    "with open('lcabyg_example/constructions.json', 'w') as outfile:\n",
    "    json.dump(json_array_constructions, outfile,indent=4)\n",
    "with open('lcabyg_example/construction_category_edges.json', 'w') as outfile:\n",
    "    json.dump(json_array_element_category_edges, outfile,indent=4)\n",
    "with open('lcabyg_example/constructions_extra.json', 'w') as outfile:\n",
    "    json.dump(json_array_constructions_extra, outfile,indent=4)"
   ]
  }
 ],
 "metadata": {
  "kernelspec": {
   "display_name": "Python 3",
   "language": "python",
   "name": "python3"
  },
  "language_info": {
   "codemirror_mode": {
    "name": "ipython",
    "version": 3
   },
   "file_extension": ".py",
   "mimetype": "text/x-python",
   "name": "python",
   "nbconvert_exporter": "python",
   "pygments_lexer": "ipython3",
   "version": "3.7.6"
  }
 },
 "nbformat": 4,
 "nbformat_minor": 5
}
