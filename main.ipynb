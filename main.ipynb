{
 "cells": [
  {
   "cell_type": "code",
   "execution_count": 1,
   "id": "8dcd7a09",
   "metadata": {},
   "outputs": [],
   "source": [
    "# IFC Parser\n",
    "# Based on https://thinkmoult.com/using-ifcopenshell-parse-ifc-files-python.html\n",
    "\n",
    "\n",
    "    "
   ]
  },
  {
   "cell_type": "code",
   "execution_count": 2,
   "id": "e223a9a1",
   "metadata": {},
   "outputs": [],
   "source": [
    "import ifcopenshell\n"
   ]
  },
  {
   "cell_type": "code",
   "execution_count": 3,
   "id": "e341da7a",
   "metadata": {},
   "outputs": [],
   "source": [
    "ifc_file = ifcopenshell.open('test.ifc')"
   ]
  },
  {
   "cell_type": "code",
   "execution_count": null,
   "id": "626372cc",
   "metadata": {},
   "outputs": [],
   "source": []
  },
  {
   "cell_type": "code",
   "execution_count": 4,
   "id": "ff472545",
   "metadata": {},
   "outputs": [
    {
     "name": "stdout",
     "output_type": "stream",
     "text": [
      "IfcBuilding\n",
      "IfcBuildingStorey\n",
      "IfcBuildingStorey\n",
      "IfcWallStandardCase\n",
      "IfcWallStandardCase\n",
      "IfcWallStandardCase\n",
      "IfcWallStandardCase\n",
      "IfcWallStandardCase\n",
      "IfcWallStandardCase\n",
      "IfcWallStandardCase\n",
      "IfcWallStandardCase\n",
      "IfcWallStandardCase\n",
      "IfcWallStandardCase\n",
      "IfcWindow\n",
      "IfcWindow\n",
      "IfcDoor\n",
      "IfcSlab\n",
      "IfcSite\n",
      "IfcOpeningElement\n",
      "IfcOpeningElement\n",
      "IfcOpeningElement\n"
     ]
    }
   ],
   "source": [
    "products = ifc_file.by_type('IfcProduct')\n",
    "for product in products:\n",
    "    print(product.is_a())"
   ]
  },
  {
   "cell_type": "code",
   "execution_count": 5,
   "id": "d0762ba2",
   "metadata": {},
   "outputs": [
    {
     "name": "stdout",
     "output_type": "stream",
     "text": [
      "#134=IfcBuilding('3DEwd$xVT3Hxc41VY5aNSY',#41,'',$,$,#32,$,'',.ELEMENT.,$,$,$)\n",
      "#143=IfcBuildingStorey('3DEwd$xVT3Hxc41VXwReda',#41,'Poziom 1',$,'Poziom:8 mm - początek',#141,$,'Poziom 1',.ELEMENT.,0.)\n",
      "#149=IfcBuildingStorey('3DEwd$xVT3Hxc41VXwRefb',#41,'Poziom 2',$,'Poziom:8 mm - początek',#148,$,'Poziom 2',.ELEMENT.,4000.)\n",
      "#208=IfcWallStandardCase('0XKS9_JrzCLBvqx8CYyH2y',#41,'Ściana podstawowa:Ogólne - 200 mm:331325',$,'Ściana podstawowa:Ogólne - 200 mm',#156,#204,'331325')\n",
      "#390=IfcWallStandardCase('0XKS9_JrzCLBvqx80YyH2y',#41,'Ściana podstawowa:Ogólne - 200 mm:331325',$,'Ściana podstawowa:Ogólne - 200 mm',#347,#388,'331325')\n",
      "#501=IfcWallStandardCase('0XKS9_JrzCLBvqx8CYyH3O',#41,'Ściana podstawowa:Ogólne - 200 mm:331353',$,'Ściana podstawowa:Ogólne - 200 mm',#463,#499,'331353')\n",
      "#593=IfcWallStandardCase('0XKS9_JrzCLBvqx80YyH3O',#41,'Ściana podstawowa:Ogólne - 200 mm:331353',$,'Ściana podstawowa:Ogólne - 200 mm',#553,#591,'331353')\n",
      "#699=IfcWallStandardCase('0XKS9_JrzCLBvqx8CYyH07',#41,'Ściana podstawowa:Ogólne - 200 mm:331398',$,'Ściana podstawowa:Ogólne - 200 mm',#661,#697,'331398')\n",
      "#791=IfcWallStandardCase('0XKS9_JrzCLBvqx80YyH07',#41,'Ściana podstawowa:Ogólne - 200 mm:331398',$,'Ściana podstawowa:Ogólne - 200 mm',#751,#789,'331398')\n",
      "#897=IfcWallStandardCase('0XKS9_JrzCLBvqx8CYyH0u',#41,'Ściana podstawowa:Ogólne - 200 mm:331449',$,'Ściana podstawowa:Ogólne - 200 mm',#859,#895,'331449')\n",
      "#989=IfcWallStandardCase('0XKS9_JrzCLBvqx80YyH0u',#41,'Ściana podstawowa:Ogólne - 200 mm:331449',$,'Ściana podstawowa:Ogólne - 200 mm',#949,#987,'331449')\n",
      "#1091=IfcWallStandardCase('0XKS9_JrzCLBvqx8CYyH1e',#41,'Ściana podstawowa:Ogólne - 200 mm:331497',$,'Ściana podstawowa:Ogólne - 200 mm',#1055,#1089,'331497')\n",
      "#1179=IfcWallStandardCase('0XKS9_JrzCLBvqx80YyH1e',#41,'Ściana podstawowa:Ogólne - 200 mm:331497',$,'Ściana podstawowa:Ogólne - 200 mm',#1141,#1177,'331497')\n",
      "#1400=IfcWindow('0XKS9_JrzCLBvqv88YyH1n',#41,'M_Stałe:0406 x 0610mm:331504',$,'M_Stałe:0406 x 0610mm',#2310,#1392,'331504',609.999999999999,406.)\n",
      "#1509=IfcWindow('0XKS9_JrzCLBvqv88YyH1s',#41,'M_Stałe:0406 x 0610mm:331511',$,'M_Stałe:0406 x 0610mm',#2345,#1501,'331511',609.999999999999,406.)\n",
      "#1722=IfcDoor('0XKS9_JrzCLBvqv88YyH6W',#41,'M_Jednoskrzydłowe płytowe:0915 x 2134mm:331553',$,'M_Jednoskrzydłowe płytowe:0915 x 2134mm',#2273,#1714,'331553',2134.,915.)\n",
      "#1838=IfcSlab('0XKS9_JrzCLBvqv88YyH6j',#41,'Strop:Ogólne 150 mm:331564',$,'Strop:Ogólne 150 mm',#1816,#1836,'331564',.FLOOR.)\n",
      "#1947=IfcSite('3DEwd$xVT3Hxc41VY5aNSX',#41,'Default',$,$,#1944,$,$,.ELEMENT.,(52,14,59,999999),(20,59,59,999999),0.,$,$)\n",
      "#2252=IfcOpeningElement('0XKS9_JrzCLBvqv94YyH6W',#41,'M_Jednoskrzydłowe płytowe:0915 x 2134mm:331553:1',$,'Opening',#2250,#2245,$)\n",
      "#2291=IfcOpeningElement('0XKS9_JrzCLBvqv94YyH1n',#41,'M_Stałe:0406 x 0610mm:331504:1',$,'Opening',#2289,#2284,$)\n",
      "#2327=IfcOpeningElement('0XKS9_JrzCLBvqv94YyH1s',#41,'M_Stałe:0406 x 0610mm:331511:1',$,'Opening',#2326,#2321,$)\n"
     ]
    }
   ],
   "source": [
    "for product in products:\n",
    "    print(product)"
   ]
  },
  {
   "cell_type": "code",
   "execution_count": 8,
   "id": "a0d9520f",
   "metadata": {},
   "outputs": [],
   "source": [
    "wall = ifc_file.by_type('IfcWall')[0]\n"
   ]
  },
  {
   "cell_type": "code",
   "execution_count": 9,
   "id": "f68575c8",
   "metadata": {},
   "outputs": [
    {
     "data": {
      "text/plain": [
       "#208=IfcWallStandardCase('0XKS9_JrzCLBvqx8CYyH2y',#41,'Ściana podstawowa:Ogólne - 200 mm:331325',$,'Ściana podstawowa:Ogólne - 200 mm',#156,#204,'331325')"
      ]
     },
     "execution_count": 9,
     "metadata": {},
     "output_type": "execute_result"
    }
   ],
   "source": [
    "wall"
   ]
  },
  {
   "cell_type": "code",
   "execution_count": 10,
   "id": "41943be1",
   "metadata": {},
   "outputs": [
    {
     "name": "stdout",
     "output_type": "stream",
     "text": [
      "0XKS9_JrzCLBvqx8CYyH2y\n",
      "Ściana podstawowa:Ogólne - 200 mm:331325\n"
     ]
    }
   ],
   "source": [
    "print(wall.GlobalId)\n",
    "print(wall.Name)"
   ]
  },
  {
   "cell_type": "code",
   "execution_count": null,
   "id": "f032272d",
   "metadata": {},
   "outputs": [],
   "source": []
  }
 ],
 "metadata": {
  "kernelspec": {
   "display_name": "Python 3",
   "language": "python",
   "name": "python3"
  },
  "language_info": {
   "codemirror_mode": {
    "name": "ipython",
    "version": 3
   },
   "file_extension": ".py",
   "mimetype": "text/x-python",
   "name": "python",
   "nbconvert_exporter": "python",
   "pygments_lexer": "ipython3",
   "version": "3.7.6"
  }
 },
 "nbformat": 4,
 "nbformat_minor": 5
}
