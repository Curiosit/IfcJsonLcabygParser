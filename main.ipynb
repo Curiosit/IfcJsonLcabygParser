{
 "cells": [
  {
   "cell_type": "code",
   "execution_count": 1,
   "id": "232cd072",
   "metadata": {},
   "outputs": [],
   "source": [
    "# IFC Parser\n",
    "# Based on https://thinkmoult.com/using-ifcopenshell-parse-ifc-files-python.html\n",
    "\n",
    "# And: https://github.com/johannesmichael/ifc-python/blob/master/modules/ifc_pset_utils.py\n",
    "\n",
    "\n",
    "    "
   ]
  },
  {
   "cell_type": "code",
   "execution_count": 2,
   "id": "6822395e",
   "metadata": {},
   "outputs": [],
   "source": [
    "import ifcopenshell\n"
   ]
  },
  {
   "cell_type": "code",
   "execution_count": 3,
   "id": "f26e7efa",
   "metadata": {},
   "outputs": [],
   "source": [
    "ifc_file = ifcopenshell.open('test.ifc')"
   ]
  },
  {
   "cell_type": "code",
   "execution_count": null,
   "id": "59c13cff",
   "metadata": {},
   "outputs": [],
   "source": []
  },
  {
   "cell_type": "code",
   "execution_count": 4,
   "id": "14fb1011",
   "metadata": {},
   "outputs": [
    {
     "name": "stdout",
     "output_type": "stream",
     "text": [
      "IfcBuilding\n",
      "IfcBuildingStorey\n",
      "IfcBuildingStorey\n",
      "IfcWallStandardCase\n",
      "IfcWallStandardCase\n",
      "IfcWallStandardCase\n",
      "IfcWallStandardCase\n",
      "IfcWallStandardCase\n",
      "IfcWallStandardCase\n",
      "IfcWallStandardCase\n",
      "IfcWallStandardCase\n",
      "IfcWallStandardCase\n",
      "IfcWallStandardCase\n",
      "IfcWindow\n",
      "IfcWindow\n",
      "IfcDoor\n",
      "IfcSlab\n",
      "IfcSite\n",
      "IfcOpeningElement\n",
      "IfcOpeningElement\n",
      "IfcOpeningElement\n"
     ]
    }
   ],
   "source": [
    "products = ifc_file.by_type('IfcProduct')\n",
    "for product in products:\n",
    "    print(product.is_a())"
   ]
  },
  {
   "cell_type": "code",
   "execution_count": 5,
   "id": "72820200",
   "metadata": {},
   "outputs": [
    {
     "name": "stdout",
     "output_type": "stream",
     "text": [
      "#134=IfcBuilding('3DEwd$xVT3Hxc41VY5aNSY',#41,'',$,$,#32,$,'',.ELEMENT.,$,$,$)\n",
      "#143=IfcBuildingStorey('3DEwd$xVT3Hxc41VXwReda',#41,'Poziom 1',$,'Poziom:8 mm - początek',#141,$,'Poziom 1',.ELEMENT.,0.)\n",
      "#149=IfcBuildingStorey('3DEwd$xVT3Hxc41VXwRefb',#41,'Poziom 2',$,'Poziom:8 mm - początek',#148,$,'Poziom 2',.ELEMENT.,4000.)\n",
      "#208=IfcWallStandardCase('0XKS9_JrzCLBvqx8CYyH2y',#41,'Ściana podstawowa:Ogólne - 200 mm:331325',$,'Ściana podstawowa:Ogólne - 200 mm',#156,#204,'331325')\n",
      "#390=IfcWallStandardCase('0XKS9_JrzCLBvqx80YyH2y',#41,'Ściana podstawowa:Ogólne - 200 mm:331325',$,'Ściana podstawowa:Ogólne - 200 mm',#347,#388,'331325')\n",
      "#501=IfcWallStandardCase('0XKS9_JrzCLBvqx8CYyH3O',#41,'Ściana podstawowa:Ogólne - 200 mm:331353',$,'Ściana podstawowa:Ogólne - 200 mm',#463,#499,'331353')\n",
      "#593=IfcWallStandardCase('0XKS9_JrzCLBvqx80YyH3O',#41,'Ściana podstawowa:Ogólne - 200 mm:331353',$,'Ściana podstawowa:Ogólne - 200 mm',#553,#591,'331353')\n",
      "#699=IfcWallStandardCase('0XKS9_JrzCLBvqx8CYyH07',#41,'Ściana podstawowa:Ogólne - 200 mm:331398',$,'Ściana podstawowa:Ogólne - 200 mm',#661,#697,'331398')\n",
      "#791=IfcWallStandardCase('0XKS9_JrzCLBvqx80YyH07',#41,'Ściana podstawowa:Ogólne - 200 mm:331398',$,'Ściana podstawowa:Ogólne - 200 mm',#751,#789,'331398')\n",
      "#897=IfcWallStandardCase('0XKS9_JrzCLBvqx8CYyH0u',#41,'Ściana podstawowa:Ogólne - 200 mm:331449',$,'Ściana podstawowa:Ogólne - 200 mm',#859,#895,'331449')\n",
      "#989=IfcWallStandardCase('0XKS9_JrzCLBvqx80YyH0u',#41,'Ściana podstawowa:Ogólne - 200 mm:331449',$,'Ściana podstawowa:Ogólne - 200 mm',#949,#987,'331449')\n",
      "#1091=IfcWallStandardCase('0XKS9_JrzCLBvqx8CYyH1e',#41,'Ściana podstawowa:Ogólne - 200 mm:331497',$,'Ściana podstawowa:Ogólne - 200 mm',#1055,#1089,'331497')\n",
      "#1179=IfcWallStandardCase('0XKS9_JrzCLBvqx80YyH1e',#41,'Ściana podstawowa:Ogólne - 200 mm:331497',$,'Ściana podstawowa:Ogólne - 200 mm',#1141,#1177,'331497')\n",
      "#1400=IfcWindow('0XKS9_JrzCLBvqv88YyH1n',#41,'M_Stałe:0406 x 0610mm:331504',$,'M_Stałe:0406 x 0610mm',#2310,#1392,'331504',609.999999999999,406.)\n",
      "#1509=IfcWindow('0XKS9_JrzCLBvqv88YyH1s',#41,'M_Stałe:0406 x 0610mm:331511',$,'M_Stałe:0406 x 0610mm',#2345,#1501,'331511',609.999999999999,406.)\n",
      "#1722=IfcDoor('0XKS9_JrzCLBvqv88YyH6W',#41,'M_Jednoskrzydłowe płytowe:0915 x 2134mm:331553',$,'M_Jednoskrzydłowe płytowe:0915 x 2134mm',#2273,#1714,'331553',2134.,915.)\n",
      "#1838=IfcSlab('0XKS9_JrzCLBvqv88YyH6j',#41,'Strop:Ogólne 150 mm:331564',$,'Strop:Ogólne 150 mm',#1816,#1836,'331564',.FLOOR.)\n",
      "#1947=IfcSite('3DEwd$xVT3Hxc41VY5aNSX',#41,'Default',$,$,#1944,$,$,.ELEMENT.,(52,14,59,999999),(20,59,59,999999),0.,$,$)\n",
      "#2252=IfcOpeningElement('0XKS9_JrzCLBvqv94YyH6W',#41,'M_Jednoskrzydłowe płytowe:0915 x 2134mm:331553:1',$,'Opening',#2250,#2245,$)\n",
      "#2291=IfcOpeningElement('0XKS9_JrzCLBvqv94YyH1n',#41,'M_Stałe:0406 x 0610mm:331504:1',$,'Opening',#2289,#2284,$)\n",
      "#2327=IfcOpeningElement('0XKS9_JrzCLBvqv94YyH1s',#41,'M_Stałe:0406 x 0610mm:331511:1',$,'Opening',#2326,#2321,$)\n"
     ]
    }
   ],
   "source": [
    "for product in products:\n",
    "    print(product)"
   ]
  },
  {
   "cell_type": "code",
   "execution_count": 5,
   "id": "80e4f228",
   "metadata": {},
   "outputs": [],
   "source": [
    "wall = ifc_file.by_type('IfcWall')[0]\n"
   ]
  },
  {
   "cell_type": "code",
   "execution_count": 6,
   "id": "d9471f2e",
   "metadata": {},
   "outputs": [
    {
     "data": {
      "text/plain": [
       "#208=IfcWallStandardCase('0XKS9_JrzCLBvqx8CYyH2y',#41,'Ściana podstawowa:Ogólne - 200 mm:331325',$,'Ściana podstawowa:Ogólne - 200 mm',#156,#204,'331325')"
      ]
     },
     "execution_count": 6,
     "metadata": {},
     "output_type": "execute_result"
    }
   ],
   "source": [
    "wall"
   ]
  },
  {
   "cell_type": "code",
   "execution_count": 7,
   "id": "0b929263",
   "metadata": {},
   "outputs": [
    {
     "name": "stdout",
     "output_type": "stream",
     "text": [
      "0XKS9_JrzCLBvqx8CYyH2y\n",
      "Ściana podstawowa:Ogólne - 200 mm:331325\n"
     ]
    }
   ],
   "source": [
    "print(wall.GlobalId)\n",
    "print(wall.Name)"
   ]
  },
  {
   "cell_type": "code",
   "execution_count": 8,
   "id": "bbb15b7f",
   "metadata": {},
   "outputs": [
    {
     "name": "stdout",
     "output_type": "stream",
     "text": [
      "BaseQuantities\n",
      "Etapy\n",
      "Inne\n",
      "Konstrukcje\n",
      "Wiązania\n",
      "Wymiary\n",
      "Pset_QuantityTakeOff\n",
      "Pset_ReinforcementBarPitchOfWall\n",
      "Pset_WallCommon\n"
     ]
    }
   ],
   "source": [
    "wall = ifc_file.by_type('IfcWall')[0]\n",
    "for definition in wall.IsDefinedBy:\n",
    "    # To support IFC2X3, we need to filter our results.\n",
    "    if definition.is_a('IfcRelDefinesByProperties'):\n",
    "        property_set = definition.RelatingPropertyDefinition\n",
    "        print(property_set.Name) # Might return Pset_WallCommon"
   ]
  },
  {
   "cell_type": "code",
   "execution_count": 9,
   "id": "cdbcc3aa",
   "metadata": {},
   "outputs": [
    {
     "name": "stdout",
     "output_type": "stream",
     "text": [
      "Reference\n",
      "Ogólne - 200 mm\n",
      "IsExternal\n",
      "True\n",
      "ExtendToStructure\n",
      "False\n",
      "LoadBearing\n",
      "False\n"
     ]
    }
   ],
   "source": [
    "for property in property_set.HasProperties:\n",
    "    if property.is_a('IfcPropertySingleValue'):\n",
    "        print(property.Name)\n",
    "        print(property.NominalValue.wrappedValue)"
   ]
  },
  {
   "cell_type": "code",
   "execution_count": 11,
   "id": "7a362ee7",
   "metadata": {},
   "outputs": [],
   "source": [
    "def print_element_quantities(element_quantity):\n",
    "    for quantity in element_quantity.Quantities:\n",
    "        print(quantity.Name)\n",
    "        if quantity.is_a('IfcQuantityArea'):\n",
    "            print(quantity.AreaValue)"
   ]
  },
  {
   "cell_type": "code",
   "execution_count": 12,
   "id": "223ed53f",
   "metadata": {},
   "outputs": [
    {
     "name": "stdout",
     "output_type": "stream",
     "text": [
      "Height\n",
      "Length\n",
      "Width\n",
      "GrossFootprintArea\n",
      "3.49605381794232\n",
      "NetVolume\n",
      "NetSideArea\n",
      "69998255.8044403\n",
      "NetSideArea\n",
      "148.44322028839\n",
      "NetVolume\n"
     ]
    },
    {
     "ename": "AttributeError",
     "evalue": "entity instance of type 'IfcRelDefinesByType' has no attribute 'RelatingPropertyDefinition'",
     "output_type": "error",
     "traceback": [
      "\u001b[1;31m---------------------------------------------------------------------------\u001b[0m",
      "\u001b[1;31mAttributeError\u001b[0m                            Traceback (most recent call last)",
      "\u001b[1;32m<ipython-input-12-07c44fe4ff2c>\u001b[0m in \u001b[0;36m<module>\u001b[1;34m\u001b[0m\n\u001b[0;32m      1\u001b[0m \u001b[0mwall\u001b[0m \u001b[1;33m=\u001b[0m \u001b[0mifc_file\u001b[0m\u001b[1;33m.\u001b[0m\u001b[0mby_type\u001b[0m\u001b[1;33m(\u001b[0m\u001b[1;34m'IfcWall'\u001b[0m\u001b[1;33m)\u001b[0m\u001b[1;33m[\u001b[0m\u001b[1;36m0\u001b[0m\u001b[1;33m]\u001b[0m\u001b[1;33m\u001b[0m\u001b[1;33m\u001b[0m\u001b[0m\n\u001b[0;32m      2\u001b[0m \u001b[1;32mfor\u001b[0m \u001b[0mdefinition\u001b[0m \u001b[1;32min\u001b[0m \u001b[0mwall\u001b[0m\u001b[1;33m.\u001b[0m\u001b[0mIsDefinedBy\u001b[0m\u001b[1;33m:\u001b[0m\u001b[1;33m\u001b[0m\u001b[1;33m\u001b[0m\u001b[0m\n\u001b[1;32m----> 3\u001b[1;33m     \u001b[0mrelated_data\u001b[0m \u001b[1;33m=\u001b[0m \u001b[0mdefinition\u001b[0m\u001b[1;33m.\u001b[0m\u001b[0mRelatingPropertyDefinition\u001b[0m\u001b[1;33m\u001b[0m\u001b[1;33m\u001b[0m\u001b[0m\n\u001b[0m\u001b[0;32m      4\u001b[0m     \u001b[1;32mif\u001b[0m \u001b[0mrelated_data\u001b[0m\u001b[1;33m.\u001b[0m\u001b[0mis_a\u001b[0m\u001b[1;33m(\u001b[0m\u001b[1;34m'IfcPropertySet'\u001b[0m\u001b[1;33m)\u001b[0m\u001b[1;33m:\u001b[0m\u001b[1;33m\u001b[0m\u001b[1;33m\u001b[0m\u001b[0m\n\u001b[0;32m      5\u001b[0m         \u001b[1;32mpass\u001b[0m\u001b[1;33m\u001b[0m\u001b[1;33m\u001b[0m\u001b[0m\n",
      "\u001b[1;32m~\\Anaconda3\\lib\\site-packages\\ifcopenshell\\entity_instance.py\u001b[0m in \u001b[0;36m__getattr__\u001b[1;34m(self, name)\u001b[0m\n\u001b[0;32m     63\u001b[0m         \u001b[1;32melse\u001b[0m\u001b[1;33m:\u001b[0m\u001b[1;33m\u001b[0m\u001b[1;33m\u001b[0m\u001b[0m\n\u001b[0;32m     64\u001b[0m             raise AttributeError(\n\u001b[1;32m---> 65\u001b[1;33m                 \"entity instance of type '%s' has no attribute '%s'\" % (self.wrapped_data.is_a(), name))\n\u001b[0m\u001b[0;32m     66\u001b[0m \u001b[1;33m\u001b[0m\u001b[0m\n\u001b[0;32m     67\u001b[0m     \u001b[1;33m@\u001b[0m\u001b[0mstaticmethod\u001b[0m\u001b[1;33m\u001b[0m\u001b[1;33m\u001b[0m\u001b[0m\n",
      "\u001b[1;31mAttributeError\u001b[0m: entity instance of type 'IfcRelDefinesByType' has no attribute 'RelatingPropertyDefinition'"
     ]
    }
   ],
   "source": [
    "wall = ifc_file.by_type('IfcWall')[0]\n",
    "for definition in wall.IsDefinedBy:\n",
    "    related_data = definition.RelatingPropertyDefinition\n",
    "    if related_data.is_a('IfcPropertySet'):\n",
    "        pass\n",
    "    elif related_data.is_a('IfcElementQuantity'):\n",
    "        print_element_quantities(related_data)"
   ]
  },
  {
   "cell_type": "code",
   "execution_count": 31,
   "id": "49e3cef6",
   "metadata": {},
   "outputs": [],
   "source": []
  },
  {
   "cell_type": "code",
   "execution_count": 32,
   "id": "28c037b3",
   "metadata": {},
   "outputs": [
    {
     "name": "stdout",
     "output_type": "stream",
     "text": [
      "Height\n",
      "Length\n",
      "Width\n",
      "GrossFootprintArea\n",
      "3.49605381794232\n",
      "NetVolume\n",
      "NetSideArea\n",
      "69998255.8044403\n",
      "NetSideArea\n",
      "148.44322028839\n",
      "NetVolume\n"
     ]
    },
    {
     "ename": "AttributeError",
     "evalue": "entity instance of type 'IfcRelDefinesByType' has no attribute 'RelatingPropertyDefinition'",
     "output_type": "error",
     "traceback": [
      "\u001b[1;31m---------------------------------------------------------------------------\u001b[0m",
      "\u001b[1;31mAttributeError\u001b[0m                            Traceback (most recent call last)",
      "\u001b[1;32m<ipython-input-32-07c44fe4ff2c>\u001b[0m in \u001b[0;36m<module>\u001b[1;34m\u001b[0m\n\u001b[0;32m      1\u001b[0m \u001b[0mwall\u001b[0m \u001b[1;33m=\u001b[0m \u001b[0mifc_file\u001b[0m\u001b[1;33m.\u001b[0m\u001b[0mby_type\u001b[0m\u001b[1;33m(\u001b[0m\u001b[1;34m'IfcWall'\u001b[0m\u001b[1;33m)\u001b[0m\u001b[1;33m[\u001b[0m\u001b[1;36m0\u001b[0m\u001b[1;33m]\u001b[0m\u001b[1;33m\u001b[0m\u001b[1;33m\u001b[0m\u001b[0m\n\u001b[0;32m      2\u001b[0m \u001b[1;32mfor\u001b[0m \u001b[0mdefinition\u001b[0m \u001b[1;32min\u001b[0m \u001b[0mwall\u001b[0m\u001b[1;33m.\u001b[0m\u001b[0mIsDefinedBy\u001b[0m\u001b[1;33m:\u001b[0m\u001b[1;33m\u001b[0m\u001b[1;33m\u001b[0m\u001b[0m\n\u001b[1;32m----> 3\u001b[1;33m     \u001b[0mrelated_data\u001b[0m \u001b[1;33m=\u001b[0m \u001b[0mdefinition\u001b[0m\u001b[1;33m.\u001b[0m\u001b[0mRelatingPropertyDefinition\u001b[0m\u001b[1;33m\u001b[0m\u001b[1;33m\u001b[0m\u001b[0m\n\u001b[0m\u001b[0;32m      4\u001b[0m     \u001b[1;32mif\u001b[0m \u001b[0mrelated_data\u001b[0m\u001b[1;33m.\u001b[0m\u001b[0mis_a\u001b[0m\u001b[1;33m(\u001b[0m\u001b[1;34m'IfcPropertySet'\u001b[0m\u001b[1;33m)\u001b[0m\u001b[1;33m:\u001b[0m\u001b[1;33m\u001b[0m\u001b[1;33m\u001b[0m\u001b[0m\n\u001b[0;32m      5\u001b[0m         \u001b[1;32mpass\u001b[0m\u001b[1;33m\u001b[0m\u001b[1;33m\u001b[0m\u001b[0m\n",
      "\u001b[1;32m~\\Anaconda3\\lib\\site-packages\\ifcopenshell\\entity_instance.py\u001b[0m in \u001b[0;36m__getattr__\u001b[1;34m(self, name)\u001b[0m\n\u001b[0;32m     63\u001b[0m         \u001b[1;32melse\u001b[0m\u001b[1;33m:\u001b[0m\u001b[1;33m\u001b[0m\u001b[1;33m\u001b[0m\u001b[0m\n\u001b[0;32m     64\u001b[0m             raise AttributeError(\n\u001b[1;32m---> 65\u001b[1;33m                 \"entity instance of type '%s' has no attribute '%s'\" % (self.wrapped_data.is_a(), name))\n\u001b[0m\u001b[0;32m     66\u001b[0m \u001b[1;33m\u001b[0m\u001b[0m\n\u001b[0;32m     67\u001b[0m     \u001b[1;33m@\u001b[0m\u001b[0mstaticmethod\u001b[0m\u001b[1;33m\u001b[0m\u001b[1;33m\u001b[0m\u001b[0m\n",
      "\u001b[1;31mAttributeError\u001b[0m: entity instance of type 'IfcRelDefinesByType' has no attribute 'RelatingPropertyDefinition'"
     ]
    }
   ],
   "source": [
    "wall = ifc_file.by_type('IfcWall')[0]\n",
    "for definition in wall.IsDefinedBy:\n",
    "    related_data = definition.RelatingPropertyDefinition\n",
    "    if related_data.is_a('IfcPropertySet'):\n",
    "        pass\n",
    "    elif related_data.is_a('IfcElementQuantity'):\n",
    "        print_element_quantities(related_data)"
   ]
  },
  {
   "cell_type": "code",
   "execution_count": 14,
   "id": "b0e17fe1",
   "metadata": {},
   "outputs": [],
   "source": [
    "import ifcopenshell\n",
    "def print_quantities(property_definition):\n",
    "  if 'IfcElementQuantity' == property_definition.is_a():\n",
    "    for quantity in property_definition.Quantities:\n",
    "      if 'IfcQuantityArea' == quantity.is_a():\n",
    "        print('Area value: ' + str(quantity.AreaValue))\n",
    "      if 'IfcQuantityVolume' == quantity.is_a():\n",
    "        print('Volume value: ' + str(quantity.VolumeValue))\n",
    "      if 'IfcQuantityLength' == quantity.is_a():\n",
    "        print('Length value: ' + str(quantity.LengthValue))\n",
    "\n",
    "ifc_file = ifcopenshell.open('test.ifc')\n",
    "products = ifc_file.by_type('IfcSlab')\n",
    "for product in products:\n",
    "  if product.IsDefinedBy:\n",
    "    definitions = product.IsDefinedBy\n",
    "    for definition in definitions:\n",
    "      #In IFC2X3 this could be property or type\n",
    "      #in IFC4 type is in inverse attribute IsTypedBy\n",
    "      if 'IfcRelDefinesByProperties' == definition.is_a():\n",
    "        property_definition = definition.RelatingPropertyDefinition\n",
    "        print_quantities(property_definition)\n",
    "      if 'IfcRelDefinesByType' == definition.is_a():\n",
    "        type = definition.RelatingType\n",
    "        if type.HasPropertySets:\n",
    "          for property_definition in type.HasPropertySets:\n",
    "            print_quantities(property_definition)"
   ]
  },
  {
   "cell_type": "code",
   "execution_count": 15,
   "id": "8c9f8ce0",
   "metadata": {},
   "outputs": [
    {
     "data": {
      "text/plain": [
       "[#1838=IfcSlab('0XKS9_JrzCLBvqv88YyH6j',#41,'Strop:Ogólne 150 mm:331564',$,'Strop:Ogólne 150 mm',#1816,#1836,'331564',.FLOOR.)]"
      ]
     },
     "execution_count": 15,
     "metadata": {},
     "output_type": "execute_result"
    }
   ],
   "source": [
    "products"
   ]
  },
  {
   "cell_type": "code",
   "execution_count": 16,
   "id": "eb785c54",
   "metadata": {},
   "outputs": [],
   "source": [
    "#Attributes without Pset-Name, like {\"Lenght\":2.03}\n",
    "\n",
    "\"\"\"\n",
    "Module with function to retrieve pset information of an IFC file with\n",
    "the IfcOpenshell Package\n",
    "https://github.com/IfcOpenShell/IfcOpenShell/tree/master/src/ifcopenshell-python/ifcopenshell\n",
    "Covers:\n",
    "instance Information\n",
    "Standard and userdefined psets\n",
    "BaseQuantitites\n",
    "IfcSingleValues\n",
    "Type Information not wroking well yet\n",
    "More information on\n",
    "http://www.buildingsmart-tech.org/ifc/IFC2x3/TC1/html/index.htm\n",
    "\"\"\"\n",
    "\n",
    "\n",
    "#TODO: IfcPropertyEnumeratedValue, IfcPropertyBoundedValue, IfcPropertyTableValue, IfcPropertyReferenceValue, IfcPropertyListValue\n",
    "\n",
    "def get_related_properties(ifc_instance):\n",
    "    defined_by_properties_list=[x.RelatingPropertyDefinition \\\n",
    "                                for x in ifc_instance.IsDefinedBy \\\n",
    "                                if x.is_a(\"IfcRelDefinesByProperties\")]\n",
    "    return defined_by_properties_list\n",
    "\n",
    "def get_related_type_definition(ifc_instance):\n",
    "    \"\"\"\n",
    "    Returns the related type definitions for a given ifc_instance\n",
    "    argument: ifc_instance\n",
    "    return: list of IfcElementType\n",
    "    \"\"\"\n",
    "    defined_by_type_list=[x.RelatingType for x in ifc_instance.IsDefinedBy \\\n",
    "                          if x.is_a(\"IfcRelDefinesByType\")]\n",
    "    return defined_by_type_list\n",
    "\n",
    "def get_related_property_sets(ifc_instance):\n",
    "    \"\"\"\n",
    "    Returns a list of IfcPropertySets for given ifc_instance\n",
    "    argument: ifc_instance\n",
    "    return: list of property sets\n",
    "    \"\"\"\n",
    "    properties_list = []\n",
    "    for x in ifc_instance.IsDefinedBy:\n",
    "        if x.is_a(\"IfcRelDefinesByProperties\"):\n",
    "            if x.RelatingPropertyDefinition.is_a(\"IfcPropertySet\"):\n",
    "                properties_list.append(x.RelatingPropertyDefinition)\n",
    "    return properties_list                \n",
    "\n",
    "def get_related_quantities(ifc_instance):\n",
    "    \"\"\"\n",
    "    Returns a list of IfcElementQuantity for given IFC ID\n",
    "    argument: ifc_instance\n",
    "    return: list of property sets\n",
    "    \"\"\"\n",
    "    quantities_list =[]\n",
    "    for x in ifc_instance.IsDefinedBy:\n",
    "        if x.is_a(\"IfcRelDefinesByProperties\"):\n",
    "            if x.RelatingPropertyDefinition.is_a(\"IfcElementQuantity\"):\n",
    "                quantities_list.append(x.RelatingPropertyDefinition)\n",
    "    return quantities_list     \n",
    "\n",
    "def get_property_single_value(x):\n",
    "    \"\"\"\n",
    "    Returns a dict of dicts of IfcSingleValues, even from IfcComplexProperties. Returning a dictionary of dictionaries\n",
    "    is used, because it is easy to transform to pandas.DataFrame \n",
    "    argument: IFC Element as contained in list from get_related_property_sets()\n",
    "    return: dict of property single values like {\"IfcName\":\"xx\", \"IfcGlobalId\": \"klkhlkh\", ......}\n",
    "    \"\"\"\n",
    "    attributes_dicts={}\n",
    "   \n",
    "    for y in x.HasProperties:\n",
    "        if y.is_a(\"IfcPropertySingleValue\") and y.NominalValue is not None:\n",
    "            attributes_dicts.update({y.Name:y.NominalValue.wrappedValue})\n",
    "        if y.is_a(\"IfcComplexProperty\"):\n",
    "            for z in y.HasProperties:\n",
    "                if z.NominalValue is not None:\n",
    "                    attributes_dicts.update({z.Name: z.NominalValue.wrappedValue})\n",
    "\n",
    "    return attributes_dicts     \n",
    "        \n",
    "\n",
    "def get_type_single_value(x):\n",
    "    \"\"\"\n",
    "    Returns a dict of dicts of IfcXXTYpe single values (like \"IfcWallType\"). Returning a dictionary of dictionaries\n",
    "    is used, because it is easy to transform to pandas.DataFrame \n",
    "    argument: IFC Element as contained in list from get_related_property_sets()\n",
    "    return: dict of property single values like {\"IfcName\":\"xx\", \"IfcGlobalId\": \"klkhlkh\", ......}\n",
    "    \"\"\"\n",
    "    type_attr_dicts={}\n",
    "    if x.HasPropertySets:\n",
    "        try:\n",
    "            {type_attr_dicts.update({\"TypeDefinition_\" + x.Name:y.Name}) for y in x.HasPropertySets if y.Name is not None}\n",
    "            #for y in x.HasPropertySets:\n",
    "            #    if y.Name is not None:\n",
    "            #        type_attr_dicts.update({\"TypeDefinition_\" + x.Name:y.Name})\n",
    "        except:\n",
    "            print(\"Type Value Exception for IfcGlobalID \"+ x.GlobalId)\n",
    "\n",
    "    return type_attr_dicts\n",
    "\n",
    "def get_quantity_single_value(x):\n",
    "    \"\"\"\n",
    "    Returns a dict of dicts of IfcElementQuantity single values.\n",
    "    Returning a dictionary of dictionaries\n",
    "    is used, because it is easy to transform to pandas.DataFrame \n",
    "    argument: IFC Element as contained in list from get_related_property_sets()\n",
    "    return: dict of property single values like {\"IfcName\":\"xx\", \"IfcGlobalId\": \"klkhlkh\", ......}\n",
    "    \"\"\"\n",
    "    quantities_dicts = {}\n",
    "    for y in x.Quantities:\n",
    "        if y.is_a('IfcQuantityArea'):\n",
    "            quantities_dicts.update({y.Name:y.AreaValue})\n",
    "        if y.is_a('IfcQuantityLength'):\n",
    "            quantities_dicts.update({y.Name:y.LengthValue})\n",
    "        if y.is_a('IfcQuantityVolume'):\n",
    "            quantities_dicts.update({y.Name:y.VolumeValue})\n",
    "        if y.is_a('IfcQuantityCount'):\n",
    "            quantities_dicts.update({y.Name:y.CountValue})\n",
    "        if y.is_a('IfcQuantityWeight'):\n",
    "            quantities_dicts.update({y.Name:y.WeightValue})\n",
    "        \n",
    "    return quantities_dicts \n",
    "\n",
    "def get_all_instance_data(ifc_instance):\n",
    "    \"\"\"\n",
    "    Get all (non-geometrical) data of an instance\n",
    "    from Pset (default and user-defined), BaseQuantities and Type\n",
    "    argument: instance from ifc file\n",
    "    return: dict of dictionaries (attribute_name:attribute_value)\n",
    "    \"\"\"\n",
    "    pset_dict= {}\n",
    "    \n",
    "    #getting pset single values\n",
    "    {pset_dict.update(get_property_single_value(x))\\\n",
    "     for x in get_related_property_sets(ifc_instance)}\n",
    "\n",
    "    #getting basequantities single values\n",
    "    {pset_dict.update(get_quantity_single_value(x)) \\\n",
    "     for x in get_related_quantities(ifc_instance)}\n",
    "\n",
    "    #getting type\n",
    "    {pset_dict.update(get_type_single_value(x)) \\\n",
    "     for x in get_related_type_definition(ifc_instance)}\n",
    "\n",
    "    return pset_dict\n",
    "\n",
    "def get_all_quantity_data(ifc_instance):\n",
    "    \"\"\"\n",
    "    Get all (non-geometrical) data of an instance\n",
    "    from BaseQuantities \n",
    "    argument: instance from ifc file\n",
    "    return: dict of dictionaries (attribute_name:attribute_value)\n",
    "    \"\"\"\n",
    "    pset_dict= {}\n",
    "    #getting basequantities single values\n",
    "    {pset_dict.update(get_quantity_single_value(x)) \\\n",
    "        for x in get_related_quantities(ifc_instance)}\n",
    "    return pset_dict\n",
    "\n",
    "\n",
    "def get_all_type_data(ifc_instance):\n",
    "    \"\"\"\n",
    "    Get all (non-geometrical) data of an instance\n",
    "    from Type\n",
    "    argument: instance from ifc file\n",
    "    return: dict of dictionaries (attribute_name:attribute_value)\n",
    "    \"\"\"\n",
    "    pset_dict= {}\n",
    "    #getting type\n",
    "    {pset_dict.update(get_type_single_value(x)) \\\n",
    "        for x in get_related_type_definition(ifc_instance)}\n",
    "    return pset_dict\n",
    "\n",
    "def get_all_pset_data(ifc_instance):\n",
    "    \"\"\"\n",
    "    Get all (non-geometrical) data of an instance\n",
    "    from Pset (default and user-defined)\n",
    "    argument: instance from ifc file\n",
    "    return: dict of dictionaries (attribute_name:attribute_value)\n",
    "    \"\"\"\n",
    "    pset_dict= {}\n",
    "    #getting type\n",
    "    #getting pset single values\n",
    "    {pset_dict.update(get_property_single_value(x))\\\n",
    "         for x in get_related_property_sets(ifc_instance)}\n",
    "    return pset_dict\n",
    "\n",
    "def get_space_boundaries(ifc_instance):\n",
    "\t\"\"\" Get all SpaceBoundaries of an IFC  instance \n",
    "\t\tparam _id: Ifc Instance\n",
    "\t\treturn: dict of attributes\n",
    "\t\"\"\"\n",
    "\tdict_space_relations = {}\n",
    "\tlist_spaces = []\n",
    "\ttry:\n",
    "\t\trelating_spaces=[x.RelatingSpace for x in ifc_instance.ProvidesBoundaries]\n",
    "\t\t\n",
    "\texcept:\n",
    "\t\tdict_space_relations.update({ifc_instance.GlobalId: \"No Spaces found\"})\n",
    "\telse:\n",
    "\t\tfor rel in relating_spaces:\n",
    "\t\t\tlist_spaces.append(rel.id())\n",
    "\t\t\t\n",
    "\tfinally:\n",
    "\t\t#dict_space_relations[ifc_file[_id].GlobalId]= list_spaces\n",
    "\t\treturn list_spaces\n",
    "\n",
    "def get_pset_single_value_by_args(ifc_instance, pset_name, pset_attribute):\n",
    "\t\"\"\" Return a specific single value from a space pset\n",
    "\t\tparam _id: ifc instance\n",
    "\t\tparam pset_name: Name of Pset\n",
    "\t\tparam pset_attribute: Name of Pset attribute\n",
    "\t\treturn: Nominal value \n",
    "\t\"\"\"\n",
    "\ttry:\n",
    "\t\tdefined_by= ifc_instance.IsDefinedBy\n",
    "\t\t\n",
    "\texcept:\n",
    "\t\tprint(\"Type Value Exception for IfcGlobalID \"+ ifc_instance.GlobalId)\n",
    "\telse:\n",
    "\t\tfor defin in defined_by:\n",
    "\t\t\tif defin.is_a(\"IfcRelDefinesByProperties\"):\n",
    "\t\t\t\tpsets = defin.RelatingPropertyDefinition\n",
    "\t\t\t\tif psets.Name == _pset_name:\n",
    "\t\t\t\t\tsingle_values = psets.HasProperties\n",
    "\t\t\t\t\tfor value in single_values:\n",
    "\t\t\t\t\t\tif value.Name == _pset_attribute:\n",
    "\t\t\t\t\t\t\t_nominal_value = value.NominalValue.wrappedValue\n",
    "\t\t\t\t\t\t\treturn _nominal_value\n",
    "\n",
    "\n",
    "\n",
    "def get_space_relation(ifc_instance):\n",
    "\t\"\"\" Get all SpaceBoundaries of an ifc instance by given Ifc-instance\n",
    "\t\targs:\n",
    "        ifc_instance: id of instance\n",
    "\t    returns:\n",
    "        list of related spaces as ifc-instance\n",
    "\t\"\"\"\n",
    "\tspaces_list = []\n",
    "\ttry:\n",
    "\t\trelating_spaces=[x.RelatingSpace for x in ifc_instance.ProvidesBoundaries]\n",
    "\t\t\n",
    "\texcept:\n",
    "\t\tprint(ifc_instance.GlobalId + \": No Spaces found\")\n",
    "\telse:\n",
    "\t\tfor rel in relating_spaces:\n",
    "\t\t\tspaces_list.append(rel)\n",
    "\t\t\t\n",
    "\tfinally:\n",
    "\t\treturn spaces_list"
   ]
  },
  {
   "cell_type": "code",
   "execution_count": null,
   "id": "37030c18",
   "metadata": {},
   "outputs": [],
   "source": []
  }
 ],
 "metadata": {
  "kernelspec": {
   "display_name": "Python 3",
   "language": "python",
   "name": "python3"
  },
  "language_info": {
   "codemirror_mode": {
    "name": "ipython",
    "version": 3
   },
   "file_extension": ".py",
   "mimetype": "text/x-python",
   "name": "python",
   "nbconvert_exporter": "python",
   "pygments_lexer": "ipython3",
   "version": "3.7.6"
  }
 },
 "nbformat": 4,
 "nbformat_minor": 5
}
