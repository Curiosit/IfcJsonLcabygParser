{
 "cells": [
  {
   "cell_type": "code",
   "execution_count": 1,
   "id": "232cd072",
   "metadata": {},
   "outputs": [],
   "source": [
    "# IFC Parser\n",
    "# Based on https://thinkmoult.com/using-ifcopenshell-parse-ifc-files-python.html\n",
    "\n",
    "\n",
    "    "
   ]
  },
  {
   "cell_type": "code",
   "execution_count": 2,
   "id": "6822395e",
   "metadata": {},
   "outputs": [],
   "source": [
    "import ifcopenshell\n"
   ]
  },
  {
   "cell_type": "code",
   "execution_count": 3,
   "id": "f26e7efa",
   "metadata": {},
   "outputs": [],
   "source": [
    "ifc_file = ifcopenshell.open('test.ifc')"
   ]
  },
  {
   "cell_type": "code",
   "execution_count": null,
   "id": "59c13cff",
   "metadata": {},
   "outputs": [],
   "source": []
  },
  {
   "cell_type": "code",
   "execution_count": 4,
   "id": "14fb1011",
   "metadata": {},
   "outputs": [
    {
     "name": "stdout",
     "output_type": "stream",
     "text": [
      "IfcBuilding\n",
      "IfcBuildingStorey\n",
      "IfcBuildingStorey\n",
      "IfcWallStandardCase\n",
      "IfcWallStandardCase\n",
      "IfcWallStandardCase\n",
      "IfcWallStandardCase\n",
      "IfcWallStandardCase\n",
      "IfcWallStandardCase\n",
      "IfcWallStandardCase\n",
      "IfcWallStandardCase\n",
      "IfcWallStandardCase\n",
      "IfcWallStandardCase\n",
      "IfcWindow\n",
      "IfcWindow\n",
      "IfcDoor\n",
      "IfcSlab\n",
      "IfcSite\n",
      "IfcOpeningElement\n",
      "IfcOpeningElement\n",
      "IfcOpeningElement\n"
     ]
    }
   ],
   "source": [
    "products = ifc_file.by_type('IfcProduct')\n",
    "for product in products:\n",
    "    print(product.is_a())"
   ]
  },
  {
   "cell_type": "code",
   "execution_count": 5,
   "id": "72820200",
   "metadata": {},
   "outputs": [
    {
     "name": "stdout",
     "output_type": "stream",
     "text": [
      "#134=IfcBuilding('3DEwd$xVT3Hxc41VY5aNSY',#41,'',$,$,#32,$,'',.ELEMENT.,$,$,$)\n",
      "#143=IfcBuildingStorey('3DEwd$xVT3Hxc41VXwReda',#41,'Poziom 1',$,'Poziom:8 mm - początek',#141,$,'Poziom 1',.ELEMENT.,0.)\n",
      "#149=IfcBuildingStorey('3DEwd$xVT3Hxc41VXwRefb',#41,'Poziom 2',$,'Poziom:8 mm - początek',#148,$,'Poziom 2',.ELEMENT.,4000.)\n",
      "#208=IfcWallStandardCase('0XKS9_JrzCLBvqx8CYyH2y',#41,'Ściana podstawowa:Ogólne - 200 mm:331325',$,'Ściana podstawowa:Ogólne - 200 mm',#156,#204,'331325')\n",
      "#390=IfcWallStandardCase('0XKS9_JrzCLBvqx80YyH2y',#41,'Ściana podstawowa:Ogólne - 200 mm:331325',$,'Ściana podstawowa:Ogólne - 200 mm',#347,#388,'331325')\n",
      "#501=IfcWallStandardCase('0XKS9_JrzCLBvqx8CYyH3O',#41,'Ściana podstawowa:Ogólne - 200 mm:331353',$,'Ściana podstawowa:Ogólne - 200 mm',#463,#499,'331353')\n",
      "#593=IfcWallStandardCase('0XKS9_JrzCLBvqx80YyH3O',#41,'Ściana podstawowa:Ogólne - 200 mm:331353',$,'Ściana podstawowa:Ogólne - 200 mm',#553,#591,'331353')\n",
      "#699=IfcWallStandardCase('0XKS9_JrzCLBvqx8CYyH07',#41,'Ściana podstawowa:Ogólne - 200 mm:331398',$,'Ściana podstawowa:Ogólne - 200 mm',#661,#697,'331398')\n",
      "#791=IfcWallStandardCase('0XKS9_JrzCLBvqx80YyH07',#41,'Ściana podstawowa:Ogólne - 200 mm:331398',$,'Ściana podstawowa:Ogólne - 200 mm',#751,#789,'331398')\n",
      "#897=IfcWallStandardCase('0XKS9_JrzCLBvqx8CYyH0u',#41,'Ściana podstawowa:Ogólne - 200 mm:331449',$,'Ściana podstawowa:Ogólne - 200 mm',#859,#895,'331449')\n",
      "#989=IfcWallStandardCase('0XKS9_JrzCLBvqx80YyH0u',#41,'Ściana podstawowa:Ogólne - 200 mm:331449',$,'Ściana podstawowa:Ogólne - 200 mm',#949,#987,'331449')\n",
      "#1091=IfcWallStandardCase('0XKS9_JrzCLBvqx8CYyH1e',#41,'Ściana podstawowa:Ogólne - 200 mm:331497',$,'Ściana podstawowa:Ogólne - 200 mm',#1055,#1089,'331497')\n",
      "#1179=IfcWallStandardCase('0XKS9_JrzCLBvqx80YyH1e',#41,'Ściana podstawowa:Ogólne - 200 mm:331497',$,'Ściana podstawowa:Ogólne - 200 mm',#1141,#1177,'331497')\n",
      "#1400=IfcWindow('0XKS9_JrzCLBvqv88YyH1n',#41,'M_Stałe:0406 x 0610mm:331504',$,'M_Stałe:0406 x 0610mm',#2310,#1392,'331504',609.999999999999,406.)\n",
      "#1509=IfcWindow('0XKS9_JrzCLBvqv88YyH1s',#41,'M_Stałe:0406 x 0610mm:331511',$,'M_Stałe:0406 x 0610mm',#2345,#1501,'331511',609.999999999999,406.)\n",
      "#1722=IfcDoor('0XKS9_JrzCLBvqv88YyH6W',#41,'M_Jednoskrzydłowe płytowe:0915 x 2134mm:331553',$,'M_Jednoskrzydłowe płytowe:0915 x 2134mm',#2273,#1714,'331553',2134.,915.)\n",
      "#1838=IfcSlab('0XKS9_JrzCLBvqv88YyH6j',#41,'Strop:Ogólne 150 mm:331564',$,'Strop:Ogólne 150 mm',#1816,#1836,'331564',.FLOOR.)\n",
      "#1947=IfcSite('3DEwd$xVT3Hxc41VY5aNSX',#41,'Default',$,$,#1944,$,$,.ELEMENT.,(52,14,59,999999),(20,59,59,999999),0.,$,$)\n",
      "#2252=IfcOpeningElement('0XKS9_JrzCLBvqv94YyH6W',#41,'M_Jednoskrzydłowe płytowe:0915 x 2134mm:331553:1',$,'Opening',#2250,#2245,$)\n",
      "#2291=IfcOpeningElement('0XKS9_JrzCLBvqv94YyH1n',#41,'M_Stałe:0406 x 0610mm:331504:1',$,'Opening',#2289,#2284,$)\n",
      "#2327=IfcOpeningElement('0XKS9_JrzCLBvqv94YyH1s',#41,'M_Stałe:0406 x 0610mm:331511:1',$,'Opening',#2326,#2321,$)\n"
     ]
    }
   ],
   "source": [
    "for product in products:\n",
    "    print(product)"
   ]
  },
  {
   "cell_type": "code",
   "execution_count": 8,
   "id": "80e4f228",
   "metadata": {},
   "outputs": [],
   "source": [
    "wall = ifc_file.by_type('IfcWall')[0]\n"
   ]
  },
  {
   "cell_type": "code",
   "execution_count": 9,
   "id": "d9471f2e",
   "metadata": {},
   "outputs": [
    {
     "data": {
      "text/plain": [
       "#208=IfcWallStandardCase('0XKS9_JrzCLBvqx8CYyH2y',#41,'Ściana podstawowa:Ogólne - 200 mm:331325',$,'Ściana podstawowa:Ogólne - 200 mm',#156,#204,'331325')"
      ]
     },
     "execution_count": 9,
     "metadata": {},
     "output_type": "execute_result"
    }
   ],
   "source": [
    "wall"
   ]
  },
  {
   "cell_type": "code",
   "execution_count": 10,
   "id": "0b929263",
   "metadata": {},
   "outputs": [
    {
     "name": "stdout",
     "output_type": "stream",
     "text": [
      "0XKS9_JrzCLBvqx8CYyH2y\n",
      "Ściana podstawowa:Ogólne - 200 mm:331325\n"
     ]
    }
   ],
   "source": [
    "print(wall.GlobalId)\n",
    "print(wall.Name)"
   ]
  },
  {
   "cell_type": "code",
   "execution_count": 24,
   "id": "bbb15b7f",
   "metadata": {},
   "outputs": [
    {
     "name": "stdout",
     "output_type": "stream",
     "text": [
      "BaseQuantities\n",
      "Etapy\n",
      "Inne\n",
      "Konstrukcje\n",
      "Wiązania\n",
      "Wymiary\n",
      "Pset_QuantityTakeOff\n",
      "Pset_ReinforcementBarPitchOfWall\n",
      "Pset_WallCommon\n"
     ]
    }
   ],
   "source": [
    "wall = ifc_file.by_type('IfcWall')[0]\n",
    "for definition in wall.IsDefinedBy:\n",
    "    # To support IFC2X3, we need to filter our results.\n",
    "    if definition.is_a('IfcRelDefinesByProperties'):\n",
    "        property_set = definition.RelatingPropertyDefinition\n",
    "        print(property_set.Name) # Might return Pset_WallCommon"
   ]
  },
  {
   "cell_type": "code",
   "execution_count": 25,
   "id": "cdbcc3aa",
   "metadata": {},
   "outputs": [
    {
     "name": "stdout",
     "output_type": "stream",
     "text": [
      "Reference\n",
      "Ogólne - 200 mm\n",
      "IsExternal\n",
      "True\n",
      "ExtendToStructure\n",
      "False\n",
      "LoadBearing\n",
      "False\n"
     ]
    }
   ],
   "source": [
    "for property in property_set.HasProperties:\n",
    "    if property.is_a('IfcPropertySingleValue'):\n",
    "        print(property.Name)\n",
    "        print(property.NominalValue.wrappedValue)"
   ]
  },
  {
   "cell_type": "code",
   "execution_count": 26,
   "id": "223ed53f",
   "metadata": {},
   "outputs": [
    {
     "name": "stdout",
     "output_type": "stream",
     "text": [
      "Height\n",
      "Length\n",
      "Width\n",
      "GrossFootprintArea\n",
      "NetVolume\n",
      "NetSideArea\n",
      "NetSideArea\n",
      "NetVolume\n"
     ]
    },
    {
     "ename": "AttributeError",
     "evalue": "entity instance of type 'IfcRelDefinesByType' has no attribute 'RelatingPropertyDefinition'",
     "output_type": "error",
     "traceback": [
      "\u001b[1;31m---------------------------------------------------------------------------\u001b[0m",
      "\u001b[1;31mAttributeError\u001b[0m                            Traceback (most recent call last)",
      "\u001b[1;32m<ipython-input-26-07c44fe4ff2c>\u001b[0m in \u001b[0;36m<module>\u001b[1;34m\u001b[0m\n\u001b[0;32m      1\u001b[0m \u001b[0mwall\u001b[0m \u001b[1;33m=\u001b[0m \u001b[0mifc_file\u001b[0m\u001b[1;33m.\u001b[0m\u001b[0mby_type\u001b[0m\u001b[1;33m(\u001b[0m\u001b[1;34m'IfcWall'\u001b[0m\u001b[1;33m)\u001b[0m\u001b[1;33m[\u001b[0m\u001b[1;36m0\u001b[0m\u001b[1;33m]\u001b[0m\u001b[1;33m\u001b[0m\u001b[1;33m\u001b[0m\u001b[0m\n\u001b[0;32m      2\u001b[0m \u001b[1;32mfor\u001b[0m \u001b[0mdefinition\u001b[0m \u001b[1;32min\u001b[0m \u001b[0mwall\u001b[0m\u001b[1;33m.\u001b[0m\u001b[0mIsDefinedBy\u001b[0m\u001b[1;33m:\u001b[0m\u001b[1;33m\u001b[0m\u001b[1;33m\u001b[0m\u001b[0m\n\u001b[1;32m----> 3\u001b[1;33m     \u001b[0mrelated_data\u001b[0m \u001b[1;33m=\u001b[0m \u001b[0mdefinition\u001b[0m\u001b[1;33m.\u001b[0m\u001b[0mRelatingPropertyDefinition\u001b[0m\u001b[1;33m\u001b[0m\u001b[1;33m\u001b[0m\u001b[0m\n\u001b[0m\u001b[0;32m      4\u001b[0m     \u001b[1;32mif\u001b[0m \u001b[0mrelated_data\u001b[0m\u001b[1;33m.\u001b[0m\u001b[0mis_a\u001b[0m\u001b[1;33m(\u001b[0m\u001b[1;34m'IfcPropertySet'\u001b[0m\u001b[1;33m)\u001b[0m\u001b[1;33m:\u001b[0m\u001b[1;33m\u001b[0m\u001b[1;33m\u001b[0m\u001b[0m\n\u001b[0;32m      5\u001b[0m         \u001b[1;32mpass\u001b[0m\u001b[1;33m\u001b[0m\u001b[1;33m\u001b[0m\u001b[0m\n",
      "\u001b[1;32m~\\Anaconda3\\lib\\site-packages\\ifcopenshell\\entity_instance.py\u001b[0m in \u001b[0;36m__getattr__\u001b[1;34m(self, name)\u001b[0m\n\u001b[0;32m     63\u001b[0m         \u001b[1;32melse\u001b[0m\u001b[1;33m:\u001b[0m\u001b[1;33m\u001b[0m\u001b[1;33m\u001b[0m\u001b[0m\n\u001b[0;32m     64\u001b[0m             raise AttributeError(\n\u001b[1;32m---> 65\u001b[1;33m                 \"entity instance of type '%s' has no attribute '%s'\" % (self.wrapped_data.is_a(), name))\n\u001b[0m\u001b[0;32m     66\u001b[0m \u001b[1;33m\u001b[0m\u001b[0m\n\u001b[0;32m     67\u001b[0m     \u001b[1;33m@\u001b[0m\u001b[0mstaticmethod\u001b[0m\u001b[1;33m\u001b[0m\u001b[1;33m\u001b[0m\u001b[0m\n",
      "\u001b[1;31mAttributeError\u001b[0m: entity instance of type 'IfcRelDefinesByType' has no attribute 'RelatingPropertyDefinition'"
     ]
    }
   ],
   "source": [
    "wall = ifc_file.by_type('IfcWall')[0]\n",
    "for definition in wall.IsDefinedBy:\n",
    "    related_data = definition.RelatingPropertyDefinition\n",
    "    if related_data.is_a('IfcPropertySet'):\n",
    "        pass\n",
    "    elif related_data.is_a('IfcElementQuantity'):\n",
    "        print_element_quantities(related_data)"
   ]
  },
  {
   "cell_type": "code",
   "execution_count": 31,
   "id": "49e3cef6",
   "metadata": {},
   "outputs": [],
   "source": [
    "def print_element_quantities(element_quantity):\n",
    "    for quantity in element_quantity.Quantities:\n",
    "        print(quantity.Name)\n",
    "        if quantity.is_a('IfcQuantityArea'):\n",
    "            print(quantity.AreaValue)"
   ]
  },
  {
   "cell_type": "code",
   "execution_count": 32,
   "id": "28c037b3",
   "metadata": {},
   "outputs": [
    {
     "name": "stdout",
     "output_type": "stream",
     "text": [
      "Height\n",
      "Length\n",
      "Width\n",
      "GrossFootprintArea\n",
      "3.49605381794232\n",
      "NetVolume\n",
      "NetSideArea\n",
      "69998255.8044403\n",
      "NetSideArea\n",
      "148.44322028839\n",
      "NetVolume\n"
     ]
    },
    {
     "ename": "AttributeError",
     "evalue": "entity instance of type 'IfcRelDefinesByType' has no attribute 'RelatingPropertyDefinition'",
     "output_type": "error",
     "traceback": [
      "\u001b[1;31m---------------------------------------------------------------------------\u001b[0m",
      "\u001b[1;31mAttributeError\u001b[0m                            Traceback (most recent call last)",
      "\u001b[1;32m<ipython-input-32-07c44fe4ff2c>\u001b[0m in \u001b[0;36m<module>\u001b[1;34m\u001b[0m\n\u001b[0;32m      1\u001b[0m \u001b[0mwall\u001b[0m \u001b[1;33m=\u001b[0m \u001b[0mifc_file\u001b[0m\u001b[1;33m.\u001b[0m\u001b[0mby_type\u001b[0m\u001b[1;33m(\u001b[0m\u001b[1;34m'IfcWall'\u001b[0m\u001b[1;33m)\u001b[0m\u001b[1;33m[\u001b[0m\u001b[1;36m0\u001b[0m\u001b[1;33m]\u001b[0m\u001b[1;33m\u001b[0m\u001b[1;33m\u001b[0m\u001b[0m\n\u001b[0;32m      2\u001b[0m \u001b[1;32mfor\u001b[0m \u001b[0mdefinition\u001b[0m \u001b[1;32min\u001b[0m \u001b[0mwall\u001b[0m\u001b[1;33m.\u001b[0m\u001b[0mIsDefinedBy\u001b[0m\u001b[1;33m:\u001b[0m\u001b[1;33m\u001b[0m\u001b[1;33m\u001b[0m\u001b[0m\n\u001b[1;32m----> 3\u001b[1;33m     \u001b[0mrelated_data\u001b[0m \u001b[1;33m=\u001b[0m \u001b[0mdefinition\u001b[0m\u001b[1;33m.\u001b[0m\u001b[0mRelatingPropertyDefinition\u001b[0m\u001b[1;33m\u001b[0m\u001b[1;33m\u001b[0m\u001b[0m\n\u001b[0m\u001b[0;32m      4\u001b[0m     \u001b[1;32mif\u001b[0m \u001b[0mrelated_data\u001b[0m\u001b[1;33m.\u001b[0m\u001b[0mis_a\u001b[0m\u001b[1;33m(\u001b[0m\u001b[1;34m'IfcPropertySet'\u001b[0m\u001b[1;33m)\u001b[0m\u001b[1;33m:\u001b[0m\u001b[1;33m\u001b[0m\u001b[1;33m\u001b[0m\u001b[0m\n\u001b[0;32m      5\u001b[0m         \u001b[1;32mpass\u001b[0m\u001b[1;33m\u001b[0m\u001b[1;33m\u001b[0m\u001b[0m\n",
      "\u001b[1;32m~\\Anaconda3\\lib\\site-packages\\ifcopenshell\\entity_instance.py\u001b[0m in \u001b[0;36m__getattr__\u001b[1;34m(self, name)\u001b[0m\n\u001b[0;32m     63\u001b[0m         \u001b[1;32melse\u001b[0m\u001b[1;33m:\u001b[0m\u001b[1;33m\u001b[0m\u001b[1;33m\u001b[0m\u001b[0m\n\u001b[0;32m     64\u001b[0m             raise AttributeError(\n\u001b[1;32m---> 65\u001b[1;33m                 \"entity instance of type '%s' has no attribute '%s'\" % (self.wrapped_data.is_a(), name))\n\u001b[0m\u001b[0;32m     66\u001b[0m \u001b[1;33m\u001b[0m\u001b[0m\n\u001b[0;32m     67\u001b[0m     \u001b[1;33m@\u001b[0m\u001b[0mstaticmethod\u001b[0m\u001b[1;33m\u001b[0m\u001b[1;33m\u001b[0m\u001b[0m\n",
      "\u001b[1;31mAttributeError\u001b[0m: entity instance of type 'IfcRelDefinesByType' has no attribute 'RelatingPropertyDefinition'"
     ]
    }
   ],
   "source": [
    "wall = ifc_file.by_type('IfcWall')[0]\n",
    "for definition in wall.IsDefinedBy:\n",
    "    related_data = definition.RelatingPropertyDefinition\n",
    "    if related_data.is_a('IfcPropertySet'):\n",
    "        pass\n",
    "    elif related_data.is_a('IfcElementQuantity'):\n",
    "        print_element_quantities(related_data)"
   ]
  },
  {
   "cell_type": "code",
   "execution_count": null,
   "id": "b0e17fe1",
   "metadata": {},
   "outputs": [],
   "source": []
  }
 ],
 "metadata": {
  "kernelspec": {
   "display_name": "Python 3",
   "language": "python",
   "name": "python3"
  },
  "language_info": {
   "codemirror_mode": {
    "name": "ipython",
    "version": 3
   },
   "file_extension": ".py",
   "mimetype": "text/x-python",
   "name": "python",
   "nbconvert_exporter": "python",
   "pygments_lexer": "ipython3",
   "version": "3.7.6"
  }
 },
 "nbformat": 4,
 "nbformat_minor": 5
}
