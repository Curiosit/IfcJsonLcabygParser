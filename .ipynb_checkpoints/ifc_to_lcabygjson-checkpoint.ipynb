{
 "cells": [
  {
   "cell_type": "code",
   "execution_count": 1,
   "id": "06381164",
   "metadata": {},
   "outputs": [],
   "source": [
    "import json\n",
    "import ifcopenshell\n",
    "import ifcHelper \n",
    "import pandas as pd\n",
    "import numpy as np\n",
    "import lcabygjson\n",
    "import uuid"
   ]
  },
  {
   "cell_type": "code",
   "execution_count": null,
   "id": "e4540564",
   "metadata": {},
   "outputs": [],
   "source": []
  },
  {
   "cell_type": "code",
   "execution_count": 2,
   "id": "7d67bf3c",
   "metadata": {},
   "outputs": [],
   "source": [
    "json_array_elements = []\n",
    "json_array_constructions = []\n",
    "json_array_element_category_edges = []\n",
    "json_array_constructions_extra = []"
   ]
  },
  {
   "cell_type": "code",
   "execution_count": 3,
   "id": "ab8c60a9",
   "metadata": {},
   "outputs": [
    {
     "name": "stdout",
     "output_type": "stream",
     "text": [
      "File loaded successfully\n"
     ]
    }
   ],
   "source": [
    "try:\n",
    "  ifc_file = ifcopenshell.open('ifc_test_file.ifc')\n",
    "  print(\"File loaded successfully\")\n",
    "except:\n",
    "  print(\"An exception occurred\")"
   ]
  },
  {
   "cell_type": "code",
   "execution_count": 4,
   "id": "b37dbd17",
   "metadata": {},
   "outputs": [
    {
     "name": "stdout",
     "output_type": "stream",
     "text": [
      "Walls loaded successfully\n",
      "Slabs loaded successfully\n",
      "Windows loaded successfully\n",
      "Doors loaded successfully\n",
      "Railings loaded successfully\n"
     ]
    }
   ],
   "source": [
    "walls_df = lcabygjson.get_wall_dataframe(ifc_file)\n",
    "slabs_df = lcabygjson.get_slabs_dataframe(ifc_file)\n",
    "windows_df = lcabygjson.get_windows_dataframe(ifc_file)\n",
    "doors_df = lcabygjson.get_doors_dataframe(ifc_file)\n",
    "railings_df = lcabygjson.get_railings_dataframe(ifc_file)\n",
    "\n"
   ]
  },
  {
   "cell_type": "code",
   "execution_count": 5,
   "id": "4cd9908f",
   "metadata": {},
   "outputs": [],
   "source": [
    "\n",
    "\n",
    "lcabyg_elements = lcabygjson.create_lcabyg_elements()"
   ]
  },
  {
   "cell_type": "code",
   "execution_count": 6,
   "id": "63a8d6eb",
   "metadata": {},
   "outputs": [
    {
     "data": {
      "text/plain": [
       "([], [], [], [])"
      ]
     },
     "execution_count": 6,
     "metadata": {},
     "output_type": "execute_result"
    }
   ],
   "source": [
    "lcabyg_elements"
   ]
  },
  {
   "cell_type": "code",
   "execution_count": 7,
   "id": "dfb3fe27",
   "metadata": {},
   "outputs": [
    {
     "name": "stdout",
     "output_type": "stream",
     "text": [
      "Added construction:\n",
      "Basic Wall:Z01\n",
      "Added construction:\n",
      "Basic Wall:Z02\n"
     ]
    }
   ],
   "source": [
    "lcabyg_elements = lcabygjson.append_lcabyg_element(lcabyg_elements, walls_df['Area'], walls_df['Type'], 'Walls', 'M2', '02c3e303-a443-4f02-9927-e43519227ade')"
   ]
  },
  {
   "cell_type": "code",
   "execution_count": 8,
   "id": "9ec095a3",
   "metadata": {},
   "outputs": [
    {
     "name": "stdout",
     "output_type": "stream",
     "text": [
      "Added construction:\n",
      "Basic Roof:Ogólne - 400 mm\n",
      "Added construction:\n",
      "Floor:Ogólne 150 mm\n"
     ]
    }
   ],
   "source": [
    "lcabyg_elements = lcabygjson.append_lcabyg_element(lcabyg_elements, slabs_df['Area'], slabs_df['Type'], 'Slabs', 'M2', str(uuid.uuid4()))"
   ]
  },
  {
   "cell_type": "code",
   "execution_count": 9,
   "id": "b15f3d08",
   "metadata": {},
   "outputs": [
    {
     "name": "stdout",
     "output_type": "stream",
     "text": [
      "Added construction:\n",
      "M_Stałe:O01\n",
      "Added construction:\n",
      "M_Stałe:O02\n"
     ]
    }
   ],
   "source": [
    "lcabyg_elements = lcabygjson.append_lcabyg_element(lcabyg_elements, windows_df['Area'], windows_df['Type'], 'Windows', 'M2', str(uuid.uuid4()))"
   ]
  },
  {
   "cell_type": "code",
   "execution_count": 10,
   "id": "ab439300",
   "metadata": {},
   "outputs": [
    {
     "name": "stdout",
     "output_type": "stream",
     "text": [
      "Added construction:\n",
      "Railing:1100mm\n",
      "Added construction:\n",
      "Railing:Panel szklany - dolne wypełnienie\n"
     ]
    }
   ],
   "source": [
    "lcabyg_elements = lcabygjson.append_lcabyg_element(lcabyg_elements, railings_df['Length'], railings_df['Type'], 'Railings', 'M', str(uuid.uuid4()))"
   ]
  },
  {
   "cell_type": "code",
   "execution_count": 11,
   "id": "fde3c490",
   "metadata": {},
   "outputs": [
    {
     "data": {
      "text/plain": [
       "([{'Node': {'Element': {'id': '02c3e303-a443-4f02-9927-e43519227ade',\n",
       "     'name': {'Danish': 'Walls', 'English': '', 'German': ''},\n",
       "     'source': 'User',\n",
       "     'comment': 'Created by IfcJsonLcabygParser. https://github.com/Curiosit/IfcJsonLcabygParser',\n",
       "     'enabled': True,\n",
       "     'active': True}}},\n",
       "  {'Edge': [{'ElementToConstruction': {'id': '2b83a35b-393b-4418-bd7d-05b7bda8cfc0',\n",
       "      'amount': 323.4979465328056,\n",
       "      'enabled': True}},\n",
       "    '02c3e303-a443-4f02-9927-e43519227ade',\n",
       "    '457e0577-26a2-4bd8-aa0f-95eb00c20c2a']},\n",
       "  {'Edge': [{'ElementToConstruction': {'id': '2ea2c8b1-3985-44f4-9cd3-11732b0bf00e',\n",
       "      'amount': 229.43707388177322,\n",
       "      'enabled': True}},\n",
       "    '02c3e303-a443-4f02-9927-e43519227ade',\n",
       "    '59f7acd8-5d42-418a-9702-ee8c11332545']},\n",
       "  {'Node': {'Element': {'id': 'efd7c6a2-0737-4c50-8bbe-03e091fe6f63',\n",
       "     'name': {'Danish': 'Slabs', 'English': '', 'German': ''},\n",
       "     'source': 'User',\n",
       "     'comment': 'Created by IfcJsonLcabygParser. https://github.com/Curiosit/IfcJsonLcabygParser',\n",
       "     'enabled': True,\n",
       "     'active': True}}},\n",
       "  {'Edge': [{'ElementToConstruction': {'id': '9ec31529-543b-44e8-9d97-605e553bd0c0',\n",
       "      'amount': 1992.181744854956,\n",
       "      'enabled': True}},\n",
       "    'efd7c6a2-0737-4c50-8bbe-03e091fe6f63',\n",
       "    'bdffe290-0c5e-4d69-9a9c-4ca3e54713e2']},\n",
       "  {'Edge': [{'ElementToConstruction': {'id': '8ee5832a-b534-473c-a2ec-65f4e97d227b',\n",
       "      'amount': 377.67,\n",
       "      'enabled': True}},\n",
       "    'efd7c6a2-0737-4c50-8bbe-03e091fe6f63',\n",
       "    '04fbc2a9-d2c4-42c3-8a74-b13496ae4431']},\n",
       "  {'Node': {'Element': {'id': '630e9514-6a0a-4927-b90a-25db2e46e802',\n",
       "     'name': {'Danish': 'Windows', 'English': '', 'German': ''},\n",
       "     'source': 'User',\n",
       "     'comment': 'Created by IfcJsonLcabygParser. https://github.com/Curiosit/IfcJsonLcabygParser',\n",
       "     'enabled': True,\n",
       "     'active': True}}},\n",
       "  {'Edge': [{'ElementToConstruction': {'id': '70661628-029a-413f-b0f7-af81ae110d38',\n",
       "      'amount': 0.776808000000043,\n",
       "      'enabled': True}},\n",
       "    '630e9514-6a0a-4927-b90a-25db2e46e802',\n",
       "    '554bcfdd-13e4-4950-a87d-30926eb2dfec']},\n",
       "  {'Edge': [{'ElementToConstruction': {'id': 'c1ffb44a-3295-486c-845c-18264377662b',\n",
       "      'amount': 3.17875400000013,\n",
       "      'enabled': True}},\n",
       "    '630e9514-6a0a-4927-b90a-25db2e46e802',\n",
       "    '52f2877f-77c6-4bcf-9141-b7295b2e16b3']},\n",
       "  {'Node': {'Element': {'id': 'edbfb6fa-9b3d-4cfb-b064-ba0a5fb272c6',\n",
       "     'name': {'Danish': 'Railings', 'English': '', 'German': ''},\n",
       "     'source': 'User',\n",
       "     'comment': 'Created by IfcJsonLcabygParser. https://github.com/Curiosit/IfcJsonLcabygParser',\n",
       "     'enabled': True,\n",
       "     'active': True}}},\n",
       "  {'Edge': [{'ElementToConstruction': {'id': '0d8d8b0c-19d4-4274-8eb3-8891bf4e04bf',\n",
       "      'amount': 19352.3218413606,\n",
       "      'enabled': True}},\n",
       "    'edbfb6fa-9b3d-4cfb-b064-ba0a5fb272c6',\n",
       "    'fc46b147-78e7-4a1d-bb22-f41f863895e3']},\n",
       "  {'Edge': [{'ElementToConstruction': {'id': 'e3c37cb1-1d37-478f-8aff-2fc76c00eb4a',\n",
       "      'amount': 8296.43611834863,\n",
       "      'enabled': True}},\n",
       "    'edbfb6fa-9b3d-4cfb-b064-ba0a5fb272c6',\n",
       "    'ef5a32da-20bd-4f7a-b399-125ec25d97f8']}],\n",
       " [{'Node': {'Construction': {'id': '457e0577-26a2-4bd8-aa0f-95eb00c20c2a',\n",
       "     'name': {'Danish': 'Basic Wall:Z01', 'English': 'Test construction'},\n",
       "     'unit': 'M2',\n",
       "     'source': 'User',\n",
       "     'comment': 'Testing',\n",
       "     'layer': 1,\n",
       "     'locked': True}}},\n",
       "  {'Edge': [{'ConstructionToProduct': {'id': '3c66aa19-8d23-4bfd-aba1-79b714918092',\n",
       "      'amount': 1,\n",
       "      'unit': 'M2',\n",
       "      'lifespan': 50,\n",
       "      'demolition': False,\n",
       "      'enabled': True,\n",
       "      'delayed_start': 0}},\n",
       "    '457e0577-26a2-4bd8-aa0f-95eb00c20c2a',\n",
       "    '51bcec85-9105-4946-8a8a-51219bf9adfa']},\n",
       "  {'Node': {'Construction': {'id': '59f7acd8-5d42-418a-9702-ee8c11332545',\n",
       "     'name': {'Danish': 'Basic Wall:Z02', 'English': 'Test construction'},\n",
       "     'unit': 'M2',\n",
       "     'source': 'User',\n",
       "     'comment': 'Testing',\n",
       "     'layer': 1,\n",
       "     'locked': True}}},\n",
       "  {'Edge': [{'ConstructionToProduct': {'id': 'e543f1b6-0509-4677-81c5-7f5d074abc6d',\n",
       "      'amount': 1,\n",
       "      'unit': 'M2',\n",
       "      'lifespan': 50,\n",
       "      'demolition': False,\n",
       "      'enabled': True,\n",
       "      'delayed_start': 0}},\n",
       "    '59f7acd8-5d42-418a-9702-ee8c11332545',\n",
       "    '51bcec85-9105-4946-8a8a-51219bf9adfa']},\n",
       "  {'Node': {'Construction': {'id': 'bdffe290-0c5e-4d69-9a9c-4ca3e54713e2',\n",
       "     'name': {'Danish': 'Basic Roof:Ogólne - 400 mm',\n",
       "      'English': 'Test construction'},\n",
       "     'unit': 'M2',\n",
       "     'source': 'User',\n",
       "     'comment': 'Testing',\n",
       "     'layer': 1,\n",
       "     'locked': True}}},\n",
       "  {'Edge': [{'ConstructionToProduct': {'id': 'a0e3211d-c97b-4400-b286-ba352d465ef0',\n",
       "      'amount': 1,\n",
       "      'unit': 'M2',\n",
       "      'lifespan': 50,\n",
       "      'demolition': False,\n",
       "      'enabled': True,\n",
       "      'delayed_start': 0}},\n",
       "    'bdffe290-0c5e-4d69-9a9c-4ca3e54713e2',\n",
       "    '51bcec85-9105-4946-8a8a-51219bf9adfa']},\n",
       "  {'Node': {'Construction': {'id': '04fbc2a9-d2c4-42c3-8a74-b13496ae4431',\n",
       "     'name': {'Danish': 'Floor:Ogólne 150 mm', 'English': 'Test construction'},\n",
       "     'unit': 'M2',\n",
       "     'source': 'User',\n",
       "     'comment': 'Testing',\n",
       "     'layer': 1,\n",
       "     'locked': True}}},\n",
       "  {'Edge': [{'ConstructionToProduct': {'id': '565d7778-dd3c-4c47-b562-ecf34fdef07b',\n",
       "      'amount': 1,\n",
       "      'unit': 'M2',\n",
       "      'lifespan': 50,\n",
       "      'demolition': False,\n",
       "      'enabled': True,\n",
       "      'delayed_start': 0}},\n",
       "    '04fbc2a9-d2c4-42c3-8a74-b13496ae4431',\n",
       "    '51bcec85-9105-4946-8a8a-51219bf9adfa']},\n",
       "  {'Node': {'Construction': {'id': '554bcfdd-13e4-4950-a87d-30926eb2dfec',\n",
       "     'name': {'Danish': 'M_Stałe:O01', 'English': 'Test construction'},\n",
       "     'unit': 'M2',\n",
       "     'source': 'User',\n",
       "     'comment': 'Testing',\n",
       "     'layer': 1,\n",
       "     'locked': True}}},\n",
       "  {'Edge': [{'ConstructionToProduct': {'id': '721e9dc2-b5e6-461d-a75a-e342019410be',\n",
       "      'amount': 1,\n",
       "      'unit': 'M2',\n",
       "      'lifespan': 50,\n",
       "      'demolition': False,\n",
       "      'enabled': True,\n",
       "      'delayed_start': 0}},\n",
       "    '554bcfdd-13e4-4950-a87d-30926eb2dfec',\n",
       "    '51bcec85-9105-4946-8a8a-51219bf9adfa']},\n",
       "  {'Node': {'Construction': {'id': '52f2877f-77c6-4bcf-9141-b7295b2e16b3',\n",
       "     'name': {'Danish': 'M_Stałe:O02', 'English': 'Test construction'},\n",
       "     'unit': 'M2',\n",
       "     'source': 'User',\n",
       "     'comment': 'Testing',\n",
       "     'layer': 1,\n",
       "     'locked': True}}},\n",
       "  {'Edge': [{'ConstructionToProduct': {'id': '93cd189c-cada-4a77-9926-a4b9b84ff77d',\n",
       "      'amount': 1,\n",
       "      'unit': 'M2',\n",
       "      'lifespan': 50,\n",
       "      'demolition': False,\n",
       "      'enabled': True,\n",
       "      'delayed_start': 0}},\n",
       "    '52f2877f-77c6-4bcf-9141-b7295b2e16b3',\n",
       "    '51bcec85-9105-4946-8a8a-51219bf9adfa']},\n",
       "  {'Node': {'Construction': {'id': 'fc46b147-78e7-4a1d-bb22-f41f863895e3',\n",
       "     'name': {'Danish': 'Railing:1100mm', 'English': 'Test construction'},\n",
       "     'unit': 'M2',\n",
       "     'source': 'User',\n",
       "     'comment': 'Testing',\n",
       "     'layer': 1,\n",
       "     'locked': True}}},\n",
       "  {'Edge': [{'ConstructionToProduct': {'id': '25b82f01-e8fb-41b7-8bbc-3f2543a9daf1',\n",
       "      'amount': 1,\n",
       "      'unit': 'M2',\n",
       "      'lifespan': 50,\n",
       "      'demolition': False,\n",
       "      'enabled': True,\n",
       "      'delayed_start': 0}},\n",
       "    'fc46b147-78e7-4a1d-bb22-f41f863895e3',\n",
       "    '51bcec85-9105-4946-8a8a-51219bf9adfa']},\n",
       "  {'Node': {'Construction': {'id': 'ef5a32da-20bd-4f7a-b399-125ec25d97f8',\n",
       "     'name': {'Danish': 'Railing:Panel szklany - dolne wypełnienie',\n",
       "      'English': 'Test construction'},\n",
       "     'unit': 'M2',\n",
       "     'source': 'User',\n",
       "     'comment': 'Testing',\n",
       "     'layer': 1,\n",
       "     'locked': True}}},\n",
       "  {'Edge': [{'ConstructionToProduct': {'id': '40b0e4e2-7ce6-4281-a83a-0dc3864bb09f',\n",
       "      'amount': 1,\n",
       "      'unit': 'M2',\n",
       "      'lifespan': 50,\n",
       "      'demolition': False,\n",
       "      'enabled': True,\n",
       "      'delayed_start': 0}},\n",
       "    'ef5a32da-20bd-4f7a-b399-125ec25d97f8',\n",
       "    '51bcec85-9105-4946-8a8a-51219bf9adfa']}],\n",
       " [{'Edge': [{'CategoryToElement': {'id': '33cca3c1-f08a-4030-8626-435c5a24d5f5',\n",
       "      'enabled': True}},\n",
       "    '069983d0-d08b-405b-b816-d28ca9648956',\n",
       "    '02c3e303-a443-4f02-9927-e43519227ade']},\n",
       "  {'Edge': [{'CategoryToElement': {'id': '6857ecbc-38df-4d51-9fcc-d92d8fc8f7b6',\n",
       "      'enabled': True}},\n",
       "    '069983d0-d08b-405b-b816-d28ca9648956',\n",
       "    'efd7c6a2-0737-4c50-8bbe-03e091fe6f63']},\n",
       "  {'Edge': [{'CategoryToElement': {'id': '024e7f38-9b6a-4ee1-90af-80d63cc6e85e',\n",
       "      'enabled': True}},\n",
       "    '069983d0-d08b-405b-b816-d28ca9648956',\n",
       "    '630e9514-6a0a-4927-b90a-25db2e46e802']},\n",
       "  {'Edge': [{'CategoryToElement': {'id': 'd8b1d2de-e2dd-4444-9543-8b48aabd77ec',\n",
       "      'enabled': True}},\n",
       "    '069983d0-d08b-405b-b816-d28ca9648956',\n",
       "    'edbfb6fa-9b3d-4cfb-b064-ba0a5fb272c6']}],\n",
       " [{'Edge': [{'CategoryToConstruction': {'id': 'ebb8c10e-82bc-4bd3-bc83-b604c11cf85f',\n",
       "      'layers': [1]}},\n",
       "    '069983d0-d08b-405b-b816-d28ca9648956',\n",
       "    '457e0577-26a2-4bd8-aa0f-95eb00c20c2a']},\n",
       "  {'Edge': [{'CategoryToConstruction': {'id': 'e1af14bf-05af-42b7-8588-ae5fc2ebf853',\n",
       "      'layers': [1]}},\n",
       "    '069983d0-d08b-405b-b816-d28ca9648956',\n",
       "    '59f7acd8-5d42-418a-9702-ee8c11332545']},\n",
       "  {'Edge': [{'CategoryToConstruction': {'id': '1ebffd75-8660-4bb3-b347-580915429204',\n",
       "      'layers': [1]}},\n",
       "    '069983d0-d08b-405b-b816-d28ca9648956',\n",
       "    'bdffe290-0c5e-4d69-9a9c-4ca3e54713e2']},\n",
       "  {'Edge': [{'CategoryToConstruction': {'id': '5243d500-601c-4de2-b525-ddc3010c8616',\n",
       "      'layers': [1]}},\n",
       "    '069983d0-d08b-405b-b816-d28ca9648956',\n",
       "    '04fbc2a9-d2c4-42c3-8a74-b13496ae4431']},\n",
       "  {'Edge': [{'CategoryToConstruction': {'id': '6318280f-d271-447f-8966-33a0d30ec234',\n",
       "      'layers': [1]}},\n",
       "    '069983d0-d08b-405b-b816-d28ca9648956',\n",
       "    '554bcfdd-13e4-4950-a87d-30926eb2dfec']},\n",
       "  {'Edge': [{'CategoryToConstruction': {'id': '36184c91-dfff-4f08-9a5b-066469cd718f',\n",
       "      'layers': [1]}},\n",
       "    '069983d0-d08b-405b-b816-d28ca9648956',\n",
       "    '52f2877f-77c6-4bcf-9141-b7295b2e16b3']},\n",
       "  {'Edge': [{'CategoryToConstruction': {'id': '844de47c-900c-481d-9c06-90dfdbef783f',\n",
       "      'layers': [1]}},\n",
       "    '069983d0-d08b-405b-b816-d28ca9648956',\n",
       "    'fc46b147-78e7-4a1d-bb22-f41f863895e3']},\n",
       "  {'Edge': [{'CategoryToConstruction': {'id': 'd0055071-af1f-42d3-9d05-b9a7895fbd6b',\n",
       "      'layers': [1]}},\n",
       "    '069983d0-d08b-405b-b816-d28ca9648956',\n",
       "    'ef5a32da-20bd-4f7a-b399-125ec25d97f8']}])"
      ]
     },
     "execution_count": 11,
     "metadata": {},
     "output_type": "execute_result"
    }
   ],
   "source": [
    "lcabyg_elements"
   ]
  },
  {
   "cell_type": "code",
   "execution_count": 12,
   "id": "fd44686d",
   "metadata": {},
   "outputs": [],
   "source": [
    "json_array_elements = lcabygjson.add_things_json_list(json_array_elements, lcabyg_elements[0])\n",
    "json_array_constructions = lcabygjson.add_things_json_list(json_array_constructions, lcabyg_elements[1])\n",
    "json_array_element_category_edges = lcabygjson.add_things_json_list(json_array_element_category_edges, lcabyg_elements[2])\n",
    "json_array_constructions_extra = lcabygjson.add_things_json_list(json_array_constructions_extra, lcabyg_elements[3])"
   ]
  },
  {
   "cell_type": "code",
   "execution_count": 13,
   "id": "530b6e40",
   "metadata": {},
   "outputs": [],
   "source": [
    "with open('lcabyg_example/elements.json', 'w') as outfile:\n",
    "    json.dump(json_array_elements, outfile,indent=4)\n",
    "with open('lcabyg_example/constructions.json', 'w') as outfile:\n",
    "    json.dump(json_array_constructions, outfile,indent=4)\n",
    "with open('lcabyg_example/construction_category_edges.json', 'w') as outfile:\n",
    "    json.dump(json_array_element_category_edges, outfile,indent=4)\n",
    "with open('lcabyg_example/constructions_extra.json', 'w') as outfile:\n",
    "    json.dump(json_array_constructions_extra, outfile,indent=4)"
   ]
  }
 ],
 "metadata": {
  "kernelspec": {
   "display_name": "Python 3",
   "language": "python",
   "name": "python3"
  },
  "language_info": {
   "codemirror_mode": {
    "name": "ipython",
    "version": 3
   },
   "file_extension": ".py",
   "mimetype": "text/x-python",
   "name": "python",
   "nbconvert_exporter": "python",
   "pygments_lexer": "ipython3",
   "version": "3.7.6"
  }
 },
 "nbformat": 4,
 "nbformat_minor": 5
}
