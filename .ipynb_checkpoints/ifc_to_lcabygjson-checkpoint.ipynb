{
 "cells": [
  {
   "cell_type": "code",
   "execution_count": 1,
   "id": "09504efa",
   "metadata": {},
   "outputs": [],
   "source": [
    "import json\n",
    "import ifcopenshell\n",
    "import ifcHelper \n",
    "import pandas as pd\n",
    "import numpy as np\n",
    "import lcabygjson\n",
    "import uuid"
   ]
  },
  {
   "cell_type": "code",
   "execution_count": null,
   "id": "075a4510",
   "metadata": {},
   "outputs": [],
   "source": []
  },
  {
   "cell_type": "code",
   "execution_count": 2,
   "id": "8d9304e2",
   "metadata": {},
   "outputs": [],
   "source": [
    "json_array_elements = []\n",
    "json_array_constructions = []\n",
    "json_array_element_category_edges = []\n",
    "json_array_constructions_extra = []"
   ]
  },
  {
   "cell_type": "code",
   "execution_count": 3,
   "id": "4524da49",
   "metadata": {},
   "outputs": [
    {
     "name": "stdout",
     "output_type": "stream",
     "text": [
      "File loaded successfully\n"
     ]
    }
   ],
   "source": [
    "try:\n",
    "  ifc_file = ifcopenshell.open('ifc_test_file.ifc')\n",
    "  print(\"File loaded successfully\")\n",
    "except:\n",
    "  print(\"An exception occurred\")"
   ]
  },
  {
   "cell_type": "code",
   "execution_count": 4,
   "id": "bb55322f",
   "metadata": {},
   "outputs": [
    {
     "name": "stdout",
     "output_type": "stream",
     "text": [
      "Walls loaded successfully\n",
      "Slabs loaded successfully\n",
      "Windows loaded successfully\n"
     ]
    }
   ],
   "source": [
    "walls_df = lcabygjson.get_wall_dataframe(ifc_file)\n",
    "slabs_df = lcabygjson.get_slabs_dataframe(ifc_file)\n",
    "windows_df = lcabygjson.get_windows_dataframe(ifc_file)\n",
    "doors_df = lcabygjson.get_doors_dataframe(ifc_file)\n",
    "railings_df = lcabygjson.get_railings_dataframe(ifc_file)\n",
    "cw_panels_df = lcabygjson.get_cw_panels_dataframe(ifc_file)\n",
    "cw_mullions_df = lcabygjson.get_cw_mullions_dataframe(ifc_file)"
   ]
  },
  {
   "cell_type": "code",
   "execution_count": 5,
   "id": "c45cf248",
   "metadata": {},
   "outputs": [
    {
     "data": {
      "text/html": [
       "<div>\n",
       "<style scoped>\n",
       "    .dataframe tbody tr th:only-of-type {\n",
       "        vertical-align: middle;\n",
       "    }\n",
       "\n",
       "    .dataframe tbody tr th {\n",
       "        vertical-align: top;\n",
       "    }\n",
       "\n",
       "    .dataframe thead th {\n",
       "        text-align: right;\n",
       "    }\n",
       "</style>\n",
       "<table border=\"1\" class=\"dataframe\">\n",
       "  <thead>\n",
       "    <tr style=\"text-align: right;\">\n",
       "      <th></th>\n",
       "      <th>Type</th>\n",
       "      <th>Area</th>\n",
       "    </tr>\n",
       "  </thead>\n",
       "  <tbody>\n",
       "    <tr>\n",
       "      <th>0</th>\n",
       "      <td>Basic Wall:W01</td>\n",
       "      <td>131.843052</td>\n",
       "    </tr>\n",
       "    <tr>\n",
       "      <th>1</th>\n",
       "      <td>Basic Wall:Z01</td>\n",
       "      <td>141.760273</td>\n",
       "    </tr>\n",
       "    <tr>\n",
       "      <th>2</th>\n",
       "      <td>Basic Wall:Z02</td>\n",
       "      <td>207.844615</td>\n",
       "    </tr>\n",
       "  </tbody>\n",
       "</table>\n",
       "</div>"
      ],
      "text/plain": [
       "             Type        Area\n",
       "0  Basic Wall:W01  131.843052\n",
       "1  Basic Wall:Z01  141.760273\n",
       "2  Basic Wall:Z02  207.844615"
      ]
     },
     "execution_count": 5,
     "metadata": {},
     "output_type": "execute_result"
    }
   ],
   "source": [
    "walls_df "
   ]
  },
  {
   "cell_type": "code",
   "execution_count": 6,
   "id": "de20b957",
   "metadata": {},
   "outputs": [],
   "source": [
    "lcabyg_elements = lcabygjson.create_lcabyg_elements()"
   ]
  },
  {
   "cell_type": "code",
   "execution_count": 7,
   "id": "553e1da9",
   "metadata": {},
   "outputs": [
    {
     "data": {
      "text/plain": [
       "([], [], [], [])"
      ]
     },
     "execution_count": 7,
     "metadata": {},
     "output_type": "execute_result"
    }
   ],
   "source": [
    "lcabyg_elements"
   ]
  },
  {
   "cell_type": "code",
   "execution_count": 8,
   "id": "a04fa35e",
   "metadata": {},
   "outputs": [
    {
     "name": "stdout",
     "output_type": "stream",
     "text": [
      "Added element:\n",
      "Walls\n",
      "0    131.843052\n",
      "1    141.760273\n",
      "2    207.844615\n",
      "Name: Area, dtype: float64\n",
      "131.843051958342\n",
      "Added construction:\n",
      "Basic Wall:W01\n",
      "141.76027261991248\n",
      "Added construction:\n",
      "Basic Wall:Z01\n",
      "207.8446145163202\n",
      "Added construction:\n",
      "Basic Wall:Z02\n"
     ]
    }
   ],
   "source": [
    "lcabyg_elements = lcabygjson.append_lcabyg_element(lcabyg_elements, walls_df['Area'], walls_df['Type'], 'Walls', 'M2', '02c3e303-a443-4f02-9927-e43519227ade')"
   ]
  },
  {
   "cell_type": "code",
   "execution_count": 9,
   "id": "0700b38f",
   "metadata": {},
   "outputs": [
    {
     "name": "stdout",
     "output_type": "stream",
     "text": [
      "Added element:\n",
      "Slabs\n",
      "0    3613.543399\n",
      "1     541.587880\n",
      "2     113.584765\n",
      "Name: Area, dtype: float64\n",
      "3613.543399325796\n",
      "Added construction:\n",
      "Basic Roof:R400\n",
      "541.587880260348\n",
      "Added construction:\n",
      "Floor:S250\n",
      "113.584765395699\n",
      "Added construction:\n",
      "Floor:eS100\n"
     ]
    }
   ],
   "source": [
    "lcabyg_elements = lcabygjson.append_lcabyg_element(lcabyg_elements, slabs_df['Area'], slabs_df['Type'], 'Slabs', 'M2', str(uuid.uuid4()))"
   ]
  },
  {
   "cell_type": "code",
   "execution_count": 10,
   "id": "7d12243b",
   "metadata": {},
   "outputs": [
    {
     "name": "stdout",
     "output_type": "stream",
     "text": [
      "Added element:\n",
      "Windows\n",
      "0     1.553616\n",
      "1     4.787354\n",
      "2    55.622556\n",
      "Name: Area, dtype: float64\n",
      "1.553616000000086\n",
      "Added construction:\n",
      "Window-T1:O01\n",
      "4.78735400000013\n",
      "Added construction:\n",
      "Window-T1:O02\n",
      "55.62255600000144\n",
      "Added construction:\n",
      "Window-T1:O03\n"
     ]
    }
   ],
   "source": [
    "lcabyg_elements = lcabygjson.append_lcabyg_element(lcabyg_elements, windows_df['Area'], windows_df['Type'], 'Windows', 'M2', str(uuid.uuid4()))"
   ]
  },
  {
   "cell_type": "code",
   "execution_count": 11,
   "id": "44858903",
   "metadata": {},
   "outputs": [],
   "source": [
    "lcabyg_elements = lcabygjson.append_lcabyg_element(lcabyg_elements, railings_df['Length'], railings_df['Type'], 'Railings', 'M', str(uuid.uuid4()))"
   ]
  },
  {
   "cell_type": "code",
   "execution_count": 12,
   "id": "0357444e",
   "metadata": {},
   "outputs": [],
   "source": [
    "lcabyg_elements = lcabygjson.append_lcabyg_element(lcabyg_elements, cw_panels_df['Area'], cw_panels_df['Type'], 'Curtain Wall Panels', 'M2', str(uuid.uuid4()))"
   ]
  },
  {
   "cell_type": "code",
   "execution_count": 13,
   "id": "a22ed882",
   "metadata": {},
   "outputs": [],
   "source": [
    "lcabyg_elements = lcabygjson.append_lcabyg_element(lcabyg_elements, cw_mullions_df['Length'], cw_mullions_df['Type'], 'Curtain Wall Mullions', 'M', str(uuid.uuid4()))"
   ]
  },
  {
   "cell_type": "code",
   "execution_count": 14,
   "id": "16cb75cf",
   "metadata": {},
   "outputs": [],
   "source": [
    "json_array_elements = lcabygjson.add_things_json_list(json_array_elements, lcabyg_elements[0])\n",
    "json_array_constructions = lcabygjson.add_things_json_list(json_array_constructions, lcabyg_elements[1])\n",
    "json_array_element_category_edges = lcabygjson.add_things_json_list(json_array_element_category_edges, lcabyg_elements[2])\n",
    "json_array_constructions_extra = lcabygjson.add_things_json_list(json_array_constructions_extra, lcabyg_elements[3])"
   ]
  },
  {
   "cell_type": "code",
   "execution_count": 15,
   "id": "89c5bb9f",
   "metadata": {
    "scrolled": false
   },
   "outputs": [
    {
     "data": {
      "text/plain": [
       "([{'Node': {'Element': {'id': '02c3e303-a443-4f02-9927-e43519227ade',\n",
       "     'name': {'Danish': 'Walls', 'English': '', 'German': ''},\n",
       "     'source': 'User',\n",
       "     'comment': 'Created by IfcJsonLcabygParser. https://github.com/Curiosit/IfcJsonLcabygParser',\n",
       "     'enabled': True,\n",
       "     'active': True}}},\n",
       "  {'Edge': [{'ElementToConstruction': {'id': '9d5e16db-4446-4d4e-84ca-40708108202a',\n",
       "      'amount': 131.843051958342,\n",
       "      'enabled': True}},\n",
       "    '02c3e303-a443-4f02-9927-e43519227ade',\n",
       "    '7ef81ffe-83b6-4db0-bb03-6f377fb63a19']},\n",
       "  {'Edge': [{'ElementToConstruction': {'id': '1a10d585-8164-45fe-a53c-c814f7efad02',\n",
       "      'amount': 141.76027261991248,\n",
       "      'enabled': True}},\n",
       "    '02c3e303-a443-4f02-9927-e43519227ade',\n",
       "    '1a1db14e-f1c0-49f3-b09b-8aafdd65092b']},\n",
       "  {'Edge': [{'ElementToConstruction': {'id': '69d71262-f256-4570-b75a-bedf32d1a5ce',\n",
       "      'amount': 207.8446145163202,\n",
       "      'enabled': True}},\n",
       "    '02c3e303-a443-4f02-9927-e43519227ade',\n",
       "    '676b40ef-0d74-449d-a54e-4f6dd06fe224']},\n",
       "  {'Node': {'Element': {'id': '6744bb34-c7ad-4e50-a1d3-1ae3a8b5a1cc',\n",
       "     'name': {'Danish': 'Slabs', 'English': '', 'German': ''},\n",
       "     'source': 'User',\n",
       "     'comment': 'Created by IfcJsonLcabygParser. https://github.com/Curiosit/IfcJsonLcabygParser',\n",
       "     'enabled': True,\n",
       "     'active': True}}},\n",
       "  {'Edge': [{'ElementToConstruction': {'id': '63fbd58f-73fd-40fa-a57e-6103ed1b4911',\n",
       "      'amount': 3613.543399325796,\n",
       "      'enabled': True}},\n",
       "    '6744bb34-c7ad-4e50-a1d3-1ae3a8b5a1cc',\n",
       "    '0aee9e86-1f43-446b-b13e-90acabc10255']},\n",
       "  {'Edge': [{'ElementToConstruction': {'id': '8ffbd2bc-f12d-47ed-a902-305ebaef05ac',\n",
       "      'amount': 541.587880260348,\n",
       "      'enabled': True}},\n",
       "    '6744bb34-c7ad-4e50-a1d3-1ae3a8b5a1cc',\n",
       "    '634cd088-1e3b-4f3f-96e1-887130c36c1e']},\n",
       "  {'Edge': [{'ElementToConstruction': {'id': '5c2e66bb-0f94-4201-9be7-dd14bdb67513',\n",
       "      'amount': 113.584765395699,\n",
       "      'enabled': True}},\n",
       "    '6744bb34-c7ad-4e50-a1d3-1ae3a8b5a1cc',\n",
       "    'f783da1b-b7a5-403e-ad25-1b485e063cf2']},\n",
       "  {'Node': {'Element': {'id': 'c6b38cbf-fb24-4cab-83be-cf68c287de00',\n",
       "     'name': {'Danish': 'Windows', 'English': '', 'German': ''},\n",
       "     'source': 'User',\n",
       "     'comment': 'Created by IfcJsonLcabygParser. https://github.com/Curiosit/IfcJsonLcabygParser',\n",
       "     'enabled': True,\n",
       "     'active': True}}},\n",
       "  {'Edge': [{'ElementToConstruction': {'id': '4aa57be0-b916-4997-b5d9-42ab5d26f734',\n",
       "      'amount': 1.553616000000086,\n",
       "      'enabled': True}},\n",
       "    'c6b38cbf-fb24-4cab-83be-cf68c287de00',\n",
       "    '64c3b888-cbfe-4e75-b9c0-5613c3116002']},\n",
       "  {'Edge': [{'ElementToConstruction': {'id': '5efcaf02-a442-4064-a783-f4471e6644ae',\n",
       "      'amount': 4.78735400000013,\n",
       "      'enabled': True}},\n",
       "    'c6b38cbf-fb24-4cab-83be-cf68c287de00',\n",
       "    '770e7438-857b-44db-b5a5-56479bc5745c']},\n",
       "  {'Edge': [{'ElementToConstruction': {'id': '29732755-1593-4c1c-9aca-362a118587d6',\n",
       "      'amount': 55.62255600000144,\n",
       "      'enabled': True}},\n",
       "    'c6b38cbf-fb24-4cab-83be-cf68c287de00',\n",
       "    'aea1e140-2396-4954-877a-2de304065ab3']}],\n",
       " [{'Node': {'Construction': {'id': '7ef81ffe-83b6-4db0-bb03-6f377fb63a19',\n",
       "     'name': {'Danish': 'Basic Wall:W01', 'English': 'Test construction'},\n",
       "     'unit': 'M2',\n",
       "     'source': 'User',\n",
       "     'comment': 'Created by IfcJsonLcabygParser. https://github.com/Curiosit/IfcJsonLcabygParser',\n",
       "     'layer': 1,\n",
       "     'locked': True}}},\n",
       "  {'Edge': [{'ConstructionToProduct': {'id': 'e6228423-e2f0-450d-956d-f0980164346a',\n",
       "      'amount': 1,\n",
       "      'unit': 'M2',\n",
       "      'lifespan': 50,\n",
       "      'demolition': False,\n",
       "      'enabled': True,\n",
       "      'delayed_start': 0}},\n",
       "    '7ef81ffe-83b6-4db0-bb03-6f377fb63a19',\n",
       "    '51bcec85-9105-4946-8a8a-51219bf9adfa']},\n",
       "  {'Node': {'Construction': {'id': '1a1db14e-f1c0-49f3-b09b-8aafdd65092b',\n",
       "     'name': {'Danish': 'Basic Wall:Z01', 'English': 'Test construction'},\n",
       "     'unit': 'M2',\n",
       "     'source': 'User',\n",
       "     'comment': 'Created by IfcJsonLcabygParser. https://github.com/Curiosit/IfcJsonLcabygParser',\n",
       "     'layer': 1,\n",
       "     'locked': True}}},\n",
       "  {'Edge': [{'ConstructionToProduct': {'id': '4a4c49dd-2092-429a-a894-f972424f0fc7',\n",
       "      'amount': 1,\n",
       "      'unit': 'M2',\n",
       "      'lifespan': 50,\n",
       "      'demolition': False,\n",
       "      'enabled': True,\n",
       "      'delayed_start': 0}},\n",
       "    '1a1db14e-f1c0-49f3-b09b-8aafdd65092b',\n",
       "    '51bcec85-9105-4946-8a8a-51219bf9adfa']},\n",
       "  {'Node': {'Construction': {'id': '676b40ef-0d74-449d-a54e-4f6dd06fe224',\n",
       "     'name': {'Danish': 'Basic Wall:Z02', 'English': 'Test construction'},\n",
       "     'unit': 'M2',\n",
       "     'source': 'User',\n",
       "     'comment': 'Created by IfcJsonLcabygParser. https://github.com/Curiosit/IfcJsonLcabygParser',\n",
       "     'layer': 1,\n",
       "     'locked': True}}},\n",
       "  {'Edge': [{'ConstructionToProduct': {'id': '5e01559b-c228-4a64-a110-43ccfa70fa35',\n",
       "      'amount': 1,\n",
       "      'unit': 'M2',\n",
       "      'lifespan': 50,\n",
       "      'demolition': False,\n",
       "      'enabled': True,\n",
       "      'delayed_start': 0}},\n",
       "    '676b40ef-0d74-449d-a54e-4f6dd06fe224',\n",
       "    '51bcec85-9105-4946-8a8a-51219bf9adfa']},\n",
       "  {'Node': {'Construction': {'id': '0aee9e86-1f43-446b-b13e-90acabc10255',\n",
       "     'name': {'Danish': 'Basic Roof:R400', 'English': 'Test construction'},\n",
       "     'unit': 'M2',\n",
       "     'source': 'User',\n",
       "     'comment': 'Created by IfcJsonLcabygParser. https://github.com/Curiosit/IfcJsonLcabygParser',\n",
       "     'layer': 1,\n",
       "     'locked': True}}},\n",
       "  {'Edge': [{'ConstructionToProduct': {'id': '21eb866a-389f-42c6-898c-b35995699c6a',\n",
       "      'amount': 1,\n",
       "      'unit': 'M2',\n",
       "      'lifespan': 50,\n",
       "      'demolition': False,\n",
       "      'enabled': True,\n",
       "      'delayed_start': 0}},\n",
       "    '0aee9e86-1f43-446b-b13e-90acabc10255',\n",
       "    '51bcec85-9105-4946-8a8a-51219bf9adfa']},\n",
       "  {'Node': {'Construction': {'id': '634cd088-1e3b-4f3f-96e1-887130c36c1e',\n",
       "     'name': {'Danish': 'Floor:S250', 'English': 'Test construction'},\n",
       "     'unit': 'M2',\n",
       "     'source': 'User',\n",
       "     'comment': 'Created by IfcJsonLcabygParser. https://github.com/Curiosit/IfcJsonLcabygParser',\n",
       "     'layer': 1,\n",
       "     'locked': True}}},\n",
       "  {'Edge': [{'ConstructionToProduct': {'id': '83611d78-5e1b-49c6-8e92-c81000fe7ca5',\n",
       "      'amount': 1,\n",
       "      'unit': 'M2',\n",
       "      'lifespan': 50,\n",
       "      'demolition': False,\n",
       "      'enabled': True,\n",
       "      'delayed_start': 0}},\n",
       "    '634cd088-1e3b-4f3f-96e1-887130c36c1e',\n",
       "    '51bcec85-9105-4946-8a8a-51219bf9adfa']},\n",
       "  {'Node': {'Construction': {'id': 'f783da1b-b7a5-403e-ad25-1b485e063cf2',\n",
       "     'name': {'Danish': 'Floor:eS100', 'English': 'Test construction'},\n",
       "     'unit': 'M2',\n",
       "     'source': 'User',\n",
       "     'comment': 'Created by IfcJsonLcabygParser. https://github.com/Curiosit/IfcJsonLcabygParser',\n",
       "     'layer': 1,\n",
       "     'locked': True}}},\n",
       "  {'Edge': [{'ConstructionToProduct': {'id': '6f8b2f2c-15e1-4e66-8f1e-ed838d0555d5',\n",
       "      'amount': 1,\n",
       "      'unit': 'M2',\n",
       "      'lifespan': 50,\n",
       "      'demolition': False,\n",
       "      'enabled': True,\n",
       "      'delayed_start': 0}},\n",
       "    'f783da1b-b7a5-403e-ad25-1b485e063cf2',\n",
       "    '51bcec85-9105-4946-8a8a-51219bf9adfa']},\n",
       "  {'Node': {'Construction': {'id': '64c3b888-cbfe-4e75-b9c0-5613c3116002',\n",
       "     'name': {'Danish': 'Window-T1:O01', 'English': 'Test construction'},\n",
       "     'unit': 'M2',\n",
       "     'source': 'User',\n",
       "     'comment': 'Created by IfcJsonLcabygParser. https://github.com/Curiosit/IfcJsonLcabygParser',\n",
       "     'layer': 1,\n",
       "     'locked': True}}},\n",
       "  {'Edge': [{'ConstructionToProduct': {'id': 'bf5db0ec-1bcd-40c8-bbd3-b235a3f3144d',\n",
       "      'amount': 1,\n",
       "      'unit': 'M2',\n",
       "      'lifespan': 50,\n",
       "      'demolition': False,\n",
       "      'enabled': True,\n",
       "      'delayed_start': 0}},\n",
       "    '64c3b888-cbfe-4e75-b9c0-5613c3116002',\n",
       "    '51bcec85-9105-4946-8a8a-51219bf9adfa']},\n",
       "  {'Node': {'Construction': {'id': '770e7438-857b-44db-b5a5-56479bc5745c',\n",
       "     'name': {'Danish': 'Window-T1:O02', 'English': 'Test construction'},\n",
       "     'unit': 'M2',\n",
       "     'source': 'User',\n",
       "     'comment': 'Created by IfcJsonLcabygParser. https://github.com/Curiosit/IfcJsonLcabygParser',\n",
       "     'layer': 1,\n",
       "     'locked': True}}},\n",
       "  {'Edge': [{'ConstructionToProduct': {'id': 'd6a5f8bf-1ad3-412b-b000-d7e736357c73',\n",
       "      'amount': 1,\n",
       "      'unit': 'M2',\n",
       "      'lifespan': 50,\n",
       "      'demolition': False,\n",
       "      'enabled': True,\n",
       "      'delayed_start': 0}},\n",
       "    '770e7438-857b-44db-b5a5-56479bc5745c',\n",
       "    '51bcec85-9105-4946-8a8a-51219bf9adfa']},\n",
       "  {'Node': {'Construction': {'id': 'aea1e140-2396-4954-877a-2de304065ab3',\n",
       "     'name': {'Danish': 'Window-T1:O03', 'English': 'Test construction'},\n",
       "     'unit': 'M2',\n",
       "     'source': 'User',\n",
       "     'comment': 'Created by IfcJsonLcabygParser. https://github.com/Curiosit/IfcJsonLcabygParser',\n",
       "     'layer': 1,\n",
       "     'locked': True}}},\n",
       "  {'Edge': [{'ConstructionToProduct': {'id': '75058129-5fe1-4f98-84c7-3b350d5e72f6',\n",
       "      'amount': 1,\n",
       "      'unit': 'M2',\n",
       "      'lifespan': 50,\n",
       "      'demolition': False,\n",
       "      'enabled': True,\n",
       "      'delayed_start': 0}},\n",
       "    'aea1e140-2396-4954-877a-2de304065ab3',\n",
       "    '51bcec85-9105-4946-8a8a-51219bf9adfa']}],\n",
       " [{'Edge': [{'CategoryToElement': {'id': '3caed1d8-61c9-4275-916e-5523df9ab41b',\n",
       "      'enabled': True}},\n",
       "    '069983d0-d08b-405b-b816-d28ca9648956',\n",
       "    '02c3e303-a443-4f02-9927-e43519227ade']},\n",
       "  {'Edge': [{'CategoryToElement': {'id': '2e44a5d3-80e3-4d9a-aad1-4388d1a9c27e',\n",
       "      'enabled': True}},\n",
       "    '069983d0-d08b-405b-b816-d28ca9648956',\n",
       "    '6744bb34-c7ad-4e50-a1d3-1ae3a8b5a1cc']},\n",
       "  {'Edge': [{'CategoryToElement': {'id': 'd483ca11-27ae-4c35-a6dd-b5c305a5503c',\n",
       "      'enabled': True}},\n",
       "    '069983d0-d08b-405b-b816-d28ca9648956',\n",
       "    'c6b38cbf-fb24-4cab-83be-cf68c287de00']}],\n",
       " [{'Edge': [{'CategoryToConstruction': {'id': 'a04fa06e-8e22-4a31-9c13-7b68bbb79ff8',\n",
       "      'layers': [1]}},\n",
       "    '069983d0-d08b-405b-b816-d28ca9648956',\n",
       "    '7ef81ffe-83b6-4db0-bb03-6f377fb63a19']},\n",
       "  {'Edge': [{'CategoryToConstruction': {'id': '30f628ac-7b36-4f48-9e61-d4d1f13e70e8',\n",
       "      'layers': [1]}},\n",
       "    '069983d0-d08b-405b-b816-d28ca9648956',\n",
       "    '1a1db14e-f1c0-49f3-b09b-8aafdd65092b']},\n",
       "  {'Edge': [{'CategoryToConstruction': {'id': '06d3eb7c-f0ce-40f4-8a8d-463d8241a59c',\n",
       "      'layers': [1]}},\n",
       "    '069983d0-d08b-405b-b816-d28ca9648956',\n",
       "    '676b40ef-0d74-449d-a54e-4f6dd06fe224']},\n",
       "  {'Edge': [{'CategoryToConstruction': {'id': '224adbab-d1fe-47a5-b88c-e2a7d00ef306',\n",
       "      'layers': [1]}},\n",
       "    '069983d0-d08b-405b-b816-d28ca9648956',\n",
       "    '0aee9e86-1f43-446b-b13e-90acabc10255']},\n",
       "  {'Edge': [{'CategoryToConstruction': {'id': 'bca4a353-f123-4b5e-8445-6c6bcb0abc9c',\n",
       "      'layers': [1]}},\n",
       "    '069983d0-d08b-405b-b816-d28ca9648956',\n",
       "    '634cd088-1e3b-4f3f-96e1-887130c36c1e']},\n",
       "  {'Edge': [{'CategoryToConstruction': {'id': '16dba1c6-7b95-4e94-826a-0787ec6ea1c7',\n",
       "      'layers': [1]}},\n",
       "    '069983d0-d08b-405b-b816-d28ca9648956',\n",
       "    'f783da1b-b7a5-403e-ad25-1b485e063cf2']},\n",
       "  {'Edge': [{'CategoryToConstruction': {'id': '199b6663-cde6-44c4-ab84-88208f1bc24e',\n",
       "      'layers': [1]}},\n",
       "    '069983d0-d08b-405b-b816-d28ca9648956',\n",
       "    '64c3b888-cbfe-4e75-b9c0-5613c3116002']},\n",
       "  {'Edge': [{'CategoryToConstruction': {'id': '916a2b81-9d76-45bc-96c6-cd7e3cf8212b',\n",
       "      'layers': [1]}},\n",
       "    '069983d0-d08b-405b-b816-d28ca9648956',\n",
       "    '770e7438-857b-44db-b5a5-56479bc5745c']},\n",
       "  {'Edge': [{'CategoryToConstruction': {'id': 'f2794d7b-7ffb-4a92-87c4-735d2ceb4bc0',\n",
       "      'layers': [1]}},\n",
       "    '069983d0-d08b-405b-b816-d28ca9648956',\n",
       "    'aea1e140-2396-4954-877a-2de304065ab3']}])"
      ]
     },
     "execution_count": 15,
     "metadata": {},
     "output_type": "execute_result"
    }
   ],
   "source": [
    "lcabyg_elements"
   ]
  },
  {
   "cell_type": "code",
   "execution_count": 16,
   "id": "3c2e7969",
   "metadata": {},
   "outputs": [
    {
     "name": "stdout",
     "output_type": "stream",
     "text": [
      "Files exported successfully\n"
     ]
    }
   ],
   "source": [
    "try:\n",
    "  with open('lcabyg_example/elements.json', 'w') as outfile:\n",
    "        json.dump(json_array_elements, outfile,indent=4)\n",
    "  with open('lcabyg_example/constructions.json', 'w') as outfile:\n",
    "        json.dump(json_array_constructions, outfile,indent=4)\n",
    "  with open('lcabyg_example/construction_category_edges.json', 'w') as outfile:\n",
    "        json.dump(json_array_element_category_edges, outfile,indent=4)\n",
    "  with open('lcabyg_example/constructions_extra.json', 'w') as outfile:\n",
    "        json.dump(json_array_constructions_extra, outfile,indent=4)\n",
    "  print(\"Files exported successfully\")\n",
    "except:\n",
    "  print(\"An exception occurred\")"
   ]
  },
  {
   "cell_type": "code",
   "execution_count": null,
   "id": "862812a7",
   "metadata": {},
   "outputs": [],
   "source": []
  }
 ],
 "metadata": {
  "kernelspec": {
   "display_name": "Python 3",
   "language": "python",
   "name": "python3"
  },
  "language_info": {
   "codemirror_mode": {
    "name": "ipython",
    "version": 3
   },
   "file_extension": ".py",
   "mimetype": "text/x-python",
   "name": "python",
   "nbconvert_exporter": "python",
   "pygments_lexer": "ipython3",
   "version": "3.7.6"
  }
 },
 "nbformat": 4,
 "nbformat_minor": 5
}
