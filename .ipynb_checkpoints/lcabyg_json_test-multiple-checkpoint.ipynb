{
 "cells": [
  {
   "cell_type": "code",
   "execution_count": 73,
   "id": "f0a9eeb9",
   "metadata": {},
   "outputs": [],
   "source": [
    "import json\n",
    "import itertools\n",
    "import numpy as np"
   ]
  },
  {
   "cell_type": "code",
   "execution_count": 74,
   "id": "d05a323b",
   "metadata": {},
   "outputs": [],
   "source": [
    "## SOURCES:\n",
    "#\n",
    "# https://www.geeksforgeeks.org/read-json-file-using-python/\n",
    "#"
   ]
  },
  {
   "cell_type": "code",
   "execution_count": 75,
   "id": "1325f5f4",
   "metadata": {},
   "outputs": [],
   "source": [
    "import uuid #library for creating necessary unique object ids"
   ]
  },
  {
   "cell_type": "code",
   "execution_count": 76,
   "id": "3230b852",
   "metadata": {},
   "outputs": [],
   "source": [
    "with open('lcabyg_example/building.json', 'r') as f:\n",
    "  building_json = json.load(f)"
   ]
  },
  {
   "cell_type": "code",
   "execution_count": null,
   "id": "a3c4fc62",
   "metadata": {},
   "outputs": [],
   "source": []
  },
  {
   "cell_type": "code",
   "execution_count": 77,
   "id": "e9c92d4a",
   "metadata": {},
   "outputs": [],
   "source": [
    "with open('lcabyg_example/constructions.json', 'r') as f:\n",
    "  constructions_json = json.load(f)"
   ]
  },
  {
   "cell_type": "markdown",
   "id": "34d218fa",
   "metadata": {},
   "source": [
    "##### Elements.json"
   ]
  },
  {
   "cell_type": "code",
   "execution_count": null,
   "id": "c55cbe11",
   "metadata": {},
   "outputs": [],
   "source": []
  },
  {
   "cell_type": "code",
   "execution_count": 78,
   "id": "671a6860",
   "metadata": {},
   "outputs": [],
   "source": [
    "with open('lcabyg_example/elements.json', 'r') as f:\n",
    "  elements_json = json.load(f)"
   ]
  },
  {
   "cell_type": "code",
   "execution_count": 79,
   "id": "29e1f580",
   "metadata": {},
   "outputs": [],
   "source": [
    "def add_things_json_list(json_list, json_element):\n",
    "    for i in json_element:\n",
    "        json_list.append(i)\n",
    "    return json_list"
   ]
  },
  {
   "cell_type": "code",
   "execution_count": 141,
   "id": "1f702c18",
   "metadata": {},
   "outputs": [],
   "source": [
    "def create_lcabyg_element(construction_amount, element_name = 'Test_element', product_amount = 1, lifespan = 50, product_id = '51bcec85-9105-4946-8a8a-51219bf9adfa'):\n",
    "    \n",
    "    ################ SET PROPERTIES AND IDs\n",
    "    \n",
    "    element_id = str(uuid.uuid4())\n",
    "    #construction_id = str(uuid.uuid4())\n",
    "    element_category_id = str(uuid.uuid4())\n",
    "    \n",
    "    construction_edge_id = str(uuid.uuid4())\n",
    "    \n",
    "    element_category_edge_id = str(uuid.uuid4())\n",
    "    constructions_category_id = str(uuid.uuid4())\n",
    "    \n",
    "    ################ DEFAULT IDs (this ones are not needed to change)\n",
    "    \n",
    "   \n",
    "    \n",
    "    ################ DEFAULT IDs from example\n",
    "    element_id = '02c3e303-a443-4f02-9927-e43519227ade'\n",
    "    #construction_id = 'c6f24e0f-020a-4f0f-93c6-65beb50bd798'\n",
    "    element_category_id = '069983d0-d08b-405b-b816-d28ca9648956'\n",
    "    product_id = '51bcec85-9105-4946-8a8a-51219bf9adfa'\n",
    "    \n",
    "    #construction_edge_id = '65cc0492-7864-4598-9254-5f929379bae6'\n",
    "    #element_edge_id = 'e66c3d76-eae6-4c6b-86f7-e9178bc8f804'\n",
    "    #element_category_edge_id = '479c5e5a-b173-4c07-bfbd-0cedff55888b'\n",
    "    constructions_category_id = '8cef6e2a-ad53-4450-9c6f-7a24eb9fcf16'\n",
    "    \n",
    "    \n",
    "    ################\n",
    "    \n",
    "    json_array_elements = []\n",
    "    json_array_constructions = []\n",
    "    json_array_element_category = []\n",
    "    json_array_constructions_extra = []\n",
    "    \n",
    "    ################ ELEMENTS.JSON\n",
    "    element_properties = {'id': element_id,  \"name\": { \"Danish\": \"Test bygningsdel\",\"English\": \"\",\"German\": \"\" }, \"source\": \"User\", \"comment\": \"Created by IFC-LCABYG-Importer\", \"enabled\": True, \"active\": True}\n",
    "    element_set = {'Element': element_properties}\n",
    "    element_node = {'Node': element_set}\n",
    "    \n",
    "    \n",
    "    element_edge_id = []\n",
    "    construction_id = []\n",
    "    construction_edge_id = []\n",
    "    element_edges = []\n",
    "    i = 0\n",
    "    \n",
    "    ####\n",
    "    json_array_elements.append(element_node) #0 elements.json\n",
    "    ####\n",
    "    \n",
    "    for n in construction_amount:\n",
    "        print (i)\n",
    "        element_edge_id.append(str(uuid.uuid4()))\n",
    "        construction_id.append(str(uuid.uuid4()))\n",
    "        construction_edge_id.append(str(uuid.uuid4()))\n",
    "        element_edge_details = {'id': element_edge_id[i],'amount': n, 'enabled': True}\n",
    "        element_edge_data = [{'ElementToConstruction': element_edge_details}, element_id, construction_id[i]]\n",
    "        element_edge = {'Edge': element_edge_data}\n",
    "                 \n",
    "        json_array_elements.append(element_edge) \n",
    "        \n",
    "        \n",
    "        ################ CONSTRUCTIONS.JSON\n",
    "        construction_properties = {'id': construction_id[i],  'name': {'Danish': element_name[i], 'English': 'Test construction'},'unit': 'M2', 'source': 'User','comment': 'Testing','layer': 1,'locked': True}\n",
    "        construction_set = {'Construction': construction_properties}\n",
    "        construction_node = {'Node': construction_set}\n",
    "        \n",
    "        json_array_constructions.append(construction_node) #1 constructions.json\n",
    "        \n",
    "        construction_edge_details = {'id': construction_edge_id[i],'amount': product_amount, 'unit': 'M2', 'lifespan': lifespan,     'demolition': False,     'enabled': True,     'delayed_start': 0}\n",
    "        construction_edge_data = [{'ConstructionToProduct': construction_edge_details}, construction_id[i], product_id]\n",
    "        construction_edge = {'Edge': construction_edge_data}\n",
    "        \n",
    "        json_array_constructions.append(construction_edge)    \n",
    "        \n",
    "        \n",
    "        \n",
    "        ################ constructions_extra.json\n",
    "\n",
    "        constructions_category_edge_details = {'id': str(uuid.uuid4()),'layers': [1]}\n",
    "        constructions_category_edge_data = [{'CategoryToConstruction':constructions_category_edge_details}, element_category_id, construction_id[i]]\n",
    "        constructions_category_edge = {'Edge': constructions_category_edge_data}\n",
    "\n",
    "        ################ SAVE TO ARRAY\n",
    "\n",
    "        \n",
    "        json_array_constructions_extra.append(constructions_category_edge) #3 constructions_extra.json\n",
    "        \n",
    "        \n",
    "        \n",
    "        ########\n",
    "        i += 1\n",
    "    ############\n",
    "    \n",
    "    \n",
    "    ################ element_category_edges.json\n",
    "        \n",
    "    element_category_edge_details = {'id': str(uuid.uuid4()), 'enabled': True}\n",
    "    element_category_edge_data = [{'CategoryToElement':element_category_edge_details}, element_category_id, element_id]\n",
    "    element_category_edge = {'Edge': element_category_edge_data}\n",
    "    json_array_element_category.append(element_category_edge) #2 construction_category_edges.json\n",
    "    \n",
    "    \n",
    "    \n",
    "\n",
    "                            \n",
    "    return  json_array_elements, json_array_constructions,json_array_element_category, json_array_constructions_extra"
   ]
  },
  {
   "cell_type": "code",
   "execution_count": 142,
   "id": "70c935d9",
   "metadata": {},
   "outputs": [
    {
     "name": "stdout",
     "output_type": "stream",
     "text": [
      "0\n",
      "1\n"
     ]
    }
   ],
   "source": [
    "amount_list = [123,234]\n",
    "name_list = ['test_1', 'test_2']\n",
    "json_result = create_lcabyg_element(amount_list, name_list)"
   ]
  },
  {
   "cell_type": "code",
   "execution_count": 143,
   "id": "3a97e22a",
   "metadata": {},
   "outputs": [
    {
     "data": {
      "text/plain": [
       "[{'Node': {'Element': {'id': '02c3e303-a443-4f02-9927-e43519227ade',\n",
       "    'name': {'Danish': 'Test bygningsdel', 'English': '', 'German': ''},\n",
       "    'source': 'User',\n",
       "    'comment': 'Created by IFC-LCABYG-Importer',\n",
       "    'enabled': True,\n",
       "    'active': True}}},\n",
       " {'Edge': [{'ElementToConstruction': {'id': '5ab7848b-558a-4379-87fa-42e5e6f5f90a',\n",
       "     'amount': 123,\n",
       "     'enabled': True}},\n",
       "   '02c3e303-a443-4f02-9927-e43519227ade',\n",
       "   'd8510d65-e0ea-4a47-a983-4132d03e99b4']},\n",
       " {'Edge': [{'ElementToConstruction': {'id': 'aba3bdb5-b671-4b54-b7d0-0efda851bfa0',\n",
       "     'amount': 234,\n",
       "     'enabled': True}},\n",
       "   '02c3e303-a443-4f02-9927-e43519227ade',\n",
       "   '28e953cb-2ea4-437c-8d68-d74d97098c6a']}]"
      ]
     },
     "execution_count": 143,
     "metadata": {},
     "output_type": "execute_result"
    }
   ],
   "source": [
    "json_result[0]"
   ]
  },
  {
   "cell_type": "code",
   "execution_count": 144,
   "id": "2e2036b7",
   "metadata": {},
   "outputs": [
    {
     "data": {
      "text/plain": [
       "[{'Node': {'Construction': {'id': 'd8510d65-e0ea-4a47-a983-4132d03e99b4',\n",
       "    'name': {'Danish': 'test_1', 'English': 'Test construction'},\n",
       "    'unit': 'M2',\n",
       "    'source': 'User',\n",
       "    'comment': 'Testing',\n",
       "    'layer': 1,\n",
       "    'locked': True}}},\n",
       " {'Edge': [{'ConstructionToProduct': {'id': '57fbfdaf-6ee2-4931-a472-e47dafb493a6',\n",
       "     'amount': 1,\n",
       "     'unit': 'M2',\n",
       "     'lifespan': 50,\n",
       "     'demolition': False,\n",
       "     'enabled': True,\n",
       "     'delayed_start': 0}},\n",
       "   'd8510d65-e0ea-4a47-a983-4132d03e99b4',\n",
       "   '51bcec85-9105-4946-8a8a-51219bf9adfa']},\n",
       " {'Node': {'Construction': {'id': '28e953cb-2ea4-437c-8d68-d74d97098c6a',\n",
       "    'name': {'Danish': 'test_2', 'English': 'Test construction'},\n",
       "    'unit': 'M2',\n",
       "    'source': 'User',\n",
       "    'comment': 'Testing',\n",
       "    'layer': 1,\n",
       "    'locked': True}}},\n",
       " {'Edge': [{'ConstructionToProduct': {'id': 'f609c9d4-f4c2-407b-a66e-2ff7971baf14',\n",
       "     'amount': 1,\n",
       "     'unit': 'M2',\n",
       "     'lifespan': 50,\n",
       "     'demolition': False,\n",
       "     'enabled': True,\n",
       "     'delayed_start': 0}},\n",
       "   '28e953cb-2ea4-437c-8d68-d74d97098c6a',\n",
       "   '51bcec85-9105-4946-8a8a-51219bf9adfa']}]"
      ]
     },
     "execution_count": 144,
     "metadata": {},
     "output_type": "execute_result"
    }
   ],
   "source": [
    "json_result[1]"
   ]
  },
  {
   "cell_type": "code",
   "execution_count": 145,
   "id": "9e40c0e3",
   "metadata": {},
   "outputs": [
    {
     "data": {
      "text/plain": [
       "[{'Edge': [{'CategoryToElement': {'id': '553306b3-1a62-4c1d-94df-082f1a100e42',\n",
       "     'enabled': True}},\n",
       "   '069983d0-d08b-405b-b816-d28ca9648956',\n",
       "   '02c3e303-a443-4f02-9927-e43519227ade']}]"
      ]
     },
     "execution_count": 145,
     "metadata": {},
     "output_type": "execute_result"
    }
   ],
   "source": [
    "json_result[2]"
   ]
  },
  {
   "cell_type": "code",
   "execution_count": 146,
   "id": "691c634c",
   "metadata": {},
   "outputs": [
    {
     "data": {
      "text/plain": [
       "[{'Edge': [{'CategoryToConstruction': {'id': 'aac0eb1d-e0b7-4858-bc82-09e8122a4d02',\n",
       "     'layers': [1]}},\n",
       "   '069983d0-d08b-405b-b816-d28ca9648956',\n",
       "   'd8510d65-e0ea-4a47-a983-4132d03e99b4']},\n",
       " {'Edge': [{'CategoryToConstruction': {'id': 'f924215a-521e-4685-bce1-a0dfe3a99105',\n",
       "     'layers': [1]}},\n",
       "   '069983d0-d08b-405b-b816-d28ca9648956',\n",
       "   '28e953cb-2ea4-437c-8d68-d74d97098c6a']}]"
      ]
     },
     "execution_count": 146,
     "metadata": {},
     "output_type": "execute_result"
    }
   ],
   "source": [
    "json_result[3]"
   ]
  },
  {
   "cell_type": "code",
   "execution_count": 147,
   "id": "296826c2",
   "metadata": {},
   "outputs": [],
   "source": [
    "json_array_elements = []\n",
    "json_array_constructions = []\n",
    "json_array_element_category_edges = []\n",
    "json_array_constructions_extra = []"
   ]
  },
  {
   "cell_type": "code",
   "execution_count": 148,
   "id": "ecd248f1",
   "metadata": {},
   "outputs": [
    {
     "name": "stdout",
     "output_type": "stream",
     "text": [
      "0\n",
      "1\n"
     ]
    }
   ],
   "source": [
    "json_result = create_lcabyg_element(amount_list, name_list)\n",
    "json_array_elements = add_things_json_list(json_array_elements, json_result[0])\n",
    "json_array_constructions = add_things_json_list(json_array_constructions, json_result[1])\n",
    "json_array_element_category_edges = add_things_json_list(json_array_element_category_edges, json_result[2])\n",
    "json_array_constructions_extra = add_things_json_list(json_array_constructions_extra, json_result[3])"
   ]
  },
  {
   "cell_type": "code",
   "execution_count": null,
   "id": "38ce50e3",
   "metadata": {},
   "outputs": [],
   "source": []
  },
  {
   "cell_type": "code",
   "execution_count": null,
   "id": "03b33ebb",
   "metadata": {},
   "outputs": [],
   "source": []
  },
  {
   "cell_type": "code",
   "execution_count": 149,
   "id": "f9b1b8f8",
   "metadata": {},
   "outputs": [
    {
     "data": {
      "text/plain": [
       "[{'Node': {'Element': {'id': '02c3e303-a443-4f02-9927-e43519227ade',\n",
       "    'name': {'Danish': 'Test bygningsdel', 'English': '', 'German': ''},\n",
       "    'source': 'User',\n",
       "    'comment': 'Created by IFC-LCABYG-Importer',\n",
       "    'enabled': True,\n",
       "    'active': True}}},\n",
       " {'Edge': [{'ElementToConstruction': {'id': 'f89cae48-6c47-4106-ba5f-ed130bbf9f42',\n",
       "     'amount': 123,\n",
       "     'enabled': True}},\n",
       "   '02c3e303-a443-4f02-9927-e43519227ade',\n",
       "   'ad51ce8e-2896-431d-a31e-95f8f14a9d01']},\n",
       " {'Edge': [{'ElementToConstruction': {'id': '0e8d5fa2-b653-49ab-b05f-27848a2ea4c1',\n",
       "     'amount': 234,\n",
       "     'enabled': True}},\n",
       "   '02c3e303-a443-4f02-9927-e43519227ade',\n",
       "   'e79c4c04-8d6a-49c3-8714-b68d3277fd3f']}]"
      ]
     },
     "execution_count": 149,
     "metadata": {},
     "output_type": "execute_result"
    }
   ],
   "source": [
    "json_array_elements"
   ]
  },
  {
   "cell_type": "code",
   "execution_count": 150,
   "id": "d8f2f32a",
   "metadata": {},
   "outputs": [
    {
     "data": {
      "text/plain": [
       "[{'Node': {'Construction': {'id': 'ad51ce8e-2896-431d-a31e-95f8f14a9d01',\n",
       "    'name': {'Danish': 'test_1', 'English': 'Test construction'},\n",
       "    'unit': 'M2',\n",
       "    'source': 'User',\n",
       "    'comment': 'Testing',\n",
       "    'layer': 1,\n",
       "    'locked': True}}},\n",
       " {'Edge': [{'ConstructionToProduct': {'id': 'e5b76a57-d513-44f7-9320-297efc0ec6cc',\n",
       "     'amount': 1,\n",
       "     'unit': 'M2',\n",
       "     'lifespan': 50,\n",
       "     'demolition': False,\n",
       "     'enabled': True,\n",
       "     'delayed_start': 0}},\n",
       "   'ad51ce8e-2896-431d-a31e-95f8f14a9d01',\n",
       "   '51bcec85-9105-4946-8a8a-51219bf9adfa']},\n",
       " {'Node': {'Construction': {'id': 'e79c4c04-8d6a-49c3-8714-b68d3277fd3f',\n",
       "    'name': {'Danish': 'test_2', 'English': 'Test construction'},\n",
       "    'unit': 'M2',\n",
       "    'source': 'User',\n",
       "    'comment': 'Testing',\n",
       "    'layer': 1,\n",
       "    'locked': True}}},\n",
       " {'Edge': [{'ConstructionToProduct': {'id': 'd5da0b3d-1815-4c20-9fc8-2414e1b2bfe5',\n",
       "     'amount': 1,\n",
       "     'unit': 'M2',\n",
       "     'lifespan': 50,\n",
       "     'demolition': False,\n",
       "     'enabled': True,\n",
       "     'delayed_start': 0}},\n",
       "   'e79c4c04-8d6a-49c3-8714-b68d3277fd3f',\n",
       "   '51bcec85-9105-4946-8a8a-51219bf9adfa']}]"
      ]
     },
     "execution_count": 150,
     "metadata": {},
     "output_type": "execute_result"
    }
   ],
   "source": [
    "json_array_constructions"
   ]
  },
  {
   "cell_type": "code",
   "execution_count": 151,
   "id": "80a91e20",
   "metadata": {},
   "outputs": [],
   "source": [
    "## YOU SHOULD ONLY CREATE ANOTHER NODE IF ITS DIFFERENT!!!\n",
    "## IF ONE ELEMENT NODE LEADS TO TWO COSNTRUCTIONS then 2 EDGES!!!!"
   ]
  },
  {
   "cell_type": "code",
   "execution_count": 152,
   "id": "9ac6720f",
   "metadata": {},
   "outputs": [],
   "source": [
    "with open('lcabyg_example/elements.json', 'w') as outfile:\n",
    "    json.dump(json_array_elements, outfile,indent=4)"
   ]
  },
  {
   "cell_type": "code",
   "execution_count": 153,
   "id": "15c3738f",
   "metadata": {},
   "outputs": [],
   "source": [
    "with open('lcabyg_example/constructions.json', 'w') as outfile:\n",
    "    json.dump(json_array_constructions, outfile,indent=4)"
   ]
  },
  {
   "cell_type": "code",
   "execution_count": 154,
   "id": "761389e9",
   "metadata": {},
   "outputs": [],
   "source": [
    "with open('lcabyg_example/construction_category_edges.json', 'w') as outfile:\n",
    "    json.dump(json_array_element_category_edges, outfile,indent=4)"
   ]
  },
  {
   "cell_type": "code",
   "execution_count": 155,
   "id": "7e8127e9",
   "metadata": {},
   "outputs": [],
   "source": [
    "with open('lcabyg_example/constructions_extra.json', 'w') as outfile:\n",
    "    json.dump(json_array_constructions_extra, outfile,indent=4)"
   ]
  },
  {
   "cell_type": "code",
   "execution_count": null,
   "id": "af1bde10",
   "metadata": {},
   "outputs": [],
   "source": []
  },
  {
   "cell_type": "code",
   "execution_count": null,
   "id": "280eb972",
   "metadata": {},
   "outputs": [],
   "source": [
    "with open('lcabyg_example/elements.json', 'w') as outfile:\n",
    "    json.dump(json_result[0], outfile,indent=4)"
   ]
  },
  {
   "cell_type": "code",
   "execution_count": null,
   "id": "f04feec6",
   "metadata": {},
   "outputs": [],
   "source": [
    "with open('lcabyg_example/constructions.json', 'w') as outfile:\n",
    "    json.dump(json_result[1], outfile,indent=4)"
   ]
  },
  {
   "cell_type": "code",
   "execution_count": null,
   "id": "81ee60b4",
   "metadata": {},
   "outputs": [],
   "source": [
    "with open('lcabyg_example/construction_category_edges.json', 'w') as outfile:\n",
    "    json.dump(json_result[2], outfile,indent=4)"
   ]
  },
  {
   "cell_type": "code",
   "execution_count": null,
   "id": "4553b8c3",
   "metadata": {},
   "outputs": [],
   "source": [
    "with open('lcabyg_example/constructions_extra.json', 'w') as outfile:\n",
    "    json.dump(json_result[3], outfile,indent=4)"
   ]
  },
  {
   "cell_type": "code",
   "execution_count": null,
   "id": "40dcff57",
   "metadata": {},
   "outputs": [],
   "source": []
  },
  {
   "cell_type": "code",
   "execution_count": null,
   "id": "214ffdf4",
   "metadata": {},
   "outputs": [],
   "source": [
    "with open('lcabyg_example/elements.json', 'w') as outfile:\n",
    "    json.dump(json_result[0], outfile,indent=4)"
   ]
  },
  {
   "cell_type": "code",
   "execution_count": null,
   "id": "0e0c9d3a",
   "metadata": {},
   "outputs": [],
   "source": []
  },
  {
   "cell_type": "code",
   "execution_count": null,
   "id": "6ed51048",
   "metadata": {},
   "outputs": [],
   "source": [
    "#create 3 walls"
   ]
  },
  {
   "cell_type": "code",
   "execution_count": null,
   "id": "ee77114c",
   "metadata": {},
   "outputs": [],
   "source": []
  }
 ],
 "metadata": {
  "kernelspec": {
   "display_name": "Python 3",
   "language": "python",
   "name": "python3"
  },
  "language_info": {
   "codemirror_mode": {
    "name": "ipython",
    "version": 3
   },
   "file_extension": ".py",
   "mimetype": "text/x-python",
   "name": "python",
   "nbconvert_exporter": "python",
   "pygments_lexer": "ipython3",
   "version": "3.7.6"
  }
 },
 "nbformat": 4,
 "nbformat_minor": 5
}
