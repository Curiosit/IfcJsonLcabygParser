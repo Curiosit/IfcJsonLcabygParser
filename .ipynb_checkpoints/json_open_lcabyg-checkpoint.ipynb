{
 "cells": [
  {
   "cell_type": "code",
   "execution_count": 104,
   "id": "f0a9eeb9",
   "metadata": {},
   "outputs": [],
   "source": [
    "import json\n"
   ]
  },
  {
   "cell_type": "code",
   "execution_count": 105,
   "id": "bb5687e7",
   "metadata": {},
   "outputs": [],
   "source": [
    "## SOURCES:\n",
    "#\n",
    "# https://www.geeksforgeeks.org/read-json-file-using-python/\n",
    "#"
   ]
  },
  {
   "cell_type": "code",
   "execution_count": 106,
   "id": "458d5c22",
   "metadata": {},
   "outputs": [],
   "source": [
    "import uuid #library for creating necessary unique object ids"
   ]
  },
  {
   "cell_type": "code",
   "execution_count": 107,
   "id": "3230b852",
   "metadata": {},
   "outputs": [],
   "source": [
    "with open('lcabyg_example/building.json', 'r') as f:\n",
    "  building_json = json.load(f)"
   ]
  },
  {
   "cell_type": "code",
   "execution_count": null,
   "id": "a3df3a5a",
   "metadata": {},
   "outputs": [],
   "source": []
  },
  {
   "cell_type": "code",
   "execution_count": 110,
   "id": "e9c92d4a",
   "metadata": {},
   "outputs": [],
   "source": [
    "with open('lcabyg_example/constructions.json', 'r') as f:\n",
    "  constructions_json = json.load(f)"
   ]
  },
  {
   "cell_type": "code",
   "execution_count": 111,
   "id": "158ed3dc",
   "metadata": {},
   "outputs": [
    {
     "data": {
      "text/plain": [
       "[{'Node': {'Building': {'id': '6d766aa5-50aa-4005-ab35-29f2fb82ddad',\n",
       "    'name': {'Danish': 'Test eksempel', 'English': 'Example project'},\n",
       "    'address': 'Test',\n",
       "    'owner': 'Test',\n",
       "    'description': '',\n",
       "    'building_type': 'Other',\n",
       "    'heated_floor_area': 0,\n",
       "    'gross_area': 0,\n",
       "    'gross_area_above_ground': 0,\n",
       "    'storeys_above_ground': 0,\n",
       "    'storeys_below_ground': 0,\n",
       "    'storey_height': 0,\n",
       "    'initial_year': 2022,\n",
       "    'calculation_timespan': 50,\n",
       "    'calculation_mode': 'SC',\n",
       "    'lca_advisor': 'Test',\n",
       "    'building_regulation_version': 'BR2018',\n",
       "    'plot_area': 0,\n",
       "    'outside_area': 0,\n",
       "    'energy_class': 'LowEnergy'}}},\n",
       " {'Edge': [{'MainBuilding': '15867192-86b7-40a8-9936-83d9e998516d'},\n",
       "   'e9e6e798-390e-4419-a1fa-3b46a8ba5b8d',\n",
       "   '6d766aa5-50aa-4005-ab35-29f2fb82ddad']},\n",
       " {'Edge': [{'BuildingToRoot': 'bc35b94d-b8c0-4b8c-9bf3-3f63acc94063'},\n",
       "   '6d766aa5-50aa-4005-ab35-29f2fb82ddad',\n",
       "   '216cf5d6-3e9d-43ec-b0d8-5aee02240c28']},\n",
       " {'Edge': [{'BuildingToOperation': '0c35b94d-b8a0-4bec-92f3-3463acc94064'},\n",
       "   '6d766aa5-50aa-4005-ab35-29f2fb82ddad',\n",
       "   '0338d31e-3876-440d-a88c-2daa2dd81942']}]"
      ]
     },
     "execution_count": 111,
     "metadata": {},
     "output_type": "execute_result"
    }
   ],
   "source": [
    "building_json"
   ]
  },
  {
   "cell_type": "code",
   "execution_count": 112,
   "id": "496c8b88",
   "metadata": {
    "scrolled": true
   },
   "outputs": [
    {
     "data": {
      "text/plain": [
       "[{'Node': {'Construction': {'id': 'c6f24e0f-020a-4f0f-93c6-65beb50bd798',\n",
       "    'name': {'Danish': 'Test konstruktion', 'English': 'Test construction'},\n",
       "    'unit': 'M2',\n",
       "    'source': 'User',\n",
       "    'comment': 'Testing',\n",
       "    'layer': 1,\n",
       "    'locked': True}}},\n",
       " {'Edge': [{'ConstructionToProduct': {'id': '65cc0492-7864-4598-9254-5f929379bae6',\n",
       "     'amount': 1,\n",
       "     'unit': 'M2',\n",
       "     'lifespan': 100,\n",
       "     'demolition': False,\n",
       "     'enabled': True,\n",
       "     'delayed_start': 0}},\n",
       "   'c6f24e0f-020a-4f0f-93c6-65beb50bd798',\n",
       "   '51bcec85-9105-4946-8a8a-51219bf9adfa']}]"
      ]
     },
     "execution_count": 112,
     "metadata": {},
     "output_type": "execute_result"
    }
   ],
   "source": [
    "constructions_json"
   ]
  },
  {
   "cell_type": "code",
   "execution_count": 113,
   "id": "487aa58b",
   "metadata": {},
   "outputs": [
    {
     "data": {
      "text/plain": [
       "{'Node': {'Construction': {'id': 'c6f24e0f-020a-4f0f-93c6-65beb50bd798',\n",
       "   'name': {'Danish': 'Test konstruktion', 'English': 'Test construction'},\n",
       "   'unit': 'M2',\n",
       "   'source': 'User',\n",
       "   'comment': 'Testing',\n",
       "   'layer': 1,\n",
       "   'locked': True}}}"
      ]
     },
     "execution_count": 113,
     "metadata": {},
     "output_type": "execute_result"
    }
   ],
   "source": [
    "constructions_json[0]"
   ]
  },
  {
   "cell_type": "code",
   "execution_count": 158,
   "id": "abe1c4f3",
   "metadata": {},
   "outputs": [],
   "source": [
    "json_array = []\n",
    "json_data = {}"
   ]
  },
  {
   "cell_type": "code",
   "execution_count": 147,
   "id": "8450243e",
   "metadata": {},
   "outputs": [],
   "source": [
    "def create_node(construction):\n",
    "    node = {'Node': construction}\n",
    "    return node\n",
    "\n",
    "def create_construction(construction_set):\n",
    "    construction = {'Construction':construction_set}\n",
    "    return construction"
   ]
  },
  {
   "cell_type": "code",
   "execution_count": 148,
   "id": "829ac6ef",
   "metadata": {},
   "outputs": [],
   "source": [
    "def create_construction_set(c_id):\n",
    "    \n",
    "    construction_set = {'id': c_id,  'name': {'Danish': 'Test konstruktion', 'English': 'Test construction'},'unit': 'M2', 'source': 'User','comment': 'Testing','layer': 1,'locked': True}\n",
    "    return construction_set\n"
   ]
  },
  {
   "cell_type": "code",
   "execution_count": 149,
   "id": "0340fe68",
   "metadata": {},
   "outputs": [],
   "source": [
    "c_id = str(uuid.uuid4())\n",
    "construction = create_construction(create_construction_set(c_id))\n",
    "node = create_node(construction)"
   ]
  },
  {
   "cell_type": "code",
   "execution_count": 150,
   "id": "04de0c10",
   "metadata": {},
   "outputs": [
    {
     "data": {
      "text/plain": [
       "{'Node': {'Construction': {'id': 'f7cd4a83-0d3f-4ba8-8e6d-4a96d98b1bbd',\n",
       "   'name': {'Danish': 'Test konstruktion', 'English': 'Test construction'},\n",
       "   'unit': 'M2',\n",
       "   'source': 'User',\n",
       "   'comment': 'Testing',\n",
       "   'layer': 1,\n",
       "   'locked': True}}}"
      ]
     },
     "execution_count": 150,
     "metadata": {},
     "output_type": "execute_result"
    }
   ],
   "source": [
    "node"
   ]
  },
  {
   "cell_type": "code",
   "execution_count": 151,
   "id": "be587957",
   "metadata": {},
   "outputs": [],
   "source": [
    "def create_edge(edge_data):\n",
    "    edge = {'Edge': edge_data}\n",
    "    return edge\n",
    "\n",
    "def create_edge_data(edge_details, c_id1, product_id2):\n",
    "    \n",
    "    edge_data = [{'ConstructionToProduct': edge_details}, c_id1, product_id2]\n",
    "    return edge_data\n",
    "\n",
    "def create_edge_details(amount):\n",
    "    e_id = str(uuid.uuid4())\n",
    "    edge_details = {'id': e_id,'amount': amount, 'unit': 'M2',     'lifespan': 50,     'demolition': False,     'enabled': True,     'delayed_start': 0}\n",
    "    return edge_details\n",
    "    "
   ]
  },
  {
   "cell_type": "code",
   "execution_count": 152,
   "id": "a541ac3a",
   "metadata": {},
   "outputs": [],
   "source": [
    "\n",
    "e_id2 = str(uuid.uuid4())\n",
    "edge = create_edge(create_edge_data(create_edge_details(1), c_id, e_id2))"
   ]
  },
  {
   "cell_type": "code",
   "execution_count": 153,
   "id": "4994b51b",
   "metadata": {},
   "outputs": [
    {
     "data": {
      "text/plain": [
       "{'Edge': [{'ConstructionToProduct': {'id': 'cf6022f8-a576-4a58-bca9-fa4291db35f7',\n",
       "    'amount': 1,\n",
       "    'unit': 'M2',\n",
       "    'lifespan': 50,\n",
       "    'demolition': False,\n",
       "    'enabled': True,\n",
       "    'delayed_start': 0}},\n",
       "  'f7cd4a83-0d3f-4ba8-8e6d-4a96d98b1bbd',\n",
       "  'a27c7aca-50e3-427f-8b78-3f34c8f6b284']}"
      ]
     },
     "execution_count": 153,
     "metadata": {},
     "output_type": "execute_result"
    }
   ],
   "source": [
    "edge"
   ]
  },
  {
   "cell_type": "code",
   "execution_count": 154,
   "id": "594ca58f",
   "metadata": {},
   "outputs": [
    {
     "data": {
      "text/plain": [
       "{'Node': {'Construction': {'id': 'f7cd4a83-0d3f-4ba8-8e6d-4a96d98b1bbd',\n",
       "   'name': {'Danish': 'Test konstruktion', 'English': 'Test construction'},\n",
       "   'unit': 'M2',\n",
       "   'source': 'User',\n",
       "   'comment': 'Testing',\n",
       "   'layer': 1,\n",
       "   'locked': True}}}"
      ]
     },
     "execution_count": 154,
     "metadata": {},
     "output_type": "execute_result"
    }
   ],
   "source": [
    "node"
   ]
  },
  {
   "cell_type": "code",
   "execution_count": 160,
   "id": "d2dde3dd",
   "metadata": {},
   "outputs": [],
   "source": [
    "json_data.update(node)"
   ]
  },
  {
   "cell_type": "code",
   "execution_count": 161,
   "id": "aea1d2a0",
   "metadata": {},
   "outputs": [
    {
     "data": {
      "text/plain": [
       "{'Node': {'Construction': {'id': 'f7cd4a83-0d3f-4ba8-8e6d-4a96d98b1bbd',\n",
       "   'name': {'Danish': 'Test konstruktion', 'English': 'Test construction'},\n",
       "   'unit': 'M2',\n",
       "   'source': 'User',\n",
       "   'comment': 'Testing',\n",
       "   'layer': 1,\n",
       "   'locked': True}}}"
      ]
     },
     "execution_count": 161,
     "metadata": {},
     "output_type": "execute_result"
    }
   ],
   "source": [
    "json_data"
   ]
  },
  {
   "cell_type": "code",
   "execution_count": 162,
   "id": "21b41071",
   "metadata": {},
   "outputs": [],
   "source": [
    "json_data.update(edge)"
   ]
  },
  {
   "cell_type": "code",
   "execution_count": 142,
   "id": "df93384a",
   "metadata": {},
   "outputs": [
    {
     "data": {
      "text/plain": [
       "{'Node': {'Construction': {'id': 'df9dbf64-9016-41e7-a401-144ba30a713c',\n",
       "   'name': {'Danish': 'Test konstruktion', 'English': 'Test construction'},\n",
       "   'unit': 'M2',\n",
       "   'source': 'User',\n",
       "   'comment': 'Testing',\n",
       "   'layer': 1,\n",
       "   'locked': True}},\n",
       " 'Edge': [{'ConstructionToProduct': {'id': 'ff80eb7b-75d4-4ff0-865a-8f6a54453a9d',\n",
       "    'amount': 1,\n",
       "    'unit': 'M2',\n",
       "    'lifespan': 50,\n",
       "    'demolition': False,\n",
       "    'enabled': True,\n",
       "    'delayed_start': 0}},\n",
       "  'df9dbf64-9016-41e7-a401-144ba30a713c',\n",
       "  'f7adeacc-b086-4b21-b45c-df17fb3ec1b0']}"
      ]
     },
     "execution_count": 142,
     "metadata": {},
     "output_type": "execute_result"
    }
   ],
   "source": [
    "json_data"
   ]
  },
  {
   "cell_type": "code",
   "execution_count": 165,
   "id": "4463d59a",
   "metadata": {},
   "outputs": [],
   "source": [
    "json_array = []"
   ]
  },
  {
   "cell_type": "code",
   "execution_count": 166,
   "id": "919a6865",
   "metadata": {},
   "outputs": [],
   "source": [
    "json_array.append(node)"
   ]
  },
  {
   "cell_type": "code",
   "execution_count": 167,
   "id": "0edf0fb3",
   "metadata": {},
   "outputs": [],
   "source": [
    "json_array.append(edge)"
   ]
  },
  {
   "cell_type": "code",
   "execution_count": 168,
   "id": "03ded22a",
   "metadata": {},
   "outputs": [
    {
     "data": {
      "text/plain": [
       "[{'Node': {'Construction': {'id': 'f7cd4a83-0d3f-4ba8-8e6d-4a96d98b1bbd',\n",
       "    'name': {'Danish': 'Test konstruktion', 'English': 'Test construction'},\n",
       "    'unit': 'M2',\n",
       "    'source': 'User',\n",
       "    'comment': 'Testing',\n",
       "    'layer': 1,\n",
       "    'locked': True}}},\n",
       " {'Edge': [{'ConstructionToProduct': {'id': 'cf6022f8-a576-4a58-bca9-fa4291db35f7',\n",
       "     'amount': 1,\n",
       "     'unit': 'M2',\n",
       "     'lifespan': 50,\n",
       "     'demolition': False,\n",
       "     'enabled': True,\n",
       "     'delayed_start': 0}},\n",
       "   'f7cd4a83-0d3f-4ba8-8e6d-4a96d98b1bbd',\n",
       "   'a27c7aca-50e3-427f-8b78-3f34c8f6b284']}]"
      ]
     },
     "execution_count": 168,
     "metadata": {},
     "output_type": "execute_result"
    }
   ],
   "source": [
    "json_array"
   ]
  },
  {
   "cell_type": "code",
   "execution_count": 169,
   "id": "758b533f",
   "metadata": {},
   "outputs": [],
   "source": [
    "with open('data.json', 'w') as outfile:\n",
    "    json.dump(json_array, outfile,indent=4)"
   ]
  },
  {
   "cell_type": "code",
   "execution_count": null,
   "id": "99de7a25",
   "metadata": {},
   "outputs": [],
   "source": []
  }
 ],
 "metadata": {
  "kernelspec": {
   "display_name": "Python 3",
   "language": "python",
   "name": "python3"
  },
  "language_info": {
   "codemirror_mode": {
    "name": "ipython",
    "version": 3
   },
   "file_extension": ".py",
   "mimetype": "text/x-python",
   "name": "python",
   "nbconvert_exporter": "python",
   "pygments_lexer": "ipython3",
   "version": "3.7.6"
  }
 },
 "nbformat": 4,
 "nbformat_minor": 5
}
