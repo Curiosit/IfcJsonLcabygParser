{
 "cells": [
  {
   "cell_type": "code",
   "execution_count": 3,
   "id": "f0a9eeb9",
   "metadata": {},
   "outputs": [],
   "source": [
    "import json\n"
   ]
  },
  {
   "cell_type": "code",
   "execution_count": 4,
   "id": "d05a323b",
   "metadata": {},
   "outputs": [],
   "source": [
    "## SOURCES:\n",
    "#\n",
    "# https://www.geeksforgeeks.org/read-json-file-using-python/\n",
    "#"
   ]
  },
  {
   "cell_type": "code",
   "execution_count": 30,
   "id": "1325f5f4",
   "metadata": {},
   "outputs": [],
   "source": [
    "import uuid #library for creating necessary unique object ids"
   ]
  },
  {
   "cell_type": "code",
   "execution_count": 31,
   "id": "3230b852",
   "metadata": {},
   "outputs": [],
   "source": [
    "with open('lcabyg_example/building.json', 'r') as f:\n",
    "  building_json = json.load(f)"
   ]
  },
  {
   "cell_type": "code",
   "execution_count": null,
   "id": "a3c4fc62",
   "metadata": {},
   "outputs": [],
   "source": []
  },
  {
   "cell_type": "code",
   "execution_count": 32,
   "id": "e9c92d4a",
   "metadata": {},
   "outputs": [],
   "source": [
    "with open('lcabyg_example/constructions.json', 'r') as f:\n",
    "  constructions_json = json.load(f)"
   ]
  },
  {
   "cell_type": "code",
   "execution_count": 33,
   "id": "158ed3dc",
   "metadata": {},
   "outputs": [
    {
     "data": {
      "text/plain": [
       "[{'Node': {'Building': {'id': '6d766aa5-50aa-4005-ab35-29f2fb82ddad',\n",
       "    'name': {'Danish': 'Test eksempel', 'English': 'Example project'},\n",
       "    'address': 'Test',\n",
       "    'owner': 'Test',\n",
       "    'description': '',\n",
       "    'building_type': 'Other',\n",
       "    'heated_floor_area': 0,\n",
       "    'gross_area': 0,\n",
       "    'gross_area_above_ground': 0,\n",
       "    'storeys_above_ground': 0,\n",
       "    'storeys_below_ground': 0,\n",
       "    'storey_height': 0,\n",
       "    'initial_year': 2022,\n",
       "    'calculation_timespan': 50,\n",
       "    'calculation_mode': 'SC',\n",
       "    'lca_advisor': 'Test',\n",
       "    'building_regulation_version': 'BR2018',\n",
       "    'plot_area': 0,\n",
       "    'outside_area': 0,\n",
       "    'energy_class': 'LowEnergy'}}},\n",
       " {'Edge': [{'MainBuilding': '15867192-86b7-40a8-9936-83d9e998516d'},\n",
       "   'e9e6e798-390e-4419-a1fa-3b46a8ba5b8d',\n",
       "   '6d766aa5-50aa-4005-ab35-29f2fb82ddad']},\n",
       " {'Edge': [{'BuildingToRoot': 'bc35b94d-b8c0-4b8c-9bf3-3f63acc94063'},\n",
       "   '6d766aa5-50aa-4005-ab35-29f2fb82ddad',\n",
       "   '216cf5d6-3e9d-43ec-b0d8-5aee02240c28']},\n",
       " {'Edge': [{'BuildingToOperation': '0c35b94d-b8a0-4bec-92f3-3463acc94064'},\n",
       "   '6d766aa5-50aa-4005-ab35-29f2fb82ddad',\n",
       "   '0338d31e-3876-440d-a88c-2daa2dd81942']}]"
      ]
     },
     "execution_count": 33,
     "metadata": {},
     "output_type": "execute_result"
    }
   ],
   "source": [
    "building_json"
   ]
  },
  {
   "cell_type": "markdown",
   "id": "f4276e70",
   "metadata": {},
   "source": [
    "## CREATE CONSTRUCTIONS JSON"
   ]
  },
  {
   "cell_type": "code",
   "execution_count": 34,
   "id": "496c8b88",
   "metadata": {
    "scrolled": true
   },
   "outputs": [
    {
     "data": {
      "text/plain": [
       "[{'Node': {'Construction': {'id': 'c6f24e0f-020a-4f0f-93c6-65beb50bd798',\n",
       "    'name': {'Danish': 'Test konstruktion'},\n",
       "    'unit': 'M2',\n",
       "    'source': 'User',\n",
       "    'comment': 'Testen bestĂĄr af en test',\n",
       "    'layer': 1,\n",
       "    'locked': True}}},\n",
       " {'Edge': [{'ConstructionToProduct': {'id': '65cc0492-7864-4598-9254-5f929379bae6',\n",
       "     'amount': 1,\n",
       "     'unit': 'M2',\n",
       "     'lifespan': 100,\n",
       "     'demolition': False,\n",
       "     'enabled': True,\n",
       "     'delayed_start': 0}},\n",
       "   'c6f24e0f-020a-4f0f-93c6-65beb50bd798',\n",
       "   '51bcec85-9105-4946-8a8a-51219bf9adfa']}]"
      ]
     },
     "execution_count": 34,
     "metadata": {},
     "output_type": "execute_result"
    }
   ],
   "source": [
    "constructions_json"
   ]
  },
  {
   "cell_type": "code",
   "execution_count": null,
   "id": "28b3475a",
   "metadata": {},
   "outputs": [],
   "source": []
  },
  {
   "cell_type": "code",
   "execution_count": null,
   "id": "809224ed",
   "metadata": {},
   "outputs": [],
   "source": []
  },
  {
   "cell_type": "code",
   "execution_count": 10,
   "id": "487aa58b",
   "metadata": {},
   "outputs": [
    {
     "data": {
      "text/plain": [
       "{'Node': {'Construction': {'id': 'c6f24e0f-020a-4f0f-93c6-65beb50bd798',\n",
       "   'name': {'Danish': 'Test konstruktion'},\n",
       "   'unit': 'M2',\n",
       "   'source': 'User',\n",
       "   'comment': 'Testing',\n",
       "   'layer': 1,\n",
       "   'locked': True}}}"
      ]
     },
     "execution_count": 10,
     "metadata": {},
     "output_type": "execute_result"
    }
   ],
   "source": [
    "constructions_json[0]"
   ]
  },
  {
   "cell_type": "code",
   "execution_count": 11,
   "id": "359f11e8",
   "metadata": {},
   "outputs": [],
   "source": [
    "json_array = []\n",
    "json_data = {}"
   ]
  },
  {
   "cell_type": "code",
   "execution_count": 12,
   "id": "55548b03",
   "metadata": {},
   "outputs": [],
   "source": [
    "def create_node(construction):\n",
    "    node = {'Node': construction}\n",
    "    return node\n",
    "\n",
    "def create_construction(construction_set):\n",
    "    construction = {'Construction':construction_set}\n",
    "    return construction"
   ]
  },
  {
   "cell_type": "code",
   "execution_count": 13,
   "id": "d0c3d579",
   "metadata": {},
   "outputs": [],
   "source": [
    "def create_construction_set(c_id):\n",
    "    \n",
    "    construction_set = {'id': c_id,  'name': {'Danish': 'Test konstruktion', 'English': 'Test construction'},'unit': 'M2', 'source': 'User','comment': 'Testing','layer': 1,'locked': True}\n",
    "    return construction_set\n"
   ]
  },
  {
   "cell_type": "code",
   "execution_count": 14,
   "id": "dcfb9c69",
   "metadata": {},
   "outputs": [],
   "source": [
    "c_id = str(uuid.uuid4())\n",
    "construction = create_construction(create_construction_set(c_id))\n",
    "node = create_node(construction)"
   ]
  },
  {
   "cell_type": "code",
   "execution_count": 15,
   "id": "a3677c9a",
   "metadata": {},
   "outputs": [
    {
     "data": {
      "text/plain": [
       "{'Node': {'Construction': {'id': '8d2aaeeb-3e76-49d2-bffe-645334095163',\n",
       "   'name': {'Danish': 'Test konstruktion', 'English': 'Test construction'},\n",
       "   'unit': 'M2',\n",
       "   'source': 'User',\n",
       "   'comment': 'Testing',\n",
       "   'layer': 1,\n",
       "   'locked': True}}}"
      ]
     },
     "execution_count": 15,
     "metadata": {},
     "output_type": "execute_result"
    }
   ],
   "source": [
    "node"
   ]
  },
  {
   "cell_type": "code",
   "execution_count": 16,
   "id": "5155f9e3",
   "metadata": {},
   "outputs": [],
   "source": [
    "def create_edge(edge_data):\n",
    "    edge = {'Edge': edge_data}\n",
    "    return edge\n",
    "\n",
    "def create_edge_data(edge_details, construction_uuid, product_edge_uuid):\n",
    "    \n",
    "    edge_data = [{'ConstructionToProduct': edge_details}, construction_uuid, product_edge_uuid]\n",
    "    return edge_data\n",
    "\n",
    "def create_edge_details(amount):\n",
    "    e_id = str(uuid.uuid4())\n",
    "    edge_details = {'id': e_id,'amount': amount, 'unit': 'M2',     'lifespan': 50,     'demolition': False,     'enabled': True,     'delayed_start': 0}\n",
    "    return edge_details\n",
    "    "
   ]
  },
  {
   "cell_type": "code",
   "execution_count": 17,
   "id": "ae53820d",
   "metadata": {},
   "outputs": [],
   "source": [
    "\n",
    "e_id2 = str(uuid.uuid4())\n",
    "edge = create_edge(create_edge_data(create_edge_details(1500), c_id, e_id2))"
   ]
  },
  {
   "cell_type": "code",
   "execution_count": 18,
   "id": "05613578",
   "metadata": {},
   "outputs": [
    {
     "data": {
      "text/plain": [
       "{'Edge': [{'ConstructionToProduct': {'id': 'e342fc91-df5e-4bc7-b91b-84a137ad36fc',\n",
       "    'amount': 1500,\n",
       "    'unit': 'M2',\n",
       "    'lifespan': 50,\n",
       "    'demolition': False,\n",
       "    'enabled': True,\n",
       "    'delayed_start': 0}},\n",
       "  '8d2aaeeb-3e76-49d2-bffe-645334095163',\n",
       "  '96257a62-1f45-41b4-835b-5cc171c28488']}"
      ]
     },
     "execution_count": 18,
     "metadata": {},
     "output_type": "execute_result"
    }
   ],
   "source": [
    "edge"
   ]
  },
  {
   "cell_type": "code",
   "execution_count": 19,
   "id": "29519378",
   "metadata": {},
   "outputs": [
    {
     "data": {
      "text/plain": [
       "{'Node': {'Construction': {'id': '8d2aaeeb-3e76-49d2-bffe-645334095163',\n",
       "   'name': {'Danish': 'Test konstruktion', 'English': 'Test construction'},\n",
       "   'unit': 'M2',\n",
       "   'source': 'User',\n",
       "   'comment': 'Testing',\n",
       "   'layer': 1,\n",
       "   'locked': True}}}"
      ]
     },
     "execution_count": 19,
     "metadata": {},
     "output_type": "execute_result"
    }
   ],
   "source": [
    "node"
   ]
  },
  {
   "cell_type": "code",
   "execution_count": 20,
   "id": "abe31b21",
   "metadata": {},
   "outputs": [],
   "source": [
    "json_data.update(node)"
   ]
  },
  {
   "cell_type": "code",
   "execution_count": 21,
   "id": "238d6996",
   "metadata": {},
   "outputs": [
    {
     "data": {
      "text/plain": [
       "{'Node': {'Construction': {'id': '8d2aaeeb-3e76-49d2-bffe-645334095163',\n",
       "   'name': {'Danish': 'Test konstruktion', 'English': 'Test construction'},\n",
       "   'unit': 'M2',\n",
       "   'source': 'User',\n",
       "   'comment': 'Testing',\n",
       "   'layer': 1,\n",
       "   'locked': True}}}"
      ]
     },
     "execution_count": 21,
     "metadata": {},
     "output_type": "execute_result"
    }
   ],
   "source": [
    "json_data"
   ]
  },
  {
   "cell_type": "code",
   "execution_count": 22,
   "id": "8cf27f99",
   "metadata": {},
   "outputs": [],
   "source": [
    "json_data.update(edge)"
   ]
  },
  {
   "cell_type": "code",
   "execution_count": 23,
   "id": "a33589ff",
   "metadata": {},
   "outputs": [
    {
     "data": {
      "text/plain": [
       "{'Node': {'Construction': {'id': '8d2aaeeb-3e76-49d2-bffe-645334095163',\n",
       "   'name': {'Danish': 'Test konstruktion', 'English': 'Test construction'},\n",
       "   'unit': 'M2',\n",
       "   'source': 'User',\n",
       "   'comment': 'Testing',\n",
       "   'layer': 1,\n",
       "   'locked': True}},\n",
       " 'Edge': [{'ConstructionToProduct': {'id': 'e342fc91-df5e-4bc7-b91b-84a137ad36fc',\n",
       "    'amount': 1500,\n",
       "    'unit': 'M2',\n",
       "    'lifespan': 50,\n",
       "    'demolition': False,\n",
       "    'enabled': True,\n",
       "    'delayed_start': 0}},\n",
       "  '8d2aaeeb-3e76-49d2-bffe-645334095163',\n",
       "  '96257a62-1f45-41b4-835b-5cc171c28488']}"
      ]
     },
     "execution_count": 23,
     "metadata": {},
     "output_type": "execute_result"
    }
   ],
   "source": [
    "json_data"
   ]
  },
  {
   "cell_type": "code",
   "execution_count": 24,
   "id": "7a2f869d",
   "metadata": {},
   "outputs": [],
   "source": [
    "json_array = []"
   ]
  },
  {
   "cell_type": "code",
   "execution_count": 25,
   "id": "ba89b1c8",
   "metadata": {},
   "outputs": [],
   "source": [
    "json_array.append(node)"
   ]
  },
  {
   "cell_type": "code",
   "execution_count": 26,
   "id": "afe1aa4d",
   "metadata": {},
   "outputs": [],
   "source": [
    "json_array.append(edge)"
   ]
  },
  {
   "cell_type": "markdown",
   "id": "cdf70724",
   "metadata": {},
   "source": [
    "##### Write Json Array to file - constructions"
   ]
  },
  {
   "cell_type": "code",
   "execution_count": 29,
   "id": "9d2e4d71",
   "metadata": {},
   "outputs": [],
   "source": [
    "with open('lcabyg_example/constructions.json', 'w') as outfile:\n",
    "    json.dump(json_array, outfile,indent=4)"
   ]
  },
  {
   "cell_type": "code",
   "execution_count": null,
   "id": "7d82eaa8",
   "metadata": {},
   "outputs": [],
   "source": []
  }
 ],
 "metadata": {
  "kernelspec": {
   "display_name": "Python 3",
   "language": "python",
   "name": "python3"
  },
  "language_info": {
   "codemirror_mode": {
    "name": "ipython",
    "version": 3
   },
   "file_extension": ".py",
   "mimetype": "text/x-python",
   "name": "python",
   "nbconvert_exporter": "python",
   "pygments_lexer": "ipython3",
   "version": "3.7.6"
  }
 },
 "nbformat": 4,
 "nbformat_minor": 5
}
