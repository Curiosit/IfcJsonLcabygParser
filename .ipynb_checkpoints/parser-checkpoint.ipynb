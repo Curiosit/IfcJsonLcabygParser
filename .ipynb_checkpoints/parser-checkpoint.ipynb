{
 "cells": [
  {
   "cell_type": "code",
   "execution_count": 13,
   "id": "c01d3fbb",
   "metadata": {},
   "outputs": [],
   "source": [
    "# IFC Parser\n",
    "# Based on:\n",
    "# https://thinkmoult.com/using-ifcopenshell-parse-ifc-files-python.html\n",
    "# https://github.com/johannesmichael/ifc-python/blob/master/modules/ifc_pset_utils.py\n",
    "# https://www.kaggle.com/code/ponybiam/introduction-to-ifcopenshell-functions/notebook\n",
    "\n",
    "import ifcopenshell\n",
    "import ifcHelper \n",
    "import pandas as pd\n",
    "import numpy as np"
   ]
  },
  {
   "cell_type": "markdown",
   "id": "4347928e",
   "metadata": {},
   "source": [
    "## Import the file"
   ]
  },
  {
   "cell_type": "code",
   "execution_count": 14,
   "id": "92d8a0e3",
   "metadata": {},
   "outputs": [
    {
     "name": "stdout",
     "output_type": "stream",
     "text": [
      "File loaded successfully\n"
     ]
    }
   ],
   "source": [
    "try:\n",
    "  ifc_file = ifcopenshell.open('ifc_test_file.ifc')\n",
    "  print(\"File loaded successfully\")\n",
    "except:\n",
    "  print(\"An exception occurred\")\n",
    "\n"
   ]
  },
  {
   "cell_type": "markdown",
   "id": "fcbc6c87",
   "metadata": {},
   "source": [
    "try:\n",
    "  ifc_file = ifcopenshell.open('IFC_FOR_HotelPostepu.ifc')\n",
    "  print(\"File loaded successfully\")\n",
    "except:\n",
    "  print(\"An exception occurred\")\n"
   ]
  },
  {
   "cell_type": "code",
   "execution_count": 15,
   "id": "4b461fce",
   "metadata": {},
   "outputs": [],
   "source": [
    "## IFC_FOR_HotelPostepu"
   ]
  },
  {
   "cell_type": "code",
   "execution_count": 16,
   "id": "b69cbe40",
   "metadata": {},
   "outputs": [
    {
     "name": "stdout",
     "output_type": "stream",
     "text": [
      "File version:\n",
      "IFC2X3\n"
     ]
    }
   ],
   "source": [
    "print (\"File version:\")\n",
    "print (ifc_file.schema)\n",
    "## Script is written for IFC2X3"
   ]
  },
  {
   "cell_type": "code",
   "execution_count": 17,
   "id": "185da79e",
   "metadata": {},
   "outputs": [
    {
     "name": "stdout",
     "output_type": "stream",
     "text": [
      "There are 5 walls, 2 windows, 1 doors , 5 slabs and 0 flow segments in the file\n"
     ]
    }
   ],
   "source": [
    "no_walls = len(ifc_file.by_type(\"IfcWall\"))\n",
    "no_windows = len(ifc_file.by_type(\"IfcWindow\"))\n",
    "no_doors = len(ifc_file.by_type(\"IfcDoor\"))\n",
    "no_slabs = len(ifc_file.by_type(\"IfcSlab\"))\n",
    "no_flo_segments = len(ifc_file.by_type(\"IfcFlowSegment\"))\n",
    "\n",
    "print(\"There are {} walls, {} windows, {} doors , {} slabs and {} flow segments in the file\".format(no_walls,no_windows,no_doors, no_slabs, no_flo_segments))"
   ]
  },
  {
   "cell_type": "markdown",
   "id": "c85b4346",
   "metadata": {},
   "source": [
    "## Get the info about Walls"
   ]
  },
  {
   "cell_type": "code",
   "execution_count": 18,
   "id": "e97f822a",
   "metadata": {},
   "outputs": [],
   "source": [
    "## Get all walls by_type: IfcWall\n",
    "##\n",
    "walls = ifc_file.by_type('IfcWall')"
   ]
  },
  {
   "cell_type": "code",
   "execution_count": 19,
   "id": "e6e564a5",
   "metadata": {},
   "outputs": [
    {
     "data": {
      "text/plain": [
       "#179=IfcWallStandardCase('0XKS9_JrzCLBvqv88YyH2y',#41,'Basic Wall:Z01:331325',$,'Basic Wall:Z01',#137,#175,'331325')"
      ]
     },
     "execution_count": 19,
     "metadata": {},
     "output_type": "execute_result"
    }
   ],
   "source": [
    "walls[0]"
   ]
  },
  {
   "cell_type": "code",
   "execution_count": 20,
   "id": "8e8c17ee",
   "metadata": {},
   "outputs": [
    {
     "name": "stdout",
     "output_type": "stream",
     "text": [
      "The Name of walls[0] is Basic Wall:Z01\n",
      "The Description of walls[0] is None\n"
     ]
    }
   ],
   "source": [
    "# print \"a_wall\"s Name attribute\n",
    "print(\"The Name of walls[0] is %s\"%(walls[0].ObjectType))\n",
    "# print \"a_wall\"s Description attribute\n",
    "print(\"The Description of walls[0] is %s\"%(walls[0].Description))"
   ]
  },
  {
   "cell_type": "code",
   "execution_count": 21,
   "id": "434e5b1e",
   "metadata": {},
   "outputs": [],
   "source": [
    "## Wall elevation area can be calculated using the volume/thickness"
   ]
  },
  {
   "cell_type": "code",
   "execution_count": 22,
   "id": "ed131e47",
   "metadata": {},
   "outputs": [],
   "source": [
    "walls_volumes = list()\n",
    "walls_thickness = list()\n",
    "walls_areas = list()\n",
    "walls_types = list()\n",
    "for i in range(len(walls)):\n",
    "    quantities = ifcHelper.get_quantity_single_value(ifcHelper.get_related_quantities(walls[i])[0])\n",
    "    walls_volumes.append(quantities['NetVolume'])\n",
    "    walls_thickness.append(quantities['Width']/1000)\n",
    "    walls_areas.append(walls_volumes[i]/walls_thickness[i])\n",
    "    walls_types.append(walls[i].ObjectType)\n",
    "    \n",
    "## Get volumes, thickness and calculate areas\n",
    "## Get wall types"
   ]
  },
  {
   "cell_type": "code",
   "execution_count": 23,
   "id": "9ee2a0ca",
   "metadata": {},
   "outputs": [
    {
     "name": "stdout",
     "output_type": "stream",
     "text": [
      "Total wall area in the IFC file:\n",
      "552.9350204145792\n"
     ]
    }
   ],
   "source": [
    "print ('Total wall area in the IFC file:')\n",
    "print (sum(walls_areas))"
   ]
  },
  {
   "cell_type": "code",
   "execution_count": 24,
   "id": "6b7fbf7f",
   "metadata": {},
   "outputs": [],
   "source": [
    "d = {'Type':walls_types,'Area':walls_areas}\n",
    "wall_df = pd.DataFrame(d)\n",
    "wall_types_sum = wall_df.groupby('Type')['Area'].sum()"
   ]
  },
  {
   "cell_type": "code",
   "execution_count": 25,
   "id": "7e3650c9",
   "metadata": {},
   "outputs": [
    {
     "data": {
      "text/plain": [
       "Type\n",
       "Basic Wall:Z01    323.497947\n",
       "Basic Wall:Z02    229.437074\n",
       "Name: Area, dtype: float64"
      ]
     },
     "execution_count": 25,
     "metadata": {},
     "output_type": "execute_result"
    }
   ],
   "source": [
    "wall_types_sum"
   ]
  },
  {
   "cell_type": "code",
   "execution_count": 26,
   "id": "1f8f2870",
   "metadata": {},
   "outputs": [
    {
     "data": {
      "text/html": [
       "<div>\n",
       "<style scoped>\n",
       "    .dataframe tbody tr th:only-of-type {\n",
       "        vertical-align: middle;\n",
       "    }\n",
       "\n",
       "    .dataframe tbody tr th {\n",
       "        vertical-align: top;\n",
       "    }\n",
       "\n",
       "    .dataframe thead th {\n",
       "        text-align: right;\n",
       "    }\n",
       "</style>\n",
       "<table border=\"1\" class=\"dataframe\">\n",
       "  <thead>\n",
       "    <tr style=\"text-align: right;\">\n",
       "      <th></th>\n",
       "      <th>Type</th>\n",
       "      <th>Area</th>\n",
       "    </tr>\n",
       "  </thead>\n",
       "  <tbody>\n",
       "    <tr>\n",
       "      <th>0</th>\n",
       "      <td>Basic Wall:Z01</td>\n",
       "      <td>131.301030</td>\n",
       "    </tr>\n",
       "    <tr>\n",
       "      <th>1</th>\n",
       "      <td>Basic Wall:Z02</td>\n",
       "      <td>98.170053</td>\n",
       "    </tr>\n",
       "    <tr>\n",
       "      <th>2</th>\n",
       "      <td>Basic Wall:Z01</td>\n",
       "      <td>78.580680</td>\n",
       "    </tr>\n",
       "    <tr>\n",
       "      <th>3</th>\n",
       "      <td>Basic Wall:Z01</td>\n",
       "      <td>113.616236</td>\n",
       "    </tr>\n",
       "    <tr>\n",
       "      <th>4</th>\n",
       "      <td>Basic Wall:Z02</td>\n",
       "      <td>131.267021</td>\n",
       "    </tr>\n",
       "  </tbody>\n",
       "</table>\n",
       "</div>"
      ],
      "text/plain": [
       "             Type        Area\n",
       "0  Basic Wall:Z01  131.301030\n",
       "1  Basic Wall:Z02   98.170053\n",
       "2  Basic Wall:Z01   78.580680\n",
       "3  Basic Wall:Z01  113.616236\n",
       "4  Basic Wall:Z02  131.267021"
      ]
     },
     "execution_count": 26,
     "metadata": {},
     "output_type": "execute_result"
    }
   ],
   "source": [
    "wall_df"
   ]
  },
  {
   "cell_type": "markdown",
   "id": "f5a4f444",
   "metadata": {},
   "source": [
    "## Get the info about Slabs\n"
   ]
  },
  {
   "cell_type": "code",
   "execution_count": 27,
   "id": "9b385db7",
   "metadata": {},
   "outputs": [],
   "source": [
    "slabs = ifc_file.by_type('IfcSlab')"
   ]
  },
  {
   "cell_type": "code",
   "execution_count": null,
   "id": "7398ab1e",
   "metadata": {},
   "outputs": [],
   "source": []
  },
  {
   "cell_type": "code",
   "execution_count": null,
   "id": "8951b6b6",
   "metadata": {},
   "outputs": [],
   "source": []
  },
  {
   "cell_type": "code",
   "execution_count": 31,
   "id": "55adcdd2",
   "metadata": {},
   "outputs": [],
   "source": []
  },
  {
   "cell_type": "code",
   "execution_count": 32,
   "id": "02352e2b",
   "metadata": {},
   "outputs": [],
   "source": []
  },
  {
   "cell_type": "code",
   "execution_count": 37,
   "id": "27ca4a0c",
   "metadata": {},
   "outputs": [],
   "source": [
    "\n",
    "slabs_areas = list()\n",
    "slabs_types = list()\n",
    "for i in range(len(slabs)):\n",
    "    quantities_slabs = ifcHelper.get_quantity_single_value(ifcHelper.get_related_quantities(slabs[i])[0])\n",
    "    slabs_areas.append(quantities['NetArea'])\n",
    "   \n",
    "\n",
    "    slabs_types.append(slabs[i].ObjectType)\n",
    "    \n",
    "## Get volumes, thickness and calculate areas\n",
    "## Get wall types"
   ]
  },
  {
   "cell_type": "code",
   "execution_count": 40,
   "id": "c916cf43",
   "metadata": {},
   "outputs": [],
   "source": [
    "d_s = {'Type':slabs_types,'Area':slabs_areas}\n",
    "slabs_df = pd.DataFrame(d_s)\n",
    "slabs_types_sum = slabs_df.groupby('Type')['Area'].sum()"
   ]
  },
  {
   "cell_type": "code",
   "execution_count": 41,
   "id": "436b2ffa",
   "metadata": {},
   "outputs": [
    {
     "data": {
      "text/plain": [
       "Type\n",
       "Basic Roof:Ogólne - 400 mm    1510.68\n",
       "Floor:Ogólne 150 mm            377.67\n",
       "Name: Area, dtype: float64"
      ]
     },
     "execution_count": 41,
     "metadata": {},
     "output_type": "execute_result"
    }
   ],
   "source": [
    " slabs_types_sum"
   ]
  },
  {
   "cell_type": "code",
   "execution_count": null,
   "id": "51a102f5",
   "metadata": {},
   "outputs": [],
   "source": []
  },
  {
   "cell_type": "code",
   "execution_count": null,
   "id": "26e33440",
   "metadata": {},
   "outputs": [],
   "source": []
  },
  {
   "cell_type": "code",
   "execution_count": null,
   "id": "2f211667",
   "metadata": {},
   "outputs": [],
   "source": []
  },
  {
   "cell_type": "markdown",
   "id": "f013817d",
   "metadata": {},
   "source": [
    "## Get the info about Windows\n"
   ]
  },
  {
   "cell_type": "code",
   "execution_count": 61,
   "id": "c9aa60a0",
   "metadata": {},
   "outputs": [],
   "source": [
    "windows = ifc_file.by_type('IfcWindow')"
   ]
  },
  {
   "cell_type": "code",
   "execution_count": 62,
   "id": "5d53691e",
   "metadata": {},
   "outputs": [
    {
     "data": {
      "text/plain": [
       "[#1622=IfcWindow('0XKS9_JrzCLBvqv88YyH1n',#41,'M_Stałe:O02:331504',$,'M_Stałe:O02',#3262,#1614,'331504',1830.,915.),\n",
       " #1844=IfcWindow('0XKS9_JrzCLBvqv88YyH1s',#41,'M_Stałe:O01:331511',$,'M_Stałe:O01',#3297,#1836,'331511',609.999999999999,406.)]"
      ]
     },
     "execution_count": 62,
     "metadata": {},
     "output_type": "execute_result"
    }
   ],
   "source": [
    "windows"
   ]
  },
  {
   "cell_type": "code",
   "execution_count": 63,
   "id": "e77bc9f0",
   "metadata": {},
   "outputs": [
    {
     "name": "stdout",
     "output_type": "stream",
     "text": [
      "The Name of windows[0] is M_Stałe:O02\n",
      "The Description of windows[0] is None\n"
     ]
    }
   ],
   "source": [
    "\n",
    "print(\"The Name of windows[0] is %s\"%(windows[0].ObjectType))\n",
    "\n",
    "print(\"The Description of windows[0] is %s\"%(windows[0].Description))"
   ]
  },
  {
   "cell_type": "code",
   "execution_count": null,
   "id": "07ed589d",
   "metadata": {},
   "outputs": [],
   "source": [
    "windows_types = list()\n",
    "for i in range(len(windows)):\n",
    "    quantities = ifcHelper.get_quantity_single_value(ifcHelper.get_related_quantities(windows[i])[0])\n",
    "    walls_volumes.append(quantities['NetVolume'])\n",
    "    quantities = ifcHelper.get_quantity_single_value(ifcHelper.get_related_quantities(walls[i])[0])\n",
    "    walls_thickness.append(quantities['Width']/1000)\n",
    "    walls_areas.append(walls_volumes[i]/walls_thickness[i])\n",
    "    walls_types.append(walls[i].ObjectType)"
   ]
  },
  {
   "cell_type": "code",
   "execution_count": null,
   "id": "a79f92bb",
   "metadata": {},
   "outputs": [],
   "source": []
  },
  {
   "cell_type": "code",
   "execution_count": null,
   "id": "a66aa2e0",
   "metadata": {},
   "outputs": [],
   "source": [
    "windows_volumes = list()\n",
    "walls_thickness = list()\n",
    "walls_areas = list()\n",
    "walls_types = list()\n",
    "for i in range(len(walls)):\n",
    "    quantities = ifcHelper.get_quantity_single_value(ifcHelper.get_related_quantities(walls[i])[0])\n",
    "    walls_volumes.append(quantities['NetVolume'])\n",
    "    quantities = ifcHelper.get_quantity_single_value(ifcHelper.get_related_quantities(walls[i])[0])\n",
    "    walls_thickness.append(quantities['Width']/1000)\n",
    "    walls_areas.append(walls_volumes[i]/walls_thickness[i])\n",
    "    walls_types.append(walls[i].ObjectType)\n",
    "    \n",
    "## Get volumes, thickness and calculate areas\n",
    "## Get wall types"
   ]
  }
 ],
 "metadata": {
  "kernelspec": {
   "display_name": "Python 3",
   "language": "python",
   "name": "python3"
  },
  "language_info": {
   "codemirror_mode": {
    "name": "ipython",
    "version": 3
   },
   "file_extension": ".py",
   "mimetype": "text/x-python",
   "name": "python",
   "nbconvert_exporter": "python",
   "pygments_lexer": "ipython3",
   "version": "3.7.6"
  }
 },
 "nbformat": 4,
 "nbformat_minor": 5
}
